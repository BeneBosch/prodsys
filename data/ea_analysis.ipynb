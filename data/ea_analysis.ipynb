{
 "cells": [
  {
   "cell_type": "code",
   "execution_count": null,
   "id": "cfc9dfbd-924e-46ea-84d7-95dcd4f09d2b",
   "metadata": {},
   "outputs": [],
   "source": [
    "import json\n",
    "from copy import copy\n",
    "\n",
    "import numpy as np\n",
    "import pandas as pd\n",
    "import plotly\n",
    "import plotly.express as px\n",
    "import plotly.graph_objects as go\n",
    "from plotly.subplots import make_subplots\n",
    "from scipy.interpolate import griddata"
   ]
  },
  {
   "cell_type": "code",
   "execution_count": null,
   "id": "85770c5d-b837-45ab-9b97-07b08834e630",
   "metadata": {},
   "outputs": [],
   "source": [
    "# import plotly.io as pio\n",
    "# pio.renderers.default = 'browser'"
   ]
  },
  {
   "cell_type": "code",
   "execution_count": null,
   "id": "98f9b2e8-6bd8-4fa4-b5d4-fa515abe954e",
   "metadata": {},
   "outputs": [],
   "source": [
    "def read_json_file(filepath: str, label: str) -> pd.DataFrame:\n",
    "    with open(filepath) as json_file:\n",
    "        data = json.load(json_file)\n",
    "    new_data = {}\n",
    "    row_number = 1\n",
    "    for generation, values in data.items():\n",
    "        for individual, individual_values in values.items():\n",
    "            if \"agg_fitness\" in individual_values.keys():\n",
    "                new_data.update({str(row_number): {\"Generation\": int(generation), \"population_number\": int(individual), \n",
    "                                           \"agg_fitness\": individual_values[\"agg_fitness\"],\n",
    "                                           \"cost\": individual_values[\"fitness\"][2],\n",
    "                                           \"throughput\": individual_values[\"fitness\"][0],\n",
    "                                           \"wip\": individual_values[\"fitness\"][1],\n",
    "                                            \"time\": individual_values[\"time_stamp\"]\n",
    "                                          }})\n",
    "                row_number += 1\n",
    "    df = pd.DataFrame(new_data)\n",
    "    df = df.T\n",
    "    df[\"optimizer\"] = label\n",
    "    if label == 'anneal':\n",
    "        df['agg_fitness'] = -1 * df['agg_fitness']\n",
    "    df['agg_fitness'] = 0.004 * df['throughput'] - 1.0*df['wip'] - 0.0003 * df['cost']\n",
    "    return df.copy()"
   ]
  },
  {
   "cell_type": "code",
   "execution_count": null,
   "id": "64d4be67-1407-46d8-b35c-22a4dd5c279a",
   "metadata": {},
   "outputs": [],
   "source": [
    "def is_pareto_efficient_simple(costs):\n",
    "    \"\"\"\n",
    "    Find the pareto-efficient points\n",
    "    :param costs: An (n_points, n_costs) array\n",
    "    :return: A (n_points, ) boolean array, indicating whether each point is Pareto efficient\n",
    "    \"\"\"\n",
    "    is_efficient = np.ones(costs.shape[0], dtype = bool)\n",
    "    for i, c in enumerate(costs):\n",
    "        if is_efficient[i]:\n",
    "            is_efficient[is_efficient] = np.any(costs[is_efficient]<c, axis=1)  # Keep any point with a lower cost\n",
    "            is_efficient[i] = True  # And keep self\n",
    "    return is_efficient\n",
    "\n",
    "# Faster than is_pareto_efficient_simple, but less readable.\n",
    "def is_pareto_efficient(costs, return_mask = True):\n",
    "    \"\"\"\n",
    "    Find the pareto-efficient points\n",
    "    :param costs: An (n_points, n_costs) array\n",
    "    :param return_mask: True to return a mask\n",
    "    :return: An array of indices of pareto-efficient points.\n",
    "        If return_mask is True, this will be an (n_points, ) boolean array\n",
    "        Otherwise it will be a (n_efficient_points, ) integer array of indices.\n",
    "    \"\"\"\n",
    "    is_efficient = np.arange(costs.shape[0])\n",
    "    n_points = costs.shape[0]\n",
    "    next_point_index = 0  # Next index in the is_efficient array to search for\n",
    "    while next_point_index<len(costs):\n",
    "        nondominated_point_mask = np.any(costs<costs[next_point_index], axis=1)\n",
    "        nondominated_point_mask[next_point_index] = True\n",
    "        is_efficient = is_efficient[nondominated_point_mask]  # Remove dominated points\n",
    "        costs = costs[nondominated_point_mask]\n",
    "        next_point_index = np.sum(nondominated_point_mask[:next_point_index])+1\n",
    "    if return_mask:\n",
    "        is_efficient_mask = np.zeros(n_points, dtype = bool)\n",
    "        is_efficient_mask[is_efficient] = True\n",
    "        return is_efficient_mask\n",
    "    else:\n",
    "        return is_efficient"
   ]
  },
  {
   "cell_type": "code",
   "execution_count": null,
   "id": "b1c20a71-3c6a-4ed9-9ab4-ddf5022b4ff2",
   "metadata": {},
   "outputs": [],
   "source": [
    "def get_performance_filtered_df(df) -> pd.DataFrame:\n",
    "    df = df.copy()\n",
    "    df = df.loc[df[\"wip\"] < 150]\n",
    "    df = df.loc[df[\"throughput\"] > 2500]\n",
    "    return df"
   ]
  },
  {
   "cell_type": "code",
   "execution_count": null,
   "id": "060fcb67-226e-4ecd-a831-480ffeb58148",
   "metadata": {},
   "outputs": [],
   "source": [
    "anneal = \"anneal_results.json\"\n",
    "tabu = \"tabu_results.json\"\n",
    "ea =\"ea_results.json\"\n",
    "\n",
    "dfs = []\n",
    "dfs.append(read_json_file(anneal, \"Anneal\"))\n",
    "# dfs.append(read_json_file(ea, \"NSGA2\"))\n",
    "# dfs.append(read_json_file(tabu, \"Tabu\"))\n",
    "df = pd.concat(dfs)"
   ]
  },
  {
   "cell_type": "code",
   "execution_count": null,
   "id": "bd267e4a-84e9-474a-92d9-bf1a13f7ae67",
   "metadata": {},
   "outputs": [],
   "source": [
    "df[\"cost\"] = df[\"cost\"].astype(float)\n",
    "df[\"agg_fitness\"] = df[\"agg_fitness\"].astype(float)"
   ]
  },
  {
   "cell_type": "code",
   "execution_count": null,
   "id": "3e795860",
   "metadata": {},
   "outputs": [],
   "source": [
    "df = df.loc[df['time'] <= 10000]"
   ]
  },
  {
   "cell_type": "code",
   "execution_count": null,
   "id": "51242460-481d-4815-8116-f7f51b6106cd",
   "metadata": {},
   "outputs": [],
   "source": [
    "# df_filtered = df.drop_duplicates(subset=['agg_fitness', 'cost', 'throughput', 'throughput_time', 'wip', 'optimizer']).copy()\n",
    "df_filtered = df.drop_duplicates(subset=['agg_fitness', 'cost', 'throughput', 'wip']).copy()"
   ]
  },
  {
   "cell_type": "code",
   "execution_count": null,
   "id": "fdc55cc5-7da7-455f-9a09-85f0c92543d2",
   "metadata": {},
   "outputs": [],
   "source": [
    "df_filtered = get_performance_filtered_df(df_filtered)"
   ]
  },
  {
   "cell_type": "code",
   "execution_count": null,
   "id": "46e68639-75f5-4607-8875-384ab131d5bb",
   "metadata": {},
   "outputs": [],
   "source": [
    "columns = ['cost', 'throughput', 'wip']\n",
    "# columns = ['throughput_time', 'throughput']\n",
    "df_for_pareto = df_filtered[columns].copy()\n",
    "df_for_pareto['throughput'] = -df_for_pareto['throughput']"
   ]
  },
  {
   "cell_type": "code",
   "execution_count": null,
   "id": "8b41623a-8b6a-4042-be71-e444aaaa0e23",
   "metadata": {},
   "outputs": [],
   "source": [
    "is_efficient = is_pareto_efficient(df_for_pareto.values)\n",
    "df_filtered['is_efficient'] = is_efficient"
   ]
  },
  {
   "cell_type": "code",
   "execution_count": null,
   "id": "df2804d4-9f0d-428f-a643-de9337d1ba8b",
   "metadata": {},
   "outputs": [],
   "source": [
    "df_filtered['is_efficient'].sum()"
   ]
  },
  {
   "cell_type": "code",
   "execution_count": null,
   "id": "ce572aad-2d4c-43ea-9608-126c417a9c1d",
   "metadata": {},
   "outputs": [],
   "source": [
    "df_efficient = df_filtered.loc[df_filtered['is_efficient']]\n",
    "columns = ['agg_fitness', 'cost', 'throughput', 'wip', 'is_efficient']\n",
    "df_efficient = df_efficient[columns]\n",
    "# df_efficient.rename(columns={'is_efficient': 'red_is_efficient'}, inplace=True)"
   ]
  },
  {
   "cell_type": "code",
   "execution_count": null,
   "id": "42ca1756-50d1-4900-af7f-04e6bc6df525",
   "metadata": {},
   "outputs": [],
   "source": [
    "df = pd.merge(df, df_efficient, how='left')\n",
    "df.fillna(False, inplace=True)"
   ]
  },
  {
   "cell_type": "code",
   "execution_count": null,
   "id": "d0e08ee1",
   "metadata": {},
   "outputs": [],
   "source": [
    "df['is_efficient'].sum()"
   ]
  },
  {
   "cell_type": "code",
   "execution_count": null,
   "id": "d3b7dcca",
   "metadata": {},
   "outputs": [],
   "source": [
    "# efficient = df.loc[df['is_efficient']].drop_duplicates(subset=['wip', 'cost', 'throughput'])\n",
    "# c = efficient['cost'].mean()\n",
    "# t = efficient['throughput'].mean()\n",
    "# w = efficient['wip'].mean()\n",
    "# print(c, t, w)\n",
    "# throughput_rate = w / t\n",
    "# throughput_rate\n",
    "# cost_weight = w / c\n",
    "# cost_weight\n",
    "# print(throughput_rate, cost_weight)"
   ]
  },
  {
   "cell_type": "code",
   "execution_count": null,
   "id": "b7147c8f-cd1b-497c-a7a8-a3cc3880f035",
   "metadata": {},
   "outputs": [],
   "source": [
    "def hex_to_rgba(h, alpha):\n",
    "    '''\n",
    "    converts color value in hex format to rgba format with alpha transparency\n",
    "    '''\n",
    "    return tuple([int(h.lstrip('#')[i:i+2], 16) for i in (0, 2, 4)] + [alpha])"
   ]
  },
  {
   "cell_type": "code",
   "execution_count": null,
   "id": "db4c1c2b-7913-45cf-a3b3-63c1e15205a4",
   "metadata": {},
   "outputs": [],
   "source": [
    "def add_scatter(fig, time, mean_values, std_values, max_values, all_values, colors, label):\n",
    "    color = colors.pop(0)\n",
    "    fig.add_scatter(\n",
    "    name=label + \" mean fitness\",\n",
    "    x=time,\n",
    "    y=mean_values,\n",
    "    mode=\"lines\",\n",
    "    line=dict(color=color)\n",
    "            )\n",
    "    fig.add_scatter(\n",
    "        name=label + \" max fitness\",\n",
    "        x=time,\n",
    "        y=max_values,\n",
    "        mode=\"lines\",\n",
    "        line=dict(color=color, dash='dash')\n",
    "    )\n",
    "    # fig.add_scatter(\n",
    "    #     name=label,\n",
    "    #     x=time,\n",
    "    #     y=all_values,\n",
    "    #     mode = 'markers',\n",
    "    #     opacity=0.5,\n",
    "    #     marker=dict(\n",
    "    #         color=color,\n",
    "    #         size=2\n",
    "    #     )    \n",
    "    # )\n",
    "    fig.update_layout(template=\"simple_white\")\n",
    "    fig.update_layout(\n",
    "    # title=\"Plot Title\",\n",
    "    yaxis_title=\"fitness\",\n",
    "    xaxis_title=\"time in minutes\",\n",
    "    font=dict(\n",
    "        family=\"Arial, monospace\",\n",
    "        # size=18,\n",
    "        # color=\"RebeccaPurple\"\n",
    "        )\n",
    "    )\n"
   ]
  },
  {
   "cell_type": "code",
   "execution_count": null,
   "id": "7a528769",
   "metadata": {},
   "outputs": [],
   "source": [
    "grouped = df.loc[df['agg_fitness'] > -50000].groupby(by=['optimizer'])\n",
    "mean_values = grouped.rolling(200)['agg_fitness'].mean()\n",
    "std_values = grouped.rolling(200)['agg_fitness'].std()\n",
    "max_values = grouped['agg_fitness'].cummax()\n",
    "max_values.index = std_values.index\n",
    "mean_values = grouped.rolling(200)['agg_fitness'].mean()\n",
    "all_values = grouped.rolling(1)['agg_fitness'].mean()\n",
    "time = grouped['time'].rolling(1).mean()\n",
    "time = time / 60"
   ]
  },
  {
   "cell_type": "code",
   "execution_count": null,
   "id": "204f39dd-346d-4caf-93a4-3a5d23c7c646",
   "metadata": {},
   "outputs": [],
   "source": [
    "fig = go.Figure()        \n",
    "colors = copy(px.colors.qualitative.Plotly)\n",
    "for optimizer in df['optimizer'].unique():\n",
    "    add_scatter(fig, time[optimizer], mean_values[optimizer], std_values[optimizer], max_values[optimizer], all_values[optimizer], colors, label=optimizer)\n",
    "fig.update_layout(height=350)\n",
    "fig.show()\n",
    "print(\"starting save\")\n",
    "# fig.write_image(\"C:/Users/Sebas/OneDrive/Documents/prodsim/data/images/fitness_over_time.png\")\n",
    "print(\"saved\")"
   ]
  },
  {
   "cell_type": "code",
   "execution_count": null,
   "id": "3055527b",
   "metadata": {},
   "outputs": [],
   "source": [
    "def plot_performance_2d(df):\n",
    "    fig = px.scatter(df, x='throughput', y='wip',\n",
    "                color=df['cost'], \n",
    "                # color_continuous_scale=px.colors.sequential.Viridis,\n",
    "                color_continuous_scale=px.colors.sequential.Darkmint,                \n",
    "                facet_col=\"optimizer\",\n",
    "                labels={\n",
    "                     \"throughput\": \"Throughput in pices\",\n",
    "                     \"wip\": \"WIP in pieces\",\n",
    "                 },\n",
    "    )\n",
    "    fig.for_each_annotation(lambda a: a.update(text=a.text.replace(\"optimizer=\", \"\")))\n",
    "    fig.update_layout(coloraxis_colorbar=dict(\n",
    "        title=\"Cost\",\n",
    "        # thicknessmode=\"pixels\", thickness=50,\n",
    "        # lenmode=\"pixels\", len=200,\n",
    "        # yanchor=\"top\", y=1,\n",
    "        # ticks=\"outside\", ticksuffix=\" bills\",\n",
    "        # dtick=5\n",
    "    ))\n",
    "    fig.update_layout(template=\"simple_white\")\n",
    "    fig.update_layout(\n",
    "        font=dict(\n",
    "            family=\"Arial, monospace\",\n",
    "            # size=18,\n",
    "            # color=\"RebeccaPurple\"\n",
    "            )\n",
    "    )\n",
    "    fig.show()\n",
    "    # fig.write_image(\"images/performances.svg\")\n"
   ]
  },
  {
   "cell_type": "code",
   "execution_count": null,
   "id": "dbb84833",
   "metadata": {},
   "outputs": [],
   "source": [
    "df_perf_filtered = get_performance_filtered_df(df)\n",
    "plot_performance_2d(df_perf_filtered)"
   ]
  },
  {
   "cell_type": "code",
   "execution_count": null,
   "id": "336527a2-a055-4852-bfde-061064f1e0be",
   "metadata": {},
   "outputs": [],
   "source": [
    "def mesh3d(df, efficient_df):\n",
    "    cost_lim = [-1000, 100000]\n",
    "    throughput_lim = [3300, 3500]\n",
    "    wip_lim = [0, 100]\n",
    "    grid_size = 500j\n",
    "\n",
    "\n",
    "    df = df.drop_duplicates(subset=['agg_fitness', 'cost', 'throughput', 'wip']).copy()\n",
    "    efficient_df = efficient_df.drop_duplicates(subset=['agg_fitness', 'cost', 'throughput', 'wip']).copy()\n",
    "\n",
    "    data = []\n",
    "\n",
    "    x = efficient_df['cost']\n",
    "    y = efficient_df['throughput']\n",
    "    z = efficient_df['wip']\n",
    "    intensity = efficient_df['agg_fitness']\n",
    "\n",
    "    points = np.column_stack([x, y])\n",
    "\n",
    "    grid_x, grid_y = np.mgrid[cost_lim[0]:cost_lim[1]:grid_size, throughput_lim[0]:throughput_lim[1]:grid_size]\n",
    "\n",
    "    # grid_z = griddata(points, z, (grid_x, grid_y), method='nearest')\n",
    "    grid_z = griddata(points, z, (grid_x, grid_y), method='cubic')\n",
    "    intensity_grid = griddata(points, intensity, (grid_x, grid_y), method='cubic')\n",
    "\n",
    "    data = []\n",
    "    data.append(go.Surface(x=grid_x, y=grid_y, z=grid_z, surfacecolor=intensity_grid, colorscale=\"Darkmint\"))\n",
    "\n",
    "    df_non_efficient = df.loc[~df['is_efficient']]\n",
    "    x = df_non_efficient['cost']\n",
    "    y = df_non_efficient['throughput']\n",
    "    z = df_non_efficient['wip']\n",
    "\n",
    "    data.append(go.Scatter3d(x=x, y=y, z=z,\n",
    "                                       mode='markers', marker=dict(\n",
    "            size=5,\n",
    "            color='grey',\n",
    "            opacity=0.5,\n",
    "        ))\n",
    "    )\n",
    "\n",
    "    df_non_efficient = df.loc[df['is_efficient']]\n",
    "    x = df_non_efficient['cost']\n",
    "    y = df_non_efficient['throughput']\n",
    "    z = df_non_efficient['wip']\n",
    "\n",
    "    data.append(go.Scatter3d(x=x, y=y, z=z,\n",
    "                                       mode='markers', marker=dict(\n",
    "            size=5,\n",
    "            color='blue',\n",
    "        ))\n",
    "    )\n",
    "\n",
    "\n",
    "    # data.reverse()\n",
    "    fig = go.Figure(data=data)\n",
    "    camera = dict(\n",
    "        up=dict(x=1, y=0, z=0.5),\n",
    "        center=dict(x=0, y=0, z=0),\n",
    "        eye=dict(x=1.25, y=-1.25, z=1.25)\n",
    "    )\n",
    "\n",
    "    fig.update_layout(scene_camera=camera)\n",
    "    fig.update_layout(\n",
    "        scene = dict(\n",
    "            xaxis = dict(nticks=4, range=cost_lim,),\n",
    "            yaxis = dict(nticks=4, range=throughput_lim,),\n",
    "            zaxis = dict(nticks=4, range=wip_lim,),\n",
    "            xaxis_title='Cost',\n",
    "            yaxis_title='Thoughput',\n",
    "            zaxis_title='WIP',\n",
    "        ),\n",
    "        width=650,\n",
    "        # height=400,\n",
    "        margin=dict(r=10, l=10, b=10, t=10)\n",
    "    )\n",
    "    fig.update_layout(template=\"simple_white\")\n",
    "    fig.update_layout(\n",
    "        font=dict(\n",
    "            family=\"Arial, monospace\",\n",
    "            # size=18,\n",
    "            # color=\"RebeccaPurple\"\n",
    "            )\n",
    "    )\n",
    "    fig.update_layout(showlegend=False)\n",
    "    return fig"
   ]
  },
  {
   "cell_type": "code",
   "execution_count": null,
   "id": "b79ef44c-fa49-4202-a2dc-be04987c15ef",
   "metadata": {},
   "outputs": [],
   "source": [
    "df_efficient = df.loc[df['is_efficient']]\n",
    "\n",
    "# mesh3d(df, df_efficient)\n",
    "fig = mesh3d(df.loc[df['optimizer'] == 'NSGA2'], df_efficient)\n",
    "fig.show()\n",
    "# fig.write_image(\"images/3d_NSGA2.svg\")\n",
    "\n",
    "fig = mesh3d(df.loc[df['optimizer'] == 'Anneal'], df_efficient)\n",
    "fig.show()\n",
    "# fig.write_image(\"images/3d_Anneal.svg\")\n",
    "\n",
    "fig = mesh3d(df.loc[df['optimizer'] == 'Tabu'], df_efficient)\n",
    "fig.show()\n",
    "# fig.write_image(\"images/3d_Tabu.svg\")"
   ]
  },
  {
   "cell_type": "code",
   "execution_count": null,
   "id": "5fc88946-2234-455f-a93a-6f6ec7325f03",
   "metadata": {},
   "outputs": [],
   "source": [
    "df_filtered = df.drop_duplicates(subset=['agg_fitness', 'cost', 'throughput', 'wip', 'optimizer']).copy()\n",
    "is_efficient_cum_sum = df_filtered.groupby(by='optimizer')['is_efficient'].cumsum()\n",
    "df_filtered['is_efficient_cum_sum'] = is_efficient_cum_sum"
   ]
  },
  {
   "cell_type": "code",
   "execution_count": null,
   "id": "b54ce8ed",
   "metadata": {},
   "outputs": [],
   "source": [
    "def plot_performance_2d(df):\n",
    "    df = df.copy()\n",
    "    df['time'] = df['time'] / 60\n",
    "    fig = px.line(df, x='time', y='is_efficient_cum_sum', color=df['optimizer'],\n",
    "                    labels={\n",
    "                        \"time\": \"Time in minutes\",\n",
    "                        \"is_efficient_cum_sum\": \"Number of pareto optimal solutions\",\n",
    "                    },\n",
    "    )\n",
    "    fig.update_layout(template=\"simple_white\")\n",
    "    fig.update_layout(\n",
    "        font=dict(\n",
    "            family=\"Arial, monospace\",\n",
    "            # size=18,\n",
    "            # color=\"RebeccaPurple\"\n",
    "            ),\n",
    "        legend_title=\"\",\n",
    "        height=350\n",
    "    )\n",
    "    \n",
    "    fig.show()\n",
    "    # fig.write_image(\"images/pareto_numbers.svg\")"
   ]
  },
  {
   "cell_type": "code",
   "execution_count": null,
   "id": "d014f31f-cf1a-431f-9b03-87280d78d4e0",
   "metadata": {},
   "outputs": [],
   "source": [
    "plot_performance_2d(df_filtered)"
   ]
  },
  {
   "cell_type": "code",
   "execution_count": null,
   "id": "c70cc24e-1805-4781-9d53-3b9adbfd33fd",
   "metadata": {},
   "outputs": [],
   "source": []
  },
  {
   "cell_type": "code",
   "execution_count": null,
   "id": "6761885b-3037-4c57-8404-0c7c741eab6f",
   "metadata": {},
   "outputs": [],
   "source": []
  }
 ],
 "metadata": {
  "kernelspec": {
   "display_name": "Python 3.9.12",
   "language": "python",
   "name": "python3"
  },
  "language_info": {
   "codemirror_mode": {
    "name": "ipython",
    "version": 3
   },
   "file_extension": ".py",
   "mimetype": "text/x-python",
   "name": "python",
   "nbconvert_exporter": "python",
   "pygments_lexer": "ipython3",
   "version": "3.9.12"
  },
  "vscode": {
   "interpreter": {
    "hash": "b12fb5777f1dff974d16ee99663da56edb0de4c0ef125ee4112d5b034f6e570b"
   }
  }
 },
 "nbformat": 4,
 "nbformat_minor": 5
}
