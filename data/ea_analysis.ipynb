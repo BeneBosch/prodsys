{
 "cells": [
  {
   "cell_type": "code",
   "execution_count": 596,
   "id": "cfc9dfbd-924e-46ea-84d7-95dcd4f09d2b",
   "metadata": {},
   "outputs": [],
   "source": [
    "import pandas as pd\n",
    "import json\n",
    "import plotly"
   ]
  },
  {
   "cell_type": "code",
   "execution_count": 597,
   "id": "85770c5d-b837-45ab-9b97-07b08834e630",
   "metadata": {},
   "outputs": [],
   "source": [
    "# import plotly.io as pio\n",
    "# pio.renderers.default = 'browser'"
   ]
  },
  {
   "cell_type": "code",
   "execution_count": 598,
   "id": "4a305c63-1485-4c80-8a7d-0b0305148bb0",
   "metadata": {},
   "outputs": [],
   "source": [
    "# with open(\"ea_results.json\") as json_file:\n",
    "with open(\"anneal_results.json\") as json_file:\n",
    "    data = json.load(json_file)"
   ]
  },
  {
   "cell_type": "code",
   "execution_count": 599,
   "id": "2b91790d-d597-4b32-88f2-e2ac211de945",
   "metadata": {},
   "outputs": [],
   "source": [
    "new_data = {}\n",
    "row_number = 1\n",
    "for generation, values in data.items():\n",
    "    for individual, individual_values in values.items():\n",
    "        if \"agg_fitness\" in individual_values.keys():\n",
    "            new_data.update({str(row_number): {\"Generation\": int(generation), \"population_number\": int(individual), \n",
    "                                       \"agg_fitness\": individual_values[\"agg_fitness\"],\n",
    "                                       \"cost\": individual_values[\"fitness\"][3],\n",
    "                                       \"throughput_time\": individual_values[\"fitness\"][2],\n",
    "                                       \"throughput\": individual_values[\"fitness\"][0],\n",
    "                                       \"wip\": individual_values[\"fitness\"][1],\n",
    "                                      }})\n",
    "            row_number += 1\n",
    "df = pd.DataFrame(new_data)\n",
    "df = df.T"
   ]
  },
  {
   "cell_type": "code",
   "execution_count": 600,
   "id": "83c784f4-b62a-414a-9e09-206249d07a0d",
   "metadata": {},
   "outputs": [
    {
     "data": {
      "text/html": [
       "<div>\n",
       "<style scoped>\n",
       "    .dataframe tbody tr th:only-of-type {\n",
       "        vertical-align: middle;\n",
       "    }\n",
       "\n",
       "    .dataframe tbody tr th {\n",
       "        vertical-align: top;\n",
       "    }\n",
       "\n",
       "    .dataframe thead th {\n",
       "        text-align: right;\n",
       "    }\n",
       "</style>\n",
       "<table border=\"1\" class=\"dataframe\">\n",
       "  <thead>\n",
       "    <tr style=\"text-align: right;\">\n",
       "      <th></th>\n",
       "      <th>Generation</th>\n",
       "      <th>population_number</th>\n",
       "      <th>agg_fitness</th>\n",
       "      <th>cost</th>\n",
       "      <th>throughput_time</th>\n",
       "      <th>throughput</th>\n",
       "      <th>wip</th>\n",
       "    </tr>\n",
       "  </thead>\n",
       "  <tbody>\n",
       "    <tr>\n",
       "      <th>1</th>\n",
       "      <td>0.0</td>\n",
       "      <td>0.0</td>\n",
       "      <td>860.186283</td>\n",
       "      <td>0.0</td>\n",
       "      <td>459.280601</td>\n",
       "      <td>714.0</td>\n",
       "      <td>472.305682</td>\n",
       "    </tr>\n",
       "    <tr>\n",
       "      <th>2</th>\n",
       "      <td>0.0</td>\n",
       "      <td>1.0</td>\n",
       "      <td>1519.841433</td>\n",
       "      <td>0.0</td>\n",
       "      <td>205.265928</td>\n",
       "      <td>105.0</td>\n",
       "      <td>1325.075505</td>\n",
       "    </tr>\n",
       "    <tr>\n",
       "      <th>3</th>\n",
       "      <td>0.0</td>\n",
       "      <td>2.0</td>\n",
       "      <td>1519.841433</td>\n",
       "      <td>0.0</td>\n",
       "      <td>205.265928</td>\n",
       "      <td>105.0</td>\n",
       "      <td>1325.075505</td>\n",
       "    </tr>\n",
       "    <tr>\n",
       "      <th>4</th>\n",
       "      <td>0.0</td>\n",
       "      <td>3.0</td>\n",
       "      <td>1633.843638</td>\n",
       "      <td>40000.0</td>\n",
       "      <td>212.840650</td>\n",
       "      <td>107.0</td>\n",
       "      <td>1231.702988</td>\n",
       "    </tr>\n",
       "    <tr>\n",
       "      <th>5</th>\n",
       "      <td>0.0</td>\n",
       "      <td>4.0</td>\n",
       "      <td>1633.843638</td>\n",
       "      <td>40000.0</td>\n",
       "      <td>212.840650</td>\n",
       "      <td>107.0</td>\n",
       "      <td>1231.702988</td>\n",
       "    </tr>\n",
       "  </tbody>\n",
       "</table>\n",
       "</div>"
      ],
      "text/plain": [
       "   Generation  population_number  agg_fitness     cost  throughput_time  \\\n",
       "1         0.0                0.0   860.186283      0.0       459.280601   \n",
       "2         0.0                1.0  1519.841433      0.0       205.265928   \n",
       "3         0.0                2.0  1519.841433      0.0       205.265928   \n",
       "4         0.0                3.0  1633.843638  40000.0       212.840650   \n",
       "5         0.0                4.0  1633.843638  40000.0       212.840650   \n",
       "\n",
       "   throughput          wip  \n",
       "1       714.0   472.305682  \n",
       "2       105.0  1325.075505  \n",
       "3       105.0  1325.075505  \n",
       "4       107.0  1231.702988  \n",
       "5       107.0  1231.702988  "
      ]
     },
     "execution_count": 600,
     "metadata": {},
     "output_type": "execute_result"
    }
   ],
   "source": [
    "df.head()"
   ]
  },
  {
   "cell_type": "code",
   "execution_count": 601,
   "id": "9071c3fa-e4f2-43e4-be70-d24da9c7202b",
   "metadata": {},
   "outputs": [
    {
     "data": {
      "text/plain": [
       "(246, 7)"
      ]
     },
     "execution_count": 601,
     "metadata": {},
     "output_type": "execute_result"
    }
   ],
   "source": [
    "df.shape"
   ]
  },
  {
   "cell_type": "code",
   "execution_count": 602,
   "id": "543c762c-9d28-438d-880f-43bd0bafd9bb",
   "metadata": {},
   "outputs": [],
   "source": [
    "# df = df.drop_duplicates(subset=['agg_fitness'])\n",
    "df = df.loc[df[\"agg_fitness\"] > -50000]"
   ]
  },
  {
   "cell_type": "code",
   "execution_count": 603,
   "id": "64d4be67-1407-46d8-b35c-22a4dd5c279a",
   "metadata": {},
   "outputs": [],
   "source": [
    "def is_pareto_efficient_simple(costs):\n",
    "    \"\"\"\n",
    "    Find the pareto-efficient points\n",
    "    :param costs: An (n_points, n_costs) array\n",
    "    :return: A (n_points, ) boolean array, indicating whether each point is Pareto efficient\n",
    "    \"\"\"\n",
    "    is_efficient = np.ones(costs.shape[0], dtype = bool)\n",
    "    for i, c in enumerate(costs):\n",
    "        if is_efficient[i]:\n",
    "            is_efficient[is_efficient] = np.any(costs[is_efficient]<c, axis=1)  # Keep any point with a lower cost\n",
    "            is_efficient[i] = True  # And keep self\n",
    "    return is_efficient\n",
    "\n",
    "# Faster than is_pareto_efficient_simple, but less readable.\n",
    "def is_pareto_efficient(costs, return_mask = True):\n",
    "    \"\"\"\n",
    "    Find the pareto-efficient points\n",
    "    :param costs: An (n_points, n_costs) array\n",
    "    :param return_mask: True to return a mask\n",
    "    :return: An array of indices of pareto-efficient points.\n",
    "        If return_mask is True, this will be an (n_points, ) boolean array\n",
    "        Otherwise it will be a (n_efficient_points, ) integer array of indices.\n",
    "    \"\"\"\n",
    "    is_efficient = np.arange(costs.shape[0])\n",
    "    n_points = costs.shape[0]\n",
    "    next_point_index = 0  # Next index in the is_efficient array to search for\n",
    "    while next_point_index<len(costs):\n",
    "        nondominated_point_mask = np.any(costs<costs[next_point_index], axis=1)\n",
    "        nondominated_point_mask[next_point_index] = True\n",
    "        is_efficient = is_efficient[nondominated_point_mask]  # Remove dominated points\n",
    "        costs = costs[nondominated_point_mask]\n",
    "        next_point_index = np.sum(nondominated_point_mask[:next_point_index])+1\n",
    "    if return_mask:\n",
    "        is_efficient_mask = np.zeros(n_points, dtype = bool)\n",
    "        is_efficient_mask[is_efficient] = True\n",
    "        return is_efficient_mask\n",
    "    else:\n",
    "        return is_efficient"
   ]
  },
  {
   "cell_type": "code",
   "execution_count": 604,
   "id": "cf736976-6018-43bb-a04a-047035c72e96",
   "metadata": {},
   "outputs": [],
   "source": [
    "import numpy as np"
   ]
  },
  {
   "cell_type": "code",
   "execution_count": 605,
   "id": "bd267e4a-84e9-474a-92d9-bf1a13f7ae67",
   "metadata": {},
   "outputs": [],
   "source": [
    "df[\"cost\"] = df[\"cost\"].astype(float)\n",
    "df[\"agg_fitness\"] = df[\"agg_fitness\"].astype(float)"
   ]
  },
  {
   "cell_type": "code",
   "execution_count": 606,
   "id": "fdc55cc5-7da7-455f-9a09-85f0c92543d2",
   "metadata": {},
   "outputs": [],
   "source": [
    "df = df.loc[df[\"wip\"] < 150]\n",
    "df = df.loc[df[\"throughput\"] > 2500]\n",
    "df = df.loc[df[\"throughput_time\"] < 100]"
   ]
  },
  {
   "cell_type": "code",
   "execution_count": 607,
   "id": "e9b27d00-67f9-4417-be5b-95b9e83b06f4",
   "metadata": {},
   "outputs": [
    {
     "data": {
      "text/html": [
       "<div>\n",
       "<style scoped>\n",
       "    .dataframe tbody tr th:only-of-type {\n",
       "        vertical-align: middle;\n",
       "    }\n",
       "\n",
       "    .dataframe tbody tr th {\n",
       "        vertical-align: top;\n",
       "    }\n",
       "\n",
       "    .dataframe thead th {\n",
       "        text-align: right;\n",
       "    }\n",
       "</style>\n",
       "<table border=\"1\" class=\"dataframe\">\n",
       "  <thead>\n",
       "    <tr style=\"text-align: right;\">\n",
       "      <th></th>\n",
       "      <th>Generation</th>\n",
       "      <th>population_number</th>\n",
       "      <th>agg_fitness</th>\n",
       "      <th>cost</th>\n",
       "      <th>throughput_time</th>\n",
       "      <th>throughput</th>\n",
       "      <th>wip</th>\n",
       "    </tr>\n",
       "  </thead>\n",
       "  <tbody>\n",
       "    <tr>\n",
       "      <th>218</th>\n",
       "      <td>0.0</td>\n",
       "      <td>217.0</td>\n",
       "      <td>-22.750762</td>\n",
       "      <td>55000.0</td>\n",
       "      <td>31.028182</td>\n",
       "      <td>3423.0</td>\n",
       "      <td>13.521056</td>\n",
       "    </tr>\n",
       "    <tr>\n",
       "      <th>219</th>\n",
       "      <td>0.0</td>\n",
       "      <td>218.0</td>\n",
       "      <td>71.300827</td>\n",
       "      <td>75000.0</td>\n",
       "      <td>24.806186</td>\n",
       "      <td>3391.0</td>\n",
       "      <td>10.594641</td>\n",
       "    </tr>\n",
       "    <tr>\n",
       "      <th>220</th>\n",
       "      <td>0.0</td>\n",
       "      <td>219.0</td>\n",
       "      <td>67.491047</td>\n",
       "      <td>75000.0</td>\n",
       "      <td>26.054378</td>\n",
       "      <td>3448.0</td>\n",
       "      <td>11.236670</td>\n",
       "    </tr>\n",
       "    <tr>\n",
       "      <th>221</th>\n",
       "      <td>0.0</td>\n",
       "      <td>220.0</td>\n",
       "      <td>64.605985</td>\n",
       "      <td>75000.0</td>\n",
       "      <td>30.395745</td>\n",
       "      <td>3543.0</td>\n",
       "      <td>13.510240</td>\n",
       "    </tr>\n",
       "    <tr>\n",
       "      <th>222</th>\n",
       "      <td>0.0</td>\n",
       "      <td>221.0</td>\n",
       "      <td>-31.609446</td>\n",
       "      <td>55000.0</td>\n",
       "      <td>27.286474</td>\n",
       "      <td>3458.0</td>\n",
       "      <td>11.904080</td>\n",
       "    </tr>\n",
       "  </tbody>\n",
       "</table>\n",
       "</div>"
      ],
      "text/plain": [
       "     Generation  population_number  agg_fitness     cost  throughput_time  \\\n",
       "218         0.0              217.0   -22.750762  55000.0        31.028182   \n",
       "219         0.0              218.0    71.300827  75000.0        24.806186   \n",
       "220         0.0              219.0    67.491047  75000.0        26.054378   \n",
       "221         0.0              220.0    64.605985  75000.0        30.395745   \n",
       "222         0.0              221.0   -31.609446  55000.0        27.286474   \n",
       "\n",
       "     throughput        wip  \n",
       "218      3423.0  13.521056  \n",
       "219      3391.0  10.594641  \n",
       "220      3448.0  11.236670  \n",
       "221      3543.0  13.510240  \n",
       "222      3458.0  11.904080  "
      ]
     },
     "execution_count": 607,
     "metadata": {},
     "output_type": "execute_result"
    }
   ],
   "source": [
    "df.tail()"
   ]
  },
  {
   "cell_type": "code",
   "execution_count": 608,
   "id": "9e3e3fa4-b211-4a75-98b6-1b2fd2d7ffc4",
   "metadata": {},
   "outputs": [
    {
     "name": "stdout",
     "output_type": "stream",
     "text": [
      "70\n"
     ]
    }
   ],
   "source": [
    "print(len(df))"
   ]
  },
  {
   "cell_type": "code",
   "execution_count": 609,
   "id": "46e68639-75f5-4607-8875-384ab131d5bb",
   "metadata": {},
   "outputs": [],
   "source": [
    "columns = ['cost', 'throughput', 'wip']\n",
    "# columns = ['throughput_time', 'throughput']\n",
    "df_for_pareto = df[columns].copy()\n",
    "df_for_pareto['throughput'] = -df_for_pareto['throughput']"
   ]
  },
  {
   "cell_type": "code",
   "execution_count": 610,
   "id": "8b41623a-8b6a-4042-be71-e444aaaa0e23",
   "metadata": {},
   "outputs": [],
   "source": [
    "is_efficient = is_pareto_efficient(df_for_pareto.values)\n",
    "df['is_efficient'] = is_efficient"
   ]
  },
  {
   "cell_type": "code",
   "execution_count": 611,
   "id": "2101779a-2a18-4cd6-8dde-ddc30f44d305",
   "metadata": {},
   "outputs": [
    {
     "data": {
      "application/vnd.plotly.v1+json": {
       "config": {
        "plotlyServerURL": "https://plot.ly"
       },
       "data": [
        {
         "customdata": [
          [
           85000,
           0
          ],
          [
           85000,
           0
          ],
          [
           45000,
           0
          ],
          [
           85000,
           0
          ],
          [
           80000,
           0
          ],
          [
           75000,
           0
          ],
          [
           80000,
           0
          ],
          [
           85000,
           0
          ],
          [
           85000,
           0
          ],
          [
           85000,
           0
          ],
          [
           85000,
           0
          ],
          [
           80000,
           0
          ],
          [
           45000,
           0
          ],
          [
           85000,
           0
          ],
          [
           85000,
           0
          ],
          [
           85000,
           0
          ],
          [
           85000,
           0
          ],
          [
           65000,
           0
          ],
          [
           65000,
           0
          ],
          [
           85000,
           0
          ],
          [
           60000,
           0
          ],
          [
           100000,
           0
          ],
          [
           95000,
           0
          ],
          [
           100000,
           0
          ],
          [
           100000,
           0
          ],
          [
           100000,
           0
          ],
          [
           80000,
           0
          ],
          [
           85000,
           0
          ],
          [
           80000,
           0
          ],
          [
           80000,
           0
          ],
          [
           90000,
           0
          ],
          [
           90000,
           0
          ],
          [
           90000,
           0
          ],
          [
           90000,
           0
          ],
          [
           90000,
           0
          ],
          [
           90000,
           0
          ],
          [
           90000,
           0
          ],
          [
           85000,
           0
          ],
          [
           85000,
           0
          ],
          [
           90000,
           0
          ],
          [
           90000,
           0
          ],
          [
           90000,
           0
          ],
          [
           90000,
           0
          ],
          [
           50000,
           0
          ],
          [
           70000,
           0
          ],
          [
           75000,
           0
          ],
          [
           65000,
           0
          ],
          [
           65000,
           0
          ],
          [
           65000,
           0
          ],
          [
           65000,
           0
          ],
          [
           65000,
           0
          ],
          [
           95000,
           0
          ],
          [
           95000,
           0
          ],
          [
           95000,
           0
          ],
          [
           95000,
           0
          ],
          [
           95000,
           0
          ],
          [
           55000,
           0
          ],
          [
           55000,
           0
          ],
          [
           55000,
           0
          ],
          [
           55000,
           0
          ],
          [
           55000,
           0
          ],
          [
           75000,
           0
          ],
          [
           55000,
           0
          ],
          [
           95000,
           0
          ],
          [
           90000,
           0
          ],
          [
           55000,
           0
          ],
          [
           75000,
           0
          ],
          [
           75000,
           0
          ],
          [
           75000,
           0
          ],
          [
           55000,
           0
          ]
         ],
         "hovertemplate": "population_number=%{x}<br>agg_fitness=%{y}<br>cost=%{marker.color}<br>Generation=%{customdata[1]}<extra></extra>",
         "legendgroup": "",
         "marker": {
          "color": [
           85000,
           85000,
           45000,
           85000,
           80000,
           75000,
           80000,
           85000,
           85000,
           85000,
           85000,
           80000,
           45000,
           85000,
           85000,
           85000,
           85000,
           65000,
           65000,
           85000,
           60000,
           100000,
           95000,
           100000,
           100000,
           100000,
           80000,
           85000,
           80000,
           80000,
           90000,
           90000,
           90000,
           90000,
           90000,
           90000,
           90000,
           85000,
           85000,
           90000,
           90000,
           90000,
           90000,
           50000,
           70000,
           75000,
           65000,
           65000,
           65000,
           65000,
           65000,
           95000,
           95000,
           95000,
           95000,
           95000,
           55000,
           55000,
           55000,
           55000,
           55000,
           75000,
           55000,
           95000,
           90000,
           55000,
           75000,
           75000,
           75000,
           55000
          ],
          "coloraxis": "coloraxis",
          "symbol": "circle"
         },
         "mode": "markers",
         "name": "",
         "orientation": "v",
         "showlegend": false,
         "type": "scatter",
         "x": [
          56,
          57,
          58,
          59,
          60,
          61,
          62,
          63,
          64,
          65,
          67,
          68,
          69,
          71,
          72,
          76,
          77,
          81,
          85,
          86,
          90,
          92,
          93,
          96,
          97,
          98,
          100,
          102,
          110,
          111,
          115,
          116,
          117,
          118,
          122,
          124,
          125,
          126,
          127,
          128,
          129,
          130,
          131,
          139,
          143,
          146,
          149,
          150,
          151,
          153,
          154,
          202,
          203,
          204,
          205,
          206,
          207,
          208,
          209,
          210,
          212,
          213,
          214,
          215,
          216,
          217,
          218,
          219,
          220,
          221
         ],
         "xaxis": "x",
         "y": [
          118.22522890171592,
          121.45768051220375,
          -2.8446902799004192,
          227.44825333026915,
          155.72584784995433,
          147.4368063886481,
          108.1587653316808,
          116.29060212322372,
          117.82376832200174,
          117.82376832200174,
          119.06770222715232,
          107.18697985301219,
          -76.71399636808064,
          217.35290031120888,
          217.35290031120888,
          218.01225653394016,
          222.7269107494916,
          68.70377621789885,
          78.4000172274828,
          190.25106311048785,
          52.67210742604436,
          192.83145004108093,
          166.65902577838682,
          190.56627050067277,
          190.56627050067277,
          200.99652341978174,
          90.56003459142835,
          121.77196482816493,
          151.03466075497323,
          151.03466075497323,
          145.65505250681514,
          138.80724125754318,
          138.5979320665645,
          146.49011741206175,
          140.6544061753392,
          139.16816574104917,
          139.32759644914245,
          121.49850011628126,
          121.26514001294385,
          141.25653859732876,
          143.18421353846065,
          142.3364879238262,
          138.02460183872512,
          5.777829157018175,
          130.67181265515472,
          164.17486404249462,
          73.09069244175515,
          73.09069244175515,
          73.09069244175515,
          97.14272408125055,
          120.08973954801641,
          174.86553485293456,
          163.51376801626867,
          170.711545072577,
          170.0840676007668,
          170.0840676007668,
          -25.4802040643915,
          -25.486028775622003,
          -27.41860924526435,
          -28.692021687625015,
          -27.550976527820694,
          69.02241813258615,
          -22.750762388562634,
          166.65142749405715,
          146.30082689032332,
          -22.750762388562634,
          71.30082689032332,
          67.49104736143926,
          64.60598506945456,
          -31.609445710194393
         ],
         "yaxis": "y"
        }
       ],
       "layout": {
        "autosize": true,
        "coloraxis": {
         "colorbar": {
          "title": {
           "text": "cost"
          }
         },
         "colorscale": [
          [
           0,
           "#440154"
          ],
          [
           0.1111111111111111,
           "#482878"
          ],
          [
           0.2222222222222222,
           "#3e4989"
          ],
          [
           0.3333333333333333,
           "#31688e"
          ],
          [
           0.4444444444444444,
           "#26828e"
          ],
          [
           0.5555555555555556,
           "#1f9e89"
          ],
          [
           0.6666666666666666,
           "#35b779"
          ],
          [
           0.7777777777777778,
           "#6ece58"
          ],
          [
           0.8888888888888888,
           "#b5de2b"
          ],
          [
           1,
           "#fde725"
          ]
         ]
        },
        "legend": {
         "tracegroupgap": 0
        },
        "margin": {
         "t": 60
        },
        "template": {
         "data": {
          "bar": [
           {
            "error_x": {
             "color": "#2a3f5f"
            },
            "error_y": {
             "color": "#2a3f5f"
            },
            "marker": {
             "line": {
              "color": "#E5ECF6",
              "width": 0.5
             },
             "pattern": {
              "fillmode": "overlay",
              "size": 10,
              "solidity": 0.2
             }
            },
            "type": "bar"
           }
          ],
          "barpolar": [
           {
            "marker": {
             "line": {
              "color": "#E5ECF6",
              "width": 0.5
             },
             "pattern": {
              "fillmode": "overlay",
              "size": 10,
              "solidity": 0.2
             }
            },
            "type": "barpolar"
           }
          ],
          "carpet": [
           {
            "aaxis": {
             "endlinecolor": "#2a3f5f",
             "gridcolor": "white",
             "linecolor": "white",
             "minorgridcolor": "white",
             "startlinecolor": "#2a3f5f"
            },
            "baxis": {
             "endlinecolor": "#2a3f5f",
             "gridcolor": "white",
             "linecolor": "white",
             "minorgridcolor": "white",
             "startlinecolor": "#2a3f5f"
            },
            "type": "carpet"
           }
          ],
          "choropleth": [
           {
            "colorbar": {
             "outlinewidth": 0,
             "ticks": ""
            },
            "type": "choropleth"
           }
          ],
          "contour": [
           {
            "colorbar": {
             "outlinewidth": 0,
             "ticks": ""
            },
            "colorscale": [
             [
              0,
              "#0d0887"
             ],
             [
              0.1111111111111111,
              "#46039f"
             ],
             [
              0.2222222222222222,
              "#7201a8"
             ],
             [
              0.3333333333333333,
              "#9c179e"
             ],
             [
              0.4444444444444444,
              "#bd3786"
             ],
             [
              0.5555555555555556,
              "#d8576b"
             ],
             [
              0.6666666666666666,
              "#ed7953"
             ],
             [
              0.7777777777777778,
              "#fb9f3a"
             ],
             [
              0.8888888888888888,
              "#fdca26"
             ],
             [
              1,
              "#f0f921"
             ]
            ],
            "type": "contour"
           }
          ],
          "contourcarpet": [
           {
            "colorbar": {
             "outlinewidth": 0,
             "ticks": ""
            },
            "type": "contourcarpet"
           }
          ],
          "heatmap": [
           {
            "colorbar": {
             "outlinewidth": 0,
             "ticks": ""
            },
            "colorscale": [
             [
              0,
              "#0d0887"
             ],
             [
              0.1111111111111111,
              "#46039f"
             ],
             [
              0.2222222222222222,
              "#7201a8"
             ],
             [
              0.3333333333333333,
              "#9c179e"
             ],
             [
              0.4444444444444444,
              "#bd3786"
             ],
             [
              0.5555555555555556,
              "#d8576b"
             ],
             [
              0.6666666666666666,
              "#ed7953"
             ],
             [
              0.7777777777777778,
              "#fb9f3a"
             ],
             [
              0.8888888888888888,
              "#fdca26"
             ],
             [
              1,
              "#f0f921"
             ]
            ],
            "type": "heatmap"
           }
          ],
          "heatmapgl": [
           {
            "colorbar": {
             "outlinewidth": 0,
             "ticks": ""
            },
            "colorscale": [
             [
              0,
              "#0d0887"
             ],
             [
              0.1111111111111111,
              "#46039f"
             ],
             [
              0.2222222222222222,
              "#7201a8"
             ],
             [
              0.3333333333333333,
              "#9c179e"
             ],
             [
              0.4444444444444444,
              "#bd3786"
             ],
             [
              0.5555555555555556,
              "#d8576b"
             ],
             [
              0.6666666666666666,
              "#ed7953"
             ],
             [
              0.7777777777777778,
              "#fb9f3a"
             ],
             [
              0.8888888888888888,
              "#fdca26"
             ],
             [
              1,
              "#f0f921"
             ]
            ],
            "type": "heatmapgl"
           }
          ],
          "histogram": [
           {
            "marker": {
             "pattern": {
              "fillmode": "overlay",
              "size": 10,
              "solidity": 0.2
             }
            },
            "type": "histogram"
           }
          ],
          "histogram2d": [
           {
            "colorbar": {
             "outlinewidth": 0,
             "ticks": ""
            },
            "colorscale": [
             [
              0,
              "#0d0887"
             ],
             [
              0.1111111111111111,
              "#46039f"
             ],
             [
              0.2222222222222222,
              "#7201a8"
             ],
             [
              0.3333333333333333,
              "#9c179e"
             ],
             [
              0.4444444444444444,
              "#bd3786"
             ],
             [
              0.5555555555555556,
              "#d8576b"
             ],
             [
              0.6666666666666666,
              "#ed7953"
             ],
             [
              0.7777777777777778,
              "#fb9f3a"
             ],
             [
              0.8888888888888888,
              "#fdca26"
             ],
             [
              1,
              "#f0f921"
             ]
            ],
            "type": "histogram2d"
           }
          ],
          "histogram2dcontour": [
           {
            "colorbar": {
             "outlinewidth": 0,
             "ticks": ""
            },
            "colorscale": [
             [
              0,
              "#0d0887"
             ],
             [
              0.1111111111111111,
              "#46039f"
             ],
             [
              0.2222222222222222,
              "#7201a8"
             ],
             [
              0.3333333333333333,
              "#9c179e"
             ],
             [
              0.4444444444444444,
              "#bd3786"
             ],
             [
              0.5555555555555556,
              "#d8576b"
             ],
             [
              0.6666666666666666,
              "#ed7953"
             ],
             [
              0.7777777777777778,
              "#fb9f3a"
             ],
             [
              0.8888888888888888,
              "#fdca26"
             ],
             [
              1,
              "#f0f921"
             ]
            ],
            "type": "histogram2dcontour"
           }
          ],
          "mesh3d": [
           {
            "colorbar": {
             "outlinewidth": 0,
             "ticks": ""
            },
            "type": "mesh3d"
           }
          ],
          "parcoords": [
           {
            "line": {
             "colorbar": {
              "outlinewidth": 0,
              "ticks": ""
             }
            },
            "type": "parcoords"
           }
          ],
          "pie": [
           {
            "automargin": true,
            "type": "pie"
           }
          ],
          "scatter": [
           {
            "fillpattern": {
             "fillmode": "overlay",
             "size": 10,
             "solidity": 0.2
            },
            "type": "scatter"
           }
          ],
          "scatter3d": [
           {
            "line": {
             "colorbar": {
              "outlinewidth": 0,
              "ticks": ""
             }
            },
            "marker": {
             "colorbar": {
              "outlinewidth": 0,
              "ticks": ""
             }
            },
            "type": "scatter3d"
           }
          ],
          "scattercarpet": [
           {
            "marker": {
             "colorbar": {
              "outlinewidth": 0,
              "ticks": ""
             }
            },
            "type": "scattercarpet"
           }
          ],
          "scattergeo": [
           {
            "marker": {
             "colorbar": {
              "outlinewidth": 0,
              "ticks": ""
             }
            },
            "type": "scattergeo"
           }
          ],
          "scattergl": [
           {
            "marker": {
             "colorbar": {
              "outlinewidth": 0,
              "ticks": ""
             }
            },
            "type": "scattergl"
           }
          ],
          "scattermapbox": [
           {
            "marker": {
             "colorbar": {
              "outlinewidth": 0,
              "ticks": ""
             }
            },
            "type": "scattermapbox"
           }
          ],
          "scatterpolar": [
           {
            "marker": {
             "colorbar": {
              "outlinewidth": 0,
              "ticks": ""
             }
            },
            "type": "scatterpolar"
           }
          ],
          "scatterpolargl": [
           {
            "marker": {
             "colorbar": {
              "outlinewidth": 0,
              "ticks": ""
             }
            },
            "type": "scatterpolargl"
           }
          ],
          "scatterternary": [
           {
            "marker": {
             "colorbar": {
              "outlinewidth": 0,
              "ticks": ""
             }
            },
            "type": "scatterternary"
           }
          ],
          "surface": [
           {
            "colorbar": {
             "outlinewidth": 0,
             "ticks": ""
            },
            "colorscale": [
             [
              0,
              "#0d0887"
             ],
             [
              0.1111111111111111,
              "#46039f"
             ],
             [
              0.2222222222222222,
              "#7201a8"
             ],
             [
              0.3333333333333333,
              "#9c179e"
             ],
             [
              0.4444444444444444,
              "#bd3786"
             ],
             [
              0.5555555555555556,
              "#d8576b"
             ],
             [
              0.6666666666666666,
              "#ed7953"
             ],
             [
              0.7777777777777778,
              "#fb9f3a"
             ],
             [
              0.8888888888888888,
              "#fdca26"
             ],
             [
              1,
              "#f0f921"
             ]
            ],
            "type": "surface"
           }
          ],
          "table": [
           {
            "cells": {
             "fill": {
              "color": "#EBF0F8"
             },
             "line": {
              "color": "white"
             }
            },
            "header": {
             "fill": {
              "color": "#C8D4E3"
             },
             "line": {
              "color": "white"
             }
            },
            "type": "table"
           }
          ]
         },
         "layout": {
          "annotationdefaults": {
           "arrowcolor": "#2a3f5f",
           "arrowhead": 0,
           "arrowwidth": 1
          },
          "autotypenumbers": "strict",
          "coloraxis": {
           "colorbar": {
            "outlinewidth": 0,
            "ticks": ""
           }
          },
          "colorscale": {
           "diverging": [
            [
             0,
             "#8e0152"
            ],
            [
             0.1,
             "#c51b7d"
            ],
            [
             0.2,
             "#de77ae"
            ],
            [
             0.3,
             "#f1b6da"
            ],
            [
             0.4,
             "#fde0ef"
            ],
            [
             0.5,
             "#f7f7f7"
            ],
            [
             0.6,
             "#e6f5d0"
            ],
            [
             0.7,
             "#b8e186"
            ],
            [
             0.8,
             "#7fbc41"
            ],
            [
             0.9,
             "#4d9221"
            ],
            [
             1,
             "#276419"
            ]
           ],
           "sequential": [
            [
             0,
             "#0d0887"
            ],
            [
             0.1111111111111111,
             "#46039f"
            ],
            [
             0.2222222222222222,
             "#7201a8"
            ],
            [
             0.3333333333333333,
             "#9c179e"
            ],
            [
             0.4444444444444444,
             "#bd3786"
            ],
            [
             0.5555555555555556,
             "#d8576b"
            ],
            [
             0.6666666666666666,
             "#ed7953"
            ],
            [
             0.7777777777777778,
             "#fb9f3a"
            ],
            [
             0.8888888888888888,
             "#fdca26"
            ],
            [
             1,
             "#f0f921"
            ]
           ],
           "sequentialminus": [
            [
             0,
             "#0d0887"
            ],
            [
             0.1111111111111111,
             "#46039f"
            ],
            [
             0.2222222222222222,
             "#7201a8"
            ],
            [
             0.3333333333333333,
             "#9c179e"
            ],
            [
             0.4444444444444444,
             "#bd3786"
            ],
            [
             0.5555555555555556,
             "#d8576b"
            ],
            [
             0.6666666666666666,
             "#ed7953"
            ],
            [
             0.7777777777777778,
             "#fb9f3a"
            ],
            [
             0.8888888888888888,
             "#fdca26"
            ],
            [
             1,
             "#f0f921"
            ]
           ]
          },
          "colorway": [
           "#636efa",
           "#EF553B",
           "#00cc96",
           "#ab63fa",
           "#FFA15A",
           "#19d3f3",
           "#FF6692",
           "#B6E880",
           "#FF97FF",
           "#FECB52"
          ],
          "font": {
           "color": "#2a3f5f"
          },
          "geo": {
           "bgcolor": "white",
           "lakecolor": "white",
           "landcolor": "#E5ECF6",
           "showlakes": true,
           "showland": true,
           "subunitcolor": "white"
          },
          "hoverlabel": {
           "align": "left"
          },
          "hovermode": "closest",
          "mapbox": {
           "style": "light"
          },
          "paper_bgcolor": "white",
          "plot_bgcolor": "#E5ECF6",
          "polar": {
           "angularaxis": {
            "gridcolor": "white",
            "linecolor": "white",
            "ticks": ""
           },
           "bgcolor": "#E5ECF6",
           "radialaxis": {
            "gridcolor": "white",
            "linecolor": "white",
            "ticks": ""
           }
          },
          "scene": {
           "xaxis": {
            "backgroundcolor": "#E5ECF6",
            "gridcolor": "white",
            "gridwidth": 2,
            "linecolor": "white",
            "showbackground": true,
            "ticks": "",
            "zerolinecolor": "white"
           },
           "yaxis": {
            "backgroundcolor": "#E5ECF6",
            "gridcolor": "white",
            "gridwidth": 2,
            "linecolor": "white",
            "showbackground": true,
            "ticks": "",
            "zerolinecolor": "white"
           },
           "zaxis": {
            "backgroundcolor": "#E5ECF6",
            "gridcolor": "white",
            "gridwidth": 2,
            "linecolor": "white",
            "showbackground": true,
            "ticks": "",
            "zerolinecolor": "white"
           }
          },
          "shapedefaults": {
           "line": {
            "color": "#2a3f5f"
           }
          },
          "ternary": {
           "aaxis": {
            "gridcolor": "white",
            "linecolor": "white",
            "ticks": ""
           },
           "baxis": {
            "gridcolor": "white",
            "linecolor": "white",
            "ticks": ""
           },
           "bgcolor": "#E5ECF6",
           "caxis": {
            "gridcolor": "white",
            "linecolor": "white",
            "ticks": ""
           }
          },
          "title": {
           "x": 0.05
          },
          "xaxis": {
           "automargin": true,
           "gridcolor": "white",
           "linecolor": "white",
           "ticks": "",
           "title": {
            "standoff": 15
           },
           "zerolinecolor": "white",
           "zerolinewidth": 2
          },
          "yaxis": {
           "automargin": true,
           "gridcolor": "white",
           "linecolor": "white",
           "ticks": "",
           "title": {
            "standoff": 15
           },
           "zerolinecolor": "white",
           "zerolinewidth": 2
          }
         }
        },
        "xaxis": {
         "anchor": "y",
         "autorange": true,
         "domain": [
          0,
          1
         ],
         "range": [
          46.2293094359515,
          230.7706905640485
         ],
         "title": {
          "text": "population_number"
         },
         "type": "linear"
        },
        "yaxis": {
         "anchor": "x",
         "autorange": true,
         "domain": [
          0,
          1
         ],
         "range": [
          -100.26461675154867,
          250.99887371373717
         ],
         "title": {
          "text": "agg_fitness"
         },
         "type": "linear"
        }
       }
      },
      "image/png": "[encoded data removed]",
      "text/html": [
       "<div>                            <div id=\"9a389a88-e490-4d33-80c6-6ee20a11f0ca\" class=\"plotly-graph-div\" style=\"height:525px; width:100%;\"></div>            <script type=\"text/javascript\">                require([\"plotly\"], function(Plotly) {                    window.PLOTLYENV=window.PLOTLYENV || {};                                    if (document.getElementById(\"9a389a88-e490-4d33-80c6-6ee20a11f0ca\")) {                    Plotly.newPlot(                        \"9a389a88-e490-4d33-80c6-6ee20a11f0ca\",                        [{\"customdata\":[[85000.0,0.0],[85000.0,0.0],[45000.0,0.0],[85000.0,0.0],[80000.0,0.0],[75000.0,0.0],[80000.0,0.0],[85000.0,0.0],[85000.0,0.0],[85000.0,0.0],[85000.0,0.0],[80000.0,0.0],[45000.0,0.0],[85000.0,0.0],[85000.0,0.0],[85000.0,0.0],[85000.0,0.0],[65000.0,0.0],[65000.0,0.0],[85000.0,0.0],[60000.0,0.0],[100000.0,0.0],[95000.0,0.0],[100000.0,0.0],[100000.0,0.0],[100000.0,0.0],[80000.0,0.0],[85000.0,0.0],[80000.0,0.0],[80000.0,0.0],[90000.0,0.0],[90000.0,0.0],[90000.0,0.0],[90000.0,0.0],[90000.0,0.0],[90000.0,0.0],[90000.0,0.0],[85000.0,0.0],[85000.0,0.0],[90000.0,0.0],[90000.0,0.0],[90000.0,0.0],[90000.0,0.0],[50000.0,0.0],[70000.0,0.0],[75000.0,0.0],[65000.0,0.0],[65000.0,0.0],[65000.0,0.0],[65000.0,0.0],[65000.0,0.0],[95000.0,0.0],[95000.0,0.0],[95000.0,0.0],[95000.0,0.0],[95000.0,0.0],[55000.0,0.0],[55000.0,0.0],[55000.0,0.0],[55000.0,0.0],[55000.0,0.0],[75000.0,0.0],[55000.0,0.0],[95000.0,0.0],[90000.0,0.0],[55000.0,0.0],[75000.0,0.0],[75000.0,0.0],[75000.0,0.0],[55000.0,0.0]],\"hovertemplate\":\"population_number=%{x}<br>agg_fitness=%{y}<br>cost=%{marker.color}<br>Generation=%{customdata[1]}<extra></extra>\",\"legendgroup\":\"\",\"marker\":{\"color\":[85000.0,85000.0,45000.0,85000.0,80000.0,75000.0,80000.0,85000.0,85000.0,85000.0,85000.0,80000.0,45000.0,85000.0,85000.0,85000.0,85000.0,65000.0,65000.0,85000.0,60000.0,100000.0,95000.0,100000.0,100000.0,100000.0,80000.0,85000.0,80000.0,80000.0,90000.0,90000.0,90000.0,90000.0,90000.0,90000.0,90000.0,85000.0,85000.0,90000.0,90000.0,90000.0,90000.0,50000.0,70000.0,75000.0,65000.0,65000.0,65000.0,65000.0,65000.0,95000.0,95000.0,95000.0,95000.0,95000.0,55000.0,55000.0,55000.0,55000.0,55000.0,75000.0,55000.0,95000.0,90000.0,55000.0,75000.0,75000.0,75000.0,55000.0],\"coloraxis\":\"coloraxis\",\"symbol\":\"circle\"},\"mode\":\"markers\",\"name\":\"\",\"orientation\":\"v\",\"showlegend\":false,\"x\":[56.0,57.0,58.0,59.0,60.0,61.0,62.0,63.0,64.0,65.0,67.0,68.0,69.0,71.0,72.0,76.0,77.0,81.0,85.0,86.0,90.0,92.0,93.0,96.0,97.0,98.0,100.0,102.0,110.0,111.0,115.0,116.0,117.0,118.0,122.0,124.0,125.0,126.0,127.0,128.0,129.0,130.0,131.0,139.0,143.0,146.0,149.0,150.0,151.0,153.0,154.0,202.0,203.0,204.0,205.0,206.0,207.0,208.0,209.0,210.0,212.0,213.0,214.0,215.0,216.0,217.0,218.0,219.0,220.0,221.0],\"xaxis\":\"x\",\"y\":[118.22522890171592,121.45768051220375,-2.8446902799004192,227.44825333026915,155.72584784995433,147.4368063886481,108.1587653316808,116.29060212322372,117.82376832200174,117.82376832200174,119.06770222715232,107.18697985301219,-76.71399636808064,217.35290031120888,217.35290031120888,218.01225653394016,222.7269107494916,68.70377621789885,78.4000172274828,190.25106311048785,52.67210742604436,192.83145004108093,166.65902577838682,190.56627050067277,190.56627050067277,200.99652341978174,90.56003459142835,121.77196482816493,151.03466075497323,151.03466075497323,145.65505250681514,138.80724125754318,138.5979320665645,146.49011741206175,140.6544061753392,139.16816574104917,139.32759644914245,121.49850011628126,121.26514001294385,141.25653859732876,143.18421353846065,142.3364879238262,138.02460183872512,5.777829157018175,130.67181265515472,164.17486404249462,73.09069244175515,73.09069244175515,73.09069244175515,97.14272408125055,120.08973954801641,174.86553485293456,163.51376801626867,170.711545072577,170.0840676007668,170.0840676007668,-25.4802040643915,-25.486028775622003,-27.41860924526435,-28.692021687625015,-27.550976527820694,69.02241813258615,-22.750762388562634,166.65142749405715,146.30082689032332,-22.750762388562634,71.30082689032332,67.49104736143926,64.60598506945456,-31.609445710194393],\"yaxis\":\"y\",\"type\":\"scatter\"}],                        {\"template\":{\"data\":{\"histogram2dcontour\":[{\"type\":\"histogram2dcontour\",\"colorbar\":{\"outlinewidth\":0,\"ticks\":\"\"},\"colorscale\":[[0.0,\"#0d0887\"],[0.1111111111111111,\"#46039f\"],[0.2222222222222222,\"#7201a8\"],[0.3333333333333333,\"#9c179e\"],[0.4444444444444444,\"#bd3786\"],[0.5555555555555556,\"#d8576b\"],[0.6666666666666666,\"#ed7953\"],[0.7777777777777778,\"#fb9f3a\"],[0.8888888888888888,\"#fdca26\"],[1.0,\"#f0f921\"]]}],\"choropleth\":[{\"type\":\"choropleth\",\"colorbar\":{\"outlinewidth\":0,\"ticks\":\"\"}}],\"histogram2d\":[{\"type\":\"histogram2d\",\"colorbar\":{\"outlinewidth\":0,\"ticks\":\"\"},\"colorscale\":[[0.0,\"#0d0887\"],[0.1111111111111111,\"#46039f\"],[0.2222222222222222,\"#7201a8\"],[0.3333333333333333,\"#9c179e\"],[0.4444444444444444,\"#bd3786\"],[0.5555555555555556,\"#d8576b\"],[0.6666666666666666,\"#ed7953\"],[0.7777777777777778,\"#fb9f3a\"],[0.8888888888888888,\"#fdca26\"],[1.0,\"#f0f921\"]]}],\"heatmap\":[{\"type\":\"heatmap\",\"colorbar\":{\"outlinewidth\":0,\"ticks\":\"\"},\"colorscale\":[[0.0,\"#0d0887\"],[0.1111111111111111,\"#46039f\"],[0.2222222222222222,\"#7201a8\"],[0.3333333333333333,\"#9c179e\"],[0.4444444444444444,\"#bd3786\"],[0.5555555555555556,\"#d8576b\"],[0.6666666666666666,\"#ed7953\"],[0.7777777777777778,\"#fb9f3a\"],[0.8888888888888888,\"#fdca26\"],[1.0,\"#f0f921\"]]}],\"heatmapgl\":[{\"type\":\"heatmapgl\",\"colorbar\":{\"outlinewidth\":0,\"ticks\":\"\"},\"colorscale\":[[0.0,\"#0d0887\"],[0.1111111111111111,\"#46039f\"],[0.2222222222222222,\"#7201a8\"],[0.3333333333333333,\"#9c179e\"],[0.4444444444444444,\"#bd3786\"],[0.5555555555555556,\"#d8576b\"],[0.6666666666666666,\"#ed7953\"],[0.7777777777777778,\"#fb9f3a\"],[0.8888888888888888,\"#fdca26\"],[1.0,\"#f0f921\"]]}],\"contourcarpet\":[{\"type\":\"contourcarpet\",\"colorbar\":{\"outlinewidth\":0,\"ticks\":\"\"}}],\"contour\":[{\"type\":\"contour\",\"colorbar\":{\"outlinewidth\":0,\"ticks\":\"\"},\"colorscale\":[[0.0,\"#0d0887\"],[0.1111111111111111,\"#46039f\"],[0.2222222222222222,\"#7201a8\"],[0.3333333333333333,\"#9c179e\"],[0.4444444444444444,\"#bd3786\"],[0.5555555555555556,\"#d8576b\"],[0.6666666666666666,\"#ed7953\"],[0.7777777777777778,\"#fb9f3a\"],[0.8888888888888888,\"#fdca26\"],[1.0,\"#f0f921\"]]}],\"surface\":[{\"type\":\"surface\",\"colorbar\":{\"outlinewidth\":0,\"ticks\":\"\"},\"colorscale\":[[0.0,\"#0d0887\"],[0.1111111111111111,\"#46039f\"],[0.2222222222222222,\"#7201a8\"],[0.3333333333333333,\"#9c179e\"],[0.4444444444444444,\"#bd3786\"],[0.5555555555555556,\"#d8576b\"],[0.6666666666666666,\"#ed7953\"],[0.7777777777777778,\"#fb9f3a\"],[0.8888888888888888,\"#fdca26\"],[1.0,\"#f0f921\"]]}],\"mesh3d\":[{\"type\":\"mesh3d\",\"colorbar\":{\"outlinewidth\":0,\"ticks\":\"\"}}],\"scatter\":[{\"fillpattern\":{\"fillmode\":\"overlay\",\"size\":10,\"solidity\":0.2},\"type\":\"scatter\"}],\"parcoords\":[{\"type\":\"parcoords\",\"line\":{\"colorbar\":{\"outlinewidth\":0,\"ticks\":\"\"}}}],\"scatterpolargl\":[{\"type\":\"scatterpolargl\",\"marker\":{\"colorbar\":{\"outlinewidth\":0,\"ticks\":\"\"}}}],\"bar\":[{\"error_x\":{\"color\":\"#2a3f5f\"},\"error_y\":{\"color\":\"#2a3f5f\"},\"marker\":{\"line\":{\"color\":\"#E5ECF6\",\"width\":0.5},\"pattern\":{\"fillmode\":\"overlay\",\"size\":10,\"solidity\":0.2}},\"type\":\"bar\"}],\"scattergeo\":[{\"type\":\"scattergeo\",\"marker\":{\"colorbar\":{\"outlinewidth\":0,\"ticks\":\"\"}}}],\"scatterpolar\":[{\"type\":\"scatterpolar\",\"marker\":{\"colorbar\":{\"outlinewidth\":0,\"ticks\":\"\"}}}],\"histogram\":[{\"marker\":{\"pattern\":{\"fillmode\":\"overlay\",\"size\":10,\"solidity\":0.2}},\"type\":\"histogram\"}],\"scattergl\":[{\"type\":\"scattergl\",\"marker\":{\"colorbar\":{\"outlinewidth\":0,\"ticks\":\"\"}}}],\"scatter3d\":[{\"type\":\"scatter3d\",\"line\":{\"colorbar\":{\"outlinewidth\":0,\"ticks\":\"\"}},\"marker\":{\"colorbar\":{\"outlinewidth\":0,\"ticks\":\"\"}}}],\"scattermapbox\":[{\"type\":\"scattermapbox\",\"marker\":{\"colorbar\":{\"outlinewidth\":0,\"ticks\":\"\"}}}],\"scatterternary\":[{\"type\":\"scatterternary\",\"marker\":{\"colorbar\":{\"outlinewidth\":0,\"ticks\":\"\"}}}],\"scattercarpet\":[{\"type\":\"scattercarpet\",\"marker\":{\"colorbar\":{\"outlinewidth\":0,\"ticks\":\"\"}}}],\"carpet\":[{\"aaxis\":{\"endlinecolor\":\"#2a3f5f\",\"gridcolor\":\"white\",\"linecolor\":\"white\",\"minorgridcolor\":\"white\",\"startlinecolor\":\"#2a3f5f\"},\"baxis\":{\"endlinecolor\":\"#2a3f5f\",\"gridcolor\":\"white\",\"linecolor\":\"white\",\"minorgridcolor\":\"white\",\"startlinecolor\":\"#2a3f5f\"},\"type\":\"carpet\"}],\"table\":[{\"cells\":{\"fill\":{\"color\":\"#EBF0F8\"},\"line\":{\"color\":\"white\"}},\"header\":{\"fill\":{\"color\":\"#C8D4E3\"},\"line\":{\"color\":\"white\"}},\"type\":\"table\"}],\"barpolar\":[{\"marker\":{\"line\":{\"color\":\"#E5ECF6\",\"width\":0.5},\"pattern\":{\"fillmode\":\"overlay\",\"size\":10,\"solidity\":0.2}},\"type\":\"barpolar\"}],\"pie\":[{\"automargin\":true,\"type\":\"pie\"}]},\"layout\":{\"autotypenumbers\":\"strict\",\"colorway\":[\"#636efa\",\"#EF553B\",\"#00cc96\",\"#ab63fa\",\"#FFA15A\",\"#19d3f3\",\"#FF6692\",\"#B6E880\",\"#FF97FF\",\"#FECB52\"],\"font\":{\"color\":\"#2a3f5f\"},\"hovermode\":\"closest\",\"hoverlabel\":{\"align\":\"left\"},\"paper_bgcolor\":\"white\",\"plot_bgcolor\":\"#E5ECF6\",\"polar\":{\"bgcolor\":\"#E5ECF6\",\"angularaxis\":{\"gridcolor\":\"white\",\"linecolor\":\"white\",\"ticks\":\"\"},\"radialaxis\":{\"gridcolor\":\"white\",\"linecolor\":\"white\",\"ticks\":\"\"}},\"ternary\":{\"bgcolor\":\"#E5ECF6\",\"aaxis\":{\"gridcolor\":\"white\",\"linecolor\":\"white\",\"ticks\":\"\"},\"baxis\":{\"gridcolor\":\"white\",\"linecolor\":\"white\",\"ticks\":\"\"},\"caxis\":{\"gridcolor\":\"white\",\"linecolor\":\"white\",\"ticks\":\"\"}},\"coloraxis\":{\"colorbar\":{\"outlinewidth\":0,\"ticks\":\"\"}},\"colorscale\":{\"sequential\":[[0.0,\"#0d0887\"],[0.1111111111111111,\"#46039f\"],[0.2222222222222222,\"#7201a8\"],[0.3333333333333333,\"#9c179e\"],[0.4444444444444444,\"#bd3786\"],[0.5555555555555556,\"#d8576b\"],[0.6666666666666666,\"#ed7953\"],[0.7777777777777778,\"#fb9f3a\"],[0.8888888888888888,\"#fdca26\"],[1.0,\"#f0f921\"]],\"sequentialminus\":[[0.0,\"#0d0887\"],[0.1111111111111111,\"#46039f\"],[0.2222222222222222,\"#7201a8\"],[0.3333333333333333,\"#9c179e\"],[0.4444444444444444,\"#bd3786\"],[0.5555555555555556,\"#d8576b\"],[0.6666666666666666,\"#ed7953\"],[0.7777777777777778,\"#fb9f3a\"],[0.8888888888888888,\"#fdca26\"],[1.0,\"#f0f921\"]],\"diverging\":[[0,\"#8e0152\"],[0.1,\"#c51b7d\"],[0.2,\"#de77ae\"],[0.3,\"#f1b6da\"],[0.4,\"#fde0ef\"],[0.5,\"#f7f7f7\"],[0.6,\"#e6f5d0\"],[0.7,\"#b8e186\"],[0.8,\"#7fbc41\"],[0.9,\"#4d9221\"],[1,\"#276419\"]]},\"xaxis\":{\"gridcolor\":\"white\",\"linecolor\":\"white\",\"ticks\":\"\",\"title\":{\"standoff\":15},\"zerolinecolor\":\"white\",\"automargin\":true,\"zerolinewidth\":2},\"yaxis\":{\"gridcolor\":\"white\",\"linecolor\":\"white\",\"ticks\":\"\",\"title\":{\"standoff\":15},\"zerolinecolor\":\"white\",\"automargin\":true,\"zerolinewidth\":2},\"scene\":{\"xaxis\":{\"backgroundcolor\":\"#E5ECF6\",\"gridcolor\":\"white\",\"linecolor\":\"white\",\"showbackground\":true,\"ticks\":\"\",\"zerolinecolor\":\"white\",\"gridwidth\":2},\"yaxis\":{\"backgroundcolor\":\"#E5ECF6\",\"gridcolor\":\"white\",\"linecolor\":\"white\",\"showbackground\":true,\"ticks\":\"\",\"zerolinecolor\":\"white\",\"gridwidth\":2},\"zaxis\":{\"backgroundcolor\":\"#E5ECF6\",\"gridcolor\":\"white\",\"linecolor\":\"white\",\"showbackground\":true,\"ticks\":\"\",\"zerolinecolor\":\"white\",\"gridwidth\":2}},\"shapedefaults\":{\"line\":{\"color\":\"#2a3f5f\"}},\"annotationdefaults\":{\"arrowcolor\":\"#2a3f5f\",\"arrowhead\":0,\"arrowwidth\":1},\"geo\":{\"bgcolor\":\"white\",\"landcolor\":\"#E5ECF6\",\"subunitcolor\":\"white\",\"showland\":true,\"showlakes\":true,\"lakecolor\":\"white\"},\"title\":{\"x\":0.05},\"mapbox\":{\"style\":\"light\"}}},\"xaxis\":{\"anchor\":\"y\",\"domain\":[0.0,1.0],\"title\":{\"text\":\"population_number\"}},\"yaxis\":{\"anchor\":\"x\",\"domain\":[0.0,1.0],\"title\":{\"text\":\"agg_fitness\"}},\"coloraxis\":{\"colorbar\":{\"title\":{\"text\":\"cost\"}},\"colorscale\":[[0.0,\"#440154\"],[0.1111111111111111,\"#482878\"],[0.2222222222222222,\"#3e4989\"],[0.3333333333333333,\"#31688e\"],[0.4444444444444444,\"#26828e\"],[0.5555555555555556,\"#1f9e89\"],[0.6666666666666666,\"#35b779\"],[0.7777777777777778,\"#6ece58\"],[0.8888888888888888,\"#b5de2b\"],[1.0,\"#fde725\"]]},\"legend\":{\"tracegroupgap\":0},\"margin\":{\"t\":60}},                        {\"responsive\": true}                    ).then(function(){\n",
       "                            \n",
       "var gd = document.getElementById('9a389a88-e490-4d33-80c6-6ee20a11f0ca');\n",
       "var x = new MutationObserver(function (mutations, observer) {{\n",
       "        var display = window.getComputedStyle(gd).display;\n",
       "        if (!display || display === 'none') {{\n",
       "            console.log([gd, 'removed!']);\n",
       "            Plotly.purge(gd);\n",
       "            observer.disconnect();\n",
       "        }}\n",
       "}});\n",
       "\n",
       "// Listen for the removal of the full notebook cells\n",
       "var notebookContainer = gd.closest('#notebook-container');\n",
       "if (notebookContainer) {{\n",
       "    x.observe(notebookContainer, {childList: true});\n",
       "}}\n",
       "\n",
       "// Listen for the clearing of the current output cell\n",
       "var outputEl = gd.closest('.output');\n",
       "if (outputEl) {{\n",
       "    x.observe(outputEl, {childList: true});\n",
       "}}\n",
       "\n",
       "                        })                };                });            </script>        </div>"
      ]
     },
     "metadata": {},
     "output_type": "display_data"
    }
   ],
   "source": [
    "import plotly.express as px\n",
    "\n",
    "fig = px.scatter(df, x='population_number', y='agg_fitness', hover_data=['cost', 'Generation', 'population_number', 'agg_fitness'],\n",
    "              color=df['cost'], color_continuous_scale=px.colors.sequential.Viridis)\n",
    "fig.show()"
   ]
  },
  {
   "cell_type": "code",
   "execution_count": 613,
   "id": "1e98f139-3981-44d1-b684-742860f08e4d",
   "metadata": {},
   "outputs": [
    {
     "data": {
      "application/vnd.plotly.v1+json": {
       "config": {
        "plotlyServerURL": "https://plot.ly"
       },
       "data": [
        {
         "customdata": [
          [
           85000,
           0,
           56,
           118.22522890171592
          ],
          [
           85000,
           0,
           57,
           121.45768051220375
          ],
          [
           45000,
           0,
           58,
           -2.8446902799004192
          ],
          [
           85000,
           0,
           59,
           227.44825333026915
          ],
          [
           80000,
           0,
           60,
           155.72584784995433
          ],
          [
           75000,
           0,
           61,
           147.4368063886481
          ],
          [
           80000,
           0,
           62,
           108.1587653316808
          ],
          [
           85000,
           0,
           63,
           116.29060212322372
          ],
          [
           85000,
           0,
           64,
           117.82376832200174
          ],
          [
           85000,
           0,
           65,
           117.82376832200174
          ],
          [
           85000,
           0,
           67,
           119.06770222715232
          ],
          [
           80000,
           0,
           68,
           107.18697985301219
          ],
          [
           45000,
           0,
           69,
           -76.71399636808064
          ],
          [
           85000,
           0,
           71,
           217.35290031120888
          ],
          [
           85000,
           0,
           72,
           217.35290031120888
          ],
          [
           85000,
           0,
           76,
           218.01225653394016
          ],
          [
           85000,
           0,
           77,
           222.7269107494916
          ],
          [
           65000,
           0,
           81,
           68.70377621789885
          ],
          [
           65000,
           0,
           85,
           78.4000172274828
          ],
          [
           85000,
           0,
           86,
           190.25106311048785
          ],
          [
           60000,
           0,
           90,
           52.67210742604436
          ],
          [
           100000,
           0,
           92,
           192.83145004108093
          ],
          [
           95000,
           0,
           93,
           166.65902577838682
          ],
          [
           100000,
           0,
           96,
           190.56627050067277
          ],
          [
           100000,
           0,
           97,
           190.56627050067277
          ],
          [
           100000,
           0,
           98,
           200.99652341978174
          ],
          [
           80000,
           0,
           100,
           90.56003459142835
          ],
          [
           85000,
           0,
           102,
           121.77196482816493
          ],
          [
           80000,
           0,
           110,
           151.03466075497323
          ],
          [
           80000,
           0,
           111,
           151.03466075497323
          ],
          [
           90000,
           0,
           115,
           145.65505250681514
          ],
          [
           90000,
           0,
           116,
           138.80724125754318
          ],
          [
           90000,
           0,
           117,
           138.5979320665645
          ],
          [
           90000,
           0,
           118,
           146.49011741206175
          ],
          [
           90000,
           0,
           122,
           140.6544061753392
          ],
          [
           90000,
           0,
           124,
           139.16816574104917
          ],
          [
           90000,
           0,
           125,
           139.32759644914245
          ],
          [
           85000,
           0,
           126,
           121.49850011628126
          ],
          [
           85000,
           0,
           127,
           121.26514001294385
          ],
          [
           90000,
           0,
           128,
           141.25653859732876
          ],
          [
           90000,
           0,
           129,
           143.18421353846065
          ],
          [
           90000,
           0,
           130,
           142.3364879238262
          ],
          [
           90000,
           0,
           131,
           138.02460183872512
          ],
          [
           50000,
           0,
           139,
           5.777829157018175
          ],
          [
           70000,
           0,
           143,
           130.67181265515472
          ],
          [
           75000,
           0,
           146,
           164.17486404249462
          ],
          [
           65000,
           0,
           149,
           73.09069244175515
          ],
          [
           65000,
           0,
           150,
           73.09069244175515
          ],
          [
           65000,
           0,
           151,
           73.09069244175515
          ],
          [
           65000,
           0,
           153,
           97.14272408125055
          ],
          [
           65000,
           0,
           154,
           120.08973954801641
          ],
          [
           95000,
           0,
           202,
           174.86553485293456
          ],
          [
           95000,
           0,
           203,
           163.51376801626867
          ],
          [
           95000,
           0,
           204,
           170.711545072577
          ],
          [
           95000,
           0,
           205,
           170.0840676007668
          ],
          [
           95000,
           0,
           206,
           170.0840676007668
          ],
          [
           55000,
           0,
           207,
           -25.4802040643915
          ],
          [
           55000,
           0,
           208,
           -25.486028775622003
          ],
          [
           55000,
           0,
           209,
           -27.41860924526435
          ],
          [
           55000,
           0,
           210,
           -28.692021687625015
          ],
          [
           55000,
           0,
           212,
           -27.550976527820694
          ],
          [
           75000,
           0,
           213,
           69.02241813258615
          ],
          [
           55000,
           0,
           214,
           -22.750762388562634
          ],
          [
           95000,
           0,
           215,
           166.65142749405715
          ],
          [
           90000,
           0,
           216,
           146.30082689032332
          ],
          [
           55000,
           0,
           217,
           -22.750762388562634
          ],
          [
           75000,
           0,
           218,
           71.30082689032332
          ],
          [
           75000,
           0,
           219,
           67.49104736143926
          ],
          [
           75000,
           0,
           220,
           64.60598506945456
          ],
          [
           55000,
           0,
           221,
           -31.609445710194393
          ]
         ],
         "hovertemplate": "throughput=%{x}<br>wip=%{y}<br>cost=%{marker.color}<br>Generation=%{customdata[1]}<br>population_number=%{customdata[2]}<br>agg_fitness=%{customdata[3]}<extra></extra>",
         "legendgroup": "",
         "marker": {
          "color": [
           85000,
           85000,
           45000,
           85000,
           80000,
           75000,
           80000,
           85000,
           85000,
           85000,
           85000,
           80000,
           45000,
           85000,
           85000,
           85000,
           85000,
           65000,
           65000,
           85000,
           60000,
           100000,
           95000,
           100000,
           100000,
           100000,
           80000,
           85000,
           80000,
           80000,
           90000,
           90000,
           90000,
           90000,
           90000,
           90000,
           90000,
           85000,
           85000,
           90000,
           90000,
           90000,
           90000,
           50000,
           70000,
           75000,
           65000,
           65000,
           65000,
           65000,
           65000,
           95000,
           95000,
           95000,
           95000,
           95000,
           55000,
           55000,
           55000,
           55000,
           55000,
           75000,
           55000,
           95000,
           90000,
           55000,
           75000,
           75000,
           75000,
           55000
          ],
          "coloraxis": "coloraxis",
          "symbol": "circle"
         },
         "mode": "markers",
         "name": "",
         "orientation": "v",
         "showlegend": false,
         "type": "scatter",
         "x": [
          3378,
          3405,
          3330,
          3377,
          3346,
          3277,
          3279,
          3487,
          3449,
          3449,
          3401,
          3297,
          3381,
          3359,
          3359,
          3376,
          3384,
          3223,
          3229,
          3379,
          3280,
          3476,
          3499,
          3505,
          3505,
          3345,
          3520,
          3350,
          3351,
          3351,
          3396,
          3517,
          3517,
          3379,
          3451,
          3478,
          3453,
          3432,
          3396,
          3368,
          3352,
          3360,
          3406,
          3316,
          3363,
          3414,
          3351,
          3351,
          3351,
          3405,
          3386,
          3412,
          3569,
          3439,
          3463,
          3463,
          3397,
          3398,
          3396,
          3457,
          3420,
          3446,
          3423,
          3467,
          3391,
          3423,
          3391,
          3448,
          3543,
          3458
         ],
         "xaxis": "x",
         "y": [
          9.33586970571761,
          11.28778839013648,
          30.423882291380274,
          40.633671286715476,
          26.16659467750324,
          29.22956361401352,
          10.89279614276056,
          12.430141522384831,
          11.630618261455526,
          11.630618261455526,
          10.440420570725749,
          10.994080364613932,
          10.986362691788175,
          36.923424042907975,
          36.923424042907975,
          40.58074611168589,
          42.59803746503066,
          19.56648595367176,
          22.60289232146855,
          30.574813684039004,
          23.322772574394648,
          12.33926843106498,
          12.72292893535367,
          12.566256898317967,
          12.566256898317967,
          10.582348462563376,
          13.103989142951143,
          9.554665975730881,
          24.87414015194665,
          24.87414015194665,
          10.700884925515922,
          12.542923815158089,
          12.542923815158089,
          10.400089251999589,
          10.944057117448173,
          11.429686265048213,
          10.555329590910619,
          12.084816673625372,
          10.838465113077003,
          8.601428322591882,
          8.724379031271303,
          8.68923063518341,
          8.865333081389357,
          25.19889748532452,
          33.91625675071377,
          37.741568933620734,
          24.100023398299722,
          24.100023398299722,
          24.100023398299722,
          32.58709324582991,
          38.72445330413059,
          12.424409934694298,
          13.970984702067023,
          11.996291435586977,
          12.603630095315351,
          12.603630095315351,
          11.802633289705208,
          11.82271854069677,
          11.185379448829803,
          12.731374284935985,
          11.932168745061665,
          11.689321461676489,
          13.521056106742584,
          11.660943047742741,
          10.594640534212123,
          13.521056106742584,
          10.594640534212123,
          11.236669760945658,
          13.510239658650374,
          11.9040800681431
         ],
         "yaxis": "y"
        }
       ],
       "layout": {
        "autosize": true,
        "coloraxis": {
         "colorbar": {
          "title": {
           "text": "cost"
          }
         },
         "colorscale": [
          [
           0,
           "#440154"
          ],
          [
           0.1111111111111111,
           "#482878"
          ],
          [
           0.2222222222222222,
           "#3e4989"
          ],
          [
           0.3333333333333333,
           "#31688e"
          ],
          [
           0.4444444444444444,
           "#26828e"
          ],
          [
           0.5555555555555556,
           "#1f9e89"
          ],
          [
           0.6666666666666666,
           "#35b779"
          ],
          [
           0.7777777777777778,
           "#6ece58"
          ],
          [
           0.8888888888888888,
           "#b5de2b"
          ],
          [
           1,
           "#fde725"
          ]
         ]
        },
        "legend": {
         "tracegroupgap": 0
        },
        "margin": {
         "t": 60
        },
        "template": {
         "data": {
          "bar": [
           {
            "error_x": {
             "color": "#2a3f5f"
            },
            "error_y": {
             "color": "#2a3f5f"
            },
            "marker": {
             "line": {
              "color": "#E5ECF6",
              "width": 0.5
             },
             "pattern": {
              "fillmode": "overlay",
              "size": 10,
              "solidity": 0.2
             }
            },
            "type": "bar"
           }
          ],
          "barpolar": [
           {
            "marker": {
             "line": {
              "color": "#E5ECF6",
              "width": 0.5
             },
             "pattern": {
              "fillmode": "overlay",
              "size": 10,
              "solidity": 0.2
             }
            },
            "type": "barpolar"
           }
          ],
          "carpet": [
           {
            "aaxis": {
             "endlinecolor": "#2a3f5f",
             "gridcolor": "white",
             "linecolor": "white",
             "minorgridcolor": "white",
             "startlinecolor": "#2a3f5f"
            },
            "baxis": {
             "endlinecolor": "#2a3f5f",
             "gridcolor": "white",
             "linecolor": "white",
             "minorgridcolor": "white",
             "startlinecolor": "#2a3f5f"
            },
            "type": "carpet"
           }
          ],
          "choropleth": [
           {
            "colorbar": {
             "outlinewidth": 0,
             "ticks": ""
            },
            "type": "choropleth"
           }
          ],
          "contour": [
           {
            "colorbar": {
             "outlinewidth": 0,
             "ticks": ""
            },
            "colorscale": [
             [
              0,
              "#0d0887"
             ],
             [
              0.1111111111111111,
              "#46039f"
             ],
             [
              0.2222222222222222,
              "#7201a8"
             ],
             [
              0.3333333333333333,
              "#9c179e"
             ],
             [
              0.4444444444444444,
              "#bd3786"
             ],
             [
              0.5555555555555556,
              "#d8576b"
             ],
             [
              0.6666666666666666,
              "#ed7953"
             ],
             [
              0.7777777777777778,
              "#fb9f3a"
             ],
             [
              0.8888888888888888,
              "#fdca26"
             ],
             [
              1,
              "#f0f921"
             ]
            ],
            "type": "contour"
           }
          ],
          "contourcarpet": [
           {
            "colorbar": {
             "outlinewidth": 0,
             "ticks": ""
            },
            "type": "contourcarpet"
           }
          ],
          "heatmap": [
           {
            "colorbar": {
             "outlinewidth": 0,
             "ticks": ""
            },
            "colorscale": [
             [
              0,
              "#0d0887"
             ],
             [
              0.1111111111111111,
              "#46039f"
             ],
             [
              0.2222222222222222,
              "#7201a8"
             ],
             [
              0.3333333333333333,
              "#9c179e"
             ],
             [
              0.4444444444444444,
              "#bd3786"
             ],
             [
              0.5555555555555556,
              "#d8576b"
             ],
             [
              0.6666666666666666,
              "#ed7953"
             ],
             [
              0.7777777777777778,
              "#fb9f3a"
             ],
             [
              0.8888888888888888,
              "#fdca26"
             ],
             [
              1,
              "#f0f921"
             ]
            ],
            "type": "heatmap"
           }
          ],
          "heatmapgl": [
           {
            "colorbar": {
             "outlinewidth": 0,
             "ticks": ""
            },
            "colorscale": [
             [
              0,
              "#0d0887"
             ],
             [
              0.1111111111111111,
              "#46039f"
             ],
             [
              0.2222222222222222,
              "#7201a8"
             ],
             [
              0.3333333333333333,
              "#9c179e"
             ],
             [
              0.4444444444444444,
              "#bd3786"
             ],
             [
              0.5555555555555556,
              "#d8576b"
             ],
             [
              0.6666666666666666,
              "#ed7953"
             ],
             [
              0.7777777777777778,
              "#fb9f3a"
             ],
             [
              0.8888888888888888,
              "#fdca26"
             ],
             [
              1,
              "#f0f921"
             ]
            ],
            "type": "heatmapgl"
           }
          ],
          "histogram": [
           {
            "marker": {
             "pattern": {
              "fillmode": "overlay",
              "size": 10,
              "solidity": 0.2
             }
            },
            "type": "histogram"
           }
          ],
          "histogram2d": [
           {
            "colorbar": {
             "outlinewidth": 0,
             "ticks": ""
            },
            "colorscale": [
             [
              0,
              "#0d0887"
             ],
             [
              0.1111111111111111,
              "#46039f"
             ],
             [
              0.2222222222222222,
              "#7201a8"
             ],
             [
              0.3333333333333333,
              "#9c179e"
             ],
             [
              0.4444444444444444,
              "#bd3786"
             ],
             [
              0.5555555555555556,
              "#d8576b"
             ],
             [
              0.6666666666666666,
              "#ed7953"
             ],
             [
              0.7777777777777778,
              "#fb9f3a"
             ],
             [
              0.8888888888888888,
              "#fdca26"
             ],
             [
              1,
              "#f0f921"
             ]
            ],
            "type": "histogram2d"
           }
          ],
          "histogram2dcontour": [
           {
            "colorbar": {
             "outlinewidth": 0,
             "ticks": ""
            },
            "colorscale": [
             [
              0,
              "#0d0887"
             ],
             [
              0.1111111111111111,
              "#46039f"
             ],
             [
              0.2222222222222222,
              "#7201a8"
             ],
             [
              0.3333333333333333,
              "#9c179e"
             ],
             [
              0.4444444444444444,
              "#bd3786"
             ],
             [
              0.5555555555555556,
              "#d8576b"
             ],
             [
              0.6666666666666666,
              "#ed7953"
             ],
             [
              0.7777777777777778,
              "#fb9f3a"
             ],
             [
              0.8888888888888888,
              "#fdca26"
             ],
             [
              1,
              "#f0f921"
             ]
            ],
            "type": "histogram2dcontour"
           }
          ],
          "mesh3d": [
           {
            "colorbar": {
             "outlinewidth": 0,
             "ticks": ""
            },
            "type": "mesh3d"
           }
          ],
          "parcoords": [
           {
            "line": {
             "colorbar": {
              "outlinewidth": 0,
              "ticks": ""
             }
            },
            "type": "parcoords"
           }
          ],
          "pie": [
           {
            "automargin": true,
            "type": "pie"
           }
          ],
          "scatter": [
           {
            "fillpattern": {
             "fillmode": "overlay",
             "size": 10,
             "solidity": 0.2
            },
            "type": "scatter"
           }
          ],
          "scatter3d": [
           {
            "line": {
             "colorbar": {
              "outlinewidth": 0,
              "ticks": ""
             }
            },
            "marker": {
             "colorbar": {
              "outlinewidth": 0,
              "ticks": ""
             }
            },
            "type": "scatter3d"
           }
          ],
          "scattercarpet": [
           {
            "marker": {
             "colorbar": {
              "outlinewidth": 0,
              "ticks": ""
             }
            },
            "type": "scattercarpet"
           }
          ],
          "scattergeo": [
           {
            "marker": {
             "colorbar": {
              "outlinewidth": 0,
              "ticks": ""
             }
            },
            "type": "scattergeo"
           }
          ],
          "scattergl": [
           {
            "marker": {
             "colorbar": {
              "outlinewidth": 0,
              "ticks": ""
             }
            },
            "type": "scattergl"
           }
          ],
          "scattermapbox": [
           {
            "marker": {
             "colorbar": {
              "outlinewidth": 0,
              "ticks": ""
             }
            },
            "type": "scattermapbox"
           }
          ],
          "scatterpolar": [
           {
            "marker": {
             "colorbar": {
              "outlinewidth": 0,
              "ticks": ""
             }
            },
            "type": "scatterpolar"
           }
          ],
          "scatterpolargl": [
           {
            "marker": {
             "colorbar": {
              "outlinewidth": 0,
              "ticks": ""
             }
            },
            "type": "scatterpolargl"
           }
          ],
          "scatterternary": [
           {
            "marker": {
             "colorbar": {
              "outlinewidth": 0,
              "ticks": ""
             }
            },
            "type": "scatterternary"
           }
          ],
          "surface": [
           {
            "colorbar": {
             "outlinewidth": 0,
             "ticks": ""
            },
            "colorscale": [
             [
              0,
              "#0d0887"
             ],
             [
              0.1111111111111111,
              "#46039f"
             ],
             [
              0.2222222222222222,
              "#7201a8"
             ],
             [
              0.3333333333333333,
              "#9c179e"
             ],
             [
              0.4444444444444444,
              "#bd3786"
             ],
             [
              0.5555555555555556,
              "#d8576b"
             ],
             [
              0.6666666666666666,
              "#ed7953"
             ],
             [
              0.7777777777777778,
              "#fb9f3a"
             ],
             [
              0.8888888888888888,
              "#fdca26"
             ],
             [
              1,
              "#f0f921"
             ]
            ],
            "type": "surface"
           }
          ],
          "table": [
           {
            "cells": {
             "fill": {
              "color": "#EBF0F8"
             },
             "line": {
              "color": "white"
             }
            },
            "header": {
             "fill": {
              "color": "#C8D4E3"
             },
             "line": {
              "color": "white"
             }
            },
            "type": "table"
           }
          ]
         },
         "layout": {
          "annotationdefaults": {
           "arrowcolor": "#2a3f5f",
           "arrowhead": 0,
           "arrowwidth": 1
          },
          "autotypenumbers": "strict",
          "coloraxis": {
           "colorbar": {
            "outlinewidth": 0,
            "ticks": ""
           }
          },
          "colorscale": {
           "diverging": [
            [
             0,
             "#8e0152"
            ],
            [
             0.1,
             "#c51b7d"
            ],
            [
             0.2,
             "#de77ae"
            ],
            [
             0.3,
             "#f1b6da"
            ],
            [
             0.4,
             "#fde0ef"
            ],
            [
             0.5,
             "#f7f7f7"
            ],
            [
             0.6,
             "#e6f5d0"
            ],
            [
             0.7,
             "#b8e186"
            ],
            [
             0.8,
             "#7fbc41"
            ],
            [
             0.9,
             "#4d9221"
            ],
            [
             1,
             "#276419"
            ]
           ],
           "sequential": [
            [
             0,
             "#0d0887"
            ],
            [
             0.1111111111111111,
             "#46039f"
            ],
            [
             0.2222222222222222,
             "#7201a8"
            ],
            [
             0.3333333333333333,
             "#9c179e"
            ],
            [
             0.4444444444444444,
             "#bd3786"
            ],
            [
             0.5555555555555556,
             "#d8576b"
            ],
            [
             0.6666666666666666,
             "#ed7953"
            ],
            [
             0.7777777777777778,
             "#fb9f3a"
            ],
            [
             0.8888888888888888,
             "#fdca26"
            ],
            [
             1,
             "#f0f921"
            ]
           ],
           "sequentialminus": [
            [
             0,
             "#0d0887"
            ],
            [
             0.1111111111111111,
             "#46039f"
            ],
            [
             0.2222222222222222,
             "#7201a8"
            ],
            [
             0.3333333333333333,
             "#9c179e"
            ],
            [
             0.4444444444444444,
             "#bd3786"
            ],
            [
             0.5555555555555556,
             "#d8576b"
            ],
            [
             0.6666666666666666,
             "#ed7953"
            ],
            [
             0.7777777777777778,
             "#fb9f3a"
            ],
            [
             0.8888888888888888,
             "#fdca26"
            ],
            [
             1,
             "#f0f921"
            ]
           ]
          },
          "colorway": [
           "#636efa",
           "#EF553B",
           "#00cc96",
           "#ab63fa",
           "#FFA15A",
           "#19d3f3",
           "#FF6692",
           "#B6E880",
           "#FF97FF",
           "#FECB52"
          ],
          "font": {
           "color": "#2a3f5f"
          },
          "geo": {
           "bgcolor": "white",
           "lakecolor": "white",
           "landcolor": "#E5ECF6",
           "showlakes": true,
           "showland": true,
           "subunitcolor": "white"
          },
          "hoverlabel": {
           "align": "left"
          },
          "hovermode": "closest",
          "mapbox": {
           "style": "light"
          },
          "paper_bgcolor": "white",
          "plot_bgcolor": "#E5ECF6",
          "polar": {
           "angularaxis": {
            "gridcolor": "white",
            "linecolor": "white",
            "ticks": ""
           },
           "bgcolor": "#E5ECF6",
           "radialaxis": {
            "gridcolor": "white",
            "linecolor": "white",
            "ticks": ""
           }
          },
          "scene": {
           "xaxis": {
            "backgroundcolor": "#E5ECF6",
            "gridcolor": "white",
            "gridwidth": 2,
            "linecolor": "white",
            "showbackground": true,
            "ticks": "",
            "zerolinecolor": "white"
           },
           "yaxis": {
            "backgroundcolor": "#E5ECF6",
            "gridcolor": "white",
            "gridwidth": 2,
            "linecolor": "white",
            "showbackground": true,
            "ticks": "",
            "zerolinecolor": "white"
           },
           "zaxis": {
            "backgroundcolor": "#E5ECF6",
            "gridcolor": "white",
            "gridwidth": 2,
            "linecolor": "white",
            "showbackground": true,
            "ticks": "",
            "zerolinecolor": "white"
           }
          },
          "shapedefaults": {
           "line": {
            "color": "#2a3f5f"
           }
          },
          "ternary": {
           "aaxis": {
            "gridcolor": "white",
            "linecolor": "white",
            "ticks": ""
           },
           "baxis": {
            "gridcolor": "white",
            "linecolor": "white",
            "ticks": ""
           },
           "bgcolor": "#E5ECF6",
           "caxis": {
            "gridcolor": "white",
            "linecolor": "white",
            "ticks": ""
           }
          },
          "title": {
           "x": 0.05
          },
          "xaxis": {
           "automargin": true,
           "gridcolor": "white",
           "linecolor": "white",
           "ticks": "",
           "title": {
            "standoff": 15
           },
           "zerolinecolor": "white",
           "zerolinewidth": 2
          },
          "yaxis": {
           "automargin": true,
           "gridcolor": "white",
           "linecolor": "white",
           "ticks": "",
           "title": {
            "standoff": 15
           },
           "zerolinecolor": "white",
           "zerolinewidth": 2
          }
         }
        },
        "xaxis": {
         "anchor": "y",
         "autorange": true,
         "domain": [
          0,
          1
         ],
         "range": [
          3202.5111579687227,
          3589.4888420312773
         ],
         "title": {
          "text": "throughput"
         },
         "type": "linear"
        },
        "yaxis": {
         "anchor": "x",
         "autorange": true,
         "domain": [
          0,
          1
         ],
         "range": [
          5.96914493754741,
          45.23032085007513
         ],
         "title": {
          "text": "wip"
         },
         "type": "linear"
        }
       }
      },
      "image/png": "[encoded data removed]",
      "text/html": [
       "<div>                            <div id=\"ff656612-1b97-41b7-bc32-7ffc386d6dd8\" class=\"plotly-graph-div\" style=\"height:525px; width:100%;\"></div>            <script type=\"text/javascript\">                require([\"plotly\"], function(Plotly) {                    window.PLOTLYENV=window.PLOTLYENV || {};                                    if (document.getElementById(\"ff656612-1b97-41b7-bc32-7ffc386d6dd8\")) {                    Plotly.newPlot(                        \"ff656612-1b97-41b7-bc32-7ffc386d6dd8\",                        [{\"customdata\":[[85000.0,0.0,56.0,118.22522890171592],[85000.0,0.0,57.0,121.45768051220375],[45000.0,0.0,58.0,-2.8446902799004192],[85000.0,0.0,59.0,227.44825333026915],[80000.0,0.0,60.0,155.72584784995433],[75000.0,0.0,61.0,147.4368063886481],[80000.0,0.0,62.0,108.1587653316808],[85000.0,0.0,63.0,116.29060212322372],[85000.0,0.0,64.0,117.82376832200174],[85000.0,0.0,65.0,117.82376832200174],[85000.0,0.0,67.0,119.06770222715232],[80000.0,0.0,68.0,107.18697985301219],[45000.0,0.0,69.0,-76.71399636808064],[85000.0,0.0,71.0,217.35290031120888],[85000.0,0.0,72.0,217.35290031120888],[85000.0,0.0,76.0,218.01225653394016],[85000.0,0.0,77.0,222.7269107494916],[65000.0,0.0,81.0,68.70377621789885],[65000.0,0.0,85.0,78.4000172274828],[85000.0,0.0,86.0,190.25106311048785],[60000.0,0.0,90.0,52.67210742604436],[100000.0,0.0,92.0,192.83145004108093],[95000.0,0.0,93.0,166.65902577838682],[100000.0,0.0,96.0,190.56627050067277],[100000.0,0.0,97.0,190.56627050067277],[100000.0,0.0,98.0,200.99652341978174],[80000.0,0.0,100.0,90.56003459142835],[85000.0,0.0,102.0,121.77196482816493],[80000.0,0.0,110.0,151.03466075497323],[80000.0,0.0,111.0,151.03466075497323],[90000.0,0.0,115.0,145.65505250681514],[90000.0,0.0,116.0,138.80724125754318],[90000.0,0.0,117.0,138.5979320665645],[90000.0,0.0,118.0,146.49011741206175],[90000.0,0.0,122.0,140.6544061753392],[90000.0,0.0,124.0,139.16816574104917],[90000.0,0.0,125.0,139.32759644914245],[85000.0,0.0,126.0,121.49850011628126],[85000.0,0.0,127.0,121.26514001294385],[90000.0,0.0,128.0,141.25653859732876],[90000.0,0.0,129.0,143.18421353846065],[90000.0,0.0,130.0,142.3364879238262],[90000.0,0.0,131.0,138.02460183872512],[50000.0,0.0,139.0,5.777829157018175],[70000.0,0.0,143.0,130.67181265515472],[75000.0,0.0,146.0,164.17486404249462],[65000.0,0.0,149.0,73.09069244175515],[65000.0,0.0,150.0,73.09069244175515],[65000.0,0.0,151.0,73.09069244175515],[65000.0,0.0,153.0,97.14272408125055],[65000.0,0.0,154.0,120.08973954801641],[95000.0,0.0,202.0,174.86553485293456],[95000.0,0.0,203.0,163.51376801626867],[95000.0,0.0,204.0,170.711545072577],[95000.0,0.0,205.0,170.0840676007668],[95000.0,0.0,206.0,170.0840676007668],[55000.0,0.0,207.0,-25.4802040643915],[55000.0,0.0,208.0,-25.486028775622003],[55000.0,0.0,209.0,-27.41860924526435],[55000.0,0.0,210.0,-28.692021687625015],[55000.0,0.0,212.0,-27.550976527820694],[75000.0,0.0,213.0,69.02241813258615],[55000.0,0.0,214.0,-22.750762388562634],[95000.0,0.0,215.0,166.65142749405715],[90000.0,0.0,216.0,146.30082689032332],[55000.0,0.0,217.0,-22.750762388562634],[75000.0,0.0,218.0,71.30082689032332],[75000.0,0.0,219.0,67.49104736143926],[75000.0,0.0,220.0,64.60598506945456],[55000.0,0.0,221.0,-31.609445710194393]],\"hovertemplate\":\"throughput=%{x}<br>wip=%{y}<br>cost=%{marker.color}<br>Generation=%{customdata[1]}<br>population_number=%{customdata[2]}<br>agg_fitness=%{customdata[3]}<extra></extra>\",\"legendgroup\":\"\",\"marker\":{\"color\":[85000.0,85000.0,45000.0,85000.0,80000.0,75000.0,80000.0,85000.0,85000.0,85000.0,85000.0,80000.0,45000.0,85000.0,85000.0,85000.0,85000.0,65000.0,65000.0,85000.0,60000.0,100000.0,95000.0,100000.0,100000.0,100000.0,80000.0,85000.0,80000.0,80000.0,90000.0,90000.0,90000.0,90000.0,90000.0,90000.0,90000.0,85000.0,85000.0,90000.0,90000.0,90000.0,90000.0,50000.0,70000.0,75000.0,65000.0,65000.0,65000.0,65000.0,65000.0,95000.0,95000.0,95000.0,95000.0,95000.0,55000.0,55000.0,55000.0,55000.0,55000.0,75000.0,55000.0,95000.0,90000.0,55000.0,75000.0,75000.0,75000.0,55000.0],\"coloraxis\":\"coloraxis\",\"symbol\":\"circle\"},\"mode\":\"markers\",\"name\":\"\",\"orientation\":\"v\",\"showlegend\":false,\"x\":[3378.0,3405.0,3330.0,3377.0,3346.0,3277.0,3279.0,3487.0,3449.0,3449.0,3401.0,3297.0,3381.0,3359.0,3359.0,3376.0,3384.0,3223.0,3229.0,3379.0,3280.0,3476.0,3499.0,3505.0,3505.0,3345.0,3520.0,3350.0,3351.0,3351.0,3396.0,3517.0,3517.0,3379.0,3451.0,3478.0,3453.0,3432.0,3396.0,3368.0,3352.0,3360.0,3406.0,3316.0,3363.0,3414.0,3351.0,3351.0,3351.0,3405.0,3386.0,3412.0,3569.0,3439.0,3463.0,3463.0,3397.0,3398.0,3396.0,3457.0,3420.0,3446.0,3423.0,3467.0,3391.0,3423.0,3391.0,3448.0,3543.0,3458.0],\"xaxis\":\"x\",\"y\":[9.33586970571761,11.28778839013648,30.423882291380274,40.633671286715476,26.16659467750324,29.22956361401352,10.89279614276056,12.430141522384831,11.630618261455526,11.630618261455526,10.440420570725749,10.994080364613932,10.986362691788175,36.923424042907975,36.923424042907975,40.58074611168589,42.59803746503066,19.56648595367176,22.60289232146855,30.574813684039004,23.322772574394648,12.33926843106498,12.72292893535367,12.566256898317967,12.566256898317967,10.582348462563376,13.103989142951143,9.554665975730881,24.87414015194665,24.87414015194665,10.700884925515922,12.542923815158089,12.542923815158089,10.400089251999589,10.944057117448173,11.429686265048213,10.555329590910619,12.084816673625372,10.838465113077003,8.601428322591882,8.724379031271303,8.68923063518341,8.865333081389357,25.19889748532452,33.91625675071377,37.741568933620734,24.100023398299722,24.100023398299722,24.100023398299722,32.58709324582991,38.72445330413059,12.424409934694298,13.970984702067023,11.996291435586977,12.603630095315351,12.603630095315351,11.802633289705208,11.82271854069677,11.185379448829803,12.731374284935985,11.932168745061665,11.689321461676489,13.521056106742584,11.660943047742741,10.594640534212123,13.521056106742584,10.594640534212123,11.236669760945658,13.510239658650374,11.9040800681431],\"yaxis\":\"y\",\"type\":\"scatter\"}],                        {\"template\":{\"data\":{\"histogram2dcontour\":[{\"type\":\"histogram2dcontour\",\"colorbar\":{\"outlinewidth\":0,\"ticks\":\"\"},\"colorscale\":[[0.0,\"#0d0887\"],[0.1111111111111111,\"#46039f\"],[0.2222222222222222,\"#7201a8\"],[0.3333333333333333,\"#9c179e\"],[0.4444444444444444,\"#bd3786\"],[0.5555555555555556,\"#d8576b\"],[0.6666666666666666,\"#ed7953\"],[0.7777777777777778,\"#fb9f3a\"],[0.8888888888888888,\"#fdca26\"],[1.0,\"#f0f921\"]]}],\"choropleth\":[{\"type\":\"choropleth\",\"colorbar\":{\"outlinewidth\":0,\"ticks\":\"\"}}],\"histogram2d\":[{\"type\":\"histogram2d\",\"colorbar\":{\"outlinewidth\":0,\"ticks\":\"\"},\"colorscale\":[[0.0,\"#0d0887\"],[0.1111111111111111,\"#46039f\"],[0.2222222222222222,\"#7201a8\"],[0.3333333333333333,\"#9c179e\"],[0.4444444444444444,\"#bd3786\"],[0.5555555555555556,\"#d8576b\"],[0.6666666666666666,\"#ed7953\"],[0.7777777777777778,\"#fb9f3a\"],[0.8888888888888888,\"#fdca26\"],[1.0,\"#f0f921\"]]}],\"heatmap\":[{\"type\":\"heatmap\",\"colorbar\":{\"outlinewidth\":0,\"ticks\":\"\"},\"colorscale\":[[0.0,\"#0d0887\"],[0.1111111111111111,\"#46039f\"],[0.2222222222222222,\"#7201a8\"],[0.3333333333333333,\"#9c179e\"],[0.4444444444444444,\"#bd3786\"],[0.5555555555555556,\"#d8576b\"],[0.6666666666666666,\"#ed7953\"],[0.7777777777777778,\"#fb9f3a\"],[0.8888888888888888,\"#fdca26\"],[1.0,\"#f0f921\"]]}],\"heatmapgl\":[{\"type\":\"heatmapgl\",\"colorbar\":{\"outlinewidth\":0,\"ticks\":\"\"},\"colorscale\":[[0.0,\"#0d0887\"],[0.1111111111111111,\"#46039f\"],[0.2222222222222222,\"#7201a8\"],[0.3333333333333333,\"#9c179e\"],[0.4444444444444444,\"#bd3786\"],[0.5555555555555556,\"#d8576b\"],[0.6666666666666666,\"#ed7953\"],[0.7777777777777778,\"#fb9f3a\"],[0.8888888888888888,\"#fdca26\"],[1.0,\"#f0f921\"]]}],\"contourcarpet\":[{\"type\":\"contourcarpet\",\"colorbar\":{\"outlinewidth\":0,\"ticks\":\"\"}}],\"contour\":[{\"type\":\"contour\",\"colorbar\":{\"outlinewidth\":0,\"ticks\":\"\"},\"colorscale\":[[0.0,\"#0d0887\"],[0.1111111111111111,\"#46039f\"],[0.2222222222222222,\"#7201a8\"],[0.3333333333333333,\"#9c179e\"],[0.4444444444444444,\"#bd3786\"],[0.5555555555555556,\"#d8576b\"],[0.6666666666666666,\"#ed7953\"],[0.7777777777777778,\"#fb9f3a\"],[0.8888888888888888,\"#fdca26\"],[1.0,\"#f0f921\"]]}],\"surface\":[{\"type\":\"surface\",\"colorbar\":{\"outlinewidth\":0,\"ticks\":\"\"},\"colorscale\":[[0.0,\"#0d0887\"],[0.1111111111111111,\"#46039f\"],[0.2222222222222222,\"#7201a8\"],[0.3333333333333333,\"#9c179e\"],[0.4444444444444444,\"#bd3786\"],[0.5555555555555556,\"#d8576b\"],[0.6666666666666666,\"#ed7953\"],[0.7777777777777778,\"#fb9f3a\"],[0.8888888888888888,\"#fdca26\"],[1.0,\"#f0f921\"]]}],\"mesh3d\":[{\"type\":\"mesh3d\",\"colorbar\":{\"outlinewidth\":0,\"ticks\":\"\"}}],\"scatter\":[{\"fillpattern\":{\"fillmode\":\"overlay\",\"size\":10,\"solidity\":0.2},\"type\":\"scatter\"}],\"parcoords\":[{\"type\":\"parcoords\",\"line\":{\"colorbar\":{\"outlinewidth\":0,\"ticks\":\"\"}}}],\"scatterpolargl\":[{\"type\":\"scatterpolargl\",\"marker\":{\"colorbar\":{\"outlinewidth\":0,\"ticks\":\"\"}}}],\"bar\":[{\"error_x\":{\"color\":\"#2a3f5f\"},\"error_y\":{\"color\":\"#2a3f5f\"},\"marker\":{\"line\":{\"color\":\"#E5ECF6\",\"width\":0.5},\"pattern\":{\"fillmode\":\"overlay\",\"size\":10,\"solidity\":0.2}},\"type\":\"bar\"}],\"scattergeo\":[{\"type\":\"scattergeo\",\"marker\":{\"colorbar\":{\"outlinewidth\":0,\"ticks\":\"\"}}}],\"scatterpolar\":[{\"type\":\"scatterpolar\",\"marker\":{\"colorbar\":{\"outlinewidth\":0,\"ticks\":\"\"}}}],\"histogram\":[{\"marker\":{\"pattern\":{\"fillmode\":\"overlay\",\"size\":10,\"solidity\":0.2}},\"type\":\"histogram\"}],\"scattergl\":[{\"type\":\"scattergl\",\"marker\":{\"colorbar\":{\"outlinewidth\":0,\"ticks\":\"\"}}}],\"scatter3d\":[{\"type\":\"scatter3d\",\"line\":{\"colorbar\":{\"outlinewidth\":0,\"ticks\":\"\"}},\"marker\":{\"colorbar\":{\"outlinewidth\":0,\"ticks\":\"\"}}}],\"scattermapbox\":[{\"type\":\"scattermapbox\",\"marker\":{\"colorbar\":{\"outlinewidth\":0,\"ticks\":\"\"}}}],\"scatterternary\":[{\"type\":\"scatterternary\",\"marker\":{\"colorbar\":{\"outlinewidth\":0,\"ticks\":\"\"}}}],\"scattercarpet\":[{\"type\":\"scattercarpet\",\"marker\":{\"colorbar\":{\"outlinewidth\":0,\"ticks\":\"\"}}}],\"carpet\":[{\"aaxis\":{\"endlinecolor\":\"#2a3f5f\",\"gridcolor\":\"white\",\"linecolor\":\"white\",\"minorgridcolor\":\"white\",\"startlinecolor\":\"#2a3f5f\"},\"baxis\":{\"endlinecolor\":\"#2a3f5f\",\"gridcolor\":\"white\",\"linecolor\":\"white\",\"minorgridcolor\":\"white\",\"startlinecolor\":\"#2a3f5f\"},\"type\":\"carpet\"}],\"table\":[{\"cells\":{\"fill\":{\"color\":\"#EBF0F8\"},\"line\":{\"color\":\"white\"}},\"header\":{\"fill\":{\"color\":\"#C8D4E3\"},\"line\":{\"color\":\"white\"}},\"type\":\"table\"}],\"barpolar\":[{\"marker\":{\"line\":{\"color\":\"#E5ECF6\",\"width\":0.5},\"pattern\":{\"fillmode\":\"overlay\",\"size\":10,\"solidity\":0.2}},\"type\":\"barpolar\"}],\"pie\":[{\"automargin\":true,\"type\":\"pie\"}]},\"layout\":{\"autotypenumbers\":\"strict\",\"colorway\":[\"#636efa\",\"#EF553B\",\"#00cc96\",\"#ab63fa\",\"#FFA15A\",\"#19d3f3\",\"#FF6692\",\"#B6E880\",\"#FF97FF\",\"#FECB52\"],\"font\":{\"color\":\"#2a3f5f\"},\"hovermode\":\"closest\",\"hoverlabel\":{\"align\":\"left\"},\"paper_bgcolor\":\"white\",\"plot_bgcolor\":\"#E5ECF6\",\"polar\":{\"bgcolor\":\"#E5ECF6\",\"angularaxis\":{\"gridcolor\":\"white\",\"linecolor\":\"white\",\"ticks\":\"\"},\"radialaxis\":{\"gridcolor\":\"white\",\"linecolor\":\"white\",\"ticks\":\"\"}},\"ternary\":{\"bgcolor\":\"#E5ECF6\",\"aaxis\":{\"gridcolor\":\"white\",\"linecolor\":\"white\",\"ticks\":\"\"},\"baxis\":{\"gridcolor\":\"white\",\"linecolor\":\"white\",\"ticks\":\"\"},\"caxis\":{\"gridcolor\":\"white\",\"linecolor\":\"white\",\"ticks\":\"\"}},\"coloraxis\":{\"colorbar\":{\"outlinewidth\":0,\"ticks\":\"\"}},\"colorscale\":{\"sequential\":[[0.0,\"#0d0887\"],[0.1111111111111111,\"#46039f\"],[0.2222222222222222,\"#7201a8\"],[0.3333333333333333,\"#9c179e\"],[0.4444444444444444,\"#bd3786\"],[0.5555555555555556,\"#d8576b\"],[0.6666666666666666,\"#ed7953\"],[0.7777777777777778,\"#fb9f3a\"],[0.8888888888888888,\"#fdca26\"],[1.0,\"#f0f921\"]],\"sequentialminus\":[[0.0,\"#0d0887\"],[0.1111111111111111,\"#46039f\"],[0.2222222222222222,\"#7201a8\"],[0.3333333333333333,\"#9c179e\"],[0.4444444444444444,\"#bd3786\"],[0.5555555555555556,\"#d8576b\"],[0.6666666666666666,\"#ed7953\"],[0.7777777777777778,\"#fb9f3a\"],[0.8888888888888888,\"#fdca26\"],[1.0,\"#f0f921\"]],\"diverging\":[[0,\"#8e0152\"],[0.1,\"#c51b7d\"],[0.2,\"#de77ae\"],[0.3,\"#f1b6da\"],[0.4,\"#fde0ef\"],[0.5,\"#f7f7f7\"],[0.6,\"#e6f5d0\"],[0.7,\"#b8e186\"],[0.8,\"#7fbc41\"],[0.9,\"#4d9221\"],[1,\"#276419\"]]},\"xaxis\":{\"gridcolor\":\"white\",\"linecolor\":\"white\",\"ticks\":\"\",\"title\":{\"standoff\":15},\"zerolinecolor\":\"white\",\"automargin\":true,\"zerolinewidth\":2},\"yaxis\":{\"gridcolor\":\"white\",\"linecolor\":\"white\",\"ticks\":\"\",\"title\":{\"standoff\":15},\"zerolinecolor\":\"white\",\"automargin\":true,\"zerolinewidth\":2},\"scene\":{\"xaxis\":{\"backgroundcolor\":\"#E5ECF6\",\"gridcolor\":\"white\",\"linecolor\":\"white\",\"showbackground\":true,\"ticks\":\"\",\"zerolinecolor\":\"white\",\"gridwidth\":2},\"yaxis\":{\"backgroundcolor\":\"#E5ECF6\",\"gridcolor\":\"white\",\"linecolor\":\"white\",\"showbackground\":true,\"ticks\":\"\",\"zerolinecolor\":\"white\",\"gridwidth\":2},\"zaxis\":{\"backgroundcolor\":\"#E5ECF6\",\"gridcolor\":\"white\",\"linecolor\":\"white\",\"showbackground\":true,\"ticks\":\"\",\"zerolinecolor\":\"white\",\"gridwidth\":2}},\"shapedefaults\":{\"line\":{\"color\":\"#2a3f5f\"}},\"annotationdefaults\":{\"arrowcolor\":\"#2a3f5f\",\"arrowhead\":0,\"arrowwidth\":1},\"geo\":{\"bgcolor\":\"white\",\"landcolor\":\"#E5ECF6\",\"subunitcolor\":\"white\",\"showland\":true,\"showlakes\":true,\"lakecolor\":\"white\"},\"title\":{\"x\":0.05},\"mapbox\":{\"style\":\"light\"}}},\"xaxis\":{\"anchor\":\"y\",\"domain\":[0.0,1.0],\"title\":{\"text\":\"throughput\"}},\"yaxis\":{\"anchor\":\"x\",\"domain\":[0.0,1.0],\"title\":{\"text\":\"wip\"}},\"coloraxis\":{\"colorbar\":{\"title\":{\"text\":\"cost\"}},\"colorscale\":[[0.0,\"#440154\"],[0.1111111111111111,\"#482878\"],[0.2222222222222222,\"#3e4989\"],[0.3333333333333333,\"#31688e\"],[0.4444444444444444,\"#26828e\"],[0.5555555555555556,\"#1f9e89\"],[0.6666666666666666,\"#35b779\"],[0.7777777777777778,\"#6ece58\"],[0.8888888888888888,\"#b5de2b\"],[1.0,\"#fde725\"]]},\"legend\":{\"tracegroupgap\":0},\"margin\":{\"t\":60}},                        {\"responsive\": true}                    ).then(function(){\n",
       "                            \n",
       "var gd = document.getElementById('ff656612-1b97-41b7-bc32-7ffc386d6dd8');\n",
       "var x = new MutationObserver(function (mutations, observer) {{\n",
       "        var display = window.getComputedStyle(gd).display;\n",
       "        if (!display || display === 'none') {{\n",
       "            console.log([gd, 'removed!']);\n",
       "            Plotly.purge(gd);\n",
       "            observer.disconnect();\n",
       "        }}\n",
       "}});\n",
       "\n",
       "// Listen for the removal of the full notebook cells\n",
       "var notebookContainer = gd.closest('#notebook-container');\n",
       "if (notebookContainer) {{\n",
       "    x.observe(notebookContainer, {childList: true});\n",
       "}}\n",
       "\n",
       "// Listen for the clearing of the current output cell\n",
       "var outputEl = gd.closest('.output');\n",
       "if (outputEl) {{\n",
       "    x.observe(outputEl, {childList: true});\n",
       "}}\n",
       "\n",
       "                        })                };                });            </script>        </div>"
      ]
     },
     "metadata": {},
     "output_type": "display_data"
    }
   ],
   "source": [
    "import plotly.express as px\n",
    "\n",
    "fig = px.scatter(df, x='throughput', y='wip', hover_data=['cost', 'Generation', 'population_number', 'agg_fitness'],\n",
    "              color=df['cost'], color_continuous_scale=px.colors.sequential.Viridis)\n",
    "fig.show()"
   ]
  },
  {
   "cell_type": "code",
   "execution_count": 547,
   "id": "ad6f9971-7806-4835-9a8c-ff3e610eec4b",
   "metadata": {},
   "outputs": [
    {
     "data": {
      "application/vnd.plotly.v1+json": {
       "config": {
        "plotlyServerURL": "https://plot.ly"
       },
       "data": [
        {
         "customdata": [
          [
           0,
           0,
           860.1862826844811
          ],
          [
           0,
           56,
           118.22522890171592
          ],
          [
           0,
           57,
           121.45768051220375
          ],
          [
           0,
           62,
           108.1587653316808
          ],
          [
           0,
           63,
           116.29060212322372
          ],
          [
           0,
           64,
           117.82376832200174
          ],
          [
           0,
           67,
           119.06770222715232
          ],
          [
           0,
           69,
           -76.71399636808064
          ],
          [
           0,
           70,
           200.9986376955802
          ],
          [
           0,
           80,
           235.6988000406906
          ],
          [
           0,
           100,
           90.56003459142835
          ],
          [
           0,
           109,
           1095.7694715939417
          ],
          [
           0,
           113,
           53.73741509404488
          ],
          [
           0,
           116,
           138.80724125754318
          ],
          [
           0,
           124,
           139.16816574104917
          ],
          [
           0,
           125,
           139.32759644914245
          ],
          [
           0,
           128,
           141.25653859732876
          ],
          [
           0,
           131,
           138.02460183872512
          ],
          [
           0,
           138,
           92.24717816520132
          ]
         ],
         "hovertemplate": "is_efficient=True<br>cost=%{x}<br>wip=%{y}<br>throughput=%{z}<br>Generation=%{customdata[0]}<br>population_number=%{customdata[1]}<br>agg_fitness=%{customdata[2]}<extra></extra>",
         "legendgroup": "True",
         "marker": {
          "color": "#636efa",
          "symbol": "circle"
         },
         "mode": "markers",
         "name": "True",
         "scene": "scene",
         "showlegend": true,
         "type": "scatter3d",
         "x": [
          0,
          85000,
          85000,
          80000,
          85000,
          85000,
          85000,
          45000,
          40000,
          45000,
          80000,
          35000,
          45000,
          90000,
          90000,
          90000,
          90000,
          90000,
          50000
         ],
         "y": [
          472.305681960506,
          9.33586970571761,
          11.28778839013648,
          10.89279614276056,
          12.430141522384831,
          11.630618261455526,
          10.440420570725749,
          10.986362691788175,
          126.55875297727523,
          111.3906110927447,
          13.103989142951143,
          360.1403113976402,
          48.12776116315749,
          12.542923815158089,
          11.429686265048213,
          10.555329590910619,
          8.601428322591882,
          8.865333081389357,
          52.79373994070309
         ],
         "z": [
          714,
          3378,
          3405,
          3279,
          3487,
          3449,
          3401,
          3381,
          3377,
          3408,
          3520,
          1423,
          3382,
          3517,
          3478,
          3453,
          3368,
          3406,
          3393
         ]
        },
        {
         "customdata": [
          [
           0,
           1,
           1519.841433344709
          ],
          [
           0,
           2,
           1519.841433344709
          ],
          [
           0,
           3,
           1633.8436379739178
          ],
          [
           0,
           4,
           1633.8436379739178
          ],
          [
           0,
           5,
           1687.4015832066236
          ],
          [
           0,
           6,
           2553.0134919462685
          ],
          [
           0,
           7,
           2556.911502441444
          ],
          [
           0,
           8,
           1614.1337508232332
          ],
          [
           0,
           9,
           1614.1337508232332
          ],
          [
           0,
           10,
           1614.1337508232332
          ],
          [
           0,
           11,
           1862.5083517446878
          ],
          [
           0,
           12,
           2382.7610991999254
          ],
          [
           0,
           13,
           1539.1337508232332
          ],
          [
           0,
           14,
           2063.2081749259432
          ],
          [
           0,
           15,
           2721.3398704184065
          ],
          [
           0,
           16,
           2673.651551891722
          ],
          [
           0,
           17,
           2926.991685097422
          ],
          [
           0,
           18,
           2829.0959068132875
          ],
          [
           0,
           19,
           2765.4171850113803
          ],
          [
           0,
           20,
           2765.29773212907
          ],
          [
           0,
           21,
           2827.374200270373
          ],
          [
           0,
           22,
           2102.5574991202266
          ],
          [
           0,
           23,
           2050.3332918168026
          ],
          [
           0,
           24,
           2581.374359030179
          ],
          [
           0,
           25,
           2811.452656594434
          ],
          [
           0,
           26,
           2050.3332918168026
          ],
          [
           0,
           27,
           2190.0938196699262
          ],
          [
           0,
           28,
           1996.8254710291183
          ],
          [
           0,
           29,
           3115.5154813109552
          ],
          [
           0,
           30,
           1905.9282376512274
          ],
          [
           0,
           31,
           3728.3300995480045
          ],
          [
           0,
           32,
           1905.9282376512274
          ],
          [
           0,
           33,
           1734.3182579351396
          ],
          [
           0,
           34,
           1774.3737688677725
          ],
          [
           0,
           35,
           1774.3737688677725
          ],
          [
           0,
           36,
           2359.759794122539
          ],
          [
           0,
           37,
           1863.7736837587722
          ],
          [
           0,
           38,
           1863.7736837587722
          ],
          [
           0,
           39,
           1972.1933812304576
          ],
          [
           0,
           40,
           1838.7736837587722
          ],
          [
           0,
           41,
           1838.7736837587722
          ],
          [
           0,
           42,
           3371.9836357493323
          ],
          [
           0,
           43,
           3192.52147900484
          ],
          [
           0,
           44,
           3371.9836357493323
          ],
          [
           0,
           45,
           3748.269138614184
          ],
          [
           0,
           46,
           2478.4335212838705
          ],
          [
           0,
           47,
           2478.4335212838705
          ],
          [
           0,
           48,
           1329.1342895095004
          ],
          [
           0,
           49,
           1329.1342895095004
          ],
          [
           0,
           50,
           1513.0258669541372
          ],
          [
           0,
           51,
           1463.5445163796437
          ],
          [
           0,
           52,
           1466.65461746009
          ],
          [
           0,
           53,
           1968.7047325458095
          ],
          [
           0,
           54,
           1454.0001854245631
          ],
          [
           0,
           55,
           1454.0001854245631
          ],
          [
           0,
           58,
           -2.8446902799004192
          ],
          [
           0,
           59,
           227.44825333026915
          ],
          [
           0,
           60,
           155.72584784995433
          ],
          [
           0,
           61,
           147.4368063886481
          ],
          [
           0,
           65,
           117.82376832200174
          ],
          [
           0,
           66,
           2632.9880670073753
          ],
          [
           0,
           68,
           107.18697985301219
          ],
          [
           0,
           71,
           217.35290031120888
          ],
          [
           0,
           72,
           217.35290031120888
          ],
          [
           0,
           73,
           1690.1252016041267
          ],
          [
           0,
           74,
           1698.4178673153997
          ],
          [
           0,
           75,
           1860.828985019488
          ],
          [
           0,
           76,
           218.01225653394016
          ],
          [
           0,
           77,
           222.7269107494916
          ],
          [
           0,
           78,
           2034.871846444111
          ],
          [
           0,
           79,
           252.6486398693396
          ],
          [
           0,
           81,
           68.70377621789885
          ],
          [
           0,
           82,
           2274.762395015337
          ],
          [
           0,
           83,
           220.11074438204489
          ],
          [
           0,
           84,
           70.61424261039016
          ],
          [
           0,
           85,
           78.4000172274828
          ],
          [
           0,
           86,
           190.25106311048785
          ],
          [
           0,
           87,
           612.4609135209706
          ],
          [
           0,
           88,
           268.88710203588437
          ],
          [
           0,
           89,
           243.88710203588434
          ],
          [
           0,
           90,
           52.67210742604436
          ],
          [
           0,
           91,
           2909.0494799101684
          ],
          [
           0,
           92,
           192.83145004108093
          ],
          [
           0,
           93,
           166.65902577838682
          ],
          [
           0,
           94,
           2900.9107075766365
          ],
          [
           0,
           95,
           2902.923853108849
          ],
          [
           0,
           96,
           190.56627050067277
          ],
          [
           0,
           97,
           190.56627050067277
          ],
          [
           0,
           98,
           200.99652341978174
          ],
          [
           0,
           99,
           2393.7912890741172
          ],
          [
           0,
           101,
           1662.385266375128
          ],
          [
           0,
           102,
           121.77196482816493
          ],
          [
           0,
           103,
           1512.6972323121086
          ],
          [
           0,
           104,
           1590.6358953513138
          ],
          [
           0,
           105,
           1606.4366735800886
          ],
          [
           0,
           106,
           1531.7431132611703
          ],
          [
           0,
           107,
           1531.7431132611703
          ],
          [
           0,
           108,
           1479.985761113067
          ],
          [
           0,
           110,
           151.03466075497323
          ],
          [
           0,
           111,
           151.03466075497323
          ],
          [
           0,
           112,
           2940.0127764398308
          ],
          [
           0,
           114,
           2316.928310495204
          ],
          [
           0,
           115,
           145.65505250681514
          ],
          [
           0,
           117,
           138.5979320665645
          ],
          [
           0,
           118,
           146.49011741206175
          ],
          [
           0,
           119,
           2344.8419944376765
          ],
          [
           0,
           120,
           2648.6498217508115
          ],
          [
           0,
           121,
           1989.0584136328469
          ],
          [
           0,
           122,
           140.6544061753392
          ],
          [
           0,
           123,
           2033.0532221988296
          ],
          [
           0,
           126,
           121.49850011628126
          ],
          [
           0,
           127,
           121.26514001294385
          ],
          [
           0,
           129,
           143.18421353846065
          ],
          [
           0,
           130,
           142.3364879238262
          ],
          [
           0,
           132,
           189.3405234205393
          ],
          [
           0,
           133,
           84.3054390196431
          ],
          [
           0,
           134,
           126.1219338619612
          ],
          [
           0,
           135,
           208.44879347645457
          ],
          [
           0,
           136,
           70.83711212209386
          ],
          [
           0,
           137,
           75.56286772276067
          ]
         ],
         "hovertemplate": "is_efficient=False<br>cost=%{x}<br>wip=%{y}<br>throughput=%{z}<br>Generation=%{customdata[0]}<br>population_number=%{customdata[1]}<br>agg_fitness=%{customdata[2]}<extra></extra>",
         "legendgroup": "False",
         "marker": {
          "color": "#EF553B",
          "symbol": "circle"
         },
         "mode": "markers",
         "name": "False",
         "scene": "scene",
         "showlegend": true,
         "type": "scatter3d",
         "x": [
          0,
          0,
          40000,
          40000,
          35000,
          35000,
          80000,
          40000,
          40000,
          40000,
          60000,
          60000,
          25000,
          65000,
          65000,
          60000,
          100000,
          80000,
          80000,
          80000,
          80000,
          85000,
          85000,
          85000,
          90000,
          85000,
          85000,
          50000,
          50000,
          30000,
          75000,
          30000,
          10000,
          5000,
          5000,
          5000,
          25000,
          25000,
          45000,
          20000,
          20000,
          65000,
          85000,
          65000,
          60000,
          45000,
          45000,
          85000,
          85000,
          85000,
          80000,
          100000,
          100000,
          80000,
          80000,
          45000,
          85000,
          80000,
          75000,
          85000,
          80000,
          80000,
          85000,
          85000,
          85000,
          80000,
          100000,
          85000,
          85000,
          40000,
          45000,
          65000,
          20000,
          45000,
          45000,
          65000,
          85000,
          85000,
          85000,
          80000,
          60000,
          60000,
          100000,
          95000,
          95000,
          95000,
          100000,
          100000,
          100000,
          95000,
          75000,
          85000,
          40000,
          40000,
          40000,
          40000,
          40000,
          40000,
          80000,
          80000,
          45000,
          10000,
          90000,
          90000,
          90000,
          55000,
          90000,
          50000,
          90000,
          50000,
          85000,
          85000,
          90000,
          90000,
          45000,
          45000,
          45000,
          50000,
          50000,
          50000
         ],
         "y": [
          1325.0755049478107,
          1325.0755049478107,
          1231.7029882967845,
          1231.7029882967845,
          1310.2609335294903,
          2175.867779906926,
          1953.0519825918761,
          1211.9931011461,
          1211.9931011461,
          1211.9931011461,
          1361.194401244168,
          1881.3622010680288,
          1211.9931011461,
          1536.4960055574852,
          2193.9618528610354,
          2163.3275535085345,
          2265.5036211699166,
          2269.056283087211,
          2207.702964959569,
          2207.702964959569,
          2247.7710811525244,
          1519.9627319507251,
          1468.1688293948914,
          1215.0259757383967,
          2202.5190082644626,
          1468.1688293948914,
          1586.0990272683782,
          1551.2329153605015,
          2258,
          1562.2645053779731,
          941.4898147011903,
          1562.2645053779731,
          1490.661062829463,
          1560.3943511450382,
          1560.3943511450382,
          2145.4257347100875,
          1550.0012174707047,
          1550.0012174707047,
          1551.6008255618408,
          1550.0012174707047,
          1550.0012174707047,
          908.7696737878425,
          876.3533785030713,
          908.7696737878425,
          1020.1661439733155,
          1110.1676335877862,
          1110.1676335877862,
          422.68839531182175,
          422.68839531182175,
          456.4632118853909,
          490.141735102598,
          417.5079929240307,
          863.811708394698,
          446.44570050984674,
          446.44570050984674,
          30.423882291380274,
          40.633671286715476,
          26.16659467750324,
          29.22956361401352,
          11.630618261455526,
          2057.5,
          10.994080364613932,
          36.923424042907975,
          36.923424042907975,
          1084.2727272727273,
          1122.8127208480566,
          1168.6492267193155,
          40.58074611168589,
          42.59803746503066,
          1805.0202655485675,
          131.12702237229468,
          19.56648595367176,
          2150,
          118.5109599011493,
          54.422356733770016,
          22.60289232146855,
          30.574813684039004,
          184.0970486464482,
          53.13476474441316,
          53.13476474441316,
          23.322772574394648,
          2339,
          12.33926843106498,
          12.72292893535367,
          2264.5,
          2274.5,
          12.566256898317967,
          12.566256898317967,
          10.582348462563376,
          1823.4813842482101,
          1117.1193814703183,
          9.554665975730881,
          441.62962015603017,
          462.4746126340882,
          459.50906974701337,
          452.1473546721115,
          452.1473546721115,
          451.7143231212359,
          24.87414015194665,
          24.87414015194665,
          1775.1851537645812,
          1314.4563609467455,
          10.700884925515922,
          12.542923815158089,
          10.400089251999589,
          1319.476002258611,
          1107.9451845825283,
          1155.5673910595654,
          10.944057117448173,
          1179.7307426994712,
          12.084816673625372,
          10.838465113077003,
          8.724379031271303,
          8.68923063518341,
          94.85977830974188,
          60.356719781947795,
          69.57398845440535,
          99.56639538653154,
          46.60013565492135,
          46.60013565492135
         ],
         "z": [
          105,
          105,
          107,
          107,
          107,
          106,
          102,
          107,
          107,
          107,
          107,
          107,
          107,
          100,
          99,
          109,
          78,
          81,
          81,
          81,
          47,
          81,
          81,
          131,
          79,
          81,
          47,
          47,
          31,
          47,
          1733,
          47,
          47,
          48,
          48,
          48,
          48,
          48,
          47,
          48,
          48,
          1175,
          949,
          1175,
          1425,
          132,
          132,
          1510,
          1510,
          1665,
          1268,
          1680,
          357,
          1626,
          1626,
          3330,
          3377,
          3346,
          3277,
          3449,
          259,
          3297,
          3359,
          3359,
          378,
          370,
          375,
          3376,
          3384,
          174,
          3367,
          3223,
          170,
          3394,
          3372,
          3229,
          3379,
          1519,
          3406,
          3406,
          3280,
          9,
          3476,
          3499,
          79,
          75,
          3505,
          3505,
          3345,
          226,
          316,
          3350,
          2674,
          2651,
          2641,
          1767,
          1767,
          1635,
          3351,
          3351,
          51,
          110,
          3396,
          3517,
          3379,
          129,
          140,
          181,
          3451,
          178,
          3432,
          3396,
          3352,
          3360,
          3364,
          3356,
          3375,
          3357,
          3366,
          3366
         ]
        }
       ],
       "layout": {
        "autosize": true,
        "legend": {
         "title": {
          "text": "is_efficient"
         },
         "tracegroupgap": 0
        },
        "margin": {
         "t": 60
        },
        "scene": {
         "aspectmode": "auto",
         "aspectratio": {
          "x": 1,
          "y": 1,
          "z": 1
         },
         "domain": {
          "x": [
           0,
           1
          ],
          "y": [
           0,
           1
          ]
         },
         "xaxis": {
          "title": {
           "text": "cost"
          },
          "type": "linear"
         },
         "yaxis": {
          "title": {
           "text": "wip"
          },
          "type": "linear"
         },
         "zaxis": {
          "title": {
           "text": "throughput"
          },
          "type": "linear"
         }
        },
        "template": {
         "data": {
          "bar": [
           {
            "error_x": {
             "color": "#2a3f5f"
            },
            "error_y": {
             "color": "#2a3f5f"
            },
            "marker": {
             "line": {
              "color": "#E5ECF6",
              "width": 0.5
             },
             "pattern": {
              "fillmode": "overlay",
              "size": 10,
              "solidity": 0.2
             }
            },
            "type": "bar"
           }
          ],
          "barpolar": [
           {
            "marker": {
             "line": {
              "color": "#E5ECF6",
              "width": 0.5
             },
             "pattern": {
              "fillmode": "overlay",
              "size": 10,
              "solidity": 0.2
             }
            },
            "type": "barpolar"
           }
          ],
          "carpet": [
           {
            "aaxis": {
             "endlinecolor": "#2a3f5f",
             "gridcolor": "white",
             "linecolor": "white",
             "minorgridcolor": "white",
             "startlinecolor": "#2a3f5f"
            },
            "baxis": {
             "endlinecolor": "#2a3f5f",
             "gridcolor": "white",
             "linecolor": "white",
             "minorgridcolor": "white",
             "startlinecolor": "#2a3f5f"
            },
            "type": "carpet"
           }
          ],
          "choropleth": [
           {
            "colorbar": {
             "outlinewidth": 0,
             "ticks": ""
            },
            "type": "choropleth"
           }
          ],
          "contour": [
           {
            "colorbar": {
             "outlinewidth": 0,
             "ticks": ""
            },
            "colorscale": [
             [
              0,
              "#0d0887"
             ],
             [
              0.1111111111111111,
              "#46039f"
             ],
             [
              0.2222222222222222,
              "#7201a8"
             ],
             [
              0.3333333333333333,
              "#9c179e"
             ],
             [
              0.4444444444444444,
              "#bd3786"
             ],
             [
              0.5555555555555556,
              "#d8576b"
             ],
             [
              0.6666666666666666,
              "#ed7953"
             ],
             [
              0.7777777777777778,
              "#fb9f3a"
             ],
             [
              0.8888888888888888,
              "#fdca26"
             ],
             [
              1,
              "#f0f921"
             ]
            ],
            "type": "contour"
           }
          ],
          "contourcarpet": [
           {
            "colorbar": {
             "outlinewidth": 0,
             "ticks": ""
            },
            "type": "contourcarpet"
           }
          ],
          "heatmap": [
           {
            "colorbar": {
             "outlinewidth": 0,
             "ticks": ""
            },
            "colorscale": [
             [
              0,
              "#0d0887"
             ],
             [
              0.1111111111111111,
              "#46039f"
             ],
             [
              0.2222222222222222,
              "#7201a8"
             ],
             [
              0.3333333333333333,
              "#9c179e"
             ],
             [
              0.4444444444444444,
              "#bd3786"
             ],
             [
              0.5555555555555556,
              "#d8576b"
             ],
             [
              0.6666666666666666,
              "#ed7953"
             ],
             [
              0.7777777777777778,
              "#fb9f3a"
             ],
             [
              0.8888888888888888,
              "#fdca26"
             ],
             [
              1,
              "#f0f921"
             ]
            ],
            "type": "heatmap"
           }
          ],
          "heatmapgl": [
           {
            "colorbar": {
             "outlinewidth": 0,
             "ticks": ""
            },
            "colorscale": [
             [
              0,
              "#0d0887"
             ],
             [
              0.1111111111111111,
              "#46039f"
             ],
             [
              0.2222222222222222,
              "#7201a8"
             ],
             [
              0.3333333333333333,
              "#9c179e"
             ],
             [
              0.4444444444444444,
              "#bd3786"
             ],
             [
              0.5555555555555556,
              "#d8576b"
             ],
             [
              0.6666666666666666,
              "#ed7953"
             ],
             [
              0.7777777777777778,
              "#fb9f3a"
             ],
             [
              0.8888888888888888,
              "#fdca26"
             ],
             [
              1,
              "#f0f921"
             ]
            ],
            "type": "heatmapgl"
           }
          ],
          "histogram": [
           {
            "marker": {
             "pattern": {
              "fillmode": "overlay",
              "size": 10,
              "solidity": 0.2
             }
            },
            "type": "histogram"
           }
          ],
          "histogram2d": [
           {
            "colorbar": {
             "outlinewidth": 0,
             "ticks": ""
            },
            "colorscale": [
             [
              0,
              "#0d0887"
             ],
             [
              0.1111111111111111,
              "#46039f"
             ],
             [
              0.2222222222222222,
              "#7201a8"
             ],
             [
              0.3333333333333333,
              "#9c179e"
             ],
             [
              0.4444444444444444,
              "#bd3786"
             ],
             [
              0.5555555555555556,
              "#d8576b"
             ],
             [
              0.6666666666666666,
              "#ed7953"
             ],
             [
              0.7777777777777778,
              "#fb9f3a"
             ],
             [
              0.8888888888888888,
              "#fdca26"
             ],
             [
              1,
              "#f0f921"
             ]
            ],
            "type": "histogram2d"
           }
          ],
          "histogram2dcontour": [
           {
            "colorbar": {
             "outlinewidth": 0,
             "ticks": ""
            },
            "colorscale": [
             [
              0,
              "#0d0887"
             ],
             [
              0.1111111111111111,
              "#46039f"
             ],
             [
              0.2222222222222222,
              "#7201a8"
             ],
             [
              0.3333333333333333,
              "#9c179e"
             ],
             [
              0.4444444444444444,
              "#bd3786"
             ],
             [
              0.5555555555555556,
              "#d8576b"
             ],
             [
              0.6666666666666666,
              "#ed7953"
             ],
             [
              0.7777777777777778,
              "#fb9f3a"
             ],
             [
              0.8888888888888888,
              "#fdca26"
             ],
             [
              1,
              "#f0f921"
             ]
            ],
            "type": "histogram2dcontour"
           }
          ],
          "mesh3d": [
           {
            "colorbar": {
             "outlinewidth": 0,
             "ticks": ""
            },
            "type": "mesh3d"
           }
          ],
          "parcoords": [
           {
            "line": {
             "colorbar": {
              "outlinewidth": 0,
              "ticks": ""
             }
            },
            "type": "parcoords"
           }
          ],
          "pie": [
           {
            "automargin": true,
            "type": "pie"
           }
          ],
          "scatter": [
           {
            "fillpattern": {
             "fillmode": "overlay",
             "size": 10,
             "solidity": 0.2
            },
            "type": "scatter"
           }
          ],
          "scatter3d": [
           {
            "line": {
             "colorbar": {
              "outlinewidth": 0,
              "ticks": ""
             }
            },
            "marker": {
             "colorbar": {
              "outlinewidth": 0,
              "ticks": ""
             }
            },
            "type": "scatter3d"
           }
          ],
          "scattercarpet": [
           {
            "marker": {
             "colorbar": {
              "outlinewidth": 0,
              "ticks": ""
             }
            },
            "type": "scattercarpet"
           }
          ],
          "scattergeo": [
           {
            "marker": {
             "colorbar": {
              "outlinewidth": 0,
              "ticks": ""
             }
            },
            "type": "scattergeo"
           }
          ],
          "scattergl": [
           {
            "marker": {
             "colorbar": {
              "outlinewidth": 0,
              "ticks": ""
             }
            },
            "type": "scattergl"
           }
          ],
          "scattermapbox": [
           {
            "marker": {
             "colorbar": {
              "outlinewidth": 0,
              "ticks": ""
             }
            },
            "type": "scattermapbox"
           }
          ],
          "scatterpolar": [
           {
            "marker": {
             "colorbar": {
              "outlinewidth": 0,
              "ticks": ""
             }
            },
            "type": "scatterpolar"
           }
          ],
          "scatterpolargl": [
           {
            "marker": {
             "colorbar": {
              "outlinewidth": 0,
              "ticks": ""
             }
            },
            "type": "scatterpolargl"
           }
          ],
          "scatterternary": [
           {
            "marker": {
             "colorbar": {
              "outlinewidth": 0,
              "ticks": ""
             }
            },
            "type": "scatterternary"
           }
          ],
          "surface": [
           {
            "colorbar": {
             "outlinewidth": 0,
             "ticks": ""
            },
            "colorscale": [
             [
              0,
              "#0d0887"
             ],
             [
              0.1111111111111111,
              "#46039f"
             ],
             [
              0.2222222222222222,
              "#7201a8"
             ],
             [
              0.3333333333333333,
              "#9c179e"
             ],
             [
              0.4444444444444444,
              "#bd3786"
             ],
             [
              0.5555555555555556,
              "#d8576b"
             ],
             [
              0.6666666666666666,
              "#ed7953"
             ],
             [
              0.7777777777777778,
              "#fb9f3a"
             ],
             [
              0.8888888888888888,
              "#fdca26"
             ],
             [
              1,
              "#f0f921"
             ]
            ],
            "type": "surface"
           }
          ],
          "table": [
           {
            "cells": {
             "fill": {
              "color": "#EBF0F8"
             },
             "line": {
              "color": "white"
             }
            },
            "header": {
             "fill": {
              "color": "#C8D4E3"
             },
             "line": {
              "color": "white"
             }
            },
            "type": "table"
           }
          ]
         },
         "layout": {
          "annotationdefaults": {
           "arrowcolor": "#2a3f5f",
           "arrowhead": 0,
           "arrowwidth": 1
          },
          "autotypenumbers": "strict",
          "coloraxis": {
           "colorbar": {
            "outlinewidth": 0,
            "ticks": ""
           }
          },
          "colorscale": {
           "diverging": [
            [
             0,
             "#8e0152"
            ],
            [
             0.1,
             "#c51b7d"
            ],
            [
             0.2,
             "#de77ae"
            ],
            [
             0.3,
             "#f1b6da"
            ],
            [
             0.4,
             "#fde0ef"
            ],
            [
             0.5,
             "#f7f7f7"
            ],
            [
             0.6,
             "#e6f5d0"
            ],
            [
             0.7,
             "#b8e186"
            ],
            [
             0.8,
             "#7fbc41"
            ],
            [
             0.9,
             "#4d9221"
            ],
            [
             1,
             "#276419"
            ]
           ],
           "sequential": [
            [
             0,
             "#0d0887"
            ],
            [
             0.1111111111111111,
             "#46039f"
            ],
            [
             0.2222222222222222,
             "#7201a8"
            ],
            [
             0.3333333333333333,
             "#9c179e"
            ],
            [
             0.4444444444444444,
             "#bd3786"
            ],
            [
             0.5555555555555556,
             "#d8576b"
            ],
            [
             0.6666666666666666,
             "#ed7953"
            ],
            [
             0.7777777777777778,
             "#fb9f3a"
            ],
            [
             0.8888888888888888,
             "#fdca26"
            ],
            [
             1,
             "#f0f921"
            ]
           ],
           "sequentialminus": [
            [
             0,
             "#0d0887"
            ],
            [
             0.1111111111111111,
             "#46039f"
            ],
            [
             0.2222222222222222,
             "#7201a8"
            ],
            [
             0.3333333333333333,
             "#9c179e"
            ],
            [
             0.4444444444444444,
             "#bd3786"
            ],
            [
             0.5555555555555556,
             "#d8576b"
            ],
            [
             0.6666666666666666,
             "#ed7953"
            ],
            [
             0.7777777777777778,
             "#fb9f3a"
            ],
            [
             0.8888888888888888,
             "#fdca26"
            ],
            [
             1,
             "#f0f921"
            ]
           ]
          },
          "colorway": [
           "#636efa",
           "#EF553B",
           "#00cc96",
           "#ab63fa",
           "#FFA15A",
           "#19d3f3",
           "#FF6692",
           "#B6E880",
           "#FF97FF",
           "#FECB52"
          ],
          "font": {
           "color": "#2a3f5f"
          },
          "geo": {
           "bgcolor": "white",
           "lakecolor": "white",
           "landcolor": "#E5ECF6",
           "showlakes": true,
           "showland": true,
           "subunitcolor": "white"
          },
          "hoverlabel": {
           "align": "left"
          },
          "hovermode": "closest",
          "mapbox": {
           "style": "light"
          },
          "paper_bgcolor": "white",
          "plot_bgcolor": "#E5ECF6",
          "polar": {
           "angularaxis": {
            "gridcolor": "white",
            "linecolor": "white",
            "ticks": ""
           },
           "bgcolor": "#E5ECF6",
           "radialaxis": {
            "gridcolor": "white",
            "linecolor": "white",
            "ticks": ""
           }
          },
          "scene": {
           "xaxis": {
            "backgroundcolor": "#E5ECF6",
            "gridcolor": "white",
            "gridwidth": 2,
            "linecolor": "white",
            "showbackground": true,
            "ticks": "",
            "zerolinecolor": "white"
           },
           "yaxis": {
            "backgroundcolor": "#E5ECF6",
            "gridcolor": "white",
            "gridwidth": 2,
            "linecolor": "white",
            "showbackground": true,
            "ticks": "",
            "zerolinecolor": "white"
           },
           "zaxis": {
            "backgroundcolor": "#E5ECF6",
            "gridcolor": "white",
            "gridwidth": 2,
            "linecolor": "white",
            "showbackground": true,
            "ticks": "",
            "zerolinecolor": "white"
           }
          },
          "shapedefaults": {
           "line": {
            "color": "#2a3f5f"
           }
          },
          "ternary": {
           "aaxis": {
            "gridcolor": "white",
            "linecolor": "white",
            "ticks": ""
           },
           "baxis": {
            "gridcolor": "white",
            "linecolor": "white",
            "ticks": ""
           },
           "bgcolor": "#E5ECF6",
           "caxis": {
            "gridcolor": "white",
            "linecolor": "white",
            "ticks": ""
           }
          },
          "title": {
           "x": 0.05
          },
          "xaxis": {
           "automargin": true,
           "gridcolor": "white",
           "linecolor": "white",
           "ticks": "",
           "title": {
            "standoff": 15
           },
           "zerolinecolor": "white",
           "zerolinewidth": 2
          },
          "yaxis": {
           "automargin": true,
           "gridcolor": "white",
           "linecolor": "white",
           "ticks": "",
           "title": {
            "standoff": 15
           },
           "zerolinecolor": "white",
           "zerolinewidth": 2
          }
         }
        }
       }
      },
      "image/png": "[encoded data removed]",
      "text/html": [
       "<div>                            <div id=\"08712430-dcb0-45f7-bfcd-570e4a99d978\" class=\"plotly-graph-div\" style=\"height:525px; width:100%;\"></div>            <script type=\"text/javascript\">                require([\"plotly\"], function(Plotly) {                    window.PLOTLYENV=window.PLOTLYENV || {};                                    if (document.getElementById(\"08712430-dcb0-45f7-bfcd-570e4a99d978\")) {                    Plotly.newPlot(                        \"08712430-dcb0-45f7-bfcd-570e4a99d978\",                        [{\"customdata\":[[0.0,0.0,860.1862826844811],[0.0,56.0,118.22522890171592],[0.0,57.0,121.45768051220375],[0.0,62.0,108.1587653316808],[0.0,63.0,116.29060212322372],[0.0,64.0,117.82376832200174],[0.0,67.0,119.06770222715232],[0.0,69.0,-76.71399636808064],[0.0,70.0,200.9986376955802],[0.0,80.0,235.6988000406906],[0.0,100.0,90.56003459142835],[0.0,109.0,1095.7694715939417],[0.0,113.0,53.73741509404488],[0.0,116.0,138.80724125754318],[0.0,124.0,139.16816574104917],[0.0,125.0,139.32759644914245],[0.0,128.0,141.25653859732876],[0.0,131.0,138.02460183872512],[0.0,138.0,92.24717816520132]],\"hovertemplate\":\"is_efficient=True<br>cost=%{x}<br>wip=%{y}<br>throughput=%{z}<br>Generation=%{customdata[0]}<br>population_number=%{customdata[1]}<br>agg_fitness=%{customdata[2]}<extra></extra>\",\"legendgroup\":\"True\",\"marker\":{\"color\":\"#636efa\",\"symbol\":\"circle\"},\"mode\":\"markers\",\"name\":\"True\",\"scene\":\"scene\",\"showlegend\":true,\"x\":[0.0,85000.0,85000.0,80000.0,85000.0,85000.0,85000.0,45000.0,40000.0,45000.0,80000.0,35000.0,45000.0,90000.0,90000.0,90000.0,90000.0,90000.0,50000.0],\"y\":[472.305681960506,9.33586970571761,11.28778839013648,10.89279614276056,12.430141522384831,11.630618261455526,10.440420570725749,10.986362691788175,126.55875297727523,111.3906110927447,13.103989142951143,360.1403113976402,48.12776116315749,12.542923815158089,11.429686265048213,10.555329590910619,8.601428322591882,8.865333081389357,52.79373994070309],\"z\":[714.0,3378.0,3405.0,3279.0,3487.0,3449.0,3401.0,3381.0,3377.0,3408.0,3520.0,1423.0,3382.0,3517.0,3478.0,3453.0,3368.0,3406.0,3393.0],\"type\":\"scatter3d\"},{\"customdata\":[[0.0,1.0,1519.841433344709],[0.0,2.0,1519.841433344709],[0.0,3.0,1633.8436379739178],[0.0,4.0,1633.8436379739178],[0.0,5.0,1687.4015832066236],[0.0,6.0,2553.0134919462685],[0.0,7.0,2556.911502441444],[0.0,8.0,1614.1337508232332],[0.0,9.0,1614.1337508232332],[0.0,10.0,1614.1337508232332],[0.0,11.0,1862.5083517446878],[0.0,12.0,2382.7610991999254],[0.0,13.0,1539.1337508232332],[0.0,14.0,2063.2081749259432],[0.0,15.0,2721.3398704184065],[0.0,16.0,2673.651551891722],[0.0,17.0,2926.991685097422],[0.0,18.0,2829.0959068132875],[0.0,19.0,2765.4171850113803],[0.0,20.0,2765.29773212907],[0.0,21.0,2827.374200270373],[0.0,22.0,2102.5574991202266],[0.0,23.0,2050.3332918168026],[0.0,24.0,2581.374359030179],[0.0,25.0,2811.452656594434],[0.0,26.0,2050.3332918168026],[0.0,27.0,2190.0938196699262],[0.0,28.0,1996.8254710291183],[0.0,29.0,3115.5154813109552],[0.0,30.0,1905.9282376512274],[0.0,31.0,3728.3300995480045],[0.0,32.0,1905.9282376512274],[0.0,33.0,1734.3182579351396],[0.0,34.0,1774.3737688677725],[0.0,35.0,1774.3737688677725],[0.0,36.0,2359.759794122539],[0.0,37.0,1863.7736837587722],[0.0,38.0,1863.7736837587722],[0.0,39.0,1972.1933812304576],[0.0,40.0,1838.7736837587722],[0.0,41.0,1838.7736837587722],[0.0,42.0,3371.9836357493323],[0.0,43.0,3192.52147900484],[0.0,44.0,3371.9836357493323],[0.0,45.0,3748.269138614184],[0.0,46.0,2478.4335212838705],[0.0,47.0,2478.4335212838705],[0.0,48.0,1329.1342895095004],[0.0,49.0,1329.1342895095004],[0.0,50.0,1513.0258669541372],[0.0,51.0,1463.5445163796437],[0.0,52.0,1466.65461746009],[0.0,53.0,1968.7047325458095],[0.0,54.0,1454.0001854245631],[0.0,55.0,1454.0001854245631],[0.0,58.0,-2.8446902799004192],[0.0,59.0,227.44825333026915],[0.0,60.0,155.72584784995433],[0.0,61.0,147.4368063886481],[0.0,65.0,117.82376832200174],[0.0,66.0,2632.9880670073753],[0.0,68.0,107.18697985301219],[0.0,71.0,217.35290031120888],[0.0,72.0,217.35290031120888],[0.0,73.0,1690.1252016041267],[0.0,74.0,1698.4178673153997],[0.0,75.0,1860.828985019488],[0.0,76.0,218.01225653394016],[0.0,77.0,222.7269107494916],[0.0,78.0,2034.871846444111],[0.0,79.0,252.6486398693396],[0.0,81.0,68.70377621789885],[0.0,82.0,2274.762395015337],[0.0,83.0,220.11074438204489],[0.0,84.0,70.61424261039016],[0.0,85.0,78.4000172274828],[0.0,86.0,190.25106311048785],[0.0,87.0,612.4609135209706],[0.0,88.0,268.88710203588437],[0.0,89.0,243.88710203588434],[0.0,90.0,52.67210742604436],[0.0,91.0,2909.0494799101684],[0.0,92.0,192.83145004108093],[0.0,93.0,166.65902577838682],[0.0,94.0,2900.9107075766365],[0.0,95.0,2902.923853108849],[0.0,96.0,190.56627050067277],[0.0,97.0,190.56627050067277],[0.0,98.0,200.99652341978174],[0.0,99.0,2393.7912890741172],[0.0,101.0,1662.385266375128],[0.0,102.0,121.77196482816493],[0.0,103.0,1512.6972323121086],[0.0,104.0,1590.6358953513138],[0.0,105.0,1606.4366735800886],[0.0,106.0,1531.7431132611703],[0.0,107.0,1531.7431132611703],[0.0,108.0,1479.985761113067],[0.0,110.0,151.03466075497323],[0.0,111.0,151.03466075497323],[0.0,112.0,2940.0127764398308],[0.0,114.0,2316.928310495204],[0.0,115.0,145.65505250681514],[0.0,117.0,138.5979320665645],[0.0,118.0,146.49011741206175],[0.0,119.0,2344.8419944376765],[0.0,120.0,2648.6498217508115],[0.0,121.0,1989.0584136328469],[0.0,122.0,140.6544061753392],[0.0,123.0,2033.0532221988296],[0.0,126.0,121.49850011628126],[0.0,127.0,121.26514001294385],[0.0,129.0,143.18421353846065],[0.0,130.0,142.3364879238262],[0.0,132.0,189.3405234205393],[0.0,133.0,84.3054390196431],[0.0,134.0,126.1219338619612],[0.0,135.0,208.44879347645457],[0.0,136.0,70.83711212209386],[0.0,137.0,75.56286772276067]],\"hovertemplate\":\"is_efficient=False<br>cost=%{x}<br>wip=%{y}<br>throughput=%{z}<br>Generation=%{customdata[0]}<br>population_number=%{customdata[1]}<br>agg_fitness=%{customdata[2]}<extra></extra>\",\"legendgroup\":\"False\",\"marker\":{\"color\":\"#EF553B\",\"symbol\":\"circle\"},\"mode\":\"markers\",\"name\":\"False\",\"scene\":\"scene\",\"showlegend\":true,\"x\":[0.0,0.0,40000.0,40000.0,35000.0,35000.0,80000.0,40000.0,40000.0,40000.0,60000.0,60000.0,25000.0,65000.0,65000.0,60000.0,100000.0,80000.0,80000.0,80000.0,80000.0,85000.0,85000.0,85000.0,90000.0,85000.0,85000.0,50000.0,50000.0,30000.0,75000.0,30000.0,10000.0,5000.0,5000.0,5000.0,25000.0,25000.0,45000.0,20000.0,20000.0,65000.0,85000.0,65000.0,60000.0,45000.0,45000.0,85000.0,85000.0,85000.0,80000.0,100000.0,100000.0,80000.0,80000.0,45000.0,85000.0,80000.0,75000.0,85000.0,80000.0,80000.0,85000.0,85000.0,85000.0,80000.0,100000.0,85000.0,85000.0,40000.0,45000.0,65000.0,20000.0,45000.0,45000.0,65000.0,85000.0,85000.0,85000.0,80000.0,60000.0,60000.0,100000.0,95000.0,95000.0,95000.0,100000.0,100000.0,100000.0,95000.0,75000.0,85000.0,40000.0,40000.0,40000.0,40000.0,40000.0,40000.0,80000.0,80000.0,45000.0,10000.0,90000.0,90000.0,90000.0,55000.0,90000.0,50000.0,90000.0,50000.0,85000.0,85000.0,90000.0,90000.0,45000.0,45000.0,45000.0,50000.0,50000.0,50000.0],\"y\":[1325.0755049478107,1325.0755049478107,1231.7029882967845,1231.7029882967845,1310.2609335294903,2175.867779906926,1953.0519825918761,1211.9931011461,1211.9931011461,1211.9931011461,1361.194401244168,1881.3622010680288,1211.9931011461,1536.4960055574852,2193.9618528610354,2163.3275535085345,2265.5036211699166,2269.056283087211,2207.702964959569,2207.702964959569,2247.7710811525244,1519.9627319507251,1468.1688293948914,1215.0259757383967,2202.5190082644626,1468.1688293948914,1586.0990272683782,1551.2329153605015,2258.0,1562.2645053779731,941.4898147011903,1562.2645053779731,1490.661062829463,1560.3943511450382,1560.3943511450382,2145.4257347100875,1550.0012174707047,1550.0012174707047,1551.6008255618408,1550.0012174707047,1550.0012174707047,908.7696737878425,876.3533785030713,908.7696737878425,1020.1661439733155,1110.1676335877862,1110.1676335877862,422.68839531182175,422.68839531182175,456.4632118853909,490.141735102598,417.5079929240307,863.811708394698,446.44570050984674,446.44570050984674,30.423882291380274,40.633671286715476,26.16659467750324,29.22956361401352,11.630618261455526,2057.5,10.994080364613932,36.923424042907975,36.923424042907975,1084.2727272727273,1122.8127208480566,1168.6492267193155,40.58074611168589,42.59803746503066,1805.0202655485675,131.12702237229468,19.56648595367176,2150.0,118.5109599011493,54.422356733770016,22.60289232146855,30.574813684039004,184.0970486464482,53.13476474441316,53.13476474441316,23.322772574394648,2339.0,12.33926843106498,12.72292893535367,2264.5,2274.5,12.566256898317967,12.566256898317967,10.582348462563376,1823.4813842482101,1117.1193814703183,9.554665975730881,441.62962015603017,462.4746126340882,459.50906974701337,452.1473546721115,452.1473546721115,451.7143231212359,24.87414015194665,24.87414015194665,1775.1851537645812,1314.4563609467455,10.700884925515922,12.542923815158089,10.400089251999589,1319.476002258611,1107.9451845825283,1155.5673910595654,10.944057117448173,1179.7307426994712,12.084816673625372,10.838465113077003,8.724379031271303,8.68923063518341,94.85977830974188,60.356719781947795,69.57398845440535,99.56639538653154,46.60013565492135,46.60013565492135],\"z\":[105.0,105.0,107.0,107.0,107.0,106.0,102.0,107.0,107.0,107.0,107.0,107.0,107.0,100.0,99.0,109.0,78.0,81.0,81.0,81.0,47.0,81.0,81.0,131.0,79.0,81.0,47.0,47.0,31.0,47.0,1733.0,47.0,47.0,48.0,48.0,48.0,48.0,48.0,47.0,48.0,48.0,1175.0,949.0,1175.0,1425.0,132.0,132.0,1510.0,1510.0,1665.0,1268.0,1680.0,357.0,1626.0,1626.0,3330.0,3377.0,3346.0,3277.0,3449.0,259.0,3297.0,3359.0,3359.0,378.0,370.0,375.0,3376.0,3384.0,174.0,3367.0,3223.0,170.0,3394.0,3372.0,3229.0,3379.0,1519.0,3406.0,3406.0,3280.0,9.0,3476.0,3499.0,79.0,75.0,3505.0,3505.0,3345.0,226.0,316.0,3350.0,2674.0,2651.0,2641.0,1767.0,1767.0,1635.0,3351.0,3351.0,51.0,110.0,3396.0,3517.0,3379.0,129.0,140.0,181.0,3451.0,178.0,3432.0,3396.0,3352.0,3360.0,3364.0,3356.0,3375.0,3357.0,3366.0,3366.0],\"type\":\"scatter3d\"}],                        {\"template\":{\"data\":{\"histogram2dcontour\":[{\"type\":\"histogram2dcontour\",\"colorbar\":{\"outlinewidth\":0,\"ticks\":\"\"},\"colorscale\":[[0.0,\"#0d0887\"],[0.1111111111111111,\"#46039f\"],[0.2222222222222222,\"#7201a8\"],[0.3333333333333333,\"#9c179e\"],[0.4444444444444444,\"#bd3786\"],[0.5555555555555556,\"#d8576b\"],[0.6666666666666666,\"#ed7953\"],[0.7777777777777778,\"#fb9f3a\"],[0.8888888888888888,\"#fdca26\"],[1.0,\"#f0f921\"]]}],\"choropleth\":[{\"type\":\"choropleth\",\"colorbar\":{\"outlinewidth\":0,\"ticks\":\"\"}}],\"histogram2d\":[{\"type\":\"histogram2d\",\"colorbar\":{\"outlinewidth\":0,\"ticks\":\"\"},\"colorscale\":[[0.0,\"#0d0887\"],[0.1111111111111111,\"#46039f\"],[0.2222222222222222,\"#7201a8\"],[0.3333333333333333,\"#9c179e\"],[0.4444444444444444,\"#bd3786\"],[0.5555555555555556,\"#d8576b\"],[0.6666666666666666,\"#ed7953\"],[0.7777777777777778,\"#fb9f3a\"],[0.8888888888888888,\"#fdca26\"],[1.0,\"#f0f921\"]]}],\"heatmap\":[{\"type\":\"heatmap\",\"colorbar\":{\"outlinewidth\":0,\"ticks\":\"\"},\"colorscale\":[[0.0,\"#0d0887\"],[0.1111111111111111,\"#46039f\"],[0.2222222222222222,\"#7201a8\"],[0.3333333333333333,\"#9c179e\"],[0.4444444444444444,\"#bd3786\"],[0.5555555555555556,\"#d8576b\"],[0.6666666666666666,\"#ed7953\"],[0.7777777777777778,\"#fb9f3a\"],[0.8888888888888888,\"#fdca26\"],[1.0,\"#f0f921\"]]}],\"heatmapgl\":[{\"type\":\"heatmapgl\",\"colorbar\":{\"outlinewidth\":0,\"ticks\":\"\"},\"colorscale\":[[0.0,\"#0d0887\"],[0.1111111111111111,\"#46039f\"],[0.2222222222222222,\"#7201a8\"],[0.3333333333333333,\"#9c179e\"],[0.4444444444444444,\"#bd3786\"],[0.5555555555555556,\"#d8576b\"],[0.6666666666666666,\"#ed7953\"],[0.7777777777777778,\"#fb9f3a\"],[0.8888888888888888,\"#fdca26\"],[1.0,\"#f0f921\"]]}],\"contourcarpet\":[{\"type\":\"contourcarpet\",\"colorbar\":{\"outlinewidth\":0,\"ticks\":\"\"}}],\"contour\":[{\"type\":\"contour\",\"colorbar\":{\"outlinewidth\":0,\"ticks\":\"\"},\"colorscale\":[[0.0,\"#0d0887\"],[0.1111111111111111,\"#46039f\"],[0.2222222222222222,\"#7201a8\"],[0.3333333333333333,\"#9c179e\"],[0.4444444444444444,\"#bd3786\"],[0.5555555555555556,\"#d8576b\"],[0.6666666666666666,\"#ed7953\"],[0.7777777777777778,\"#fb9f3a\"],[0.8888888888888888,\"#fdca26\"],[1.0,\"#f0f921\"]]}],\"surface\":[{\"type\":\"surface\",\"colorbar\":{\"outlinewidth\":0,\"ticks\":\"\"},\"colorscale\":[[0.0,\"#0d0887\"],[0.1111111111111111,\"#46039f\"],[0.2222222222222222,\"#7201a8\"],[0.3333333333333333,\"#9c179e\"],[0.4444444444444444,\"#bd3786\"],[0.5555555555555556,\"#d8576b\"],[0.6666666666666666,\"#ed7953\"],[0.7777777777777778,\"#fb9f3a\"],[0.8888888888888888,\"#fdca26\"],[1.0,\"#f0f921\"]]}],\"mesh3d\":[{\"type\":\"mesh3d\",\"colorbar\":{\"outlinewidth\":0,\"ticks\":\"\"}}],\"scatter\":[{\"fillpattern\":{\"fillmode\":\"overlay\",\"size\":10,\"solidity\":0.2},\"type\":\"scatter\"}],\"parcoords\":[{\"type\":\"parcoords\",\"line\":{\"colorbar\":{\"outlinewidth\":0,\"ticks\":\"\"}}}],\"scatterpolargl\":[{\"type\":\"scatterpolargl\",\"marker\":{\"colorbar\":{\"outlinewidth\":0,\"ticks\":\"\"}}}],\"bar\":[{\"error_x\":{\"color\":\"#2a3f5f\"},\"error_y\":{\"color\":\"#2a3f5f\"},\"marker\":{\"line\":{\"color\":\"#E5ECF6\",\"width\":0.5},\"pattern\":{\"fillmode\":\"overlay\",\"size\":10,\"solidity\":0.2}},\"type\":\"bar\"}],\"scattergeo\":[{\"type\":\"scattergeo\",\"marker\":{\"colorbar\":{\"outlinewidth\":0,\"ticks\":\"\"}}}],\"scatterpolar\":[{\"type\":\"scatterpolar\",\"marker\":{\"colorbar\":{\"outlinewidth\":0,\"ticks\":\"\"}}}],\"histogram\":[{\"marker\":{\"pattern\":{\"fillmode\":\"overlay\",\"size\":10,\"solidity\":0.2}},\"type\":\"histogram\"}],\"scattergl\":[{\"type\":\"scattergl\",\"marker\":{\"colorbar\":{\"outlinewidth\":0,\"ticks\":\"\"}}}],\"scatter3d\":[{\"type\":\"scatter3d\",\"line\":{\"colorbar\":{\"outlinewidth\":0,\"ticks\":\"\"}},\"marker\":{\"colorbar\":{\"outlinewidth\":0,\"ticks\":\"\"}}}],\"scattermapbox\":[{\"type\":\"scattermapbox\",\"marker\":{\"colorbar\":{\"outlinewidth\":0,\"ticks\":\"\"}}}],\"scatterternary\":[{\"type\":\"scatterternary\",\"marker\":{\"colorbar\":{\"outlinewidth\":0,\"ticks\":\"\"}}}],\"scattercarpet\":[{\"type\":\"scattercarpet\",\"marker\":{\"colorbar\":{\"outlinewidth\":0,\"ticks\":\"\"}}}],\"carpet\":[{\"aaxis\":{\"endlinecolor\":\"#2a3f5f\",\"gridcolor\":\"white\",\"linecolor\":\"white\",\"minorgridcolor\":\"white\",\"startlinecolor\":\"#2a3f5f\"},\"baxis\":{\"endlinecolor\":\"#2a3f5f\",\"gridcolor\":\"white\",\"linecolor\":\"white\",\"minorgridcolor\":\"white\",\"startlinecolor\":\"#2a3f5f\"},\"type\":\"carpet\"}],\"table\":[{\"cells\":{\"fill\":{\"color\":\"#EBF0F8\"},\"line\":{\"color\":\"white\"}},\"header\":{\"fill\":{\"color\":\"#C8D4E3\"},\"line\":{\"color\":\"white\"}},\"type\":\"table\"}],\"barpolar\":[{\"marker\":{\"line\":{\"color\":\"#E5ECF6\",\"width\":0.5},\"pattern\":{\"fillmode\":\"overlay\",\"size\":10,\"solidity\":0.2}},\"type\":\"barpolar\"}],\"pie\":[{\"automargin\":true,\"type\":\"pie\"}]},\"layout\":{\"autotypenumbers\":\"strict\",\"colorway\":[\"#636efa\",\"#EF553B\",\"#00cc96\",\"#ab63fa\",\"#FFA15A\",\"#19d3f3\",\"#FF6692\",\"#B6E880\",\"#FF97FF\",\"#FECB52\"],\"font\":{\"color\":\"#2a3f5f\"},\"hovermode\":\"closest\",\"hoverlabel\":{\"align\":\"left\"},\"paper_bgcolor\":\"white\",\"plot_bgcolor\":\"#E5ECF6\",\"polar\":{\"bgcolor\":\"#E5ECF6\",\"angularaxis\":{\"gridcolor\":\"white\",\"linecolor\":\"white\",\"ticks\":\"\"},\"radialaxis\":{\"gridcolor\":\"white\",\"linecolor\":\"white\",\"ticks\":\"\"}},\"ternary\":{\"bgcolor\":\"#E5ECF6\",\"aaxis\":{\"gridcolor\":\"white\",\"linecolor\":\"white\",\"ticks\":\"\"},\"baxis\":{\"gridcolor\":\"white\",\"linecolor\":\"white\",\"ticks\":\"\"},\"caxis\":{\"gridcolor\":\"white\",\"linecolor\":\"white\",\"ticks\":\"\"}},\"coloraxis\":{\"colorbar\":{\"outlinewidth\":0,\"ticks\":\"\"}},\"colorscale\":{\"sequential\":[[0.0,\"#0d0887\"],[0.1111111111111111,\"#46039f\"],[0.2222222222222222,\"#7201a8\"],[0.3333333333333333,\"#9c179e\"],[0.4444444444444444,\"#bd3786\"],[0.5555555555555556,\"#d8576b\"],[0.6666666666666666,\"#ed7953\"],[0.7777777777777778,\"#fb9f3a\"],[0.8888888888888888,\"#fdca26\"],[1.0,\"#f0f921\"]],\"sequentialminus\":[[0.0,\"#0d0887\"],[0.1111111111111111,\"#46039f\"],[0.2222222222222222,\"#7201a8\"],[0.3333333333333333,\"#9c179e\"],[0.4444444444444444,\"#bd3786\"],[0.5555555555555556,\"#d8576b\"],[0.6666666666666666,\"#ed7953\"],[0.7777777777777778,\"#fb9f3a\"],[0.8888888888888888,\"#fdca26\"],[1.0,\"#f0f921\"]],\"diverging\":[[0,\"#8e0152\"],[0.1,\"#c51b7d\"],[0.2,\"#de77ae\"],[0.3,\"#f1b6da\"],[0.4,\"#fde0ef\"],[0.5,\"#f7f7f7\"],[0.6,\"#e6f5d0\"],[0.7,\"#b8e186\"],[0.8,\"#7fbc41\"],[0.9,\"#4d9221\"],[1,\"#276419\"]]},\"xaxis\":{\"gridcolor\":\"white\",\"linecolor\":\"white\",\"ticks\":\"\",\"title\":{\"standoff\":15},\"zerolinecolor\":\"white\",\"automargin\":true,\"zerolinewidth\":2},\"yaxis\":{\"gridcolor\":\"white\",\"linecolor\":\"white\",\"ticks\":\"\",\"title\":{\"standoff\":15},\"zerolinecolor\":\"white\",\"automargin\":true,\"zerolinewidth\":2},\"scene\":{\"xaxis\":{\"backgroundcolor\":\"#E5ECF6\",\"gridcolor\":\"white\",\"linecolor\":\"white\",\"showbackground\":true,\"ticks\":\"\",\"zerolinecolor\":\"white\",\"gridwidth\":2},\"yaxis\":{\"backgroundcolor\":\"#E5ECF6\",\"gridcolor\":\"white\",\"linecolor\":\"white\",\"showbackground\":true,\"ticks\":\"\",\"zerolinecolor\":\"white\",\"gridwidth\":2},\"zaxis\":{\"backgroundcolor\":\"#E5ECF6\",\"gridcolor\":\"white\",\"linecolor\":\"white\",\"showbackground\":true,\"ticks\":\"\",\"zerolinecolor\":\"white\",\"gridwidth\":2}},\"shapedefaults\":{\"line\":{\"color\":\"#2a3f5f\"}},\"annotationdefaults\":{\"arrowcolor\":\"#2a3f5f\",\"arrowhead\":0,\"arrowwidth\":1},\"geo\":{\"bgcolor\":\"white\",\"landcolor\":\"#E5ECF6\",\"subunitcolor\":\"white\",\"showland\":true,\"showlakes\":true,\"lakecolor\":\"white\"},\"title\":{\"x\":0.05},\"mapbox\":{\"style\":\"light\"}}},\"scene\":{\"domain\":{\"x\":[0.0,1.0],\"y\":[0.0,1.0]},\"xaxis\":{\"title\":{\"text\":\"cost\"}},\"yaxis\":{\"title\":{\"text\":\"wip\"}},\"zaxis\":{\"title\":{\"text\":\"throughput\"}}},\"legend\":{\"title\":{\"text\":\"is_efficient\"},\"tracegroupgap\":0},\"margin\":{\"t\":60}},                        {\"responsive\": true}                    ).then(function(){\n",
       "                            \n",
       "var gd = document.getElementById('08712430-dcb0-45f7-bfcd-570e4a99d978');\n",
       "var x = new MutationObserver(function (mutations, observer) {{\n",
       "        var display = window.getComputedStyle(gd).display;\n",
       "        if (!display || display === 'none') {{\n",
       "            console.log([gd, 'removed!']);\n",
       "            Plotly.purge(gd);\n",
       "            observer.disconnect();\n",
       "        }}\n",
       "}});\n",
       "\n",
       "// Listen for the removal of the full notebook cells\n",
       "var notebookContainer = gd.closest('#notebook-container');\n",
       "if (notebookContainer) {{\n",
       "    x.observe(notebookContainer, {childList: true});\n",
       "}}\n",
       "\n",
       "// Listen for the clearing of the current output cell\n",
       "var outputEl = gd.closest('.output');\n",
       "if (outputEl) {{\n",
       "    x.observe(outputEl, {childList: true});\n",
       "}}\n",
       "\n",
       "                        })                };                });            </script>        </div>"
      ]
     },
     "metadata": {},
     "output_type": "display_data"
    }
   ],
   "source": [
    "import plotly.express as px\n",
    "\n",
    "fig = px.scatter_3d(df, x='cost', y='wip', z='throughput', hover_data=['cost', 'Generation', 'population_number', 'agg_fitness'],\n",
    "              color=df['is_efficient'], color_continuous_scale=px.colors.sequential.Plotly3)\n",
    "fig.show()"
   ]
  },
  {
   "cell_type": "code",
   "execution_count": 529,
   "id": "0d8bba32-4f8d-44c0-9ef5-04b7585824db",
   "metadata": {},
   "outputs": [
    {
     "data": {
      "text/plain": [
       "(107, 8)"
      ]
     },
     "execution_count": 529,
     "metadata": {},
     "output_type": "execute_result"
    }
   ],
   "source": [
    "df.shape"
   ]
  },
  {
   "cell_type": "code",
   "execution_count": 246,
   "id": "7b20faad-d68e-451a-a52c-d322ef3d059e",
   "metadata": {},
   "outputs": [
    {
     "data": {
      "application/vnd.plotly.v1+json": {
       "config": {
        "plotlyServerURL": "https://plot.ly"
       },
       "data": [
        {
         "marker": {
          "color": [
           1,
           0,
           0,
           0,
           0,
           0,
           0,
           0,
           0,
           0,
           0,
           0,
           0,
           0,
           0,
           0,
           0,
           0,
           0,
           0,
           0,
           1,
           1,
           0,
           1,
           0,
           0,
           0,
           0,
           0,
           0,
           0,
           0,
           0,
           0,
           0,
           0,
           0,
           0,
           0,
           0,
           0,
           0,
           0,
           0,
           0,
           0,
           0,
           0,
           0,
           0,
           0,
           0,
           0,
           0,
           0,
           0,
           0,
           0,
           0,
           0,
           0,
           0,
           0,
           0,
           0,
           0,
           0,
           0,
           0,
           0,
           0,
           0,
           0,
           0,
           0,
           0,
           0,
           0,
           0,
           0,
           0,
           0,
           0,
           0,
           0,
           0,
           0,
           0,
           0,
           0,
           0,
           0,
           0,
           0,
           0,
           0,
           0,
           0,
           0,
           0,
           0,
           0,
           0,
           0,
           0,
           0,
           0,
           0,
           0,
           0,
           0,
           0,
           0,
           0,
           0,
           0,
           0,
           0,
           0,
           0,
           0,
           0,
           0,
           0,
           0,
           0,
           0,
           0,
           0,
           0,
           0,
           0,
           0,
           0,
           0,
           0,
           0,
           0,
           0,
           0,
           0,
           0,
           0,
           0,
           0,
           0,
           0,
           0,
           0,
           0,
           0,
           0,
           0,
           0,
           0,
           0,
           0,
           0,
           0,
           0,
           0,
           0,
           0,
           0,
           0,
           0,
           0,
           0,
           0,
           0,
           0,
           0,
           0,
           0,
           0,
           0,
           0,
           0,
           0,
           0,
           0,
           0,
           0,
           0,
           0,
           0,
           0,
           0,
           0,
           0,
           0,
           0,
           0,
           0,
           0,
           0,
           0,
           0,
           0,
           0,
           0,
           0,
           0,
           0,
           0,
           0,
           0,
           0,
           0,
           0,
           0,
           0,
           0,
           0,
           0,
           0,
           0,
           0,
           0,
           0,
           0,
           0,
           0,
           0,
           0,
           0,
           0,
           0,
           0,
           0,
           0,
           0,
           0,
           0,
           0,
           0,
           0,
           0,
           0,
           0,
           0,
           0,
           0,
           0,
           0,
           0,
           0,
           0,
           0,
           0,
           0,
           0,
           0,
           0,
           0,
           0,
           0,
           0,
           0,
           0,
           0,
           0,
           0,
           0,
           0,
           0,
           0,
           0,
           0,
           0,
           0,
           0,
           0,
           0,
           0,
           0,
           0,
           0,
           0,
           0,
           0,
           0,
           0,
           0,
           0,
           0,
           0,
           0,
           0,
           0,
           0,
           0,
           0,
           0,
           0,
           0,
           0,
           0,
           0,
           0,
           0,
           0,
           0,
           0,
           0,
           0,
           0,
           0,
           0,
           0,
           0,
           0,
           0,
           0,
           0,
           0,
           0,
           0,
           0,
           0,
           0,
           0,
           0,
           0,
           0,
           0,
           0,
           0,
           0,
           0,
           0,
           0,
           0,
           0,
           0,
           0,
           0,
           0,
           0,
           0,
           0,
           0,
           0,
           0,
           0,
           0,
           0,
           0,
           0,
           0,
           0,
           0,
           0,
           0,
           0,
           0,
           0,
           0,
           0,
           0,
           0,
           0,
           0,
           0,
           0,
           0,
           0,
           0,
           0,
           0,
           0,
           0,
           0,
           0,
           0,
           0,
           0,
           0,
           0,
           0,
           0,
           0,
           0,
           0,
           0,
           0,
           0,
           0,
           0,
           0,
           0,
           0,
           0,
           0,
           0,
           0,
           0,
           0,
           0,
           0,
           0,
           0,
           0,
           0,
           0,
           0,
           0,
           0,
           0,
           0,
           0,
           0,
           0,
           0,
           0,
           0,
           0,
           0,
           0,
           0,
           0,
           0,
           0,
           0,
           0,
           0,
           0,
           0,
           0,
           0,
           0,
           0,
           0,
           0,
           0,
           0,
           0,
           0,
           0,
           0,
           0,
           0,
           0,
           0,
           0,
           0,
           0,
           0,
           0,
           0,
           0,
           0,
           0,
           0,
           0,
           0,
           0,
           0,
           0,
           0,
           0,
           0,
           0,
           0,
           0,
           0,
           0,
           0,
           0,
           0,
           0,
           0,
           0,
           0,
           0,
           0,
           0,
           0,
           0,
           0,
           0,
           0,
           0,
           0,
           0,
           0,
           0,
           0,
           0,
           0,
           0,
           0,
           0,
           0,
           0,
           0,
           0,
           0,
           0,
           0,
           0
          ],
          "colorscale": [
           [
            0,
            "#440154"
           ],
           [
            0.1111111111111111,
            "#482878"
           ],
           [
            0.2222222222222222,
            "#3e4989"
           ],
           [
            0.3333333333333333,
            "#31688e"
           ],
           [
            0.4444444444444444,
            "#26828e"
           ],
           [
            0.5555555555555556,
            "#1f9e89"
           ],
           [
            0.6666666666666666,
            "#35b779"
           ],
           [
            0.7777777777777778,
            "#6ece58"
           ],
           [
            0.8888888888888888,
            "#b5de2b"
           ],
           [
            1,
            "#fde725"
           ]
          ],
          "opacity": 0.8,
          "size": 5
         },
         "mode": "markers",
         "type": "scatter3d",
         "x": [
          0,
          0,
          0,
          40000,
          40000,
          35000,
          35000,
          80000,
          85000,
          85000,
          85000,
          85000,
          85000,
          85000,
          85000,
          90000,
          90000,
          85000,
          45000,
          25000,
          50000,
          50000,
          50000,
          45000,
          50000,
          10000,
          25000,
          25000,
          25000,
          20000,
          45000,
          45000,
          45000,
          45000,
          45000,
          45000,
          45000,
          20000,
          20000,
          20000,
          20000,
          40000,
          40000,
          0,
          40000,
          20000,
          20000,
          0,
          0,
          0,
          0,
          5000,
          5000,
          5000,
          0,
          0,
          0,
          0,
          5000,
          5000,
          0,
          5000,
          5000,
          5000,
          5000,
          5000,
          10000,
          5000,
          0,
          0,
          0,
          0,
          0,
          0,
          0,
          0,
          0,
          0,
          20000,
          5000,
          5000,
          5000,
          5000,
          5000,
          5000,
          5000,
          5000,
          20000,
          20000,
          20000,
          25000,
          15000,
          10000,
          10000,
          10000,
          10000,
          5000,
          5000,
          5000,
          5000,
          5000,
          5000,
          5000,
          5000,
          10000,
          5000,
          10000,
          5000,
          10000,
          10000,
          5000,
          5000,
          5000,
          5000,
          5000,
          5000,
          5000,
          5000,
          10000,
          10000,
          10000,
          10000,
          10000,
          10000,
          10000,
          15000,
          15000,
          15000,
          15000,
          10000,
          5000,
          5000,
          0,
          0,
          0,
          0,
          0,
          0,
          0,
          5000,
          5000,
          0,
          0,
          0,
          0,
          0,
          0,
          0,
          0,
          0,
          0,
          0,
          0,
          0,
          0,
          0,
          0,
          0,
          0,
          0,
          0,
          0,
          5000,
          5000,
          5000,
          5000,
          5000,
          5000,
          5000,
          5000,
          5000,
          5000,
          5000,
          5000,
          5000,
          5000,
          0,
          0,
          5000,
          5000,
          5000,
          5000,
          5000,
          5000,
          0,
          0,
          0,
          5000,
          5000,
          5000,
          5000,
          5000,
          5000,
          5000,
          5000,
          5000,
          5000,
          5000,
          5000,
          5000,
          5000,
          5000,
          5000,
          5000,
          5000,
          5000,
          5000,
          5000,
          0,
          5000,
          5000,
          5000,
          5000,
          5000,
          5000,
          5000,
          5000,
          5000,
          5000,
          5000,
          5000,
          5000,
          5000,
          0,
          0,
          0,
          5000,
          5000,
          5000,
          0,
          0,
          0,
          0,
          0,
          0,
          0,
          0,
          0,
          0,
          0,
          0,
          0,
          0,
          0,
          0,
          0,
          0,
          0,
          0,
          0,
          0,
          5000,
          5000,
          5000,
          5000,
          5000,
          5000,
          5000,
          5000,
          5000,
          5000,
          5000,
          5000,
          5000,
          0,
          0,
          0,
          0,
          0,
          0,
          0,
          0,
          0,
          0,
          0,
          5000,
          5000,
          5000,
          0,
          0,
          0,
          0,
          5000,
          5000,
          5000,
          5000,
          5000,
          5000,
          5000,
          5000,
          5000,
          5000,
          5000,
          0,
          0,
          0,
          0,
          0,
          0,
          5000,
          5000,
          5000,
          5000,
          5000,
          5000,
          5000,
          5000,
          0,
          5000,
          5000,
          5000,
          5000,
          0,
          0,
          0,
          0,
          0,
          0,
          0,
          0,
          5000,
          0,
          0,
          0,
          0,
          0,
          0,
          0,
          0,
          0,
          0,
          0,
          0,
          0,
          5000,
          5000,
          5000,
          5000,
          5000,
          5000,
          0,
          0,
          0,
          0,
          0,
          0,
          0,
          0,
          0,
          0,
          5000,
          5000,
          5000,
          5000,
          5000,
          5000,
          5000,
          5000,
          5000,
          5000,
          5000,
          5000,
          0,
          5000,
          5000,
          5000,
          5000,
          0,
          0,
          0,
          5000,
          5000,
          0,
          0,
          0,
          0,
          0,
          0,
          0,
          0,
          0,
          0,
          0,
          0,
          0,
          0,
          5000,
          5000,
          5000,
          0,
          0,
          0,
          0,
          0,
          0,
          0,
          0,
          0,
          0,
          0,
          5000,
          5000,
          5000,
          5000,
          5000,
          5000,
          5000,
          5000,
          5000,
          5000,
          5000,
          5000,
          0,
          5000,
          5000,
          5000,
          5000,
          5000,
          5000,
          5000,
          5000,
          5000,
          5000,
          5000,
          5000,
          0,
          0,
          0,
          0,
          0,
          0,
          0,
          0,
          0,
          0,
          0,
          0,
          0,
          0,
          0,
          0,
          0,
          0,
          0,
          0,
          0,
          0,
          0,
          0,
          0,
          0,
          0,
          0,
          0,
          0,
          0,
          0,
          0,
          0,
          0,
          5000,
          5000,
          5000,
          5000,
          5000,
          5000,
          5000,
          5000,
          5000,
          5000,
          5000,
          5000,
          5000,
          5000,
          5000,
          5000,
          5000,
          5000,
          5000,
          5000,
          5000,
          5000,
          5000,
          5000,
          5000,
          5000,
          0,
          0,
          5000,
          5000,
          5000,
          5000,
          5000,
          5000,
          5000,
          0,
          0,
          0,
          0,
          0,
          5000,
          5000
         ],
         "y": [
          714,
          104,
          104,
          106,
          106,
          106,
          105,
          96,
          96,
          105,
          96,
          120,
          137,
          137,
          434,
          434,
          421,
          421,
          441,
          478,
          3445,
          3465,
          3504,
          242,
          3402,
          116,
          474,
          346,
          375,
          375,
          435,
          435,
          435,
          435,
          472,
          283,
          283,
          205,
          205,
          205,
          101,
          101,
          101,
          118,
          102,
          111,
          48,
          48,
          48,
          48,
          48,
          48,
          47,
          119,
          23,
          23,
          23,
          10,
          14,
          147,
          134,
          134,
          134,
          134,
          109,
          149,
          149,
          149,
          135,
          135,
          134,
          134,
          134,
          68,
          68,
          68,
          21,
          113,
          16,
          16,
          16,
          2,
          52,
          52,
          53,
          2,
          2,
          2,
          2,
          2,
          108,
          116,
          122,
          122,
          108,
          108,
          109,
          109,
          109,
          109,
          109,
          109,
          109,
          109,
          109,
          109,
          108,
          109,
          109,
          109,
          109,
          109,
          109,
          109,
          109,
          109,
          109,
          109,
          109,
          109,
          109,
          109,
          109,
          109,
          109,
          123,
          123,
          123,
          123,
          109,
          109,
          109,
          109,
          150,
          148,
          146,
          149,
          47,
          60,
          60,
          60,
          60,
          59,
          56,
          56,
          56,
          52,
          52,
          58,
          56,
          52,
          52,
          52,
          52,
          52,
          52,
          52,
          52,
          52,
          52,
          8,
          8,
          7,
          7,
          7,
          7,
          7,
          7,
          7,
          7,
          7,
          7,
          7,
          7,
          30,
          30,
          22,
          17,
          20,
          20,
          33,
          33,
          28,
          27,
          39,
          23,
          37,
          27,
          21,
          21,
          27,
          27,
          20,
          27,
          27,
          28,
          27,
          22,
          18,
          21,
          28,
          20,
          22,
          70,
          70,
          70,
          69,
          68,
          69,
          69,
          66,
          7,
          7,
          7,
          7,
          7,
          7,
          7,
          7,
          7,
          7,
          7,
          7,
          7,
          7,
          66,
          69,
          70,
          70,
          66,
          66,
          66,
          66,
          67,
          65,
          65,
          65,
          65,
          68,
          68,
          68,
          161,
          169,
          168,
          163,
          165,
          167,
          168,
          18,
          18,
          18,
          18,
          13,
          18,
          17,
          17,
          20,
          19,
          13,
          17,
          18,
          19,
          19,
          20,
          19,
          19,
          19,
          20,
          0,
          19,
          20,
          20,
          34,
          33,
          33,
          29,
          37,
          20,
          39,
          19,
          59,
          59,
          82,
          82,
          82,
          82,
          82,
          81,
          82,
          81,
          81,
          104,
          104,
          104,
          105,
          105,
          104,
          104,
          104,
          104,
          81,
          81,
          82,
          81,
          81,
          81,
          82,
          0,
          82,
          81,
          81,
          81,
          58,
          58,
          58,
          58,
          58,
          0,
          99,
          50,
          49,
          49,
          48,
          48,
          48,
          48,
          48,
          48,
          0,
          48,
          0,
          48,
          34,
          35,
          35,
          35,
          35,
          35,
          35,
          35,
          35,
          35,
          37,
          37,
          37,
          37,
          37,
          37,
          37,
          37,
          109,
          109,
          109,
          108,
          108,
          108,
          108,
          108,
          108,
          108,
          108,
          108,
          108,
          108,
          109,
          134,
          134,
          134,
          134,
          133,
          133,
          133,
          34,
          40,
          47,
          47,
          57,
          38,
          34,
          37,
          35,
          39,
          133,
          108,
          108,
          108,
          108,
          111,
          133,
          76,
          76,
          76,
          76,
          76,
          76,
          76,
          75,
          51,
          51,
          51,
          51,
          51,
          51,
          51,
          51,
          51,
          51,
          51,
          51,
          51,
          51,
          51,
          51,
          118,
          118,
          119,
          118,
          118,
          119,
          119,
          117,
          122,
          123,
          122,
          107,
          165,
          121,
          170,
          160,
          130,
          177,
          177,
          172,
          161,
          163,
          193,
          198,
          198,
          191,
          19,
          19,
          19,
          0,
          18,
          3,
          21,
          21,
          21,
          21,
          18,
          18,
          18,
          18,
          25,
          18,
          25,
          25,
          25,
          25,
          25,
          25,
          0,
          25,
          25,
          25,
          25,
          25,
          18,
          0,
          19,
          19,
          19,
          22,
          19,
          19,
          25,
          19,
          19,
          22,
          22,
          18,
          18,
          18,
          25,
          25,
          25,
          25,
          25,
          25,
          25,
          25,
          25,
          25,
          25,
          25,
          25,
          24,
          24,
          24,
          25,
          108,
          108
         ],
         "z": [
          459.2806007239751,
          204.54129029917573,
          204.54129029917573,
          203.73469375862973,
          203.73469375862973,
          203.73469375862973,
          205.1383814822962,
          195.8028399729412,
          195.8028399729412,
          208.9764554513086,
          195.7403818388403,
          21.747576314301696,
          23.855868611580323,
          23.855868611580323,
          241.96115178056922,
          241.96033704505754,
          236.88712492973906,
          236.88712492973906,
          259.7023984548419,
          228.04632242095033,
          28.491079749448296,
          25.548350141957947,
          28.287042863359083,
          178.3956043457526,
          25.376131546075307,
          18.682417834002514,
          224.02084924895584,
          148.55805281473428,
          249.82018832346307,
          249.82018832346307,
          214.1180909217155,
          214.1191651005105,
          214.1191651005105,
          214.1191651005105,
          209.21795283375283,
          291.29154125638274,
          291.29154125638274,
          303.1446073220627,
          305.7019846797063,
          305.7019846797063,
          362.1710530299056,
          362.1710530299056,
          362.1710530299056,
          350.061192670921,
          352.3441228618767,
          346.18374844766026,
          193.6666066199339,
          193.97247152656146,
          193.97247152656146,
          193.97247152656146,
          193.93878136823324,
          193.6622186000982,
          198.60023132341973,
          219.702153997701,
          217.17974985704245,
          217.17974985704245,
          217.1917063787816,
          14.787976864893277,
          16.03569888091652,
          28.882661554957032,
          25.84806846670236,
          25.84806846670236,
          23.6816887612396,
          23.54109330344771,
          205.34964190609045,
          24.597886391081687,
          24.597886391081687,
          24.586509565721467,
          23.55554145572711,
          24.890024819662006,
          25.44313253142701,
          25.479569008499627,
          26.21481724956925,
          203.19827897036802,
          194.0931561495545,
          195.1892147088428,
          24.478062622630162,
          284.9080093356705,
          27.589059515876727,
          23.957644465556694,
          23.91380954450497,
          231.17116534618287,
          268.2434126745371,
          268.19489867345993,
          258.261269308728,
          231.4200371013872,
          231.4200371013872,
          231.3575371013872,
          231.3575371013872,
          231.3575371013872,
          223.89806410287062,
          206.51894398306916,
          216.12793073351514,
          216.12793073351514,
          195.0709469296836,
          195.03204546850645,
          211.2948862382199,
          206.04014800326146,
          206.04014800326146,
          206.04014800326146,
          206.04014800326146,
          206.04014800326146,
          205.4117758576129,
          205.4117758576129,
          194.0252759304922,
          212.17318880614596,
          194.8871609298413,
          212.00565567407102,
          195.63776089637548,
          195.63776089637548,
          203.83542558380762,
          203.70604143835087,
          203.70604143835087,
          203.69472257042423,
          203.83840917075517,
          203.83840917075517,
          212.00019046647768,
          212.00019046647768,
          212.00019046647768,
          212.33055516433174,
          211.55218608958253,
          211.55218608958253,
          211.0600525903709,
          210.9689483638825,
          210.9689483638825,
          216.62321690090658,
          216.5971176858184,
          216.31131136611367,
          216.37774142031208,
          210.38794760594,
          210.38794760594,
          209.34403079380414,
          209.34403079380414,
          42.36430684257133,
          44.615222626689935,
          42.3725720035552,
          49.8457865565067,
          196.59225331489893,
          216.22332669785774,
          216.22332669785774,
          216.22332669785774,
          216.22332669785774,
          214.85724337634505,
          233.08678166673695,
          233.08678166673695,
          233.75315579512898,
          213.4630004695984,
          213.4814299567779,
          237.0482523220989,
          218.56174734910724,
          213.38073533858415,
          213.4164619272559,
          212.454656513723,
          212.315968628205,
          213.2506207982857,
          213.1652542081141,
          213.35716935318985,
          212.43083039725178,
          212.41672783314922,
          212.4979236646383,
          241.43379787888057,
          241.373852666086,
          238.99607404700728,
          239.00959767771343,
          238.30008605893778,
          238.54139566135183,
          238.44727233455018,
          238.6094477304528,
          238.78934387905568,
          238.57386708588152,
          239.18275726525027,
          239.2337951523911,
          238.7465913047538,
          239.53054279701436,
          22.427280117495783,
          22.522327211750873,
          22.80152694331572,
          20.068870045219928,
          23.603992144096726,
          22.96635773798635,
          26.34806944966489,
          26.34806944966489,
          24.157184097173477,
          28.67314662851827,
          45.66523827500888,
          30.31282564231685,
          47.01329120013739,
          24.83322394307808,
          23.25041842549728,
          23.38529952682183,
          27.320666623008897,
          27.664531430095995,
          22.876719052327985,
          23.550884314095065,
          23.905812272232396,
          22.211372630831516,
          28.97530936931142,
          22.38488899784972,
          21.106650201284587,
          24.63076077782896,
          23.256274680581775,
          23.20204821412581,
          22.065768415469183,
          213.9008374587225,
          213.9008374587225,
          213.9008374587225,
          212.38586126510657,
          211.0044526831968,
          215.51825243188884,
          215.51825243188884,
          214.222502751092,
          239.38593488871305,
          239.54783965061782,
          239.74553678557692,
          239.90039991133835,
          239.90039991133835,
          240.08057738099927,
          240.1648953658743,
          240.1648953658743,
          240.08057738099927,
          239.73135085482747,
          239.70652340696614,
          239.9092839117489,
          239.9092839117489,
          239.70652340696614,
          214.4747915047476,
          212.84832896324684,
          212.72362740058517,
          212.7318646045259,
          213.86882817155148,
          213.9813576142592,
          213.8459037608959,
          213.81762093261307,
          226.21942032530836,
          220.44591475594916,
          214.98002714708872,
          208.72953502430082,
          210.04998237557504,
          213.1976693038547,
          213.21165812019774,
          213.9044440858248,
          171.21476148773127,
          171.81388525526452,
          173.85722969493003,
          157.45710285384868,
          158.51671739266794,
          166.74090688891428,
          167.945968926222,
          19.086046747701275,
          21.058527075968655,
          21.058527075968655,
          19.75866979952933,
          16.877729973646744,
          18.747444625087425,
          17.422131068586268,
          17.422131068586268,
          17.79304009863447,
          18.012392019555804,
          17.0569881179292,
          20.26997877193894,
          20.303622768246772,
          17.68668359423793,
          17.198484741288237,
          17.79304009863447,
          17.501699416032913,
          17.501699416032913,
          17.35748169505079,
          17.729486321048995,
          100000,
          16.213667714170636,
          16.87626773417,
          17.717125731141756,
          21.441097492723767,
          21.42731136297172,
          18.67654553124388,
          20.56472965559468,
          20.201117229315088,
          18.837698029691165,
          24.028157320272555,
          19.352903240832802,
          217.8118191995808,
          217.7550297010977,
          215.79749817025808,
          215.35173910775308,
          213.10196992978769,
          213.5478179968596,
          213.61631800524552,
          212.91115015619195,
          213.55030070107068,
          212.0251093486613,
          211.80489711077283,
          20.804949583169062,
          20.7243844366115,
          20.7243844366115,
          20.803763825678093,
          21.15973241080295,
          21.091055173812734,
          22.583827684828684,
          24.157496485444092,
          24.157496485444092,
          216.01923920605083,
          212.26974278433346,
          213.33287331943006,
          211.79609052188638,
          212.2638196350789,
          212.2638196350789,
          213.657201703855,
          100000,
          213.657201703855,
          212.2638196350789,
          215.2141885228725,
          216.12374349401478,
          224.34467981926318,
          224.8641190574246,
          223.65939977252486,
          223.6780610795411,
          224.78909158945936,
          100000,
          111.69588856108997,
          201.7969209108018,
          193.23241880562398,
          200.27974528804336,
          198.57316653483517,
          199.1602027208795,
          199.33926229053665,
          199.59914078738473,
          199.43151589820425,
          199.43151589820425,
          100000,
          199.68234725489484,
          100000,
          199.15978777346774,
          213.45329312467038,
          215.5519482852219,
          215.5519482852219,
          215.56447096103642,
          214.94098336754732,
          214.94098336754732,
          207.03316826714527,
          207.30773589871436,
          207.30773589871436,
          206.79784995278084,
          219.2704360532371,
          219.3938930585116,
          219.2943429666896,
          219.35789341735173,
          219.35789341735173,
          219.44347208704778,
          219.40426075192198,
          219.22609423517434,
          205.35902529923084,
          205.64406485820209,
          207.44855629912138,
          206.81544536965575,
          206.68086284811085,
          206.57408074335157,
          206.50840119137607,
          206.54766387942058,
          205.92903576125227,
          206.06101159300147,
          205.86149414679986,
          205.9829288773848,
          205.9829288773848,
          205.9829288773848,
          205.75775278356676,
          26.678385820253926,
          26.657832165046024,
          26.657832165046024,
          26.677903896770005,
          28.541891857329176,
          28.541891857329176,
          28.02364531979258,
          29.24113570701818,
          31.64409666431451,
          28.01536197790586,
          28.70277562723183,
          26.48450864750233,
          29.439203693084465,
          27.349202080207775,
          32.0367798119199,
          27.69430773985222,
          33.10343071411729,
          28.394342436510062,
          206.01167082937187,
          204.20205849217996,
          206.68988169243588,
          206.68988169243588,
          215.96090356909033,
          27.202054777616357,
          25.30364085063326,
          30.60360247199692,
          30.689471616468563,
          25.519353015101526,
          30.588697366977655,
          30.59799273431998,
          30.440879532475126,
          29.463139041827255,
          203.1846661371528,
          203.18826090839462,
          203.083570681944,
          203.083570681944,
          203.08582761798368,
          203.12849941596738,
          203.12849941596738,
          203.0987006086224,
          203.10678131372197,
          203.10678131372197,
          203.1184132665712,
          203.5392984608851,
          203.56095430258617,
          203.61659700559693,
          203.64172798437681,
          203.64172798437681,
          289.95357461184994,
          291.58817960566256,
          291.75080951317585,
          288.9525690858549,
          288.9525690858549,
          291.75080951317585,
          291.7188278376612,
          209.04552869983786,
          203.4949668258671,
          203.1235928610672,
          188.94381195122253,
          203.85882576850977,
          213.70496194153685,
          295.3822413327979,
          193.43680718178575,
          182.8268466546534,
          185.979150648873,
          210.4977595363104,
          210.4977595363104,
          196.16022992450607,
          207.8407511034144,
          200.7489832289293,
          195.05313972979963,
          44.13172970674483,
          44.13172970674483,
          49.30071077943541,
          18.503699157203833,
          18.503699157203833,
          18.494502086592004,
          100000,
          21.440357314585484,
          229.26117463029894,
          24.159424801575987,
          22.320591924680397,
          22.360371422620982,
          24.172019479928935,
          21.461190647918826,
          21.461190647918826,
          21.35869482475424,
          20.783737638188747,
          219.44451424050303,
          20.783737638188747,
          219.44451424050303,
          219.67485265615417,
          219.67485265615417,
          219.57107391813287,
          219.44451424050303,
          219.5440694568859,
          100000,
          219.6272243768082,
          219.77603811145832,
          219.89116335248542,
          219.89116335248542,
          219.58818741281794,
          17.984410197183944,
          100000,
          18.841864051960723,
          19.543872543598233,
          18.77315641432364,
          19.3157427296288,
          18.034647093993055,
          18.018371547625822,
          219.66040407708758,
          18.57999883585572,
          19.35071496513031,
          19.5223999618364,
          19.934273108085403,
          17.934452888084543,
          18.206860346149508,
          18.206860346149508,
          219.5236751008005,
          219.44310940151303,
          219.43943398887288,
          219.43943398887288,
          219.43943398887288,
          219.43943398887288,
          219.44310940151303,
          219.44310940151303,
          219.44310940151303,
          219.39260065553958,
          219.39260065553958,
          219.44310940151303,
          219.1885696242284,
          216.53548442554322,
          216.5568385922099,
          216.52558859220994,
          219.19406962422846,
          210.39767257844002,
          206.42247778251328
         ]
        },
        {
         "color": "grey",
         "opacity": 0.5,
         "type": "mesh3d",
         "x": [
          0,
          50000,
          50000,
          50000
         ],
         "y": [
          714,
          3465,
          3504,
          3402
         ],
         "z": [
          459.2806007239751,
          25.548350141957947,
          28.287042863359083,
          25.376131546075307
         ]
        }
       ],
       "layout": {
        "autosize": true,
        "scene": {
         "aspectmode": "auto",
         "aspectratio": {
          "x": 1,
          "y": 1,
          "z": 1
         }
        },
        "template": {
         "data": {
          "bar": [
           {
            "error_x": {
             "color": "#2a3f5f"
            },
            "error_y": {
             "color": "#2a3f5f"
            },
            "marker": {
             "line": {
              "color": "#E5ECF6",
              "width": 0.5
             },
             "pattern": {
              "fillmode": "overlay",
              "size": 10,
              "solidity": 0.2
             }
            },
            "type": "bar"
           }
          ],
          "barpolar": [
           {
            "marker": {
             "line": {
              "color": "#E5ECF6",
              "width": 0.5
             },
             "pattern": {
              "fillmode": "overlay",
              "size": 10,
              "solidity": 0.2
             }
            },
            "type": "barpolar"
           }
          ],
          "carpet": [
           {
            "aaxis": {
             "endlinecolor": "#2a3f5f",
             "gridcolor": "white",
             "linecolor": "white",
             "minorgridcolor": "white",
             "startlinecolor": "#2a3f5f"
            },
            "baxis": {
             "endlinecolor": "#2a3f5f",
             "gridcolor": "white",
             "linecolor": "white",
             "minorgridcolor": "white",
             "startlinecolor": "#2a3f5f"
            },
            "type": "carpet"
           }
          ],
          "choropleth": [
           {
            "colorbar": {
             "outlinewidth": 0,
             "ticks": ""
            },
            "type": "choropleth"
           }
          ],
          "contour": [
           {
            "colorbar": {
             "outlinewidth": 0,
             "ticks": ""
            },
            "colorscale": [
             [
              0,
              "#0d0887"
             ],
             [
              0.1111111111111111,
              "#46039f"
             ],
             [
              0.2222222222222222,
              "#7201a8"
             ],
             [
              0.3333333333333333,
              "#9c179e"
             ],
             [
              0.4444444444444444,
              "#bd3786"
             ],
             [
              0.5555555555555556,
              "#d8576b"
             ],
             [
              0.6666666666666666,
              "#ed7953"
             ],
             [
              0.7777777777777778,
              "#fb9f3a"
             ],
             [
              0.8888888888888888,
              "#fdca26"
             ],
             [
              1,
              "#f0f921"
             ]
            ],
            "type": "contour"
           }
          ],
          "contourcarpet": [
           {
            "colorbar": {
             "outlinewidth": 0,
             "ticks": ""
            },
            "type": "contourcarpet"
           }
          ],
          "heatmap": [
           {
            "colorbar": {
             "outlinewidth": 0,
             "ticks": ""
            },
            "colorscale": [
             [
              0,
              "#0d0887"
             ],
             [
              0.1111111111111111,
              "#46039f"
             ],
             [
              0.2222222222222222,
              "#7201a8"
             ],
             [
              0.3333333333333333,
              "#9c179e"
             ],
             [
              0.4444444444444444,
              "#bd3786"
             ],
             [
              0.5555555555555556,
              "#d8576b"
             ],
             [
              0.6666666666666666,
              "#ed7953"
             ],
             [
              0.7777777777777778,
              "#fb9f3a"
             ],
             [
              0.8888888888888888,
              "#fdca26"
             ],
             [
              1,
              "#f0f921"
             ]
            ],
            "type": "heatmap"
           }
          ],
          "heatmapgl": [
           {
            "colorbar": {
             "outlinewidth": 0,
             "ticks": ""
            },
            "colorscale": [
             [
              0,
              "#0d0887"
             ],
             [
              0.1111111111111111,
              "#46039f"
             ],
             [
              0.2222222222222222,
              "#7201a8"
             ],
             [
              0.3333333333333333,
              "#9c179e"
             ],
             [
              0.4444444444444444,
              "#bd3786"
             ],
             [
              0.5555555555555556,
              "#d8576b"
             ],
             [
              0.6666666666666666,
              "#ed7953"
             ],
             [
              0.7777777777777778,
              "#fb9f3a"
             ],
             [
              0.8888888888888888,
              "#fdca26"
             ],
             [
              1,
              "#f0f921"
             ]
            ],
            "type": "heatmapgl"
           }
          ],
          "histogram": [
           {
            "marker": {
             "pattern": {
              "fillmode": "overlay",
              "size": 10,
              "solidity": 0.2
             }
            },
            "type": "histogram"
           }
          ],
          "histogram2d": [
           {
            "colorbar": {
             "outlinewidth": 0,
             "ticks": ""
            },
            "colorscale": [
             [
              0,
              "#0d0887"
             ],
             [
              0.1111111111111111,
              "#46039f"
             ],
             [
              0.2222222222222222,
              "#7201a8"
             ],
             [
              0.3333333333333333,
              "#9c179e"
             ],
             [
              0.4444444444444444,
              "#bd3786"
             ],
             [
              0.5555555555555556,
              "#d8576b"
             ],
             [
              0.6666666666666666,
              "#ed7953"
             ],
             [
              0.7777777777777778,
              "#fb9f3a"
             ],
             [
              0.8888888888888888,
              "#fdca26"
             ],
             [
              1,
              "#f0f921"
             ]
            ],
            "type": "histogram2d"
           }
          ],
          "histogram2dcontour": [
           {
            "colorbar": {
             "outlinewidth": 0,
             "ticks": ""
            },
            "colorscale": [
             [
              0,
              "#0d0887"
             ],
             [
              0.1111111111111111,
              "#46039f"
             ],
             [
              0.2222222222222222,
              "#7201a8"
             ],
             [
              0.3333333333333333,
              "#9c179e"
             ],
             [
              0.4444444444444444,
              "#bd3786"
             ],
             [
              0.5555555555555556,
              "#d8576b"
             ],
             [
              0.6666666666666666,
              "#ed7953"
             ],
             [
              0.7777777777777778,
              "#fb9f3a"
             ],
             [
              0.8888888888888888,
              "#fdca26"
             ],
             [
              1,
              "#f0f921"
             ]
            ],
            "type": "histogram2dcontour"
           }
          ],
          "mesh3d": [
           {
            "colorbar": {
             "outlinewidth": 0,
             "ticks": ""
            },
            "type": "mesh3d"
           }
          ],
          "parcoords": [
           {
            "line": {
             "colorbar": {
              "outlinewidth": 0,
              "ticks": ""
             }
            },
            "type": "parcoords"
           }
          ],
          "pie": [
           {
            "automargin": true,
            "type": "pie"
           }
          ],
          "scatter": [
           {
            "fillpattern": {
             "fillmode": "overlay",
             "size": 10,
             "solidity": 0.2
            },
            "type": "scatter"
           }
          ],
          "scatter3d": [
           {
            "line": {
             "colorbar": {
              "outlinewidth": 0,
              "ticks": ""
             }
            },
            "marker": {
             "colorbar": {
              "outlinewidth": 0,
              "ticks": ""
             }
            },
            "type": "scatter3d"
           }
          ],
          "scattercarpet": [
           {
            "marker": {
             "colorbar": {
              "outlinewidth": 0,
              "ticks": ""
             }
            },
            "type": "scattercarpet"
           }
          ],
          "scattergeo": [
           {
            "marker": {
             "colorbar": {
              "outlinewidth": 0,
              "ticks": ""
             }
            },
            "type": "scattergeo"
           }
          ],
          "scattergl": [
           {
            "marker": {
             "colorbar": {
              "outlinewidth": 0,
              "ticks": ""
             }
            },
            "type": "scattergl"
           }
          ],
          "scattermapbox": [
           {
            "marker": {
             "colorbar": {
              "outlinewidth": 0,
              "ticks": ""
             }
            },
            "type": "scattermapbox"
           }
          ],
          "scatterpolar": [
           {
            "marker": {
             "colorbar": {
              "outlinewidth": 0,
              "ticks": ""
             }
            },
            "type": "scatterpolar"
           }
          ],
          "scatterpolargl": [
           {
            "marker": {
             "colorbar": {
              "outlinewidth": 0,
              "ticks": ""
             }
            },
            "type": "scatterpolargl"
           }
          ],
          "scatterternary": [
           {
            "marker": {
             "colorbar": {
              "outlinewidth": 0,
              "ticks": ""
             }
            },
            "type": "scatterternary"
           }
          ],
          "surface": [
           {
            "colorbar": {
             "outlinewidth": 0,
             "ticks": ""
            },
            "colorscale": [
             [
              0,
              "#0d0887"
             ],
             [
              0.1111111111111111,
              "#46039f"
             ],
             [
              0.2222222222222222,
              "#7201a8"
             ],
             [
              0.3333333333333333,
              "#9c179e"
             ],
             [
              0.4444444444444444,
              "#bd3786"
             ],
             [
              0.5555555555555556,
              "#d8576b"
             ],
             [
              0.6666666666666666,
              "#ed7953"
             ],
             [
              0.7777777777777778,
              "#fb9f3a"
             ],
             [
              0.8888888888888888,
              "#fdca26"
             ],
             [
              1,
              "#f0f921"
             ]
            ],
            "type": "surface"
           }
          ],
          "table": [
           {
            "cells": {
             "fill": {
              "color": "#EBF0F8"
             },
             "line": {
              "color": "white"
             }
            },
            "header": {
             "fill": {
              "color": "#C8D4E3"
             },
             "line": {
              "color": "white"
             }
            },
            "type": "table"
           }
          ]
         },
         "layout": {
          "annotationdefaults": {
           "arrowcolor": "#2a3f5f",
           "arrowhead": 0,
           "arrowwidth": 1
          },
          "autotypenumbers": "strict",
          "coloraxis": {
           "colorbar": {
            "outlinewidth": 0,
            "ticks": ""
           }
          },
          "colorscale": {
           "diverging": [
            [
             0,
             "#8e0152"
            ],
            [
             0.1,
             "#c51b7d"
            ],
            [
             0.2,
             "#de77ae"
            ],
            [
             0.3,
             "#f1b6da"
            ],
            [
             0.4,
             "#fde0ef"
            ],
            [
             0.5,
             "#f7f7f7"
            ],
            [
             0.6,
             "#e6f5d0"
            ],
            [
             0.7,
             "#b8e186"
            ],
            [
             0.8,
             "#7fbc41"
            ],
            [
             0.9,
             "#4d9221"
            ],
            [
             1,
             "#276419"
            ]
           ],
           "sequential": [
            [
             0,
             "#0d0887"
            ],
            [
             0.1111111111111111,
             "#46039f"
            ],
            [
             0.2222222222222222,
             "#7201a8"
            ],
            [
             0.3333333333333333,
             "#9c179e"
            ],
            [
             0.4444444444444444,
             "#bd3786"
            ],
            [
             0.5555555555555556,
             "#d8576b"
            ],
            [
             0.6666666666666666,
             "#ed7953"
            ],
            [
             0.7777777777777778,
             "#fb9f3a"
            ],
            [
             0.8888888888888888,
             "#fdca26"
            ],
            [
             1,
             "#f0f921"
            ]
           ],
           "sequentialminus": [
            [
             0,
             "#0d0887"
            ],
            [
             0.1111111111111111,
             "#46039f"
            ],
            [
             0.2222222222222222,
             "#7201a8"
            ],
            [
             0.3333333333333333,
             "#9c179e"
            ],
            [
             0.4444444444444444,
             "#bd3786"
            ],
            [
             0.5555555555555556,
             "#d8576b"
            ],
            [
             0.6666666666666666,
             "#ed7953"
            ],
            [
             0.7777777777777778,
             "#fb9f3a"
            ],
            [
             0.8888888888888888,
             "#fdca26"
            ],
            [
             1,
             "#f0f921"
            ]
           ]
          },
          "colorway": [
           "#636efa",
           "#EF553B",
           "#00cc96",
           "#ab63fa",
           "#FFA15A",
           "#19d3f3",
           "#FF6692",
           "#B6E880",
           "#FF97FF",
           "#FECB52"
          ],
          "font": {
           "color": "#2a3f5f"
          },
          "geo": {
           "bgcolor": "white",
           "lakecolor": "white",
           "landcolor": "#E5ECF6",
           "showlakes": true,
           "showland": true,
           "subunitcolor": "white"
          },
          "hoverlabel": {
           "align": "left"
          },
          "hovermode": "closest",
          "mapbox": {
           "style": "light"
          },
          "paper_bgcolor": "white",
          "plot_bgcolor": "#E5ECF6",
          "polar": {
           "angularaxis": {
            "gridcolor": "white",
            "linecolor": "white",
            "ticks": ""
           },
           "bgcolor": "#E5ECF6",
           "radialaxis": {
            "gridcolor": "white",
            "linecolor": "white",
            "ticks": ""
           }
          },
          "scene": {
           "xaxis": {
            "backgroundcolor": "#E5ECF6",
            "gridcolor": "white",
            "gridwidth": 2,
            "linecolor": "white",
            "showbackground": true,
            "ticks": "",
            "zerolinecolor": "white"
           },
           "yaxis": {
            "backgroundcolor": "#E5ECF6",
            "gridcolor": "white",
            "gridwidth": 2,
            "linecolor": "white",
            "showbackground": true,
            "ticks": "",
            "zerolinecolor": "white"
           },
           "zaxis": {
            "backgroundcolor": "#E5ECF6",
            "gridcolor": "white",
            "gridwidth": 2,
            "linecolor": "white",
            "showbackground": true,
            "ticks": "",
            "zerolinecolor": "white"
           }
          },
          "shapedefaults": {
           "line": {
            "color": "#2a3f5f"
           }
          },
          "ternary": {
           "aaxis": {
            "gridcolor": "white",
            "linecolor": "white",
            "ticks": ""
           },
           "baxis": {
            "gridcolor": "white",
            "linecolor": "white",
            "ticks": ""
           },
           "bgcolor": "#E5ECF6",
           "caxis": {
            "gridcolor": "white",
            "linecolor": "white",
            "ticks": ""
           }
          },
          "title": {
           "x": 0.05
          },
          "xaxis": {
           "automargin": true,
           "gridcolor": "white",
           "linecolor": "white",
           "ticks": "",
           "title": {
            "standoff": 15
           },
           "zerolinecolor": "white",
           "zerolinewidth": 2
          },
          "yaxis": {
           "automargin": true,
           "gridcolor": "white",
           "linecolor": "white",
           "ticks": "",
           "title": {
            "standoff": 15
           },
           "zerolinecolor": "white",
           "zerolinewidth": 2
          }
         }
        }
       }
      },
      "image/png": "[encoded data removed]",
      "text/html": [
       "<div>                            <div id=\"f46d2801-fca7-4d89-8394-98ae5be95a99\" class=\"plotly-graph-div\" style=\"height:525px; width:100%;\"></div>            <script type=\"text/javascript\">                require([\"plotly\"], function(Plotly) {                    window.PLOTLYENV=window.PLOTLYENV || {};                                    if (document.getElementById(\"f46d2801-fca7-4d89-8394-98ae5be95a99\")) {                    Plotly.newPlot(                        \"f46d2801-fca7-4d89-8394-98ae5be95a99\",                        [{\"marker\":{\"color\":[1,0,0,0,0,0,0,0,0,0,0,0,0,0,0,0,0,0,0,0,0,1,1,0,1,0,0,0,0,0,0,0,0,0,0,0,0,0,0,0,0,0,0,0,0,0,0,0,0,0,0,0,0,0,0,0,0,0,0,0,0,0,0,0,0,0,0,0,0,0,0,0,0,0,0,0,0,0,0,0,0,0,0,0,0,0,0,0,0,0,0,0,0,0,0,0,0,0,0,0,0,0,0,0,0,0,0,0,0,0,0,0,0,0,0,0,0,0,0,0,0,0,0,0,0,0,0,0,0,0,0,0,0,0,0,0,0,0,0,0,0,0,0,0,0,0,0,0,0,0,0,0,0,0,0,0,0,0,0,0,0,0,0,0,0,0,0,0,0,0,0,0,0,0,0,0,0,0,0,0,0,0,0,0,0,0,0,0,0,0,0,0,0,0,0,0,0,0,0,0,0,0,0,0,0,0,0,0,0,0,0,0,0,0,0,0,0,0,0,0,0,0,0,0,0,0,0,0,0,0,0,0,0,0,0,0,0,0,0,0,0,0,0,0,0,0,0,0,0,0,0,0,0,0,0,0,0,0,0,0,0,0,0,0,0,0,0,0,0,0,0,0,0,0,0,0,0,0,0,0,0,0,0,0,0,0,0,0,0,0,0,0,0,0,0,0,0,0,0,0,0,0,0,0,0,0,0,0,0,0,0,0,0,0,0,0,0,0,0,0,0,0,0,0,0,0,0,0,0,0,0,0,0,0,0,0,0,0,0,0,0,0,0,0,0,0,0,0,0,0,0,0,0,0,0,0,0,0,0,0,0,0,0,0,0,0,0,0,0,0,0,0,0,0,0,0,0,0,0,0,0,0,0,0,0,0,0,0,0,0,0,0,0,0,0,0,0,0,0,0,0,0,0,0,0,0,0,0,0,0,0,0,0,0,0,0,0,0,0,0,0,0,0,0,0,0,0,0,0,0,0,0,0,0,0,0,0,0,0,0,0,0,0,0,0,0,0,0,0,0,0,0,0,0,0,0,0,0,0,0,0,0,0,0,0,0,0,0,0,0,0,0,0,0,0,0,0,0,0,0,0,0,0,0,0,0,0,0,0,0,0,0,0,0,0,0,0,0,0,0,0,0],\"colorscale\":[[0.0,\"#440154\"],[0.1111111111111111,\"#482878\"],[0.2222222222222222,\"#3e4989\"],[0.3333333333333333,\"#31688e\"],[0.4444444444444444,\"#26828e\"],[0.5555555555555556,\"#1f9e89\"],[0.6666666666666666,\"#35b779\"],[0.7777777777777778,\"#6ece58\"],[0.8888888888888888,\"#b5de2b\"],[1.0,\"#fde725\"]],\"opacity\":0.8,\"size\":5},\"mode\":\"markers\",\"x\":[0.0,0.0,0.0,40000.0,40000.0,35000.0,35000.0,80000.0,85000.0,85000.0,85000.0,85000.0,85000.0,85000.0,85000.0,90000.0,90000.0,85000.0,45000.0,25000.0,50000.0,50000.0,50000.0,45000.0,50000.0,10000.0,25000.0,25000.0,25000.0,20000.0,45000.0,45000.0,45000.0,45000.0,45000.0,45000.0,45000.0,20000.0,20000.0,20000.0,20000.0,40000.0,40000.0,0.0,40000.0,20000.0,20000.0,0.0,0.0,0.0,0.0,5000.0,5000.0,5000.0,0.0,0.0,0.0,0.0,5000.0,5000.0,0.0,5000.0,5000.0,5000.0,5000.0,5000.0,10000.0,5000.0,0.0,0.0,0.0,0.0,0.0,0.0,0.0,0.0,0.0,0.0,20000.0,5000.0,5000.0,5000.0,5000.0,5000.0,5000.0,5000.0,5000.0,20000.0,20000.0,20000.0,25000.0,15000.0,10000.0,10000.0,10000.0,10000.0,5000.0,5000.0,5000.0,5000.0,5000.0,5000.0,5000.0,5000.0,10000.0,5000.0,10000.0,5000.0,10000.0,10000.0,5000.0,5000.0,5000.0,5000.0,5000.0,5000.0,5000.0,5000.0,10000.0,10000.0,10000.0,10000.0,10000.0,10000.0,10000.0,15000.0,15000.0,15000.0,15000.0,10000.0,5000.0,5000.0,0.0,0.0,0.0,0.0,0.0,0.0,0.0,5000.0,5000.0,0.0,0.0,0.0,0.0,0.0,0.0,0.0,0.0,0.0,0.0,0.0,0.0,0.0,0.0,0.0,0.0,0.0,0.0,0.0,0.0,0.0,5000.0,5000.0,5000.0,5000.0,5000.0,5000.0,5000.0,5000.0,5000.0,5000.0,5000.0,5000.0,5000.0,5000.0,0.0,0.0,5000.0,5000.0,5000.0,5000.0,5000.0,5000.0,0.0,0.0,0.0,5000.0,5000.0,5000.0,5000.0,5000.0,5000.0,5000.0,5000.0,5000.0,5000.0,5000.0,5000.0,5000.0,5000.0,5000.0,5000.0,5000.0,5000.0,5000.0,5000.0,5000.0,0.0,5000.0,5000.0,5000.0,5000.0,5000.0,5000.0,5000.0,5000.0,5000.0,5000.0,5000.0,5000.0,5000.0,5000.0,0.0,0.0,0.0,5000.0,5000.0,5000.0,0.0,0.0,0.0,0.0,0.0,0.0,0.0,0.0,0.0,0.0,0.0,0.0,0.0,0.0,0.0,0.0,0.0,0.0,0.0,0.0,0.0,0.0,5000.0,5000.0,5000.0,5000.0,5000.0,5000.0,5000.0,5000.0,5000.0,5000.0,5000.0,5000.0,5000.0,0.0,0.0,0.0,0.0,0.0,0.0,0.0,0.0,0.0,0.0,0.0,5000.0,5000.0,5000.0,0.0,0.0,0.0,0.0,5000.0,5000.0,5000.0,5000.0,5000.0,5000.0,5000.0,5000.0,5000.0,5000.0,5000.0,0.0,0.0,0.0,0.0,0.0,0.0,5000.0,5000.0,5000.0,5000.0,5000.0,5000.0,5000.0,5000.0,0.0,5000.0,5000.0,5000.0,5000.0,0.0,0.0,0.0,0.0,0.0,0.0,0.0,0.0,5000.0,0.0,0.0,0.0,0.0,0.0,0.0,0.0,0.0,0.0,0.0,0.0,0.0,0.0,5000.0,5000.0,5000.0,5000.0,5000.0,5000.0,0.0,0.0,0.0,0.0,0.0,0.0,0.0,0.0,0.0,0.0,5000.0,5000.0,5000.0,5000.0,5000.0,5000.0,5000.0,5000.0,5000.0,5000.0,5000.0,5000.0,0.0,5000.0,5000.0,5000.0,5000.0,0.0,0.0,0.0,5000.0,5000.0,0.0,0.0,0.0,0.0,0.0,0.0,0.0,0.0,0.0,0.0,0.0,0.0,0.0,0.0,5000.0,5000.0,5000.0,0.0,0.0,0.0,0.0,0.0,0.0,0.0,0.0,0.0,0.0,0.0,5000.0,5000.0,5000.0,5000.0,5000.0,5000.0,5000.0,5000.0,5000.0,5000.0,5000.0,5000.0,0.0,5000.0,5000.0,5000.0,5000.0,5000.0,5000.0,5000.0,5000.0,5000.0,5000.0,5000.0,5000.0,0.0,0.0,0.0,0.0,0.0,0.0,0.0,0.0,0.0,0.0,0.0,0.0,0.0,0.0,0.0,0.0,0.0,0.0,0.0,0.0,0.0,0.0,0.0,0.0,0.0,0.0,0.0,0.0,0.0,0.0,0.0,0.0,0.0,0.0,0.0,5000.0,5000.0,5000.0,5000.0,5000.0,5000.0,5000.0,5000.0,5000.0,5000.0,5000.0,5000.0,5000.0,5000.0,5000.0,5000.0,5000.0,5000.0,5000.0,5000.0,5000.0,5000.0,5000.0,5000.0,5000.0,5000.0,0.0,0.0,5000.0,5000.0,5000.0,5000.0,5000.0,5000.0,5000.0,0.0,0.0,0.0,0.0,0.0,5000.0,5000.0],\"y\":[714.0,104.0,104.0,106.0,106.0,106.0,105.0,96.0,96.0,105.0,96.0,120.0,137.0,137.0,434.0,434.0,421.0,421.0,441.0,478.0,3445.0,3465.0,3504.0,242.0,3402.0,116.0,474.0,346.0,375.0,375.0,435.0,435.0,435.0,435.0,472.0,283.0,283.0,205.0,205.0,205.0,101.0,101.0,101.0,118.0,102.0,111.0,48.0,48.0,48.0,48.0,48.0,48.0,47.0,119.0,23.0,23.0,23.0,10.0,14.0,147.0,134.0,134.0,134.0,134.0,109.0,149.0,149.0,149.0,135.0,135.0,134.0,134.0,134.0,68.0,68.0,68.0,21.0,113.0,16.0,16.0,16.0,2.0,52.0,52.0,53.0,2.0,2.0,2.0,2.0,2.0,108.0,116.0,122.0,122.0,108.0,108.0,109.0,109.0,109.0,109.0,109.0,109.0,109.0,109.0,109.0,109.0,108.0,109.0,109.0,109.0,109.0,109.0,109.0,109.0,109.0,109.0,109.0,109.0,109.0,109.0,109.0,109.0,109.0,109.0,109.0,123.0,123.0,123.0,123.0,109.0,109.0,109.0,109.0,150.0,148.0,146.0,149.0,47.0,60.0,60.0,60.0,60.0,59.0,56.0,56.0,56.0,52.0,52.0,58.0,56.0,52.0,52.0,52.0,52.0,52.0,52.0,52.0,52.0,52.0,52.0,8.0,8.0,7.0,7.0,7.0,7.0,7.0,7.0,7.0,7.0,7.0,7.0,7.0,7.0,30.0,30.0,22.0,17.0,20.0,20.0,33.0,33.0,28.0,27.0,39.0,23.0,37.0,27.0,21.0,21.0,27.0,27.0,20.0,27.0,27.0,28.0,27.0,22.0,18.0,21.0,28.0,20.0,22.0,70.0,70.0,70.0,69.0,68.0,69.0,69.0,66.0,7.0,7.0,7.0,7.0,7.0,7.0,7.0,7.0,7.0,7.0,7.0,7.0,7.0,7.0,66.0,69.0,70.0,70.0,66.0,66.0,66.0,66.0,67.0,65.0,65.0,65.0,65.0,68.0,68.0,68.0,161.0,169.0,168.0,163.0,165.0,167.0,168.0,18.0,18.0,18.0,18.0,13.0,18.0,17.0,17.0,20.0,19.0,13.0,17.0,18.0,19.0,19.0,20.0,19.0,19.0,19.0,20.0,0.0,19.0,20.0,20.0,34.0,33.0,33.0,29.0,37.0,20.0,39.0,19.0,59.0,59.0,82.0,82.0,82.0,82.0,82.0,81.0,82.0,81.0,81.0,104.0,104.0,104.0,105.0,105.0,104.0,104.0,104.0,104.0,81.0,81.0,82.0,81.0,81.0,81.0,82.0,0.0,82.0,81.0,81.0,81.0,58.0,58.0,58.0,58.0,58.0,0.0,99.0,50.0,49.0,49.0,48.0,48.0,48.0,48.0,48.0,48.0,0.0,48.0,0.0,48.0,34.0,35.0,35.0,35.0,35.0,35.0,35.0,35.0,35.0,35.0,37.0,37.0,37.0,37.0,37.0,37.0,37.0,37.0,109.0,109.0,109.0,108.0,108.0,108.0,108.0,108.0,108.0,108.0,108.0,108.0,108.0,108.0,109.0,134.0,134.0,134.0,134.0,133.0,133.0,133.0,34.0,40.0,47.0,47.0,57.0,38.0,34.0,37.0,35.0,39.0,133.0,108.0,108.0,108.0,108.0,111.0,133.0,76.0,76.0,76.0,76.0,76.0,76.0,76.0,75.0,51.0,51.0,51.0,51.0,51.0,51.0,51.0,51.0,51.0,51.0,51.0,51.0,51.0,51.0,51.0,51.0,118.0,118.0,119.0,118.0,118.0,119.0,119.0,117.0,122.0,123.0,122.0,107.0,165.0,121.0,170.0,160.0,130.0,177.0,177.0,172.0,161.0,163.0,193.0,198.0,198.0,191.0,19.0,19.0,19.0,0.0,18.0,3.0,21.0,21.0,21.0,21.0,18.0,18.0,18.0,18.0,25.0,18.0,25.0,25.0,25.0,25.0,25.0,25.0,0.0,25.0,25.0,25.0,25.0,25.0,18.0,0.0,19.0,19.0,19.0,22.0,19.0,19.0,25.0,19.0,19.0,22.0,22.0,18.0,18.0,18.0,25.0,25.0,25.0,25.0,25.0,25.0,25.0,25.0,25.0,25.0,25.0,25.0,25.0,24.0,24.0,24.0,25.0,108.0,108.0],\"z\":[459.2806007239751,204.54129029917573,204.54129029917573,203.73469375862973,203.73469375862973,203.73469375862973,205.1383814822962,195.8028399729412,195.8028399729412,208.9764554513086,195.7403818388403,21.747576314301696,23.855868611580323,23.855868611580323,241.96115178056922,241.96033704505754,236.88712492973906,236.88712492973906,259.7023984548419,228.04632242095033,28.491079749448296,25.548350141957947,28.287042863359083,178.3956043457526,25.376131546075307,18.682417834002514,224.02084924895584,148.55805281473428,249.82018832346307,249.82018832346307,214.1180909217155,214.1191651005105,214.1191651005105,214.1191651005105,209.21795283375283,291.29154125638274,291.29154125638274,303.1446073220627,305.7019846797063,305.7019846797063,362.1710530299056,362.1710530299056,362.1710530299056,350.061192670921,352.3441228618767,346.18374844766026,193.6666066199339,193.97247152656146,193.97247152656146,193.97247152656146,193.93878136823324,193.6622186000982,198.60023132341973,219.702153997701,217.17974985704245,217.17974985704245,217.1917063787816,14.787976864893277,16.03569888091652,28.882661554957032,25.84806846670236,25.84806846670236,23.6816887612396,23.54109330344771,205.34964190609045,24.597886391081687,24.597886391081687,24.586509565721467,23.55554145572711,24.890024819662006,25.44313253142701,25.479569008499627,26.21481724956925,203.19827897036802,194.0931561495545,195.1892147088428,24.478062622630162,284.9080093356705,27.589059515876727,23.957644465556694,23.91380954450497,231.17116534618287,268.2434126745371,268.19489867345993,258.261269308728,231.4200371013872,231.4200371013872,231.3575371013872,231.3575371013872,231.3575371013872,223.89806410287062,206.51894398306916,216.12793073351514,216.12793073351514,195.0709469296836,195.03204546850645,211.2948862382199,206.04014800326146,206.04014800326146,206.04014800326146,206.04014800326146,206.04014800326146,205.4117758576129,205.4117758576129,194.0252759304922,212.17318880614596,194.8871609298413,212.00565567407102,195.63776089637548,195.63776089637548,203.83542558380762,203.70604143835087,203.70604143835087,203.69472257042423,203.83840917075517,203.83840917075517,212.00019046647768,212.00019046647768,212.00019046647768,212.33055516433174,211.55218608958253,211.55218608958253,211.0600525903709,210.9689483638825,210.9689483638825,216.62321690090658,216.5971176858184,216.31131136611367,216.37774142031208,210.38794760594,210.38794760594,209.34403079380414,209.34403079380414,42.36430684257133,44.615222626689935,42.3725720035552,49.8457865565067,196.59225331489893,216.22332669785774,216.22332669785774,216.22332669785774,216.22332669785774,214.85724337634505,233.08678166673695,233.08678166673695,233.75315579512898,213.4630004695984,213.4814299567779,237.0482523220989,218.56174734910724,213.38073533858415,213.4164619272559,212.454656513723,212.315968628205,213.2506207982857,213.1652542081141,213.35716935318985,212.43083039725178,212.41672783314922,212.4979236646383,241.43379787888057,241.373852666086,238.99607404700728,239.00959767771343,238.30008605893778,238.54139566135183,238.44727233455018,238.6094477304528,238.78934387905568,238.57386708588152,239.18275726525027,239.2337951523911,238.7465913047538,239.53054279701436,22.427280117495783,22.522327211750873,22.80152694331572,20.068870045219928,23.603992144096726,22.96635773798635,26.34806944966489,26.34806944966489,24.157184097173477,28.67314662851827,45.66523827500888,30.31282564231685,47.01329120013739,24.83322394307808,23.25041842549728,23.38529952682183,27.320666623008897,27.664531430095995,22.876719052327985,23.550884314095065,23.905812272232396,22.211372630831516,28.97530936931142,22.38488899784972,21.106650201284587,24.63076077782896,23.256274680581775,23.20204821412581,22.065768415469183,213.9008374587225,213.9008374587225,213.9008374587225,212.38586126510657,211.0044526831968,215.51825243188884,215.51825243188884,214.222502751092,239.38593488871305,239.54783965061782,239.74553678557692,239.90039991133835,239.90039991133835,240.08057738099927,240.1648953658743,240.1648953658743,240.08057738099927,239.73135085482747,239.70652340696614,239.9092839117489,239.9092839117489,239.70652340696614,214.4747915047476,212.84832896324684,212.72362740058517,212.7318646045259,213.86882817155148,213.9813576142592,213.8459037608959,213.81762093261307,226.21942032530836,220.44591475594916,214.98002714708872,208.72953502430082,210.04998237557504,213.1976693038547,213.21165812019774,213.9044440858248,171.21476148773127,171.81388525526452,173.85722969493003,157.45710285384868,158.51671739266794,166.74090688891428,167.945968926222,19.086046747701275,21.058527075968655,21.058527075968655,19.75866979952933,16.877729973646744,18.747444625087425,17.422131068586268,17.422131068586268,17.79304009863447,18.012392019555804,17.0569881179292,20.26997877193894,20.303622768246772,17.68668359423793,17.198484741288237,17.79304009863447,17.501699416032913,17.501699416032913,17.35748169505079,17.729486321048995,100000.0,16.213667714170636,16.87626773417,17.717125731141756,21.441097492723767,21.42731136297172,18.67654553124388,20.56472965559468,20.201117229315088,18.837698029691165,24.028157320272555,19.352903240832802,217.8118191995808,217.7550297010977,215.79749817025808,215.35173910775308,213.10196992978769,213.5478179968596,213.61631800524552,212.91115015619195,213.55030070107068,212.0251093486613,211.80489711077283,20.804949583169062,20.7243844366115,20.7243844366115,20.803763825678093,21.15973241080295,21.091055173812734,22.583827684828684,24.157496485444092,24.157496485444092,216.01923920605083,212.26974278433346,213.33287331943006,211.79609052188638,212.2638196350789,212.2638196350789,213.657201703855,100000.0,213.657201703855,212.2638196350789,215.2141885228725,216.12374349401478,224.34467981926318,224.8641190574246,223.65939977252486,223.6780610795411,224.78909158945936,100000.0,111.69588856108997,201.7969209108018,193.23241880562398,200.27974528804336,198.57316653483517,199.1602027208795,199.33926229053665,199.59914078738473,199.43151589820425,199.43151589820425,100000.0,199.68234725489484,100000.0,199.15978777346774,213.45329312467038,215.5519482852219,215.5519482852219,215.56447096103642,214.94098336754732,214.94098336754732,207.03316826714527,207.30773589871436,207.30773589871436,206.79784995278084,219.2704360532371,219.3938930585116,219.2943429666896,219.35789341735173,219.35789341735173,219.44347208704778,219.40426075192198,219.22609423517434,205.35902529923084,205.64406485820209,207.44855629912138,206.81544536965575,206.68086284811085,206.57408074335157,206.50840119137607,206.54766387942058,205.92903576125227,206.06101159300147,205.86149414679986,205.9829288773848,205.9829288773848,205.9829288773848,205.75775278356676,26.678385820253926,26.657832165046024,26.657832165046024,26.677903896770005,28.541891857329176,28.541891857329176,28.02364531979258,29.24113570701818,31.64409666431451,28.01536197790586,28.70277562723183,26.48450864750233,29.439203693084465,27.349202080207775,32.0367798119199,27.69430773985222,33.10343071411729,28.394342436510062,206.01167082937187,204.20205849217996,206.68988169243588,206.68988169243588,215.96090356909033,27.202054777616357,25.30364085063326,30.60360247199692,30.689471616468563,25.519353015101526,30.588697366977655,30.59799273431998,30.440879532475126,29.463139041827255,203.1846661371528,203.18826090839462,203.083570681944,203.083570681944,203.08582761798368,203.12849941596738,203.12849941596738,203.0987006086224,203.10678131372197,203.10678131372197,203.1184132665712,203.5392984608851,203.56095430258617,203.61659700559693,203.64172798437681,203.64172798437681,289.95357461184994,291.58817960566256,291.75080951317585,288.9525690858549,288.9525690858549,291.75080951317585,291.7188278376612,209.04552869983786,203.4949668258671,203.1235928610672,188.94381195122253,203.85882576850977,213.70496194153685,295.3822413327979,193.43680718178575,182.8268466546534,185.979150648873,210.4977595363104,210.4977595363104,196.16022992450607,207.8407511034144,200.7489832289293,195.05313972979963,44.13172970674483,44.13172970674483,49.30071077943541,18.503699157203833,18.503699157203833,18.494502086592004,100000.0,21.440357314585484,229.26117463029894,24.159424801575987,22.320591924680397,22.360371422620982,24.172019479928935,21.461190647918826,21.461190647918826,21.35869482475424,20.783737638188747,219.44451424050303,20.783737638188747,219.44451424050303,219.67485265615417,219.67485265615417,219.57107391813287,219.44451424050303,219.5440694568859,100000.0,219.6272243768082,219.77603811145832,219.89116335248542,219.89116335248542,219.58818741281794,17.984410197183944,100000.0,18.841864051960723,19.543872543598233,18.77315641432364,19.3157427296288,18.034647093993055,18.018371547625822,219.66040407708758,18.57999883585572,19.35071496513031,19.5223999618364,19.934273108085403,17.934452888084543,18.206860346149508,18.206860346149508,219.5236751008005,219.44310940151303,219.43943398887288,219.43943398887288,219.43943398887288,219.43943398887288,219.44310940151303,219.44310940151303,219.44310940151303,219.39260065553958,219.39260065553958,219.44310940151303,219.1885696242284,216.53548442554322,216.5568385922099,216.52558859220994,219.19406962422846,210.39767257844002,206.42247778251328],\"type\":\"scatter3d\"},{\"color\":\"grey\",\"opacity\":0.5,\"x\":[0.0,50000.0,50000.0,50000.0],\"y\":[714.0,3465.0,3504.0,3402.0],\"z\":[459.2806007239751,25.548350141957947,28.287042863359083,25.376131546075307],\"type\":\"mesh3d\"}],                        {\"template\":{\"data\":{\"histogram2dcontour\":[{\"type\":\"histogram2dcontour\",\"colorbar\":{\"outlinewidth\":0,\"ticks\":\"\"},\"colorscale\":[[0.0,\"#0d0887\"],[0.1111111111111111,\"#46039f\"],[0.2222222222222222,\"#7201a8\"],[0.3333333333333333,\"#9c179e\"],[0.4444444444444444,\"#bd3786\"],[0.5555555555555556,\"#d8576b\"],[0.6666666666666666,\"#ed7953\"],[0.7777777777777778,\"#fb9f3a\"],[0.8888888888888888,\"#fdca26\"],[1.0,\"#f0f921\"]]}],\"choropleth\":[{\"type\":\"choropleth\",\"colorbar\":{\"outlinewidth\":0,\"ticks\":\"\"}}],\"histogram2d\":[{\"type\":\"histogram2d\",\"colorbar\":{\"outlinewidth\":0,\"ticks\":\"\"},\"colorscale\":[[0.0,\"#0d0887\"],[0.1111111111111111,\"#46039f\"],[0.2222222222222222,\"#7201a8\"],[0.3333333333333333,\"#9c179e\"],[0.4444444444444444,\"#bd3786\"],[0.5555555555555556,\"#d8576b\"],[0.6666666666666666,\"#ed7953\"],[0.7777777777777778,\"#fb9f3a\"],[0.8888888888888888,\"#fdca26\"],[1.0,\"#f0f921\"]]}],\"heatmap\":[{\"type\":\"heatmap\",\"colorbar\":{\"outlinewidth\":0,\"ticks\":\"\"},\"colorscale\":[[0.0,\"#0d0887\"],[0.1111111111111111,\"#46039f\"],[0.2222222222222222,\"#7201a8\"],[0.3333333333333333,\"#9c179e\"],[0.4444444444444444,\"#bd3786\"],[0.5555555555555556,\"#d8576b\"],[0.6666666666666666,\"#ed7953\"],[0.7777777777777778,\"#fb9f3a\"],[0.8888888888888888,\"#fdca26\"],[1.0,\"#f0f921\"]]}],\"heatmapgl\":[{\"type\":\"heatmapgl\",\"colorbar\":{\"outlinewidth\":0,\"ticks\":\"\"},\"colorscale\":[[0.0,\"#0d0887\"],[0.1111111111111111,\"#46039f\"],[0.2222222222222222,\"#7201a8\"],[0.3333333333333333,\"#9c179e\"],[0.4444444444444444,\"#bd3786\"],[0.5555555555555556,\"#d8576b\"],[0.6666666666666666,\"#ed7953\"],[0.7777777777777778,\"#fb9f3a\"],[0.8888888888888888,\"#fdca26\"],[1.0,\"#f0f921\"]]}],\"contourcarpet\":[{\"type\":\"contourcarpet\",\"colorbar\":{\"outlinewidth\":0,\"ticks\":\"\"}}],\"contour\":[{\"type\":\"contour\",\"colorbar\":{\"outlinewidth\":0,\"ticks\":\"\"},\"colorscale\":[[0.0,\"#0d0887\"],[0.1111111111111111,\"#46039f\"],[0.2222222222222222,\"#7201a8\"],[0.3333333333333333,\"#9c179e\"],[0.4444444444444444,\"#bd3786\"],[0.5555555555555556,\"#d8576b\"],[0.6666666666666666,\"#ed7953\"],[0.7777777777777778,\"#fb9f3a\"],[0.8888888888888888,\"#fdca26\"],[1.0,\"#f0f921\"]]}],\"surface\":[{\"type\":\"surface\",\"colorbar\":{\"outlinewidth\":0,\"ticks\":\"\"},\"colorscale\":[[0.0,\"#0d0887\"],[0.1111111111111111,\"#46039f\"],[0.2222222222222222,\"#7201a8\"],[0.3333333333333333,\"#9c179e\"],[0.4444444444444444,\"#bd3786\"],[0.5555555555555556,\"#d8576b\"],[0.6666666666666666,\"#ed7953\"],[0.7777777777777778,\"#fb9f3a\"],[0.8888888888888888,\"#fdca26\"],[1.0,\"#f0f921\"]]}],\"mesh3d\":[{\"type\":\"mesh3d\",\"colorbar\":{\"outlinewidth\":0,\"ticks\":\"\"}}],\"scatter\":[{\"fillpattern\":{\"fillmode\":\"overlay\",\"size\":10,\"solidity\":0.2},\"type\":\"scatter\"}],\"parcoords\":[{\"type\":\"parcoords\",\"line\":{\"colorbar\":{\"outlinewidth\":0,\"ticks\":\"\"}}}],\"scatterpolargl\":[{\"type\":\"scatterpolargl\",\"marker\":{\"colorbar\":{\"outlinewidth\":0,\"ticks\":\"\"}}}],\"bar\":[{\"error_x\":{\"color\":\"#2a3f5f\"},\"error_y\":{\"color\":\"#2a3f5f\"},\"marker\":{\"line\":{\"color\":\"#E5ECF6\",\"width\":0.5},\"pattern\":{\"fillmode\":\"overlay\",\"size\":10,\"solidity\":0.2}},\"type\":\"bar\"}],\"scattergeo\":[{\"type\":\"scattergeo\",\"marker\":{\"colorbar\":{\"outlinewidth\":0,\"ticks\":\"\"}}}],\"scatterpolar\":[{\"type\":\"scatterpolar\",\"marker\":{\"colorbar\":{\"outlinewidth\":0,\"ticks\":\"\"}}}],\"histogram\":[{\"marker\":{\"pattern\":{\"fillmode\":\"overlay\",\"size\":10,\"solidity\":0.2}},\"type\":\"histogram\"}],\"scattergl\":[{\"type\":\"scattergl\",\"marker\":{\"colorbar\":{\"outlinewidth\":0,\"ticks\":\"\"}}}],\"scatter3d\":[{\"type\":\"scatter3d\",\"line\":{\"colorbar\":{\"outlinewidth\":0,\"ticks\":\"\"}},\"marker\":{\"colorbar\":{\"outlinewidth\":0,\"ticks\":\"\"}}}],\"scattermapbox\":[{\"type\":\"scattermapbox\",\"marker\":{\"colorbar\":{\"outlinewidth\":0,\"ticks\":\"\"}}}],\"scatterternary\":[{\"type\":\"scatterternary\",\"marker\":{\"colorbar\":{\"outlinewidth\":0,\"ticks\":\"\"}}}],\"scattercarpet\":[{\"type\":\"scattercarpet\",\"marker\":{\"colorbar\":{\"outlinewidth\":0,\"ticks\":\"\"}}}],\"carpet\":[{\"aaxis\":{\"endlinecolor\":\"#2a3f5f\",\"gridcolor\":\"white\",\"linecolor\":\"white\",\"minorgridcolor\":\"white\",\"startlinecolor\":\"#2a3f5f\"},\"baxis\":{\"endlinecolor\":\"#2a3f5f\",\"gridcolor\":\"white\",\"linecolor\":\"white\",\"minorgridcolor\":\"white\",\"startlinecolor\":\"#2a3f5f\"},\"type\":\"carpet\"}],\"table\":[{\"cells\":{\"fill\":{\"color\":\"#EBF0F8\"},\"line\":{\"color\":\"white\"}},\"header\":{\"fill\":{\"color\":\"#C8D4E3\"},\"line\":{\"color\":\"white\"}},\"type\":\"table\"}],\"barpolar\":[{\"marker\":{\"line\":{\"color\":\"#E5ECF6\",\"width\":0.5},\"pattern\":{\"fillmode\":\"overlay\",\"size\":10,\"solidity\":0.2}},\"type\":\"barpolar\"}],\"pie\":[{\"automargin\":true,\"type\":\"pie\"}]},\"layout\":{\"autotypenumbers\":\"strict\",\"colorway\":[\"#636efa\",\"#EF553B\",\"#00cc96\",\"#ab63fa\",\"#FFA15A\",\"#19d3f3\",\"#FF6692\",\"#B6E880\",\"#FF97FF\",\"#FECB52\"],\"font\":{\"color\":\"#2a3f5f\"},\"hovermode\":\"closest\",\"hoverlabel\":{\"align\":\"left\"},\"paper_bgcolor\":\"white\",\"plot_bgcolor\":\"#E5ECF6\",\"polar\":{\"bgcolor\":\"#E5ECF6\",\"angularaxis\":{\"gridcolor\":\"white\",\"linecolor\":\"white\",\"ticks\":\"\"},\"radialaxis\":{\"gridcolor\":\"white\",\"linecolor\":\"white\",\"ticks\":\"\"}},\"ternary\":{\"bgcolor\":\"#E5ECF6\",\"aaxis\":{\"gridcolor\":\"white\",\"linecolor\":\"white\",\"ticks\":\"\"},\"baxis\":{\"gridcolor\":\"white\",\"linecolor\":\"white\",\"ticks\":\"\"},\"caxis\":{\"gridcolor\":\"white\",\"linecolor\":\"white\",\"ticks\":\"\"}},\"coloraxis\":{\"colorbar\":{\"outlinewidth\":0,\"ticks\":\"\"}},\"colorscale\":{\"sequential\":[[0.0,\"#0d0887\"],[0.1111111111111111,\"#46039f\"],[0.2222222222222222,\"#7201a8\"],[0.3333333333333333,\"#9c179e\"],[0.4444444444444444,\"#bd3786\"],[0.5555555555555556,\"#d8576b\"],[0.6666666666666666,\"#ed7953\"],[0.7777777777777778,\"#fb9f3a\"],[0.8888888888888888,\"#fdca26\"],[1.0,\"#f0f921\"]],\"sequentialminus\":[[0.0,\"#0d0887\"],[0.1111111111111111,\"#46039f\"],[0.2222222222222222,\"#7201a8\"],[0.3333333333333333,\"#9c179e\"],[0.4444444444444444,\"#bd3786\"],[0.5555555555555556,\"#d8576b\"],[0.6666666666666666,\"#ed7953\"],[0.7777777777777778,\"#fb9f3a\"],[0.8888888888888888,\"#fdca26\"],[1.0,\"#f0f921\"]],\"diverging\":[[0,\"#8e0152\"],[0.1,\"#c51b7d\"],[0.2,\"#de77ae\"],[0.3,\"#f1b6da\"],[0.4,\"#fde0ef\"],[0.5,\"#f7f7f7\"],[0.6,\"#e6f5d0\"],[0.7,\"#b8e186\"],[0.8,\"#7fbc41\"],[0.9,\"#4d9221\"],[1,\"#276419\"]]},\"xaxis\":{\"gridcolor\":\"white\",\"linecolor\":\"white\",\"ticks\":\"\",\"title\":{\"standoff\":15},\"zerolinecolor\":\"white\",\"automargin\":true,\"zerolinewidth\":2},\"yaxis\":{\"gridcolor\":\"white\",\"linecolor\":\"white\",\"ticks\":\"\",\"title\":{\"standoff\":15},\"zerolinecolor\":\"white\",\"automargin\":true,\"zerolinewidth\":2},\"scene\":{\"xaxis\":{\"backgroundcolor\":\"#E5ECF6\",\"gridcolor\":\"white\",\"linecolor\":\"white\",\"showbackground\":true,\"ticks\":\"\",\"zerolinecolor\":\"white\",\"gridwidth\":2},\"yaxis\":{\"backgroundcolor\":\"#E5ECF6\",\"gridcolor\":\"white\",\"linecolor\":\"white\",\"showbackground\":true,\"ticks\":\"\",\"zerolinecolor\":\"white\",\"gridwidth\":2},\"zaxis\":{\"backgroundcolor\":\"#E5ECF6\",\"gridcolor\":\"white\",\"linecolor\":\"white\",\"showbackground\":true,\"ticks\":\"\",\"zerolinecolor\":\"white\",\"gridwidth\":2}},\"shapedefaults\":{\"line\":{\"color\":\"#2a3f5f\"}},\"annotationdefaults\":{\"arrowcolor\":\"#2a3f5f\",\"arrowhead\":0,\"arrowwidth\":1},\"geo\":{\"bgcolor\":\"white\",\"landcolor\":\"#E5ECF6\",\"subunitcolor\":\"white\",\"showland\":true,\"showlakes\":true,\"lakecolor\":\"white\"},\"title\":{\"x\":0.05},\"mapbox\":{\"style\":\"light\"}}}},                        {\"responsive\": true}                    ).then(function(){\n",
       "                            \n",
       "var gd = document.getElementById('f46d2801-fca7-4d89-8394-98ae5be95a99');\n",
       "var x = new MutationObserver(function (mutations, observer) {{\n",
       "        var display = window.getComputedStyle(gd).display;\n",
       "        if (!display || display === 'none') {{\n",
       "            console.log([gd, 'removed!']);\n",
       "            Plotly.purge(gd);\n",
       "            observer.disconnect();\n",
       "        }}\n",
       "}});\n",
       "\n",
       "// Listen for the removal of the full notebook cells\n",
       "var notebookContainer = gd.closest('#notebook-container');\n",
       "if (notebookContainer) {{\n",
       "    x.observe(notebookContainer, {childList: true});\n",
       "}}\n",
       "\n",
       "// Listen for the clearing of the current output cell\n",
       "var outputEl = gd.closest('.output');\n",
       "if (outputEl) {{\n",
       "    x.observe(outputEl, {childList: true});\n",
       "}}\n",
       "\n",
       "                        })                };                });            </script>        </div>"
      ]
     },
     "metadata": {},
     "output_type": "display_data"
    }
   ],
   "source": [
    "import plotly.graph_objects as go\n",
    "import numpy as np\n",
    "\n",
    "x = df['cost']\n",
    "y = df['throughput']\n",
    "z = df['throughput_time']\n",
    "is_efficient = df['is_efficient'].astype(int)\n",
    "\n",
    "data = [go.Scatter3d(x=x, y=y, z=z,\n",
    "                                   mode='markers', marker=dict(\n",
    "        size=5,\n",
    "        color=is_efficient,                # set color to an array/list of desired values\n",
    "        colorscale='Viridis',   # choose a colorscale\n",
    "        opacity=0.8\n",
    "    ))]\n",
    "\n",
    "df_efficient = df.loc[df['is_efficient']]\n",
    "\n",
    "x2 = df_efficient['cost']\n",
    "y2 = df_efficient['throughput']\n",
    "z2 = df_efficient['throughput_time']\n",
    "\n",
    "data.append(go.Mesh3d(x=x2, y=y2, z=z2, color='grey', opacity=0.5))\n",
    "fig = go.Figure(data=data)\n",
    "fig.show()"
   ]
  },
  {
   "cell_type": "code",
   "execution_count": 247,
   "id": "111415c9-3bc1-4e9b-8916-ed8e6b6cfb85",
   "metadata": {},
   "outputs": [],
   "source": [
    "df = pd.DataFrame(new_data)\n",
    "df = df.T"
   ]
  },
  {
   "cell_type": "code",
   "execution_count": 248,
   "id": "3b2a4aae-c7c9-4b95-af01-d23dc0430e26",
   "metadata": {},
   "outputs": [],
   "source": [
    "df = df.loc[df[\"agg_fitness\"] > -50000]\n",
    "# df = df.loc[df['Generation'] > 10]"
   ]
  },
  {
   "cell_type": "code",
   "execution_count": 249,
   "id": "d9ce7f2a-4a90-43df-867a-3f8b82c56ed1",
   "metadata": {},
   "outputs": [],
   "source": [
    "grouped = df.groupby(by=\"Generation\")\n",
    "mean_values = grouped[\"agg_fitness\"].mean()\n",
    "std_values = grouped[\"agg_fitness\"].std()\n",
    "max_values = grouped[\"agg_fitness\"].max()"
   ]
  },
  {
   "cell_type": "code",
   "execution_count": 250,
   "id": "7efdb687-030e-4aed-9c41-e9d627a96764",
   "metadata": {},
   "outputs": [],
   "source": [
    "import plotly.graph_objects as go\n",
    "from copy import copy"
   ]
  },
  {
   "cell_type": "code",
   "execution_count": 251,
   "id": "b7147c8f-cd1b-497c-a7a8-a3cc3880f035",
   "metadata": {},
   "outputs": [],
   "source": [
    "def hex_to_rgba(h, alpha):\n",
    "    '''\n",
    "    converts color value in hex format to rgba format with alpha transparency\n",
    "    '''\n",
    "    return tuple([int(h.lstrip('#')[i:i+2], 16) for i in (0, 2, 4)] + [alpha])"
   ]
  },
  {
   "cell_type": "code",
   "execution_count": 252,
   "id": "035e0d66-4cbb-4b64-b9c1-c43e9b2ea947",
   "metadata": {},
   "outputs": [
    {
     "data": {
      "application/vnd.plotly.v1+json": {
       "config": {
        "plotlyServerURL": "https://plot.ly"
       },
       "data": [
        {
         "line": {
          "color": "#316395"
         },
         "mode": "lines",
         "name": "mean fitness",
         "type": "scatter",
         "x": [
          0
         ],
         "y": [
          3956.7281217380596
         ]
        },
        {
         "line": {
          "color": "#316395",
          "dash": "dash"
         },
         "mode": "lines",
         "name": "upper fitness",
         "showlegend": false,
         "type": "scatter",
         "x": [
          0
         ],
         "y": [
          -8574.122253737463
         ]
        },
        {
         "fill": "tonexty",
         "fillcolor": "rgba(49, 99, 149, 0.2)",
         "line": {
          "color": "#316395",
          "dash": "dash"
         },
         "mode": "lines",
         "name": "lower fitness",
         "showlegend": false,
         "type": "scatter",
         "x": [
          0
         ],
         "y": [
          16487.57849721358
         ]
        },
        {
         "line": {
          "color": "#B82E2E"
         },
         "mode": "lines",
         "name": "max fitness",
         "type": "scatter",
         "x": [
          0
         ],
         "y": [
          102322.5
         ]
        }
       ],
       "layout": {
        "autosize": true,
        "template": {
         "data": {
          "bar": [
           {
            "error_x": {
             "color": "#2a3f5f"
            },
            "error_y": {
             "color": "#2a3f5f"
            },
            "marker": {
             "line": {
              "color": "#E5ECF6",
              "width": 0.5
             },
             "pattern": {
              "fillmode": "overlay",
              "size": 10,
              "solidity": 0.2
             }
            },
            "type": "bar"
           }
          ],
          "barpolar": [
           {
            "marker": {
             "line": {
              "color": "#E5ECF6",
              "width": 0.5
             },
             "pattern": {
              "fillmode": "overlay",
              "size": 10,
              "solidity": 0.2
             }
            },
            "type": "barpolar"
           }
          ],
          "carpet": [
           {
            "aaxis": {
             "endlinecolor": "#2a3f5f",
             "gridcolor": "white",
             "linecolor": "white",
             "minorgridcolor": "white",
             "startlinecolor": "#2a3f5f"
            },
            "baxis": {
             "endlinecolor": "#2a3f5f",
             "gridcolor": "white",
             "linecolor": "white",
             "minorgridcolor": "white",
             "startlinecolor": "#2a3f5f"
            },
            "type": "carpet"
           }
          ],
          "choropleth": [
           {
            "colorbar": {
             "outlinewidth": 0,
             "ticks": ""
            },
            "type": "choropleth"
           }
          ],
          "contour": [
           {
            "colorbar": {
             "outlinewidth": 0,
             "ticks": ""
            },
            "colorscale": [
             [
              0,
              "#0d0887"
             ],
             [
              0.1111111111111111,
              "#46039f"
             ],
             [
              0.2222222222222222,
              "#7201a8"
             ],
             [
              0.3333333333333333,
              "#9c179e"
             ],
             [
              0.4444444444444444,
              "#bd3786"
             ],
             [
              0.5555555555555556,
              "#d8576b"
             ],
             [
              0.6666666666666666,
              "#ed7953"
             ],
             [
              0.7777777777777778,
              "#fb9f3a"
             ],
             [
              0.8888888888888888,
              "#fdca26"
             ],
             [
              1,
              "#f0f921"
             ]
            ],
            "type": "contour"
           }
          ],
          "contourcarpet": [
           {
            "colorbar": {
             "outlinewidth": 0,
             "ticks": ""
            },
            "type": "contourcarpet"
           }
          ],
          "heatmap": [
           {
            "colorbar": {
             "outlinewidth": 0,
             "ticks": ""
            },
            "colorscale": [
             [
              0,
              "#0d0887"
             ],
             [
              0.1111111111111111,
              "#46039f"
             ],
             [
              0.2222222222222222,
              "#7201a8"
             ],
             [
              0.3333333333333333,
              "#9c179e"
             ],
             [
              0.4444444444444444,
              "#bd3786"
             ],
             [
              0.5555555555555556,
              "#d8576b"
             ],
             [
              0.6666666666666666,
              "#ed7953"
             ],
             [
              0.7777777777777778,
              "#fb9f3a"
             ],
             [
              0.8888888888888888,
              "#fdca26"
             ],
             [
              1,
              "#f0f921"
             ]
            ],
            "type": "heatmap"
           }
          ],
          "heatmapgl": [
           {
            "colorbar": {
             "outlinewidth": 0,
             "ticks": ""
            },
            "colorscale": [
             [
              0,
              "#0d0887"
             ],
             [
              0.1111111111111111,
              "#46039f"
             ],
             [
              0.2222222222222222,
              "#7201a8"
             ],
             [
              0.3333333333333333,
              "#9c179e"
             ],
             [
              0.4444444444444444,
              "#bd3786"
             ],
             [
              0.5555555555555556,
              "#d8576b"
             ],
             [
              0.6666666666666666,
              "#ed7953"
             ],
             [
              0.7777777777777778,
              "#fb9f3a"
             ],
             [
              0.8888888888888888,
              "#fdca26"
             ],
             [
              1,
              "#f0f921"
             ]
            ],
            "type": "heatmapgl"
           }
          ],
          "histogram": [
           {
            "marker": {
             "pattern": {
              "fillmode": "overlay",
              "size": 10,
              "solidity": 0.2
             }
            },
            "type": "histogram"
           }
          ],
          "histogram2d": [
           {
            "colorbar": {
             "outlinewidth": 0,
             "ticks": ""
            },
            "colorscale": [
             [
              0,
              "#0d0887"
             ],
             [
              0.1111111111111111,
              "#46039f"
             ],
             [
              0.2222222222222222,
              "#7201a8"
             ],
             [
              0.3333333333333333,
              "#9c179e"
             ],
             [
              0.4444444444444444,
              "#bd3786"
             ],
             [
              0.5555555555555556,
              "#d8576b"
             ],
             [
              0.6666666666666666,
              "#ed7953"
             ],
             [
              0.7777777777777778,
              "#fb9f3a"
             ],
             [
              0.8888888888888888,
              "#fdca26"
             ],
             [
              1,
              "#f0f921"
             ]
            ],
            "type": "histogram2d"
           }
          ],
          "histogram2dcontour": [
           {
            "colorbar": {
             "outlinewidth": 0,
             "ticks": ""
            },
            "colorscale": [
             [
              0,
              "#0d0887"
             ],
             [
              0.1111111111111111,
              "#46039f"
             ],
             [
              0.2222222222222222,
              "#7201a8"
             ],
             [
              0.3333333333333333,
              "#9c179e"
             ],
             [
              0.4444444444444444,
              "#bd3786"
             ],
             [
              0.5555555555555556,
              "#d8576b"
             ],
             [
              0.6666666666666666,
              "#ed7953"
             ],
             [
              0.7777777777777778,
              "#fb9f3a"
             ],
             [
              0.8888888888888888,
              "#fdca26"
             ],
             [
              1,
              "#f0f921"
             ]
            ],
            "type": "histogram2dcontour"
           }
          ],
          "mesh3d": [
           {
            "colorbar": {
             "outlinewidth": 0,
             "ticks": ""
            },
            "type": "mesh3d"
           }
          ],
          "parcoords": [
           {
            "line": {
             "colorbar": {
              "outlinewidth": 0,
              "ticks": ""
             }
            },
            "type": "parcoords"
           }
          ],
          "pie": [
           {
            "automargin": true,
            "type": "pie"
           }
          ],
          "scatter": [
           {
            "fillpattern": {
             "fillmode": "overlay",
             "size": 10,
             "solidity": 0.2
            },
            "type": "scatter"
           }
          ],
          "scatter3d": [
           {
            "line": {
             "colorbar": {
              "outlinewidth": 0,
              "ticks": ""
             }
            },
            "marker": {
             "colorbar": {
              "outlinewidth": 0,
              "ticks": ""
             }
            },
            "type": "scatter3d"
           }
          ],
          "scattercarpet": [
           {
            "marker": {
             "colorbar": {
              "outlinewidth": 0,
              "ticks": ""
             }
            },
            "type": "scattercarpet"
           }
          ],
          "scattergeo": [
           {
            "marker": {
             "colorbar": {
              "outlinewidth": 0,
              "ticks": ""
             }
            },
            "type": "scattergeo"
           }
          ],
          "scattergl": [
           {
            "marker": {
             "colorbar": {
              "outlinewidth": 0,
              "ticks": ""
             }
            },
            "type": "scattergl"
           }
          ],
          "scattermapbox": [
           {
            "marker": {
             "colorbar": {
              "outlinewidth": 0,
              "ticks": ""
             }
            },
            "type": "scattermapbox"
           }
          ],
          "scatterpolar": [
           {
            "marker": {
             "colorbar": {
              "outlinewidth": 0,
              "ticks": ""
             }
            },
            "type": "scatterpolar"
           }
          ],
          "scatterpolargl": [
           {
            "marker": {
             "colorbar": {
              "outlinewidth": 0,
              "ticks": ""
             }
            },
            "type": "scatterpolargl"
           }
          ],
          "scatterternary": [
           {
            "marker": {
             "colorbar": {
              "outlinewidth": 0,
              "ticks": ""
             }
            },
            "type": "scatterternary"
           }
          ],
          "surface": [
           {
            "colorbar": {
             "outlinewidth": 0,
             "ticks": ""
            },
            "colorscale": [
             [
              0,
              "#0d0887"
             ],
             [
              0.1111111111111111,
              "#46039f"
             ],
             [
              0.2222222222222222,
              "#7201a8"
             ],
             [
              0.3333333333333333,
              "#9c179e"
             ],
             [
              0.4444444444444444,
              "#bd3786"
             ],
             [
              0.5555555555555556,
              "#d8576b"
             ],
             [
              0.6666666666666666,
              "#ed7953"
             ],
             [
              0.7777777777777778,
              "#fb9f3a"
             ],
             [
              0.8888888888888888,
              "#fdca26"
             ],
             [
              1,
              "#f0f921"
             ]
            ],
            "type": "surface"
           }
          ],
          "table": [
           {
            "cells": {
             "fill": {
              "color": "#EBF0F8"
             },
             "line": {
              "color": "white"
             }
            },
            "header": {
             "fill": {
              "color": "#C8D4E3"
             },
             "line": {
              "color": "white"
             }
            },
            "type": "table"
           }
          ]
         },
         "layout": {
          "annotationdefaults": {
           "arrowcolor": "#2a3f5f",
           "arrowhead": 0,
           "arrowwidth": 1
          },
          "autotypenumbers": "strict",
          "coloraxis": {
           "colorbar": {
            "outlinewidth": 0,
            "ticks": ""
           }
          },
          "colorscale": {
           "diverging": [
            [
             0,
             "#8e0152"
            ],
            [
             0.1,
             "#c51b7d"
            ],
            [
             0.2,
             "#de77ae"
            ],
            [
             0.3,
             "#f1b6da"
            ],
            [
             0.4,
             "#fde0ef"
            ],
            [
             0.5,
             "#f7f7f7"
            ],
            [
             0.6,
             "#e6f5d0"
            ],
            [
             0.7,
             "#b8e186"
            ],
            [
             0.8,
             "#7fbc41"
            ],
            [
             0.9,
             "#4d9221"
            ],
            [
             1,
             "#276419"
            ]
           ],
           "sequential": [
            [
             0,
             "#0d0887"
            ],
            [
             0.1111111111111111,
             "#46039f"
            ],
            [
             0.2222222222222222,
             "#7201a8"
            ],
            [
             0.3333333333333333,
             "#9c179e"
            ],
            [
             0.4444444444444444,
             "#bd3786"
            ],
            [
             0.5555555555555556,
             "#d8576b"
            ],
            [
             0.6666666666666666,
             "#ed7953"
            ],
            [
             0.7777777777777778,
             "#fb9f3a"
            ],
            [
             0.8888888888888888,
             "#fdca26"
            ],
            [
             1,
             "#f0f921"
            ]
           ],
           "sequentialminus": [
            [
             0,
             "#0d0887"
            ],
            [
             0.1111111111111111,
             "#46039f"
            ],
            [
             0.2222222222222222,
             "#7201a8"
            ],
            [
             0.3333333333333333,
             "#9c179e"
            ],
            [
             0.4444444444444444,
             "#bd3786"
            ],
            [
             0.5555555555555556,
             "#d8576b"
            ],
            [
             0.6666666666666666,
             "#ed7953"
            ],
            [
             0.7777777777777778,
             "#fb9f3a"
            ],
            [
             0.8888888888888888,
             "#fdca26"
            ],
            [
             1,
             "#f0f921"
            ]
           ]
          },
          "colorway": [
           "#636efa",
           "#EF553B",
           "#00cc96",
           "#ab63fa",
           "#FFA15A",
           "#19d3f3",
           "#FF6692",
           "#B6E880",
           "#FF97FF",
           "#FECB52"
          ],
          "font": {
           "color": "#2a3f5f"
          },
          "geo": {
           "bgcolor": "white",
           "lakecolor": "white",
           "landcolor": "#E5ECF6",
           "showlakes": true,
           "showland": true,
           "subunitcolor": "white"
          },
          "hoverlabel": {
           "align": "left"
          },
          "hovermode": "closest",
          "mapbox": {
           "style": "light"
          },
          "paper_bgcolor": "white",
          "plot_bgcolor": "#E5ECF6",
          "polar": {
           "angularaxis": {
            "gridcolor": "white",
            "linecolor": "white",
            "ticks": ""
           },
           "bgcolor": "#E5ECF6",
           "radialaxis": {
            "gridcolor": "white",
            "linecolor": "white",
            "ticks": ""
           }
          },
          "scene": {
           "xaxis": {
            "backgroundcolor": "#E5ECF6",
            "gridcolor": "white",
            "gridwidth": 2,
            "linecolor": "white",
            "showbackground": true,
            "ticks": "",
            "zerolinecolor": "white"
           },
           "yaxis": {
            "backgroundcolor": "#E5ECF6",
            "gridcolor": "white",
            "gridwidth": 2,
            "linecolor": "white",
            "showbackground": true,
            "ticks": "",
            "zerolinecolor": "white"
           },
           "zaxis": {
            "backgroundcolor": "#E5ECF6",
            "gridcolor": "white",
            "gridwidth": 2,
            "linecolor": "white",
            "showbackground": true,
            "ticks": "",
            "zerolinecolor": "white"
           }
          },
          "shapedefaults": {
           "line": {
            "color": "#2a3f5f"
           }
          },
          "ternary": {
           "aaxis": {
            "gridcolor": "white",
            "linecolor": "white",
            "ticks": ""
           },
           "baxis": {
            "gridcolor": "white",
            "linecolor": "white",
            "ticks": ""
           },
           "bgcolor": "#E5ECF6",
           "caxis": {
            "gridcolor": "white",
            "linecolor": "white",
            "ticks": ""
           }
          },
          "title": {
           "x": 0.05
          },
          "xaxis": {
           "automargin": true,
           "gridcolor": "white",
           "linecolor": "white",
           "ticks": "",
           "title": {
            "standoff": 15
           },
           "zerolinecolor": "white",
           "zerolinewidth": 2
          },
          "yaxis": {
           "automargin": true,
           "gridcolor": "white",
           "linecolor": "white",
           "ticks": "",
           "title": {
            "standoff": 15
           },
           "zerolinecolor": "white",
           "zerolinewidth": 2
          }
         }
        },
        "xaxis": {
         "autorange": true,
         "range": [
          -1,
          1
         ],
         "type": "linear"
        },
        "yaxis": {
         "autorange": true,
         "range": [
          -14735.045712278434,
          108483.42345854097
         ],
         "type": "linear"
        }
       }
      },
      "image/png": "[encoded data removed]",
      "text/html": [
       "<div>                            <div id=\"113fa659-3cea-426a-8154-769ab632d6b2\" class=\"plotly-graph-div\" style=\"height:525px; width:100%;\"></div>            <script type=\"text/javascript\">                require([\"plotly\"], function(Plotly) {                    window.PLOTLYENV=window.PLOTLYENV || {};                                    if (document.getElementById(\"113fa659-3cea-426a-8154-769ab632d6b2\")) {                    Plotly.newPlot(                        \"113fa659-3cea-426a-8154-769ab632d6b2\",                        [{\"line\":{\"color\":\"#316395\"},\"mode\":\"lines\",\"name\":\"mean fitness\",\"x\":[0.0],\"y\":[3956.7281217380596],\"type\":\"scatter\"},{\"line\":{\"color\":\"#316395\",\"dash\":\"dash\"},\"mode\":\"lines\",\"name\":\"upper fitness\",\"showlegend\":false,\"x\":[0.0],\"y\":[-8574.122253737463],\"type\":\"scatter\"},{\"fill\":\"tonexty\",\"fillcolor\":\"rgba(49, 99, 149, 0.2)\",\"line\":{\"color\":\"#316395\",\"dash\":\"dash\"},\"mode\":\"lines\",\"name\":\"lower fitness\",\"showlegend\":false,\"x\":[0.0],\"y\":[16487.57849721358],\"type\":\"scatter\"},{\"line\":{\"color\":\"#B82E2E\"},\"mode\":\"lines\",\"name\":\"max fitness\",\"x\":[0.0],\"y\":[102322.5],\"type\":\"scatter\"}],                        {\"template\":{\"data\":{\"histogram2dcontour\":[{\"type\":\"histogram2dcontour\",\"colorbar\":{\"outlinewidth\":0,\"ticks\":\"\"},\"colorscale\":[[0.0,\"#0d0887\"],[0.1111111111111111,\"#46039f\"],[0.2222222222222222,\"#7201a8\"],[0.3333333333333333,\"#9c179e\"],[0.4444444444444444,\"#bd3786\"],[0.5555555555555556,\"#d8576b\"],[0.6666666666666666,\"#ed7953\"],[0.7777777777777778,\"#fb9f3a\"],[0.8888888888888888,\"#fdca26\"],[1.0,\"#f0f921\"]]}],\"choropleth\":[{\"type\":\"choropleth\",\"colorbar\":{\"outlinewidth\":0,\"ticks\":\"\"}}],\"histogram2d\":[{\"type\":\"histogram2d\",\"colorbar\":{\"outlinewidth\":0,\"ticks\":\"\"},\"colorscale\":[[0.0,\"#0d0887\"],[0.1111111111111111,\"#46039f\"],[0.2222222222222222,\"#7201a8\"],[0.3333333333333333,\"#9c179e\"],[0.4444444444444444,\"#bd3786\"],[0.5555555555555556,\"#d8576b\"],[0.6666666666666666,\"#ed7953\"],[0.7777777777777778,\"#fb9f3a\"],[0.8888888888888888,\"#fdca26\"],[1.0,\"#f0f921\"]]}],\"heatmap\":[{\"type\":\"heatmap\",\"colorbar\":{\"outlinewidth\":0,\"ticks\":\"\"},\"colorscale\":[[0.0,\"#0d0887\"],[0.1111111111111111,\"#46039f\"],[0.2222222222222222,\"#7201a8\"],[0.3333333333333333,\"#9c179e\"],[0.4444444444444444,\"#bd3786\"],[0.5555555555555556,\"#d8576b\"],[0.6666666666666666,\"#ed7953\"],[0.7777777777777778,\"#fb9f3a\"],[0.8888888888888888,\"#fdca26\"],[1.0,\"#f0f921\"]]}],\"heatmapgl\":[{\"type\":\"heatmapgl\",\"colorbar\":{\"outlinewidth\":0,\"ticks\":\"\"},\"colorscale\":[[0.0,\"#0d0887\"],[0.1111111111111111,\"#46039f\"],[0.2222222222222222,\"#7201a8\"],[0.3333333333333333,\"#9c179e\"],[0.4444444444444444,\"#bd3786\"],[0.5555555555555556,\"#d8576b\"],[0.6666666666666666,\"#ed7953\"],[0.7777777777777778,\"#fb9f3a\"],[0.8888888888888888,\"#fdca26\"],[1.0,\"#f0f921\"]]}],\"contourcarpet\":[{\"type\":\"contourcarpet\",\"colorbar\":{\"outlinewidth\":0,\"ticks\":\"\"}}],\"contour\":[{\"type\":\"contour\",\"colorbar\":{\"outlinewidth\":0,\"ticks\":\"\"},\"colorscale\":[[0.0,\"#0d0887\"],[0.1111111111111111,\"#46039f\"],[0.2222222222222222,\"#7201a8\"],[0.3333333333333333,\"#9c179e\"],[0.4444444444444444,\"#bd3786\"],[0.5555555555555556,\"#d8576b\"],[0.6666666666666666,\"#ed7953\"],[0.7777777777777778,\"#fb9f3a\"],[0.8888888888888888,\"#fdca26\"],[1.0,\"#f0f921\"]]}],\"surface\":[{\"type\":\"surface\",\"colorbar\":{\"outlinewidth\":0,\"ticks\":\"\"},\"colorscale\":[[0.0,\"#0d0887\"],[0.1111111111111111,\"#46039f\"],[0.2222222222222222,\"#7201a8\"],[0.3333333333333333,\"#9c179e\"],[0.4444444444444444,\"#bd3786\"],[0.5555555555555556,\"#d8576b\"],[0.6666666666666666,\"#ed7953\"],[0.7777777777777778,\"#fb9f3a\"],[0.8888888888888888,\"#fdca26\"],[1.0,\"#f0f921\"]]}],\"mesh3d\":[{\"type\":\"mesh3d\",\"colorbar\":{\"outlinewidth\":0,\"ticks\":\"\"}}],\"scatter\":[{\"fillpattern\":{\"fillmode\":\"overlay\",\"size\":10,\"solidity\":0.2},\"type\":\"scatter\"}],\"parcoords\":[{\"type\":\"parcoords\",\"line\":{\"colorbar\":{\"outlinewidth\":0,\"ticks\":\"\"}}}],\"scatterpolargl\":[{\"type\":\"scatterpolargl\",\"marker\":{\"colorbar\":{\"outlinewidth\":0,\"ticks\":\"\"}}}],\"bar\":[{\"error_x\":{\"color\":\"#2a3f5f\"},\"error_y\":{\"color\":\"#2a3f5f\"},\"marker\":{\"line\":{\"color\":\"#E5ECF6\",\"width\":0.5},\"pattern\":{\"fillmode\":\"overlay\",\"size\":10,\"solidity\":0.2}},\"type\":\"bar\"}],\"scattergeo\":[{\"type\":\"scattergeo\",\"marker\":{\"colorbar\":{\"outlinewidth\":0,\"ticks\":\"\"}}}],\"scatterpolar\":[{\"type\":\"scatterpolar\",\"marker\":{\"colorbar\":{\"outlinewidth\":0,\"ticks\":\"\"}}}],\"histogram\":[{\"marker\":{\"pattern\":{\"fillmode\":\"overlay\",\"size\":10,\"solidity\":0.2}},\"type\":\"histogram\"}],\"scattergl\":[{\"type\":\"scattergl\",\"marker\":{\"colorbar\":{\"outlinewidth\":0,\"ticks\":\"\"}}}],\"scatter3d\":[{\"type\":\"scatter3d\",\"line\":{\"colorbar\":{\"outlinewidth\":0,\"ticks\":\"\"}},\"marker\":{\"colorbar\":{\"outlinewidth\":0,\"ticks\":\"\"}}}],\"scattermapbox\":[{\"type\":\"scattermapbox\",\"marker\":{\"colorbar\":{\"outlinewidth\":0,\"ticks\":\"\"}}}],\"scatterternary\":[{\"type\":\"scatterternary\",\"marker\":{\"colorbar\":{\"outlinewidth\":0,\"ticks\":\"\"}}}],\"scattercarpet\":[{\"type\":\"scattercarpet\",\"marker\":{\"colorbar\":{\"outlinewidth\":0,\"ticks\":\"\"}}}],\"carpet\":[{\"aaxis\":{\"endlinecolor\":\"#2a3f5f\",\"gridcolor\":\"white\",\"linecolor\":\"white\",\"minorgridcolor\":\"white\",\"startlinecolor\":\"#2a3f5f\"},\"baxis\":{\"endlinecolor\":\"#2a3f5f\",\"gridcolor\":\"white\",\"linecolor\":\"white\",\"minorgridcolor\":\"white\",\"startlinecolor\":\"#2a3f5f\"},\"type\":\"carpet\"}],\"table\":[{\"cells\":{\"fill\":{\"color\":\"#EBF0F8\"},\"line\":{\"color\":\"white\"}},\"header\":{\"fill\":{\"color\":\"#C8D4E3\"},\"line\":{\"color\":\"white\"}},\"type\":\"table\"}],\"barpolar\":[{\"marker\":{\"line\":{\"color\":\"#E5ECF6\",\"width\":0.5},\"pattern\":{\"fillmode\":\"overlay\",\"size\":10,\"solidity\":0.2}},\"type\":\"barpolar\"}],\"pie\":[{\"automargin\":true,\"type\":\"pie\"}]},\"layout\":{\"autotypenumbers\":\"strict\",\"colorway\":[\"#636efa\",\"#EF553B\",\"#00cc96\",\"#ab63fa\",\"#FFA15A\",\"#19d3f3\",\"#FF6692\",\"#B6E880\",\"#FF97FF\",\"#FECB52\"],\"font\":{\"color\":\"#2a3f5f\"},\"hovermode\":\"closest\",\"hoverlabel\":{\"align\":\"left\"},\"paper_bgcolor\":\"white\",\"plot_bgcolor\":\"#E5ECF6\",\"polar\":{\"bgcolor\":\"#E5ECF6\",\"angularaxis\":{\"gridcolor\":\"white\",\"linecolor\":\"white\",\"ticks\":\"\"},\"radialaxis\":{\"gridcolor\":\"white\",\"linecolor\":\"white\",\"ticks\":\"\"}},\"ternary\":{\"bgcolor\":\"#E5ECF6\",\"aaxis\":{\"gridcolor\":\"white\",\"linecolor\":\"white\",\"ticks\":\"\"},\"baxis\":{\"gridcolor\":\"white\",\"linecolor\":\"white\",\"ticks\":\"\"},\"caxis\":{\"gridcolor\":\"white\",\"linecolor\":\"white\",\"ticks\":\"\"}},\"coloraxis\":{\"colorbar\":{\"outlinewidth\":0,\"ticks\":\"\"}},\"colorscale\":{\"sequential\":[[0.0,\"#0d0887\"],[0.1111111111111111,\"#46039f\"],[0.2222222222222222,\"#7201a8\"],[0.3333333333333333,\"#9c179e\"],[0.4444444444444444,\"#bd3786\"],[0.5555555555555556,\"#d8576b\"],[0.6666666666666666,\"#ed7953\"],[0.7777777777777778,\"#fb9f3a\"],[0.8888888888888888,\"#fdca26\"],[1.0,\"#f0f921\"]],\"sequentialminus\":[[0.0,\"#0d0887\"],[0.1111111111111111,\"#46039f\"],[0.2222222222222222,\"#7201a8\"],[0.3333333333333333,\"#9c179e\"],[0.4444444444444444,\"#bd3786\"],[0.5555555555555556,\"#d8576b\"],[0.6666666666666666,\"#ed7953\"],[0.7777777777777778,\"#fb9f3a\"],[0.8888888888888888,\"#fdca26\"],[1.0,\"#f0f921\"]],\"diverging\":[[0,\"#8e0152\"],[0.1,\"#c51b7d\"],[0.2,\"#de77ae\"],[0.3,\"#f1b6da\"],[0.4,\"#fde0ef\"],[0.5,\"#f7f7f7\"],[0.6,\"#e6f5d0\"],[0.7,\"#b8e186\"],[0.8,\"#7fbc41\"],[0.9,\"#4d9221\"],[1,\"#276419\"]]},\"xaxis\":{\"gridcolor\":\"white\",\"linecolor\":\"white\",\"ticks\":\"\",\"title\":{\"standoff\":15},\"zerolinecolor\":\"white\",\"automargin\":true,\"zerolinewidth\":2},\"yaxis\":{\"gridcolor\":\"white\",\"linecolor\":\"white\",\"ticks\":\"\",\"title\":{\"standoff\":15},\"zerolinecolor\":\"white\",\"automargin\":true,\"zerolinewidth\":2},\"scene\":{\"xaxis\":{\"backgroundcolor\":\"#E5ECF6\",\"gridcolor\":\"white\",\"linecolor\":\"white\",\"showbackground\":true,\"ticks\":\"\",\"zerolinecolor\":\"white\",\"gridwidth\":2},\"yaxis\":{\"backgroundcolor\":\"#E5ECF6\",\"gridcolor\":\"white\",\"linecolor\":\"white\",\"showbackground\":true,\"ticks\":\"\",\"zerolinecolor\":\"white\",\"gridwidth\":2},\"zaxis\":{\"backgroundcolor\":\"#E5ECF6\",\"gridcolor\":\"white\",\"linecolor\":\"white\",\"showbackground\":true,\"ticks\":\"\",\"zerolinecolor\":\"white\",\"gridwidth\":2}},\"shapedefaults\":{\"line\":{\"color\":\"#2a3f5f\"}},\"annotationdefaults\":{\"arrowcolor\":\"#2a3f5f\",\"arrowhead\":0,\"arrowwidth\":1},\"geo\":{\"bgcolor\":\"white\",\"landcolor\":\"#E5ECF6\",\"subunitcolor\":\"white\",\"showland\":true,\"showlakes\":true,\"lakecolor\":\"white\"},\"title\":{\"x\":0.05},\"mapbox\":{\"style\":\"light\"}}}},                        {\"responsive\": true}                    ).then(function(){\n",
       "                            \n",
       "var gd = document.getElementById('113fa659-3cea-426a-8154-769ab632d6b2');\n",
       "var x = new MutationObserver(function (mutations, observer) {{\n",
       "        var display = window.getComputedStyle(gd).display;\n",
       "        if (!display || display === 'none') {{\n",
       "            console.log([gd, 'removed!']);\n",
       "            Plotly.purge(gd);\n",
       "            observer.disconnect();\n",
       "        }}\n",
       "}});\n",
       "\n",
       "// Listen for the removal of the full notebook cells\n",
       "var notebookContainer = gd.closest('#notebook-container');\n",
       "if (notebookContainer) {{\n",
       "    x.observe(notebookContainer, {childList: true});\n",
       "}}\n",
       "\n",
       "// Listen for the clearing of the current output cell\n",
       "var outputEl = gd.closest('.output');\n",
       "if (outputEl) {{\n",
       "    x.observe(outputEl, {childList: true});\n",
       "}}\n",
       "\n",
       "                        })                };                });            </script>        </div>"
      ]
     },
     "metadata": {},
     "output_type": "display_data"
    }
   ],
   "source": [
    "fig = go.Figure()        \n",
    "colors = copy(px.colors.qualitative.G10)\n",
    "color=colors.pop()\n",
    "fig.add_scatter(\n",
    "    name=\"mean fitness\",\n",
    "    x=mean_values.index,\n",
    "    y=mean_values,\n",
    "    mode=\"lines\",\n",
    "    line=dict(color=color)\n",
    "            )\n",
    "fig.add_scatter(\n",
    "    name=\"upper fitness\",\n",
    "    x=mean_values.index,\n",
    "    y=mean_values - std_values,\n",
    "    mode=\"lines\",\n",
    "    line=dict(dash='dash', color=color), showlegend=False\n",
    "            )\n",
    "fig.add_scatter(\n",
    "    name=\"lower fitness\",\n",
    "    x=mean_values.index,\n",
    "    y=mean_values + std_values,\n",
    "    mode=\"lines\",\n",
    "    line=dict(dash='dash', color=color),\n",
    "    fill=\"tonexty\",\n",
    "    fillcolor='rgba' + str(hex_to_rgba(color, 0.2)), showlegend=False\n",
    ")\n",
    "fig.add_scatter(\n",
    "    name=\"max fitness\",\n",
    "    x=mean_values.index,\n",
    "    y=max_values,\n",
    "    mode=\"lines\",\n",
    "    line=dict(color=colors.pop())\n",
    ")\n",
    "\n",
    "fig.show()"
   ]
  },
  {
   "cell_type": "code",
   "execution_count": null,
   "id": "6acca8cb-7213-4b49-a5a7-11b6d79a4afa",
   "metadata": {},
   "outputs": [],
   "source": []
  },
  {
   "cell_type": "code",
   "execution_count": 253,
   "id": "96d3f7a4-9507-4814-aa61-0a6fa41c2848",
   "metadata": {},
   "outputs": [],
   "source": [
    "import contextlib\n",
    "import numpy as np\n",
    "\n",
    "@contextlib.contextmanager\n",
    "def temp_seed(seed):\n",
    "    state = np.random.get_state()\n",
    "    np.random.seed(seed)\n",
    "    try:\n",
    "        yield\n",
    "    finally:\n",
    "        np.random.set_state(state)"
   ]
  },
  {
   "cell_type": "code",
   "execution_count": 254,
   "id": "34b04615-fb1f-4fd8-8104-aec6635c9a2e",
   "metadata": {},
   "outputs": [],
   "source": [
    "np.random.seed(0)"
   ]
  },
  {
   "cell_type": "code",
   "execution_count": 255,
   "id": "dc3e50b1-0f64-40b4-b5da-ecd45b6c6eb5",
   "metadata": {},
   "outputs": [
    {
     "data": {
      "text/plain": [
       "array([1.76405235, 0.40015721, 0.97873798])"
      ]
     },
     "execution_count": 255,
     "metadata": {},
     "output_type": "execute_result"
    }
   ],
   "source": [
    "np.random.randn(3)"
   ]
  },
  {
   "cell_type": "code",
   "execution_count": 256,
   "id": "a5c46612-baf8-4d5b-9af2-89a4c6a16eb3",
   "metadata": {},
   "outputs": [
    {
     "name": "stdout",
     "output_type": "stream",
     "text": [
      "[ 0.44122749 -0.33087015  2.43077119]\n"
     ]
    }
   ],
   "source": [
    "with temp_seed(5):\n",
    "    print(np.random.randn(3))"
   ]
  },
  {
   "cell_type": "code",
   "execution_count": null,
   "id": "6761885b-3037-4c57-8404-0c7c741eab6f",
   "metadata": {},
   "outputs": [],
   "source": []
  }
 ],
 "metadata": {
  "kernelspec": {
   "display_name": "data_mining",
   "language": "python",
   "name": "data_mining"
  },
  "language_info": {
   "codemirror_mode": {
    "name": "ipython",
    "version": 3
   },
   "file_extension": ".py",
   "mimetype": "text/x-python",
   "name": "python",
   "nbconvert_exporter": "python",
   "pygments_lexer": "ipython3",
   "version": "3.9.12"
  }
 },
 "nbformat": 4,
 "nbformat_minor": 5
}
