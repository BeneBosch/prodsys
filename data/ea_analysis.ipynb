{
 "cells": [
  {
   "cell_type": "code",
   "execution_count": 140,
   "id": "cfc9dfbd-924e-46ea-84d7-95dcd4f09d2b",
   "metadata": {},
   "outputs": [],
   "source": [
    "import pandas as pd\n",
    "import json\n",
    "import plotly"
   ]
  },
  {
   "cell_type": "code",
   "execution_count": 141,
   "id": "85770c5d-b837-45ab-9b97-07b08834e630",
   "metadata": {},
   "outputs": [],
   "source": [
    "# import plotly.io as pio\n",
    "# pio.renderers.default = 'browser'"
   ]
  },
  {
   "cell_type": "code",
   "execution_count": 142,
   "id": "4a305c63-1485-4c80-8a7d-0b0305148bb0",
   "metadata": {},
   "outputs": [],
   "source": [
    "# with open(\"ea_results.json\") as json_file:\n",
    "with open(\"anneal_results.json\") as json_file:\n",
    "    data = json.load(json_file)"
   ]
  },
  {
   "cell_type": "code",
   "execution_count": 143,
   "id": "2b91790d-d597-4b32-88f2-e2ac211de945",
   "metadata": {},
   "outputs": [],
   "source": [
    "new_data = {}\n",
    "row_number = 1\n",
    "for generation, values in data.items():\n",
    "    for individual, individual_values in values.items():\n",
    "        if \"agg_fitness\" in individual_values.keys():\n",
    "            new_data.update({str(row_number): {\"Generation\": int(generation), \"population_number\": int(individual), \n",
    "                                       \"agg_fitness\": individual_values[\"agg_fitness\"],\n",
    "                                       \"cost\": individual_values[\"fitness\"][3],\n",
    "                                       \"throughput_time\": individual_values[\"fitness\"][2],\n",
    "                                       \"throughput\": individual_values[\"fitness\"][0],\n",
    "                                       \"wip\": individual_values[\"fitness\"][1],\n",
    "                                      }})\n",
    "            row_number += 1\n",
    "df = pd.DataFrame(new_data)\n",
    "df = df.T"
   ]
  },
  {
   "cell_type": "code",
   "execution_count": 144,
   "id": "83c784f4-b62a-414a-9e09-206249d07a0d",
   "metadata": {},
   "outputs": [
    {
     "data": {
      "text/html": [
       "<div>\n",
       "<style scoped>\n",
       "    .dataframe tbody tr th:only-of-type {\n",
       "        vertical-align: middle;\n",
       "    }\n",
       "\n",
       "    .dataframe tbody tr th {\n",
       "        vertical-align: top;\n",
       "    }\n",
       "\n",
       "    .dataframe thead th {\n",
       "        text-align: right;\n",
       "    }\n",
       "</style>\n",
       "<table border=\"1\" class=\"dataframe\">\n",
       "  <thead>\n",
       "    <tr style=\"text-align: right;\">\n",
       "      <th></th>\n",
       "      <th>Generation</th>\n",
       "      <th>population_number</th>\n",
       "      <th>agg_fitness</th>\n",
       "      <th>cost</th>\n",
       "      <th>throughput_time</th>\n",
       "      <th>throughput</th>\n",
       "      <th>wip</th>\n",
       "    </tr>\n",
       "  </thead>\n",
       "  <tbody>\n",
       "    <tr>\n",
       "      <th>1</th>\n",
       "      <td>0.0</td>\n",
       "      <td>0.0</td>\n",
       "      <td>860.186283</td>\n",
       "      <td>0.0</td>\n",
       "      <td>459.280601</td>\n",
       "      <td>714.0</td>\n",
       "      <td>472.305682</td>\n",
       "    </tr>\n",
       "    <tr>\n",
       "      <th>2</th>\n",
       "      <td>0.0</td>\n",
       "      <td>1.0</td>\n",
       "      <td>2005.831686</td>\n",
       "      <td>0.0</td>\n",
       "      <td>173.131686</td>\n",
       "      <td>368.0</td>\n",
       "      <td>1869.500000</td>\n",
       "    </tr>\n",
       "    <tr>\n",
       "      <th>3</th>\n",
       "      <td>0.0</td>\n",
       "      <td>2.0</td>\n",
       "      <td>2006.375683</td>\n",
       "      <td>0.0</td>\n",
       "      <td>174.775683</td>\n",
       "      <td>369.0</td>\n",
       "      <td>1868.500000</td>\n",
       "    </tr>\n",
       "    <tr>\n",
       "      <th>4</th>\n",
       "      <td>0.0</td>\n",
       "      <td>3.0</td>\n",
       "      <td>2006.968848</td>\n",
       "      <td>0.0</td>\n",
       "      <td>173.168848</td>\n",
       "      <td>367.0</td>\n",
       "      <td>1870.500000</td>\n",
       "    </tr>\n",
       "    <tr>\n",
       "      <th>5</th>\n",
       "      <td>0.0</td>\n",
       "      <td>4.0</td>\n",
       "      <td>2006.845375</td>\n",
       "      <td>0.0</td>\n",
       "      <td>173.045375</td>\n",
       "      <td>367.0</td>\n",
       "      <td>1870.500000</td>\n",
       "    </tr>\n",
       "  </tbody>\n",
       "</table>\n",
       "</div>"
      ],
      "text/plain": [
       "   Generation  population_number  agg_fitness  cost  throughput_time  \\\n",
       "1         0.0                0.0   860.186283   0.0       459.280601   \n",
       "2         0.0                1.0  2005.831686   0.0       173.131686   \n",
       "3         0.0                2.0  2006.375683   0.0       174.775683   \n",
       "4         0.0                3.0  2006.968848   0.0       173.168848   \n",
       "5         0.0                4.0  2006.845375   0.0       173.045375   \n",
       "\n",
       "   throughput          wip  \n",
       "1       714.0   472.305682  \n",
       "2       368.0  1869.500000  \n",
       "3       369.0  1868.500000  \n",
       "4       367.0  1870.500000  \n",
       "5       367.0  1870.500000  "
      ]
     },
     "execution_count": 144,
     "metadata": {},
     "output_type": "execute_result"
    }
   ],
   "source": [
    "df.head()"
   ]
  },
  {
   "cell_type": "code",
   "execution_count": 145,
   "id": "9071c3fa-e4f2-43e4-be70-d24da9c7202b",
   "metadata": {},
   "outputs": [
    {
     "data": {
      "text/plain": [
       "(67, 7)"
      ]
     },
     "execution_count": 145,
     "metadata": {},
     "output_type": "execute_result"
    }
   ],
   "source": [
    "df.shape"
   ]
  },
  {
   "cell_type": "code",
   "execution_count": 146,
   "id": "543c762c-9d28-438d-880f-43bd0bafd9bb",
   "metadata": {},
   "outputs": [],
   "source": [
    "df = df.drop_duplicates(subset=['agg_fitness'])\n",
    "df = df.loc[df[\"agg_fitness\"] > -50000]"
   ]
  },
  {
   "cell_type": "code",
   "execution_count": 147,
   "id": "64d4be67-1407-46d8-b35c-22a4dd5c279a",
   "metadata": {},
   "outputs": [],
   "source": [
    "def is_pareto_efficient_simple(costs):\n",
    "    \"\"\"\n",
    "    Find the pareto-efficient points\n",
    "    :param costs: An (n_points, n_costs) array\n",
    "    :return: A (n_points, ) boolean array, indicating whether each point is Pareto efficient\n",
    "    \"\"\"\n",
    "    is_efficient = np.ones(costs.shape[0], dtype = bool)\n",
    "    for i, c in enumerate(costs):\n",
    "        if is_efficient[i]:\n",
    "            is_efficient[is_efficient] = np.any(costs[is_efficient]<c, axis=1)  # Keep any point with a lower cost\n",
    "            is_efficient[i] = True  # And keep self\n",
    "    return is_efficient\n",
    "\n",
    "# Faster than is_pareto_efficient_simple, but less readable.\n",
    "def is_pareto_efficient(costs, return_mask = True):\n",
    "    \"\"\"\n",
    "    Find the pareto-efficient points\n",
    "    :param costs: An (n_points, n_costs) array\n",
    "    :param return_mask: True to return a mask\n",
    "    :return: An array of indices of pareto-efficient points.\n",
    "        If return_mask is True, this will be an (n_points, ) boolean array\n",
    "        Otherwise it will be a (n_efficient_points, ) integer array of indices.\n",
    "    \"\"\"\n",
    "    is_efficient = np.arange(costs.shape[0])\n",
    "    n_points = costs.shape[0]\n",
    "    next_point_index = 0  # Next index in the is_efficient array to search for\n",
    "    while next_point_index<len(costs):\n",
    "        nondominated_point_mask = np.any(costs<costs[next_point_index], axis=1)\n",
    "        nondominated_point_mask[next_point_index] = True\n",
    "        is_efficient = is_efficient[nondominated_point_mask]  # Remove dominated points\n",
    "        costs = costs[nondominated_point_mask]\n",
    "        next_point_index = np.sum(nondominated_point_mask[:next_point_index])+1\n",
    "    if return_mask:\n",
    "        is_efficient_mask = np.zeros(n_points, dtype = bool)\n",
    "        is_efficient_mask[is_efficient] = True\n",
    "        return is_efficient_mask\n",
    "    else:\n",
    "        return is_efficient"
   ]
  },
  {
   "cell_type": "code",
   "execution_count": 148,
   "id": "cf736976-6018-43bb-a04a-047035c72e96",
   "metadata": {},
   "outputs": [],
   "source": [
    "import numpy as np"
   ]
  },
  {
   "cell_type": "code",
   "execution_count": 149,
   "id": "bd267e4a-84e9-474a-92d9-bf1a13f7ae67",
   "metadata": {},
   "outputs": [],
   "source": [
    "df[\"cost\"] = df[\"cost\"].astype(float)\n",
    "df[\"agg_fitness\"] = df[\"agg_fitness\"].astype(float)"
   ]
  },
  {
   "cell_type": "code",
   "execution_count": 150,
   "id": "fdc55cc5-7da7-455f-9a09-85f0c92543d2",
   "metadata": {},
   "outputs": [],
   "source": [
    "# df = df.loc[df[\"wip\"] < 150]\n",
    "# df = df.loc[df[\"throughput\"] > 2500]\n",
    "# df = df.loc[df[\"throughput_time\"] < 100]"
   ]
  },
  {
   "cell_type": "code",
   "execution_count": 151,
   "id": "9e3e3fa4-b211-4a75-98b6-1b2fd2d7ffc4",
   "metadata": {},
   "outputs": [
    {
     "name": "stdout",
     "output_type": "stream",
     "text": [
      "41\n"
     ]
    }
   ],
   "source": [
    "print(len(df))"
   ]
  },
  {
   "cell_type": "code",
   "execution_count": 152,
   "id": "46e68639-75f5-4607-8875-384ab131d5bb",
   "metadata": {},
   "outputs": [],
   "source": [
    "columns = ['cost', 'throughput', 'wip']\n",
    "# columns = ['throughput_time', 'throughput']\n",
    "df_for_pareto = df[columns].copy()\n",
    "df_for_pareto['throughput'] = -df_for_pareto['throughput']"
   ]
  },
  {
   "cell_type": "code",
   "execution_count": 153,
   "id": "8b41623a-8b6a-4042-be71-e444aaaa0e23",
   "metadata": {},
   "outputs": [],
   "source": [
    "is_efficient = is_pareto_efficient(df_for_pareto.values)\n",
    "df['is_efficient'] = is_efficient"
   ]
  },
  {
   "cell_type": "code",
   "execution_count": 154,
   "id": "1e98f139-3981-44d1-b684-742860f08e4d",
   "metadata": {},
   "outputs": [
    {
     "data": {
      "application/vnd.plotly.v1+json": {
       "config": {
        "plotlyServerURL": "https://plot.ly"
       },
       "data": [
        {
         "customdata": [
          [
           0,
           0,
           0,
           860.1862826844811
          ],
          [
           0,
           0,
           1,
           2005.831686480643
          ],
          [
           0,
           0,
           2,
           2006.375683113453
          ],
          [
           0,
           0,
           3,
           2006.968847841608
          ],
          [
           0,
           0,
           4,
           2006.8453751418995
          ],
          [
           0,
           0,
           5,
           2005.9288120530748
          ],
          [
           0,
           0,
           6,
           2006.8957657449594
          ],
          [
           0,
           0,
           7,
           2012.744584729413
          ],
          [
           0,
           0,
           8,
           2012.7930137805884
          ],
          [
           0,
           0,
           9,
           2006.9489404335811
          ],
          [
           0,
           0,
           10,
           2006.0855365572309
          ],
          [
           0,
           0,
           11,
           2005.3322060124262
          ],
          [
           0,
           0,
           12,
           2006.6465054499165
          ],
          [
           0,
           0,
           15,
           2006.5417228671065
          ],
          [
           0,
           0,
           17,
           2005.238717358047
          ],
          [
           0,
           0,
           18,
           2391.543892518428
          ],
          [
           0,
           0,
           20,
           2391.55565043652
          ],
          [
           0,
           0,
           22,
           2391.6260808040647
          ],
          [
           0,
           0,
           24,
           2391.609758706993
          ],
          [
           20000,
           0,
           25,
           2498.035681695768
          ],
          [
           20000,
           0,
           27,
           2498.0348368940886
          ],
          [
           20000,
           0,
           28,
           2497.941709831822
          ],
          [
           20000,
           0,
           29,
           2497.918179120445
          ],
          [
           0,
           0,
           38,
           2391.611309540211
          ],
          [
           0,
           0,
           39,
           2391.5852514802627
          ],
          [
           0,
           0,
           40,
           2391.5157413817024
          ],
          [
           0,
           0,
           41,
           2391.5381522277985
          ],
          [
           0,
           0,
           45,
           2207.6406900423062
          ],
          [
           0,
           0,
           46,
           2207.6873233462775
          ],
          [
           0,
           0,
           49,
           2207.586929308319
          ],
          [
           0,
           0,
           50,
           2207.5629569765224
          ],
          [
           0,
           0,
           51,
           2207.628966220787
          ],
          [
           0,
           0,
           53,
           2207.5559560142447
          ],
          [
           0,
           0,
           54,
           2207.5214548501103
          ],
          [
           0,
           0,
           55,
           2207.7033264774723
          ],
          [
           0,
           0,
           59,
           2215.2029106011773
          ],
          [
           0,
           0,
           61,
           2214.0301704487574
          ],
          [
           0,
           0,
           62,
           2213.8166565941137
          ],
          [
           0,
           0,
           63,
           2213.153774481064
          ],
          [
           0,
           0,
           64,
           2216.536982875024
          ],
          [
           0,
           0,
           66,
           2216.2828643071584
          ]
         ],
         "hovertemplate": "throughput=%{x}<br>wip=%{y}<br>cost=%{marker.color}<br>Generation=%{customdata[1]}<br>population_number=%{customdata[2]}<br>agg_fitness=%{customdata[3]}<extra></extra>",
         "legendgroup": "",
         "marker": {
          "color": [
           0,
           0,
           0,
           0,
           0,
           0,
           0,
           0,
           0,
           0,
           0,
           0,
           0,
           0,
           0,
           0,
           0,
           0,
           0,
           20000,
           20000,
           20000,
           20000,
           0,
           0,
           0,
           0,
           0,
           0,
           0,
           0,
           0,
           0,
           0,
           0,
           0,
           0,
           0,
           0,
           0,
           0
          ],
          "coloraxis": "coloraxis",
          "symbol": "circle"
         },
         "mode": "markers",
         "name": "",
         "orientation": "v",
         "showlegend": false,
         "type": "scatter",
         "x": [
          714,
          368,
          369,
          367,
          367,
          368,
          367,
          363,
          363,
          367,
          368,
          369,
          368,
          368,
          369,
          104,
          104,
          104,
          104,
          105,
          105,
          105,
          105,
          104,
          104,
          104,
          104,
          129,
          129,
          129,
          129,
          129,
          129,
          129,
          129,
          128,
          128,
          128,
          129,
          128,
          128
         ],
         "xaxis": "x",
         "y": [
          472.305681960506,
          1869.5,
          1868.5,
          1870.5,
          1870.5,
          1869.5,
          1870.5,
          1875.5,
          1875.5,
          1870.5,
          1869.5,
          1867.5,
          1869.5,
          1869.5,
          1867.5,
          2197,
          2197,
          2197,
          2197,
          2203.5,
          2203.5,
          2203.5,
          2203.5,
          2197,
          2197,
          2197,
          2197,
          2197,
          2197,
          2197,
          2197,
          2197,
          2197,
          2197,
          2197,
          2198,
          2198,
          2198,
          2197,
          2198,
          2198
         ],
         "yaxis": "y"
        }
       ],
       "layout": {
        "autosize": true,
        "coloraxis": {
         "colorbar": {
          "title": {
           "text": "cost"
          }
         },
         "colorscale": [
          [
           0,
           "#440154"
          ],
          [
           0.1111111111111111,
           "#482878"
          ],
          [
           0.2222222222222222,
           "#3e4989"
          ],
          [
           0.3333333333333333,
           "#31688e"
          ],
          [
           0.4444444444444444,
           "#26828e"
          ],
          [
           0.5555555555555556,
           "#1f9e89"
          ],
          [
           0.6666666666666666,
           "#35b779"
          ],
          [
           0.7777777777777778,
           "#6ece58"
          ],
          [
           0.8888888888888888,
           "#b5de2b"
          ],
          [
           1,
           "#fde725"
          ]
         ]
        },
        "legend": {
         "tracegroupgap": 0
        },
        "margin": {
         "t": 60
        },
        "template": {
         "data": {
          "bar": [
           {
            "error_x": {
             "color": "#2a3f5f"
            },
            "error_y": {
             "color": "#2a3f5f"
            },
            "marker": {
             "line": {
              "color": "#E5ECF6",
              "width": 0.5
             },
             "pattern": {
              "fillmode": "overlay",
              "size": 10,
              "solidity": 0.2
             }
            },
            "type": "bar"
           }
          ],
          "barpolar": [
           {
            "marker": {
             "line": {
              "color": "#E5ECF6",
              "width": 0.5
             },
             "pattern": {
              "fillmode": "overlay",
              "size": 10,
              "solidity": 0.2
             }
            },
            "type": "barpolar"
           }
          ],
          "carpet": [
           {
            "aaxis": {
             "endlinecolor": "#2a3f5f",
             "gridcolor": "white",
             "linecolor": "white",
             "minorgridcolor": "white",
             "startlinecolor": "#2a3f5f"
            },
            "baxis": {
             "endlinecolor": "#2a3f5f",
             "gridcolor": "white",
             "linecolor": "white",
             "minorgridcolor": "white",
             "startlinecolor": "#2a3f5f"
            },
            "type": "carpet"
           }
          ],
          "choropleth": [
           {
            "colorbar": {
             "outlinewidth": 0,
             "ticks": ""
            },
            "type": "choropleth"
           }
          ],
          "contour": [
           {
            "colorbar": {
             "outlinewidth": 0,
             "ticks": ""
            },
            "colorscale": [
             [
              0,
              "#0d0887"
             ],
             [
              0.1111111111111111,
              "#46039f"
             ],
             [
              0.2222222222222222,
              "#7201a8"
             ],
             [
              0.3333333333333333,
              "#9c179e"
             ],
             [
              0.4444444444444444,
              "#bd3786"
             ],
             [
              0.5555555555555556,
              "#d8576b"
             ],
             [
              0.6666666666666666,
              "#ed7953"
             ],
             [
              0.7777777777777778,
              "#fb9f3a"
             ],
             [
              0.8888888888888888,
              "#fdca26"
             ],
             [
              1,
              "#f0f921"
             ]
            ],
            "type": "contour"
           }
          ],
          "contourcarpet": [
           {
            "colorbar": {
             "outlinewidth": 0,
             "ticks": ""
            },
            "type": "contourcarpet"
           }
          ],
          "heatmap": [
           {
            "colorbar": {
             "outlinewidth": 0,
             "ticks": ""
            },
            "colorscale": [
             [
              0,
              "#0d0887"
             ],
             [
              0.1111111111111111,
              "#46039f"
             ],
             [
              0.2222222222222222,
              "#7201a8"
             ],
             [
              0.3333333333333333,
              "#9c179e"
             ],
             [
              0.4444444444444444,
              "#bd3786"
             ],
             [
              0.5555555555555556,
              "#d8576b"
             ],
             [
              0.6666666666666666,
              "#ed7953"
             ],
             [
              0.7777777777777778,
              "#fb9f3a"
             ],
             [
              0.8888888888888888,
              "#fdca26"
             ],
             [
              1,
              "#f0f921"
             ]
            ],
            "type": "heatmap"
           }
          ],
          "heatmapgl": [
           {
            "colorbar": {
             "outlinewidth": 0,
             "ticks": ""
            },
            "colorscale": [
             [
              0,
              "#0d0887"
             ],
             [
              0.1111111111111111,
              "#46039f"
             ],
             [
              0.2222222222222222,
              "#7201a8"
             ],
             [
              0.3333333333333333,
              "#9c179e"
             ],
             [
              0.4444444444444444,
              "#bd3786"
             ],
             [
              0.5555555555555556,
              "#d8576b"
             ],
             [
              0.6666666666666666,
              "#ed7953"
             ],
             [
              0.7777777777777778,
              "#fb9f3a"
             ],
             [
              0.8888888888888888,
              "#fdca26"
             ],
             [
              1,
              "#f0f921"
             ]
            ],
            "type": "heatmapgl"
           }
          ],
          "histogram": [
           {
            "marker": {
             "pattern": {
              "fillmode": "overlay",
              "size": 10,
              "solidity": 0.2
             }
            },
            "type": "histogram"
           }
          ],
          "histogram2d": [
           {
            "colorbar": {
             "outlinewidth": 0,
             "ticks": ""
            },
            "colorscale": [
             [
              0,
              "#0d0887"
             ],
             [
              0.1111111111111111,
              "#46039f"
             ],
             [
              0.2222222222222222,
              "#7201a8"
             ],
             [
              0.3333333333333333,
              "#9c179e"
             ],
             [
              0.4444444444444444,
              "#bd3786"
             ],
             [
              0.5555555555555556,
              "#d8576b"
             ],
             [
              0.6666666666666666,
              "#ed7953"
             ],
             [
              0.7777777777777778,
              "#fb9f3a"
             ],
             [
              0.8888888888888888,
              "#fdca26"
             ],
             [
              1,
              "#f0f921"
             ]
            ],
            "type": "histogram2d"
           }
          ],
          "histogram2dcontour": [
           {
            "colorbar": {
             "outlinewidth": 0,
             "ticks": ""
            },
            "colorscale": [
             [
              0,
              "#0d0887"
             ],
             [
              0.1111111111111111,
              "#46039f"
             ],
             [
              0.2222222222222222,
              "#7201a8"
             ],
             [
              0.3333333333333333,
              "#9c179e"
             ],
             [
              0.4444444444444444,
              "#bd3786"
             ],
             [
              0.5555555555555556,
              "#d8576b"
             ],
             [
              0.6666666666666666,
              "#ed7953"
             ],
             [
              0.7777777777777778,
              "#fb9f3a"
             ],
             [
              0.8888888888888888,
              "#fdca26"
             ],
             [
              1,
              "#f0f921"
             ]
            ],
            "type": "histogram2dcontour"
           }
          ],
          "mesh3d": [
           {
            "colorbar": {
             "outlinewidth": 0,
             "ticks": ""
            },
            "type": "mesh3d"
           }
          ],
          "parcoords": [
           {
            "line": {
             "colorbar": {
              "outlinewidth": 0,
              "ticks": ""
             }
            },
            "type": "parcoords"
           }
          ],
          "pie": [
           {
            "automargin": true,
            "type": "pie"
           }
          ],
          "scatter": [
           {
            "fillpattern": {
             "fillmode": "overlay",
             "size": 10,
             "solidity": 0.2
            },
            "type": "scatter"
           }
          ],
          "scatter3d": [
           {
            "line": {
             "colorbar": {
              "outlinewidth": 0,
              "ticks": ""
             }
            },
            "marker": {
             "colorbar": {
              "outlinewidth": 0,
              "ticks": ""
             }
            },
            "type": "scatter3d"
           }
          ],
          "scattercarpet": [
           {
            "marker": {
             "colorbar": {
              "outlinewidth": 0,
              "ticks": ""
             }
            },
            "type": "scattercarpet"
           }
          ],
          "scattergeo": [
           {
            "marker": {
             "colorbar": {
              "outlinewidth": 0,
              "ticks": ""
             }
            },
            "type": "scattergeo"
           }
          ],
          "scattergl": [
           {
            "marker": {
             "colorbar": {
              "outlinewidth": 0,
              "ticks": ""
             }
            },
            "type": "scattergl"
           }
          ],
          "scattermapbox": [
           {
            "marker": {
             "colorbar": {
              "outlinewidth": 0,
              "ticks": ""
             }
            },
            "type": "scattermapbox"
           }
          ],
          "scatterpolar": [
           {
            "marker": {
             "colorbar": {
              "outlinewidth": 0,
              "ticks": ""
             }
            },
            "type": "scatterpolar"
           }
          ],
          "scatterpolargl": [
           {
            "marker": {
             "colorbar": {
              "outlinewidth": 0,
              "ticks": ""
             }
            },
            "type": "scatterpolargl"
           }
          ],
          "scatterternary": [
           {
            "marker": {
             "colorbar": {
              "outlinewidth": 0,
              "ticks": ""
             }
            },
            "type": "scatterternary"
           }
          ],
          "surface": [
           {
            "colorbar": {
             "outlinewidth": 0,
             "ticks": ""
            },
            "colorscale": [
             [
              0,
              "#0d0887"
             ],
             [
              0.1111111111111111,
              "#46039f"
             ],
             [
              0.2222222222222222,
              "#7201a8"
             ],
             [
              0.3333333333333333,
              "#9c179e"
             ],
             [
              0.4444444444444444,
              "#bd3786"
             ],
             [
              0.5555555555555556,
              "#d8576b"
             ],
             [
              0.6666666666666666,
              "#ed7953"
             ],
             [
              0.7777777777777778,
              "#fb9f3a"
             ],
             [
              0.8888888888888888,
              "#fdca26"
             ],
             [
              1,
              "#f0f921"
             ]
            ],
            "type": "surface"
           }
          ],
          "table": [
           {
            "cells": {
             "fill": {
              "color": "#EBF0F8"
             },
             "line": {
              "color": "white"
             }
            },
            "header": {
             "fill": {
              "color": "#C8D4E3"
             },
             "line": {
              "color": "white"
             }
            },
            "type": "table"
           }
          ]
         },
         "layout": {
          "annotationdefaults": {
           "arrowcolor": "#2a3f5f",
           "arrowhead": 0,
           "arrowwidth": 1
          },
          "autotypenumbers": "strict",
          "coloraxis": {
           "colorbar": {
            "outlinewidth": 0,
            "ticks": ""
           }
          },
          "colorscale": {
           "diverging": [
            [
             0,
             "#8e0152"
            ],
            [
             0.1,
             "#c51b7d"
            ],
            [
             0.2,
             "#de77ae"
            ],
            [
             0.3,
             "#f1b6da"
            ],
            [
             0.4,
             "#fde0ef"
            ],
            [
             0.5,
             "#f7f7f7"
            ],
            [
             0.6,
             "#e6f5d0"
            ],
            [
             0.7,
             "#b8e186"
            ],
            [
             0.8,
             "#7fbc41"
            ],
            [
             0.9,
             "#4d9221"
            ],
            [
             1,
             "#276419"
            ]
           ],
           "sequential": [
            [
             0,
             "#0d0887"
            ],
            [
             0.1111111111111111,
             "#46039f"
            ],
            [
             0.2222222222222222,
             "#7201a8"
            ],
            [
             0.3333333333333333,
             "#9c179e"
            ],
            [
             0.4444444444444444,
             "#bd3786"
            ],
            [
             0.5555555555555556,
             "#d8576b"
            ],
            [
             0.6666666666666666,
             "#ed7953"
            ],
            [
             0.7777777777777778,
             "#fb9f3a"
            ],
            [
             0.8888888888888888,
             "#fdca26"
            ],
            [
             1,
             "#f0f921"
            ]
           ],
           "sequentialminus": [
            [
             0,
             "#0d0887"
            ],
            [
             0.1111111111111111,
             "#46039f"
            ],
            [
             0.2222222222222222,
             "#7201a8"
            ],
            [
             0.3333333333333333,
             "#9c179e"
            ],
            [
             0.4444444444444444,
             "#bd3786"
            ],
            [
             0.5555555555555556,
             "#d8576b"
            ],
            [
             0.6666666666666666,
             "#ed7953"
            ],
            [
             0.7777777777777778,
             "#fb9f3a"
            ],
            [
             0.8888888888888888,
             "#fdca26"
            ],
            [
             1,
             "#f0f921"
            ]
           ]
          },
          "colorway": [
           "#636efa",
           "#EF553B",
           "#00cc96",
           "#ab63fa",
           "#FFA15A",
           "#19d3f3",
           "#FF6692",
           "#B6E880",
           "#FF97FF",
           "#FECB52"
          ],
          "font": {
           "color": "#2a3f5f"
          },
          "geo": {
           "bgcolor": "white",
           "lakecolor": "white",
           "landcolor": "#E5ECF6",
           "showlakes": true,
           "showland": true,
           "subunitcolor": "white"
          },
          "hoverlabel": {
           "align": "left"
          },
          "hovermode": "closest",
          "mapbox": {
           "style": "light"
          },
          "paper_bgcolor": "white",
          "plot_bgcolor": "#E5ECF6",
          "polar": {
           "angularaxis": {
            "gridcolor": "white",
            "linecolor": "white",
            "ticks": ""
           },
           "bgcolor": "#E5ECF6",
           "radialaxis": {
            "gridcolor": "white",
            "linecolor": "white",
            "ticks": ""
           }
          },
          "scene": {
           "xaxis": {
            "backgroundcolor": "#E5ECF6",
            "gridcolor": "white",
            "gridwidth": 2,
            "linecolor": "white",
            "showbackground": true,
            "ticks": "",
            "zerolinecolor": "white"
           },
           "yaxis": {
            "backgroundcolor": "#E5ECF6",
            "gridcolor": "white",
            "gridwidth": 2,
            "linecolor": "white",
            "showbackground": true,
            "ticks": "",
            "zerolinecolor": "white"
           },
           "zaxis": {
            "backgroundcolor": "#E5ECF6",
            "gridcolor": "white",
            "gridwidth": 2,
            "linecolor": "white",
            "showbackground": true,
            "ticks": "",
            "zerolinecolor": "white"
           }
          },
          "shapedefaults": {
           "line": {
            "color": "#2a3f5f"
           }
          },
          "ternary": {
           "aaxis": {
            "gridcolor": "white",
            "linecolor": "white",
            "ticks": ""
           },
           "baxis": {
            "gridcolor": "white",
            "linecolor": "white",
            "ticks": ""
           },
           "bgcolor": "#E5ECF6",
           "caxis": {
            "gridcolor": "white",
            "linecolor": "white",
            "ticks": ""
           }
          },
          "title": {
           "x": 0.05
          },
          "xaxis": {
           "automargin": true,
           "gridcolor": "white",
           "linecolor": "white",
           "ticks": "",
           "title": {
            "standoff": 15
           },
           "zerolinecolor": "white",
           "zerolinewidth": 2
          },
          "yaxis": {
           "automargin": true,
           "gridcolor": "white",
           "linecolor": "white",
           "ticks": "",
           "title": {
            "standoff": 15
           },
           "zerolinecolor": "white",
           "zerolinewidth": 2
          }
         }
        },
        "xaxis": {
         "anchor": "y",
         "autorange": true,
         "domain": [
          0,
          1
         ],
         "range": [
          67.89034512887724,
          750.1096548711228
         ],
         "title": {
          "text": "throughput"
         },
         "type": "linear"
        },
        "yaxis": {
         "anchor": "x",
         "autorange": true,
         "domain": [
          0,
          1
         ],
         "range": [
          338.2630772829074,
          2337.542604677599
         ],
         "title": {
          "text": "wip"
         },
         "type": "linear"
        }
       }
      },
      "image/png": "[encoded data removed]",
      "text/html": [
       "<div>                            <div id=\"58729720-9362-4604-9666-32989b291126\" class=\"plotly-graph-div\" style=\"height:525px; width:100%;\"></div>            <script type=\"text/javascript\">                require([\"plotly\"], function(Plotly) {                    window.PLOTLYENV=window.PLOTLYENV || {};                                    if (document.getElementById(\"58729720-9362-4604-9666-32989b291126\")) {                    Plotly.newPlot(                        \"58729720-9362-4604-9666-32989b291126\",                        [{\"customdata\":[[0.0,0.0,0.0,860.1862826844811],[0.0,0.0,1.0,2005.831686480643],[0.0,0.0,2.0,2006.375683113453],[0.0,0.0,3.0,2006.968847841608],[0.0,0.0,4.0,2006.8453751418995],[0.0,0.0,5.0,2005.9288120530748],[0.0,0.0,6.0,2006.8957657449594],[0.0,0.0,7.0,2012.744584729413],[0.0,0.0,8.0,2012.7930137805884],[0.0,0.0,9.0,2006.9489404335811],[0.0,0.0,10.0,2006.0855365572309],[0.0,0.0,11.0,2005.3322060124262],[0.0,0.0,12.0,2006.6465054499165],[0.0,0.0,15.0,2006.5417228671065],[0.0,0.0,17.0,2005.238717358047],[0.0,0.0,18.0,2391.543892518428],[0.0,0.0,20.0,2391.55565043652],[0.0,0.0,22.0,2391.6260808040647],[0.0,0.0,24.0,2391.609758706993],[20000.0,0.0,25.0,2498.035681695768],[20000.0,0.0,27.0,2498.0348368940886],[20000.0,0.0,28.0,2497.941709831822],[20000.0,0.0,29.0,2497.918179120445],[0.0,0.0,38.0,2391.611309540211],[0.0,0.0,39.0,2391.5852514802627],[0.0,0.0,40.0,2391.5157413817024],[0.0,0.0,41.0,2391.5381522277985],[0.0,0.0,45.0,2207.6406900423062],[0.0,0.0,46.0,2207.6873233462775],[0.0,0.0,49.0,2207.586929308319],[0.0,0.0,50.0,2207.5629569765224],[0.0,0.0,51.0,2207.628966220787],[0.0,0.0,53.0,2207.5559560142447],[0.0,0.0,54.0,2207.5214548501103],[0.0,0.0,55.0,2207.7033264774723],[0.0,0.0,59.0,2215.2029106011773],[0.0,0.0,61.0,2214.0301704487574],[0.0,0.0,62.0,2213.8166565941137],[0.0,0.0,63.0,2213.153774481064],[0.0,0.0,64.0,2216.536982875024],[0.0,0.0,66.0,2216.2828643071584]],\"hovertemplate\":\"throughput=%{x}<br>wip=%{y}<br>cost=%{marker.color}<br>Generation=%{customdata[1]}<br>population_number=%{customdata[2]}<br>agg_fitness=%{customdata[3]}<extra></extra>\",\"legendgroup\":\"\",\"marker\":{\"color\":[0.0,0.0,0.0,0.0,0.0,0.0,0.0,0.0,0.0,0.0,0.0,0.0,0.0,0.0,0.0,0.0,0.0,0.0,0.0,20000.0,20000.0,20000.0,20000.0,0.0,0.0,0.0,0.0,0.0,0.0,0.0,0.0,0.0,0.0,0.0,0.0,0.0,0.0,0.0,0.0,0.0,0.0],\"coloraxis\":\"coloraxis\",\"symbol\":\"circle\"},\"mode\":\"markers\",\"name\":\"\",\"orientation\":\"v\",\"showlegend\":false,\"x\":[714.0,368.0,369.0,367.0,367.0,368.0,367.0,363.0,363.0,367.0,368.0,369.0,368.0,368.0,369.0,104.0,104.0,104.0,104.0,105.0,105.0,105.0,105.0,104.0,104.0,104.0,104.0,129.0,129.0,129.0,129.0,129.0,129.0,129.0,129.0,128.0,128.0,128.0,129.0,128.0,128.0],\"xaxis\":\"x\",\"y\":[472.305681960506,1869.5,1868.5,1870.5,1870.5,1869.5,1870.5,1875.5,1875.5,1870.5,1869.5,1867.5,1869.5,1869.5,1867.5,2197.0,2197.0,2197.0,2197.0,2203.5,2203.5,2203.5,2203.5,2197.0,2197.0,2197.0,2197.0,2197.0,2197.0,2197.0,2197.0,2197.0,2197.0,2197.0,2197.0,2198.0,2198.0,2198.0,2197.0,2198.0,2198.0],\"yaxis\":\"y\",\"type\":\"scatter\"}],                        {\"template\":{\"data\":{\"histogram2dcontour\":[{\"type\":\"histogram2dcontour\",\"colorbar\":{\"outlinewidth\":0,\"ticks\":\"\"},\"colorscale\":[[0.0,\"#0d0887\"],[0.1111111111111111,\"#46039f\"],[0.2222222222222222,\"#7201a8\"],[0.3333333333333333,\"#9c179e\"],[0.4444444444444444,\"#bd3786\"],[0.5555555555555556,\"#d8576b\"],[0.6666666666666666,\"#ed7953\"],[0.7777777777777778,\"#fb9f3a\"],[0.8888888888888888,\"#fdca26\"],[1.0,\"#f0f921\"]]}],\"choropleth\":[{\"type\":\"choropleth\",\"colorbar\":{\"outlinewidth\":0,\"ticks\":\"\"}}],\"histogram2d\":[{\"type\":\"histogram2d\",\"colorbar\":{\"outlinewidth\":0,\"ticks\":\"\"},\"colorscale\":[[0.0,\"#0d0887\"],[0.1111111111111111,\"#46039f\"],[0.2222222222222222,\"#7201a8\"],[0.3333333333333333,\"#9c179e\"],[0.4444444444444444,\"#bd3786\"],[0.5555555555555556,\"#d8576b\"],[0.6666666666666666,\"#ed7953\"],[0.7777777777777778,\"#fb9f3a\"],[0.8888888888888888,\"#fdca26\"],[1.0,\"#f0f921\"]]}],\"heatmap\":[{\"type\":\"heatmap\",\"colorbar\":{\"outlinewidth\":0,\"ticks\":\"\"},\"colorscale\":[[0.0,\"#0d0887\"],[0.1111111111111111,\"#46039f\"],[0.2222222222222222,\"#7201a8\"],[0.3333333333333333,\"#9c179e\"],[0.4444444444444444,\"#bd3786\"],[0.5555555555555556,\"#d8576b\"],[0.6666666666666666,\"#ed7953\"],[0.7777777777777778,\"#fb9f3a\"],[0.8888888888888888,\"#fdca26\"],[1.0,\"#f0f921\"]]}],\"heatmapgl\":[{\"type\":\"heatmapgl\",\"colorbar\":{\"outlinewidth\":0,\"ticks\":\"\"},\"colorscale\":[[0.0,\"#0d0887\"],[0.1111111111111111,\"#46039f\"],[0.2222222222222222,\"#7201a8\"],[0.3333333333333333,\"#9c179e\"],[0.4444444444444444,\"#bd3786\"],[0.5555555555555556,\"#d8576b\"],[0.6666666666666666,\"#ed7953\"],[0.7777777777777778,\"#fb9f3a\"],[0.8888888888888888,\"#fdca26\"],[1.0,\"#f0f921\"]]}],\"contourcarpet\":[{\"type\":\"contourcarpet\",\"colorbar\":{\"outlinewidth\":0,\"ticks\":\"\"}}],\"contour\":[{\"type\":\"contour\",\"colorbar\":{\"outlinewidth\":0,\"ticks\":\"\"},\"colorscale\":[[0.0,\"#0d0887\"],[0.1111111111111111,\"#46039f\"],[0.2222222222222222,\"#7201a8\"],[0.3333333333333333,\"#9c179e\"],[0.4444444444444444,\"#bd3786\"],[0.5555555555555556,\"#d8576b\"],[0.6666666666666666,\"#ed7953\"],[0.7777777777777778,\"#fb9f3a\"],[0.8888888888888888,\"#fdca26\"],[1.0,\"#f0f921\"]]}],\"surface\":[{\"type\":\"surface\",\"colorbar\":{\"outlinewidth\":0,\"ticks\":\"\"},\"colorscale\":[[0.0,\"#0d0887\"],[0.1111111111111111,\"#46039f\"],[0.2222222222222222,\"#7201a8\"],[0.3333333333333333,\"#9c179e\"],[0.4444444444444444,\"#bd3786\"],[0.5555555555555556,\"#d8576b\"],[0.6666666666666666,\"#ed7953\"],[0.7777777777777778,\"#fb9f3a\"],[0.8888888888888888,\"#fdca26\"],[1.0,\"#f0f921\"]]}],\"mesh3d\":[{\"type\":\"mesh3d\",\"colorbar\":{\"outlinewidth\":0,\"ticks\":\"\"}}],\"scatter\":[{\"fillpattern\":{\"fillmode\":\"overlay\",\"size\":10,\"solidity\":0.2},\"type\":\"scatter\"}],\"parcoords\":[{\"type\":\"parcoords\",\"line\":{\"colorbar\":{\"outlinewidth\":0,\"ticks\":\"\"}}}],\"scatterpolargl\":[{\"type\":\"scatterpolargl\",\"marker\":{\"colorbar\":{\"outlinewidth\":0,\"ticks\":\"\"}}}],\"bar\":[{\"error_x\":{\"color\":\"#2a3f5f\"},\"error_y\":{\"color\":\"#2a3f5f\"},\"marker\":{\"line\":{\"color\":\"#E5ECF6\",\"width\":0.5},\"pattern\":{\"fillmode\":\"overlay\",\"size\":10,\"solidity\":0.2}},\"type\":\"bar\"}],\"scattergeo\":[{\"type\":\"scattergeo\",\"marker\":{\"colorbar\":{\"outlinewidth\":0,\"ticks\":\"\"}}}],\"scatterpolar\":[{\"type\":\"scatterpolar\",\"marker\":{\"colorbar\":{\"outlinewidth\":0,\"ticks\":\"\"}}}],\"histogram\":[{\"marker\":{\"pattern\":{\"fillmode\":\"overlay\",\"size\":10,\"solidity\":0.2}},\"type\":\"histogram\"}],\"scattergl\":[{\"type\":\"scattergl\",\"marker\":{\"colorbar\":{\"outlinewidth\":0,\"ticks\":\"\"}}}],\"scatter3d\":[{\"type\":\"scatter3d\",\"line\":{\"colorbar\":{\"outlinewidth\":0,\"ticks\":\"\"}},\"marker\":{\"colorbar\":{\"outlinewidth\":0,\"ticks\":\"\"}}}],\"scattermapbox\":[{\"type\":\"scattermapbox\",\"marker\":{\"colorbar\":{\"outlinewidth\":0,\"ticks\":\"\"}}}],\"scatterternary\":[{\"type\":\"scatterternary\",\"marker\":{\"colorbar\":{\"outlinewidth\":0,\"ticks\":\"\"}}}],\"scattercarpet\":[{\"type\":\"scattercarpet\",\"marker\":{\"colorbar\":{\"outlinewidth\":0,\"ticks\":\"\"}}}],\"carpet\":[{\"aaxis\":{\"endlinecolor\":\"#2a3f5f\",\"gridcolor\":\"white\",\"linecolor\":\"white\",\"minorgridcolor\":\"white\",\"startlinecolor\":\"#2a3f5f\"},\"baxis\":{\"endlinecolor\":\"#2a3f5f\",\"gridcolor\":\"white\",\"linecolor\":\"white\",\"minorgridcolor\":\"white\",\"startlinecolor\":\"#2a3f5f\"},\"type\":\"carpet\"}],\"table\":[{\"cells\":{\"fill\":{\"color\":\"#EBF0F8\"},\"line\":{\"color\":\"white\"}},\"header\":{\"fill\":{\"color\":\"#C8D4E3\"},\"line\":{\"color\":\"white\"}},\"type\":\"table\"}],\"barpolar\":[{\"marker\":{\"line\":{\"color\":\"#E5ECF6\",\"width\":0.5},\"pattern\":{\"fillmode\":\"overlay\",\"size\":10,\"solidity\":0.2}},\"type\":\"barpolar\"}],\"pie\":[{\"automargin\":true,\"type\":\"pie\"}]},\"layout\":{\"autotypenumbers\":\"strict\",\"colorway\":[\"#636efa\",\"#EF553B\",\"#00cc96\",\"#ab63fa\",\"#FFA15A\",\"#19d3f3\",\"#FF6692\",\"#B6E880\",\"#FF97FF\",\"#FECB52\"],\"font\":{\"color\":\"#2a3f5f\"},\"hovermode\":\"closest\",\"hoverlabel\":{\"align\":\"left\"},\"paper_bgcolor\":\"white\",\"plot_bgcolor\":\"#E5ECF6\",\"polar\":{\"bgcolor\":\"#E5ECF6\",\"angularaxis\":{\"gridcolor\":\"white\",\"linecolor\":\"white\",\"ticks\":\"\"},\"radialaxis\":{\"gridcolor\":\"white\",\"linecolor\":\"white\",\"ticks\":\"\"}},\"ternary\":{\"bgcolor\":\"#E5ECF6\",\"aaxis\":{\"gridcolor\":\"white\",\"linecolor\":\"white\",\"ticks\":\"\"},\"baxis\":{\"gridcolor\":\"white\",\"linecolor\":\"white\",\"ticks\":\"\"},\"caxis\":{\"gridcolor\":\"white\",\"linecolor\":\"white\",\"ticks\":\"\"}},\"coloraxis\":{\"colorbar\":{\"outlinewidth\":0,\"ticks\":\"\"}},\"colorscale\":{\"sequential\":[[0.0,\"#0d0887\"],[0.1111111111111111,\"#46039f\"],[0.2222222222222222,\"#7201a8\"],[0.3333333333333333,\"#9c179e\"],[0.4444444444444444,\"#bd3786\"],[0.5555555555555556,\"#d8576b\"],[0.6666666666666666,\"#ed7953\"],[0.7777777777777778,\"#fb9f3a\"],[0.8888888888888888,\"#fdca26\"],[1.0,\"#f0f921\"]],\"sequentialminus\":[[0.0,\"#0d0887\"],[0.1111111111111111,\"#46039f\"],[0.2222222222222222,\"#7201a8\"],[0.3333333333333333,\"#9c179e\"],[0.4444444444444444,\"#bd3786\"],[0.5555555555555556,\"#d8576b\"],[0.6666666666666666,\"#ed7953\"],[0.7777777777777778,\"#fb9f3a\"],[0.8888888888888888,\"#fdca26\"],[1.0,\"#f0f921\"]],\"diverging\":[[0,\"#8e0152\"],[0.1,\"#c51b7d\"],[0.2,\"#de77ae\"],[0.3,\"#f1b6da\"],[0.4,\"#fde0ef\"],[0.5,\"#f7f7f7\"],[0.6,\"#e6f5d0\"],[0.7,\"#b8e186\"],[0.8,\"#7fbc41\"],[0.9,\"#4d9221\"],[1,\"#276419\"]]},\"xaxis\":{\"gridcolor\":\"white\",\"linecolor\":\"white\",\"ticks\":\"\",\"title\":{\"standoff\":15},\"zerolinecolor\":\"white\",\"automargin\":true,\"zerolinewidth\":2},\"yaxis\":{\"gridcolor\":\"white\",\"linecolor\":\"white\",\"ticks\":\"\",\"title\":{\"standoff\":15},\"zerolinecolor\":\"white\",\"automargin\":true,\"zerolinewidth\":2},\"scene\":{\"xaxis\":{\"backgroundcolor\":\"#E5ECF6\",\"gridcolor\":\"white\",\"linecolor\":\"white\",\"showbackground\":true,\"ticks\":\"\",\"zerolinecolor\":\"white\",\"gridwidth\":2},\"yaxis\":{\"backgroundcolor\":\"#E5ECF6\",\"gridcolor\":\"white\",\"linecolor\":\"white\",\"showbackground\":true,\"ticks\":\"\",\"zerolinecolor\":\"white\",\"gridwidth\":2},\"zaxis\":{\"backgroundcolor\":\"#E5ECF6\",\"gridcolor\":\"white\",\"linecolor\":\"white\",\"showbackground\":true,\"ticks\":\"\",\"zerolinecolor\":\"white\",\"gridwidth\":2}},\"shapedefaults\":{\"line\":{\"color\":\"#2a3f5f\"}},\"annotationdefaults\":{\"arrowcolor\":\"#2a3f5f\",\"arrowhead\":0,\"arrowwidth\":1},\"geo\":{\"bgcolor\":\"white\",\"landcolor\":\"#E5ECF6\",\"subunitcolor\":\"white\",\"showland\":true,\"showlakes\":true,\"lakecolor\":\"white\"},\"title\":{\"x\":0.05},\"mapbox\":{\"style\":\"light\"}}},\"xaxis\":{\"anchor\":\"y\",\"domain\":[0.0,1.0],\"title\":{\"text\":\"throughput\"}},\"yaxis\":{\"anchor\":\"x\",\"domain\":[0.0,1.0],\"title\":{\"text\":\"wip\"}},\"coloraxis\":{\"colorbar\":{\"title\":{\"text\":\"cost\"}},\"colorscale\":[[0.0,\"#440154\"],[0.1111111111111111,\"#482878\"],[0.2222222222222222,\"#3e4989\"],[0.3333333333333333,\"#31688e\"],[0.4444444444444444,\"#26828e\"],[0.5555555555555556,\"#1f9e89\"],[0.6666666666666666,\"#35b779\"],[0.7777777777777778,\"#6ece58\"],[0.8888888888888888,\"#b5de2b\"],[1.0,\"#fde725\"]]},\"legend\":{\"tracegroupgap\":0},\"margin\":{\"t\":60}},                        {\"responsive\": true}                    ).then(function(){\n",
       "                            \n",
       "var gd = document.getElementById('58729720-9362-4604-9666-32989b291126');\n",
       "var x = new MutationObserver(function (mutations, observer) {{\n",
       "        var display = window.getComputedStyle(gd).display;\n",
       "        if (!display || display === 'none') {{\n",
       "            console.log([gd, 'removed!']);\n",
       "            Plotly.purge(gd);\n",
       "            observer.disconnect();\n",
       "        }}\n",
       "}});\n",
       "\n",
       "// Listen for the removal of the full notebook cells\n",
       "var notebookContainer = gd.closest('#notebook-container');\n",
       "if (notebookContainer) {{\n",
       "    x.observe(notebookContainer, {childList: true});\n",
       "}}\n",
       "\n",
       "// Listen for the clearing of the current output cell\n",
       "var outputEl = gd.closest('.output');\n",
       "if (outputEl) {{\n",
       "    x.observe(outputEl, {childList: true});\n",
       "}}\n",
       "\n",
       "                        })                };                });            </script>        </div>"
      ]
     },
     "metadata": {},
     "output_type": "display_data"
    }
   ],
   "source": [
    "import plotly.express as px\n",
    "\n",
    "fig = px.scatter(df, x='throughput', y='wip', hover_data=['cost', 'Generation', 'population_number', 'agg_fitness'],\n",
    "              color=df['cost'], color_continuous_scale=px.colors.sequential.Viridis)\n",
    "fig.show()"
   ]
  },
  {
   "cell_type": "code",
   "execution_count": 124,
   "id": "ad6f9971-7806-4835-9a8c-ff3e610eec4b",
   "metadata": {},
   "outputs": [
    {
     "data": {
      "application/vnd.plotly.v1+json": {
       "config": {
        "plotlyServerURL": "https://plot.ly"
       },
       "data": [
        {
         "customdata": [
          [
           0,
           0,
           860.1862826844811
          ],
          [
           0,
           118,
           34.4388752379061
          ],
          [
           0,
           125,
           91.26057891577221
          ],
          [
           0,
           126,
           -67.88152787013803
          ],
          [
           0,
           127,
           224.72566484161177
          ],
          [
           0,
           128,
           223.60151566002605
          ],
          [
           0,
           129,
           -51.04338250281643
          ],
          [
           0,
           251,
           429.31329832625573
          ],
          [
           0,
           256,
           416.23592981484137
          ],
          [
           0,
           337,
           -58.20671793543204
          ],
          [
           0,
           338,
           -60.162297878991865
          ]
         ],
         "hovertemplate": "is_efficient=True<br>cost=%{x}<br>throughput=%{y}<br>throughput_time=%{z}<br>Generation=%{customdata[0]}<br>population_number=%{customdata[1]}<br>agg_fitness=%{customdata[2]}<extra></extra>",
         "legendgroup": "True",
         "marker": {
          "color": "#636efa",
          "symbol": "circle"
         },
         "mode": "markers",
         "name": "True",
         "scene": "scene",
         "showlegend": true,
         "type": "scatter3d",
         "x": [
          0,
          45000,
          45000,
          40000,
          40000,
          40000,
          40000,
          5000,
          5000,
          45000,
          45000
         ],
         "y": [
          714,
          3389,
          3404,
          3274,
          3408,
          3406,
          3323,
          1020,
          1025,
          3371,
          3347
         ],
         "z": [
          459.2806007239751,
          105.53281494559022,
          136.89571757614175,
          42.429856624380484,
          259.0598696272141,
          258.2435785839788,
          57.61404036788763,
          200.0480677641554,
          186.34322845300608,
          37.82275779339683,
          34.83981359641802
         ]
        },
        {
         "customdata": [
          [
           0,
           1,
           2005.831686480643
          ],
          [
           0,
           2,
           2006.375683113453
          ],
          [
           0,
           3,
           2006.968847841608
          ],
          [
           0,
           4,
           2006.2290914757593
          ],
          [
           0,
           5,
           2010.3166064761435
          ],
          [
           0,
           6,
           2005.9288120530748
          ],
          [
           0,
           7,
           2006.8957657449594
          ],
          [
           0,
           8,
           2012.744584729413
          ],
          [
           0,
           9,
           2006.9489404335811
          ],
          [
           0,
           10,
           2006.0855365572309
          ],
          [
           0,
           11,
           2207.3241931860916
          ],
          [
           0,
           12,
           2207.8600972125296
          ],
          [
           0,
           13,
           2207.9655722795487
          ],
          [
           0,
           14,
           2208.126889481819
          ],
          [
           0,
           15,
           2404.9315499618306
          ],
          [
           0,
           16,
           2404.9728424558125
          ],
          [
           0,
           17,
           2405.0102211874378
          ],
          [
           0,
           18,
           2405.0647947507637
          ],
          [
           0,
           19,
           2197.7096537347475
          ],
          [
           0,
           20,
           2197.847867306372
          ],
          [
           0,
           21,
           2198.015672933949
          ],
          [
           0,
           22,
           2192.113095505082
          ],
          [
           0,
           24,
           2656.7178489591643
          ],
          [
           0,
           25,
           2672.6999372575524
          ],
          [
           0,
           26,
           2673.270174630697
          ],
          [
           0,
           27,
           2683.1943748502854
          ],
          [
           0,
           28,
           2673.30312522384
          ],
          [
           0,
           29,
           2672.981952824064
          ],
          [
           0,
           30,
           2521.5486583052298
          ],
          [
           0,
           31,
           2544.5578024627976
          ],
          [
           0,
           32,
           2544.740376580267
          ],
          [
           0,
           33,
           2544.254923335586
          ],
          [
           0,
           34,
           2544.746966263883
          ],
          [
           0,
           35,
           2522.5799497563867
          ],
          [
           0,
           36,
           2521.642825789835
          ],
          [
           0,
           37,
           2711.350237765376
          ],
          [
           0,
           38,
           2696.6495954455345
          ],
          [
           0,
           39,
           2696.7830799964354
          ],
          [
           0,
           40,
           2711.2295758426635
          ],
          [
           0,
           41,
           2696.3147826933764
          ],
          [
           0,
           42,
           2694.226937459932
          ],
          [
           0,
           43,
           2310.264343892478
          ],
          [
           0,
           45,
           2144.2415568390043
          ],
          [
           0,
           47,
           2669.7393058425096
          ],
          [
           0,
           50,
           2491.1779787828746
          ],
          [
           0,
           51,
           2491.111787231692
          ],
          [
           0,
           54,
           2169.673394127066
          ],
          [
           0,
           56,
           2669.583883551633
          ],
          [
           0,
           59,
           2272.634931806803
          ],
          [
           0,
           60,
           2289.815208463588
          ],
          [
           0,
           61,
           2289.503214132142
          ],
          [
           0,
           62,
           2287.105269505292
          ],
          [
           0,
           63,
           2618.136083728115
          ],
          [
           0,
           64,
           2619.8605492177944
          ],
          [
           0,
           67,
           2466.217895526299
          ],
          [
           0,
           74,
           2538.0041507534547
          ],
          [
           0,
           75,
           2539.654924122508
          ],
          [
           0,
           78,
           2457.555755878222
          ],
          [
           0,
           80,
           2728.900842820859
          ],
          [
           0,
           88,
           2457.5757895609886
          ],
          [
           0,
           94,
           2278.3278964390947
          ],
          [
           0,
           95,
           2274.6937773538248
          ],
          [
           0,
           96,
           2457.7936319084574
          ],
          [
           0,
           97,
           2459.5443517937383
          ],
          [
           0,
           100,
           2694.3969924812045
          ],
          [
           0,
           103,
           2482.7936319084574
          ],
          [
           0,
           107,
           2451.5442654746485
          ],
          [
           0,
           108,
           2450.727083103691
          ],
          [
           0,
           109,
           2451.086045835149
          ],
          [
           0,
           113,
           2453.216015673195
          ],
          [
           0,
           116,
           312.20291973959047
          ],
          [
           0,
           117,
           321.459876604087
          ],
          [
           0,
           119,
           332.8245559445287
          ],
          [
           0,
           122,
           10.701044705571064
          ],
          [
           0,
           123,
           218.68319650633495
          ],
          [
           0,
           124,
           113.46124496598785
          ],
          [
           0,
           130,
           2549.5306025877935
          ],
          [
           0,
           131,
           2550.8826665113183
          ],
          [
           0,
           132,
           2550.8187273935678
          ],
          [
           0,
           133,
           2550.4572061230238
          ],
          [
           0,
           134,
           2550.4732775515954
          ],
          [
           0,
           135,
           2550.514944218262
          ],
          [
           0,
           136,
           2338.7493675848286
          ],
          [
           0,
           137,
           2331.38598396347
          ],
          [
           0,
           138,
           2424.0642861017245
          ],
          [
           0,
           139,
           2424.4919902646857
          ],
          [
           0,
           141,
           2425.0531713568803
          ],
          [
           0,
           143,
           2424.478254800379
          ],
          [
           0,
           144,
           2423.5172590567145
          ],
          [
           0,
           145,
           2423.8064040253666
          ],
          [
           0,
           146,
           2424.2706923627607
          ],
          [
           0,
           147,
           2424.062849549754
          ],
          [
           0,
           148,
           2424.187719833676
          ],
          [
           0,
           149,
           2424.1495347293267
          ],
          [
           0,
           150,
           2422.9818322204405
          ],
          [
           0,
           151,
           2422.9672478815337
          ],
          [
           0,
           152,
           2561.8007883767054
          ],
          [
           0,
           153,
           2562.257972337659
          ],
          [
           0,
           155,
           2562.009069457895
          ],
          [
           0,
           156,
           2412.684790523157
          ],
          [
           0,
           157,
           2411.1756004208446
          ],
          [
           0,
           158,
           2562.0934849309647
          ],
          [
           0,
           159,
           2562.411575634638
          ],
          [
           0,
           160,
           2559.2423200400044
          ],
          [
           0,
           161,
           2556.722897393952
          ],
          [
           0,
           162,
           2412.346405276262
          ],
          [
           0,
           163,
           2417.3862254730975
          ],
          [
           0,
           164,
           2412.194273814232
          ],
          [
           0,
           165,
           2418.3330898047716
          ],
          [
           0,
           166,
           2215.018280069676
          ],
          [
           0,
           167,
           2221.1098463360863
          ],
          [
           0,
           168,
           2214.5514910978095
          ],
          [
           0,
           169,
           2222.030324300114
          ],
          [
           0,
           170,
           2050.7877953007214
          ],
          [
           0,
           171,
           2147.078224502277
          ],
          [
           0,
           172,
           2063.9510911671987
          ],
          [
           0,
           173,
           2063.2359413798476
          ],
          [
           0,
           174,
           2075.7877953007214
          ],
          [
           0,
           175,
           2089.9431383862216
          ],
          [
           0,
           176,
           2092.356651659921
          ],
          [
           0,
           177,
           2089.9401954957784
          ],
          [
           0,
           178,
           2088.2359413798476
          ],
          [
           0,
           179,
           2088.9510911671987
          ],
          [
           0,
           180,
           2172.5990290073087
          ],
          [
           0,
           183,
           2295.680832365289
          ],
          [
           0,
           184,
           2311.696937268974
          ],
          [
           0,
           185,
           2299.355779320921
          ],
          [
           0,
           186,
           2295.465853665492
          ],
          [
           0,
           187,
           2279.700135355837
          ],
          [
           0,
           188,
           2429.8219984763423
          ],
          [
           0,
           189,
           2429.8394976507507
          ],
          [
           0,
           190,
           2427.822548660316
          ],
          [
           0,
           191,
           2427.583051947801
          ],
          [
           0,
           192,
           2536.4885094164433
          ],
          [
           0,
           193,
           2536.2667247206564
          ],
          [
           0,
           194,
           2536.06131878606
          ],
          [
           0,
           195,
           2536.1152735549085
          ],
          [
           0,
           196,
           2536.5809575460303
          ],
          [
           0,
           197,
           2536.1646375633863
          ],
          [
           0,
           198,
           2536.1513963632956
          ],
          [
           0,
           199,
           2729.294000309444
          ],
          [
           0,
           200,
           2731.8937207452163
          ],
          [
           0,
           201,
           2732.5632073313895
          ],
          [
           0,
           203,
           2731.641474641954
          ],
          [
           0,
           204,
           2734.07527429022
          ],
          [
           0,
           205,
           2732.4001598233763
          ],
          [
           0,
           206,
           2732.358103488596
          ],
          [
           0,
           207,
           2540.5570116765966
          ],
          [
           0,
           208,
           2540.610161061087
          ],
          [
           0,
           209,
           2540.5683437857733
          ],
          [
           0,
           210,
           2540.5262446231177
          ],
          [
           0,
           211,
           2357.820027493061
          ],
          [
           0,
           212,
           2358.10144170833
          ],
          [
           0,
           213,
           2358.222871704846
          ],
          [
           0,
           214,
           2358.2719340673557
          ],
          [
           0,
           216,
           2358.1837643886993
          ],
          [
           0,
           217,
           2223.875719301645
          ],
          [
           0,
           218,
           2223.7323027002217
          ],
          [
           0,
           219,
           2225.8872689222057
          ],
          [
           0,
           220,
           2225.2307209324294
          ],
          [
           0,
           221,
           2225.148716784369
          ],
          [
           0,
           225,
           2940.911305977403
          ],
          [
           0,
           226,
           2940.4850968363417
          ],
          [
           0,
           227,
           2940.739069056445
          ],
          [
           0,
           229,
           2940.5785572509953
          ],
          [
           0,
           235,
           2940.8731451851354
          ],
          [
           0,
           236,
           2940.8012639263434
          ],
          [
           0,
           237,
           2940.5407235326707
          ],
          [
           0,
           238,
           2940.7420020875097
          ],
          [
           0,
           241,
           2680.839318233386
          ],
          [
           0,
           243,
           2409.8143162945767
          ],
          [
           0,
           244,
           2409.735793141108
          ],
          [
           0,
           245,
           2409.72969263042
          ],
          [
           0,
           246,
           416.20179235906824
          ],
          [
           0,
           247,
           434.3760538620551
          ],
          [
           0,
           248,
           432.94334559939836
          ],
          [
           0,
           249,
           425.46876505407147
          ],
          [
           0,
           250,
           426.88288193115704
          ],
          [
           0,
           253,
           453.1822025050739
          ],
          [
           0,
           255,
           420.3688813294051
          ],
          [
           0,
           257,
           918.2224639223155
          ],
          [
           0,
           258,
           937.8850140773128
          ],
          [
           0,
           259,
           897.4759196630248
          ],
          [
           0,
           261,
           2417.583891273703
          ],
          [
           0,
           262,
           2419.0582803529455
          ],
          [
           0,
           263,
           2420.864218022488
          ],
          [
           0,
           264,
           2418.495384153425
          ],
          [
           0,
           265,
           2437.3306431556457
          ],
          [
           0,
           266,
           2449.9118638713758
          ],
          [
           0,
           267,
           2434.4410506396994
          ],
          [
           0,
           268,
           2436.9743688407466
          ],
          [
           0,
           269,
           2434.811889456821
          ],
          [
           0,
           270,
           2435.789262406129
          ],
          [
           0,
           271,
           2450.467641015091
          ],
          [
           0,
           272,
           2450.0359249558865
          ],
          [
           0,
           273,
           2449.590702227162
          ],
          [
           0,
           274,
           2449.586918203843
          ],
          [
           0,
           275,
           2503.0670017729954
          ],
          [
           0,
           276,
           2503.032505013833
          ],
          [
           0,
           277,
           2502.5073108067213
          ],
          [
           0,
           278,
           2502.529621301223
          ],
          [
           0,
           279,
           2502.826001995353
          ],
          [
           0,
           280,
           2502.415631223134
          ],
          [
           0,
           281,
           2502.505581297492
          ],
          [
           0,
           282,
           2502.87013558375
          ],
          [
           0,
           283,
           2488.6365143413404
          ],
          [
           0,
           284,
           2488.1149940296127
          ],
          [
           0,
           285,
           1880.2955059304102
          ],
          [
           0,
           286,
           1933.8853838474554
          ],
          [
           0,
           287,
           1932.9174001910285
          ],
          [
           0,
           288,
           1934.3622390613336
          ],
          [
           0,
           289,
           1932.9785941663504
          ],
          [
           0,
           290,
           1934.7031151041786
          ],
          [
           0,
           291,
           1932.953276604142
          ],
          [
           0,
           292,
           1933.6854827171105
          ],
          [
           0,
           293,
           1932.302796319383
          ],
          [
           0,
           294,
           1934.0256734397462
          ],
          [
           0,
           299,
           2805.6269674109935
          ],
          [
           0,
           300,
           2805.6016173853145
          ],
          [
           0,
           301,
           2805.6155062742037
          ],
          [
           0,
           302,
           2805.636616745386
          ],
          [
           0,
           305,
           2805.622727856497
          ],
          [
           0,
           307,
           2645.7378318428437
          ],
          [
           0,
           308,
           2646.0795169812523
          ],
          [
           0,
           309,
           2645.3953118484405
          ],
          [
           0,
           310,
           2645.3709305885286
          ],
          [
           0,
           311,
           2539.3982658834266
          ],
          [
           0,
           312,
           2539.376454000076
          ],
          [
           0,
           313,
           2424.692887828678
          ],
          [
           0,
           314,
           2424.6968348610008
          ],
          [
           0,
           315,
           2424.769423538023
          ],
          [
           0,
           318,
           2690.6016841837413
          ],
          [
           0,
           319,
           2687.2220632251388
          ],
          [
           0,
           320,
           2690.3597669020955
          ],
          [
           0,
           321,
           2690.4605300260564
          ],
          [
           0,
           322,
           2690.360889560905
          ],
          [
           0,
           323,
           2686.628971187354
          ],
          [
           0,
           324,
           2594.0937642460212
          ],
          [
           0,
           325,
           2595.5487991926575
          ],
          [
           0,
           326,
           2593.0386778579436
          ],
          [
           0,
           327,
           2593.0917476018603
          ],
          [
           0,
           331,
           2429.9689877590677
          ],
          [
           0,
           332,
           2429.8943769557377
          ],
          [
           0,
           333,
           2588.161666997462
          ],
          [
           0,
           335,
           2588.0200567706424
          ]
         ],
         "hovertemplate": "is_efficient=False<br>cost=%{x}<br>throughput=%{y}<br>throughput_time=%{z}<br>Generation=%{customdata[0]}<br>population_number=%{customdata[1]}<br>agg_fitness=%{customdata[2]}<extra></extra>",
         "legendgroup": "False",
         "marker": {
          "color": "#EF553B",
          "symbol": "circle"
         },
         "mode": "markers",
         "name": "False",
         "scene": "scene",
         "showlegend": true,
         "type": "scatter3d",
         "x": [
          0,
          0,
          0,
          0,
          0,
          0,
          0,
          0,
          0,
          0,
          10000,
          10000,
          10000,
          10000,
          30000,
          30000,
          30000,
          30000,
          5000,
          5000,
          5000,
          5000,
          75000,
          75000,
          75000,
          75000,
          75000,
          75000,
          55000,
          55000,
          55000,
          55000,
          55000,
          55000,
          55000,
          55000,
          55000,
          55000,
          55000,
          55000,
          55000,
          65000,
          45000,
          50000,
          5000,
          5000,
          45000,
          50000,
          5000,
          5000,
          5000,
          5000,
          70000,
          70000,
          50000,
          65000,
          65000,
          45000,
          45000,
          45000,
          5000,
          5000,
          45000,
          45000,
          40000,
          50000,
          0,
          0,
          0,
          0,
          45000,
          45000,
          45000,
          45000,
          45000,
          45000,
          5000,
          5000,
          5000,
          5000,
          5000,
          5000,
          5000,
          5000,
          10000,
          10000,
          10000,
          10000,
          15000,
          15000,
          15000,
          15000,
          15000,
          15000,
          15000,
          15000,
          30000,
          30000,
          30000,
          10000,
          10000,
          30000,
          30000,
          30000,
          30000,
          10000,
          10000,
          10000,
          10000,
          10000,
          10000,
          10000,
          10000,
          5000,
          5000,
          5000,
          5000,
          10000,
          10000,
          10000,
          10000,
          10000,
          10000,
          10000,
          0,
          0,
          0,
          0,
          0,
          5000,
          5000,
          5000,
          5000,
          5000,
          5000,
          5000,
          5000,
          5000,
          5000,
          5000,
          45000,
          45000,
          45000,
          45000,
          45000,
          45000,
          45000,
          10000,
          10000,
          10000,
          10000,
          30000,
          30000,
          30000,
          30000,
          30000,
          10000,
          10000,
          0,
          0,
          0,
          100000,
          100000,
          100000,
          100000,
          100000,
          100000,
          100000,
          100000,
          55000,
          0,
          0,
          0,
          5000,
          5000,
          5000,
          5000,
          5000,
          5000,
          5000,
          45000,
          45000,
          45000,
          5000,
          5000,
          5000,
          5000,
          5000,
          5000,
          5000,
          5000,
          5000,
          5000,
          15000,
          15000,
          15000,
          15000,
          10000,
          10000,
          10000,
          10000,
          10000,
          10000,
          10000,
          10000,
          10000,
          10000,
          10000,
          10000,
          10000,
          10000,
          10000,
          10000,
          10000,
          10000,
          10000,
          10000,
          45000,
          45000,
          45000,
          45000,
          45000,
          50000,
          50000,
          50000,
          50000,
          30000,
          30000,
          10000,
          10000,
          10000,
          55000,
          55000,
          55000,
          55000,
          55000,
          55000,
          35000,
          35000,
          35000,
          35000,
          15000,
          15000,
          40000,
          40000
         ],
         "y": [
          368,
          369,
          367,
          369,
          365,
          368,
          367,
          363,
          367,
          368,
          154,
          154,
          154,
          154,
          110,
          110,
          110,
          109,
          153,
          153,
          153,
          152,
          111,
          97,
          97,
          97,
          96,
          97,
          117,
          109,
          109,
          109,
          109,
          117,
          117,
          87,
          104,
          104,
          87,
          104,
          105,
          310,
          338,
          97,
          36,
          36,
          341,
          97,
          76,
          70,
          73,
          75,
          111,
          110,
          139,
          138,
          138,
          123,
          39,
          123,
          76,
          74,
          122,
          122,
          35,
          122,
          94,
          95,
          94,
          94,
          3370,
          3371,
          3372,
          3351,
          3388,
          3320,
          7,
          7,
          7,
          7,
          7,
          7,
          20,
          34,
          123,
          122,
          122,
          122,
          131,
          131,
          131,
          131,
          131,
          131,
          131,
          131,
          84,
          84,
          86,
          118,
          122,
          84,
          84,
          84,
          86,
          119,
          120,
          119,
          116,
          149,
          151,
          149,
          146,
          288,
          281,
          284,
          284,
          288,
          286,
          288,
          286,
          284,
          284,
          283,
          55,
          43,
          59,
          59,
          73,
          98,
          98,
          98,
          98,
          42,
          42,
          42,
          42,
          42,
          42,
          42,
          37,
          37,
          37,
          38,
          37,
          37,
          37,
          40,
          40,
          40,
          40,
          135,
          135,
          135,
          135,
          135,
          152,
          152,
          104,
          104,
          104,
          89,
          89,
          89,
          89,
          89,
          89,
          89,
          89,
          84,
          59,
          59,
          59,
          1013,
          1016,
          1021,
          1021,
          1011,
          1017,
          995,
          618,
          600,
          606,
          108,
          108,
          108,
          108,
          109,
          109,
          109,
          109,
          110,
          110,
          109,
          109,
          109,
          109,
          138,
          138,
          138,
          138,
          138,
          138,
          138,
          138,
          107,
          107,
          304,
          305,
          305,
          305,
          305,
          305,
          305,
          305,
          305,
          305,
          3,
          3,
          3,
          3,
          3,
          96,
          96,
          96,
          96,
          108,
          108,
          122,
          122,
          122,
          91,
          82,
          91,
          91,
          91,
          82,
          89,
          89,
          89,
          89,
          123,
          123,
          103,
          103
         ],
         "z": [
          173.13168648064286,
          174.77568311345314,
          173.16884784160806,
          174.6290914757595,
          173.31660647614342,
          173.2288120530748,
          173.0957657449595,
          173.54458472941286,
          173.14894043358126,
          173.38553655723084,
          20.224193186091735,
          20.760097212529537,
          20.865572279548648,
          21.02688948181912,
          16.93154996183072,
          16.972842455812565,
          17.010221187437708,
          16.96479475076388,
          18.5096537347477,
          18.64786730637189,
          18.81567293394935,
          18.313095505082085,
          16.31784895916427,
          16.399937257552285,
          15.970174630697075,
          16.39437485028537,
          15.903125223840242,
          15.68195282406413,
          17.24865830522968,
          16.95780246279783,
          17.140376580266782,
          16.654923335586478,
          17.146966263883236,
          18.279949756386443,
          17.342825789835114,
          182.55023776537567,
          201.04959544553472,
          201.1830799964353,
          182.42957584266313,
          200.71478269337666,
          198.72693745993175,
          28.764343892477594,
          30.541556839004325,
          188.43930584250916,
          219.2779787828747,
          219.21178723169146,
          36.77339412706598,
          188.2838835516328,
          27.73493180680275,
          25.815208463588213,
          28.803214132142138,
          29.605269505292338,
          21.2360837281147,
          22.860549217794635,
          21.617895526299126,
          23.804150753454834,
          25.454924122508228,
          24.355755878222094,
          226.3008428208591,
          24.375789560988817,
          33.427896439094766,
          27.593777353824876,
          23.49363190845732,
          25.244351793738005,
          209.89699248120445,
          23.49363190845732,
          241.94426547464855,
          243.22708310369083,
          241.48604583514907,
          244.61601567319508,
          300.7339699911885,
          307.2255985738227,
          316.0090008443,
          83.53174660511559,
          207.45299850761236,
          152.0558452428069,
          241.7306025877931,
          243.082666511318,
          243.01872739356745,
          242.65720612302377,
          242.6732775515952,
          242.71494421826182,
          25.2493675848286,
          33.28598396347028,
          223.36428610172456,
          222.6919902646856,
          223.25317135688002,
          222.6782548003791,
          221.11725905671452,
          221.40640402536633,
          221.8706923627606,
          221.66284954975382,
          221.78771983367585,
          221.74953472932634,
          220.58183222044028,
          220.5672478815337,
          184.70078837670567,
          185.1579723376589,
          187.10906945789492,
          220.98479052315741,
          223.87560042084453,
          184.99348493096494,
          185.31157563463844,
          185.64232004000445,
          187.32289739395196,
          221.74640527626207,
          222.8862254730977,
          221.59427381423222,
          219.43308980477127,
          27.418280069676346,
          29.70984633608638,
          26.951491097809797,
          26.130324300114122,
          172.56749210635223,
          178.178224502277,
          177.69092856557262,
          176.97144273486106,
          172.56749210635223,
          178.88297578459546,
          181.67400523909674,
          178.88003289415255,
          176.97144273486106,
          177.69092856557262,
          178.89902900730868,
          25.680832365289085,
          28.496937268974328,
          31.255779320921363,
          26.365853665492235,
          27.000135355837273,
          209.62199847634236,
          209.63949765075083,
          207.62254866031603,
          207.38305194780105,
          233.6885094164431,
          233.46672472065643,
          233.26131878605952,
          233.31527355490826,
          233.78095754603012,
          233.36463756338617,
          233.35139636329555,
          215.99400030944398,
          219.59372074521607,
          220.2632073313892,
          220.44147464195416,
          222.77527429021967,
          220.10015982337617,
          220.05810348859603,
          225.0570116765968,
          225.11016106108713,
          225.06834378577318,
          225.02624462311778,
          23.82002749306106,
          24.101441708330373,
          24.222871704845915,
          24.271934067355836,
          24.183764388699334,
          25.07571930164465,
          24.932302700221346,
          22.287268922205808,
          21.63072093242959,
          21.548716784368878,
          187.311305977403,
          186.8850968363419,
          187.13906905644504,
          186.9785572509954,
          187.2731451851353,
          187.2012639263435,
          186.94072353267086,
          187.14200208750958,
          184.2393182333861,
          194.2143162945767,
          194.13579314110814,
          194.12969263041975,
          183.80643887840895,
          202.60112101220284,
          202.48703274650336,
          194.402137345119,
          193.4501366394634,
          221.53435885291753,
          188.59347422548512,
          201.7685273680487,
          203.29516871222555,
          172.78728568612843,
          219.38389127370314,
          220.8582803529459,
          222.664218022488,
          220.2953841534252,
          225.730643155646,
          238.31186387137603,
          222.84105063969935,
          225.37436884074663,
          224.31188945682095,
          225.2892624061293,
          193.86764101509124,
          193.43592495588646,
          192.99070222716227,
          192.9869182038431,
          310.36700177299576,
          310.3325050138331,
          309.8073108067215,
          309.8296213012233,
          310.1260019953534,
          309.715631223134,
          309.80558129749227,
          310.17013558375027,
          268.83651434134026,
          267.3149940296127,
          242.00946484731026,
          246.42667822079514,
          246.52550829913667,
          246.54895403717916,
          246.58815015090642,
          246.53193849147007,
          246.55704108290655,
          246.57925384217086,
          246.61803992768023,
          246.5618965742548,
          238.4269674109936,
          238.4016173853148,
          238.41550627420372,
          238.4366167453862,
          238.42272785649735,
          194.83783184284366,
          195.1795169812522,
          194.49531184844054,
          194.47093058852872,
          210.69826588342696,
          210.67645400007623,
          216.39288782867794,
          216.3968348610007,
          216.4694235380232,
          184.20168418374126,
          169.9220632251387,
          183.95976690209542,
          184.0605300260562,
          183.96088956090477,
          169.32897118735394,
          180.99376424602144,
          180.9487991926574,
          177.9386778579437,
          177.9917476018606,
          214.7689877590677,
          214.69437695573788,
          187.46166699746212,
          187.3200567706427
         ]
        }
       ],
       "layout": {
        "autosize": true,
        "legend": {
         "title": {
          "text": "is_efficient"
         },
         "tracegroupgap": 0
        },
        "margin": {
         "t": 60
        },
        "scene": {
         "aspectmode": "auto",
         "aspectratio": {
          "x": 1,
          "y": 1,
          "z": 1
         },
         "domain": {
          "x": [
           0,
           1
          ],
          "y": [
           0,
           1
          ]
         },
         "xaxis": {
          "title": {
           "text": "cost"
          },
          "type": "linear"
         },
         "yaxis": {
          "title": {
           "text": "throughput"
          },
          "type": "linear"
         },
         "zaxis": {
          "title": {
           "text": "throughput_time"
          },
          "type": "linear"
         }
        },
        "template": {
         "data": {
          "bar": [
           {
            "error_x": {
             "color": "#2a3f5f"
            },
            "error_y": {
             "color": "#2a3f5f"
            },
            "marker": {
             "line": {
              "color": "#E5ECF6",
              "width": 0.5
             },
             "pattern": {
              "fillmode": "overlay",
              "size": 10,
              "solidity": 0.2
             }
            },
            "type": "bar"
           }
          ],
          "barpolar": [
           {
            "marker": {
             "line": {
              "color": "#E5ECF6",
              "width": 0.5
             },
             "pattern": {
              "fillmode": "overlay",
              "size": 10,
              "solidity": 0.2
             }
            },
            "type": "barpolar"
           }
          ],
          "carpet": [
           {
            "aaxis": {
             "endlinecolor": "#2a3f5f",
             "gridcolor": "white",
             "linecolor": "white",
             "minorgridcolor": "white",
             "startlinecolor": "#2a3f5f"
            },
            "baxis": {
             "endlinecolor": "#2a3f5f",
             "gridcolor": "white",
             "linecolor": "white",
             "minorgridcolor": "white",
             "startlinecolor": "#2a3f5f"
            },
            "type": "carpet"
           }
          ],
          "choropleth": [
           {
            "colorbar": {
             "outlinewidth": 0,
             "ticks": ""
            },
            "type": "choropleth"
           }
          ],
          "contour": [
           {
            "colorbar": {
             "outlinewidth": 0,
             "ticks": ""
            },
            "colorscale": [
             [
              0,
              "#0d0887"
             ],
             [
              0.1111111111111111,
              "#46039f"
             ],
             [
              0.2222222222222222,
              "#7201a8"
             ],
             [
              0.3333333333333333,
              "#9c179e"
             ],
             [
              0.4444444444444444,
              "#bd3786"
             ],
             [
              0.5555555555555556,
              "#d8576b"
             ],
             [
              0.6666666666666666,
              "#ed7953"
             ],
             [
              0.7777777777777778,
              "#fb9f3a"
             ],
             [
              0.8888888888888888,
              "#fdca26"
             ],
             [
              1,
              "#f0f921"
             ]
            ],
            "type": "contour"
           }
          ],
          "contourcarpet": [
           {
            "colorbar": {
             "outlinewidth": 0,
             "ticks": ""
            },
            "type": "contourcarpet"
           }
          ],
          "heatmap": [
           {
            "colorbar": {
             "outlinewidth": 0,
             "ticks": ""
            },
            "colorscale": [
             [
              0,
              "#0d0887"
             ],
             [
              0.1111111111111111,
              "#46039f"
             ],
             [
              0.2222222222222222,
              "#7201a8"
             ],
             [
              0.3333333333333333,
              "#9c179e"
             ],
             [
              0.4444444444444444,
              "#bd3786"
             ],
             [
              0.5555555555555556,
              "#d8576b"
             ],
             [
              0.6666666666666666,
              "#ed7953"
             ],
             [
              0.7777777777777778,
              "#fb9f3a"
             ],
             [
              0.8888888888888888,
              "#fdca26"
             ],
             [
              1,
              "#f0f921"
             ]
            ],
            "type": "heatmap"
           }
          ],
          "heatmapgl": [
           {
            "colorbar": {
             "outlinewidth": 0,
             "ticks": ""
            },
            "colorscale": [
             [
              0,
              "#0d0887"
             ],
             [
              0.1111111111111111,
              "#46039f"
             ],
             [
              0.2222222222222222,
              "#7201a8"
             ],
             [
              0.3333333333333333,
              "#9c179e"
             ],
             [
              0.4444444444444444,
              "#bd3786"
             ],
             [
              0.5555555555555556,
              "#d8576b"
             ],
             [
              0.6666666666666666,
              "#ed7953"
             ],
             [
              0.7777777777777778,
              "#fb9f3a"
             ],
             [
              0.8888888888888888,
              "#fdca26"
             ],
             [
              1,
              "#f0f921"
             ]
            ],
            "type": "heatmapgl"
           }
          ],
          "histogram": [
           {
            "marker": {
             "pattern": {
              "fillmode": "overlay",
              "size": 10,
              "solidity": 0.2
             }
            },
            "type": "histogram"
           }
          ],
          "histogram2d": [
           {
            "colorbar": {
             "outlinewidth": 0,
             "ticks": ""
            },
            "colorscale": [
             [
              0,
              "#0d0887"
             ],
             [
              0.1111111111111111,
              "#46039f"
             ],
             [
              0.2222222222222222,
              "#7201a8"
             ],
             [
              0.3333333333333333,
              "#9c179e"
             ],
             [
              0.4444444444444444,
              "#bd3786"
             ],
             [
              0.5555555555555556,
              "#d8576b"
             ],
             [
              0.6666666666666666,
              "#ed7953"
             ],
             [
              0.7777777777777778,
              "#fb9f3a"
             ],
             [
              0.8888888888888888,
              "#fdca26"
             ],
             [
              1,
              "#f0f921"
             ]
            ],
            "type": "histogram2d"
           }
          ],
          "histogram2dcontour": [
           {
            "colorbar": {
             "outlinewidth": 0,
             "ticks": ""
            },
            "colorscale": [
             [
              0,
              "#0d0887"
             ],
             [
              0.1111111111111111,
              "#46039f"
             ],
             [
              0.2222222222222222,
              "#7201a8"
             ],
             [
              0.3333333333333333,
              "#9c179e"
             ],
             [
              0.4444444444444444,
              "#bd3786"
             ],
             [
              0.5555555555555556,
              "#d8576b"
             ],
             [
              0.6666666666666666,
              "#ed7953"
             ],
             [
              0.7777777777777778,
              "#fb9f3a"
             ],
             [
              0.8888888888888888,
              "#fdca26"
             ],
             [
              1,
              "#f0f921"
             ]
            ],
            "type": "histogram2dcontour"
           }
          ],
          "mesh3d": [
           {
            "colorbar": {
             "outlinewidth": 0,
             "ticks": ""
            },
            "type": "mesh3d"
           }
          ],
          "parcoords": [
           {
            "line": {
             "colorbar": {
              "outlinewidth": 0,
              "ticks": ""
             }
            },
            "type": "parcoords"
           }
          ],
          "pie": [
           {
            "automargin": true,
            "type": "pie"
           }
          ],
          "scatter": [
           {
            "fillpattern": {
             "fillmode": "overlay",
             "size": 10,
             "solidity": 0.2
            },
            "type": "scatter"
           }
          ],
          "scatter3d": [
           {
            "line": {
             "colorbar": {
              "outlinewidth": 0,
              "ticks": ""
             }
            },
            "marker": {
             "colorbar": {
              "outlinewidth": 0,
              "ticks": ""
             }
            },
            "type": "scatter3d"
           }
          ],
          "scattercarpet": [
           {
            "marker": {
             "colorbar": {
              "outlinewidth": 0,
              "ticks": ""
             }
            },
            "type": "scattercarpet"
           }
          ],
          "scattergeo": [
           {
            "marker": {
             "colorbar": {
              "outlinewidth": 0,
              "ticks": ""
             }
            },
            "type": "scattergeo"
           }
          ],
          "scattergl": [
           {
            "marker": {
             "colorbar": {
              "outlinewidth": 0,
              "ticks": ""
             }
            },
            "type": "scattergl"
           }
          ],
          "scattermapbox": [
           {
            "marker": {
             "colorbar": {
              "outlinewidth": 0,
              "ticks": ""
             }
            },
            "type": "scattermapbox"
           }
          ],
          "scatterpolar": [
           {
            "marker": {
             "colorbar": {
              "outlinewidth": 0,
              "ticks": ""
             }
            },
            "type": "scatterpolar"
           }
          ],
          "scatterpolargl": [
           {
            "marker": {
             "colorbar": {
              "outlinewidth": 0,
              "ticks": ""
             }
            },
            "type": "scatterpolargl"
           }
          ],
          "scatterternary": [
           {
            "marker": {
             "colorbar": {
              "outlinewidth": 0,
              "ticks": ""
             }
            },
            "type": "scatterternary"
           }
          ],
          "surface": [
           {
            "colorbar": {
             "outlinewidth": 0,
             "ticks": ""
            },
            "colorscale": [
             [
              0,
              "#0d0887"
             ],
             [
              0.1111111111111111,
              "#46039f"
             ],
             [
              0.2222222222222222,
              "#7201a8"
             ],
             [
              0.3333333333333333,
              "#9c179e"
             ],
             [
              0.4444444444444444,
              "#bd3786"
             ],
             [
              0.5555555555555556,
              "#d8576b"
             ],
             [
              0.6666666666666666,
              "#ed7953"
             ],
             [
              0.7777777777777778,
              "#fb9f3a"
             ],
             [
              0.8888888888888888,
              "#fdca26"
             ],
             [
              1,
              "#f0f921"
             ]
            ],
            "type": "surface"
           }
          ],
          "table": [
           {
            "cells": {
             "fill": {
              "color": "#EBF0F8"
             },
             "line": {
              "color": "white"
             }
            },
            "header": {
             "fill": {
              "color": "#C8D4E3"
             },
             "line": {
              "color": "white"
             }
            },
            "type": "table"
           }
          ]
         },
         "layout": {
          "annotationdefaults": {
           "arrowcolor": "#2a3f5f",
           "arrowhead": 0,
           "arrowwidth": 1
          },
          "autotypenumbers": "strict",
          "coloraxis": {
           "colorbar": {
            "outlinewidth": 0,
            "ticks": ""
           }
          },
          "colorscale": {
           "diverging": [
            [
             0,
             "#8e0152"
            ],
            [
             0.1,
             "#c51b7d"
            ],
            [
             0.2,
             "#de77ae"
            ],
            [
             0.3,
             "#f1b6da"
            ],
            [
             0.4,
             "#fde0ef"
            ],
            [
             0.5,
             "#f7f7f7"
            ],
            [
             0.6,
             "#e6f5d0"
            ],
            [
             0.7,
             "#b8e186"
            ],
            [
             0.8,
             "#7fbc41"
            ],
            [
             0.9,
             "#4d9221"
            ],
            [
             1,
             "#276419"
            ]
           ],
           "sequential": [
            [
             0,
             "#0d0887"
            ],
            [
             0.1111111111111111,
             "#46039f"
            ],
            [
             0.2222222222222222,
             "#7201a8"
            ],
            [
             0.3333333333333333,
             "#9c179e"
            ],
            [
             0.4444444444444444,
             "#bd3786"
            ],
            [
             0.5555555555555556,
             "#d8576b"
            ],
            [
             0.6666666666666666,
             "#ed7953"
            ],
            [
             0.7777777777777778,
             "#fb9f3a"
            ],
            [
             0.8888888888888888,
             "#fdca26"
            ],
            [
             1,
             "#f0f921"
            ]
           ],
           "sequentialminus": [
            [
             0,
             "#0d0887"
            ],
            [
             0.1111111111111111,
             "#46039f"
            ],
            [
             0.2222222222222222,
             "#7201a8"
            ],
            [
             0.3333333333333333,
             "#9c179e"
            ],
            [
             0.4444444444444444,
             "#bd3786"
            ],
            [
             0.5555555555555556,
             "#d8576b"
            ],
            [
             0.6666666666666666,
             "#ed7953"
            ],
            [
             0.7777777777777778,
             "#fb9f3a"
            ],
            [
             0.8888888888888888,
             "#fdca26"
            ],
            [
             1,
             "#f0f921"
            ]
           ]
          },
          "colorway": [
           "#636efa",
           "#EF553B",
           "#00cc96",
           "#ab63fa",
           "#FFA15A",
           "#19d3f3",
           "#FF6692",
           "#B6E880",
           "#FF97FF",
           "#FECB52"
          ],
          "font": {
           "color": "#2a3f5f"
          },
          "geo": {
           "bgcolor": "white",
           "lakecolor": "white",
           "landcolor": "#E5ECF6",
           "showlakes": true,
           "showland": true,
           "subunitcolor": "white"
          },
          "hoverlabel": {
           "align": "left"
          },
          "hovermode": "closest",
          "mapbox": {
           "style": "light"
          },
          "paper_bgcolor": "white",
          "plot_bgcolor": "#E5ECF6",
          "polar": {
           "angularaxis": {
            "gridcolor": "white",
            "linecolor": "white",
            "ticks": ""
           },
           "bgcolor": "#E5ECF6",
           "radialaxis": {
            "gridcolor": "white",
            "linecolor": "white",
            "ticks": ""
           }
          },
          "scene": {
           "xaxis": {
            "backgroundcolor": "#E5ECF6",
            "gridcolor": "white",
            "gridwidth": 2,
            "linecolor": "white",
            "showbackground": true,
            "ticks": "",
            "zerolinecolor": "white"
           },
           "yaxis": {
            "backgroundcolor": "#E5ECF6",
            "gridcolor": "white",
            "gridwidth": 2,
            "linecolor": "white",
            "showbackground": true,
            "ticks": "",
            "zerolinecolor": "white"
           },
           "zaxis": {
            "backgroundcolor": "#E5ECF6",
            "gridcolor": "white",
            "gridwidth": 2,
            "linecolor": "white",
            "showbackground": true,
            "ticks": "",
            "zerolinecolor": "white"
           }
          },
          "shapedefaults": {
           "line": {
            "color": "#2a3f5f"
           }
          },
          "ternary": {
           "aaxis": {
            "gridcolor": "white",
            "linecolor": "white",
            "ticks": ""
           },
           "baxis": {
            "gridcolor": "white",
            "linecolor": "white",
            "ticks": ""
           },
           "bgcolor": "#E5ECF6",
           "caxis": {
            "gridcolor": "white",
            "linecolor": "white",
            "ticks": ""
           }
          },
          "title": {
           "x": 0.05
          },
          "xaxis": {
           "automargin": true,
           "gridcolor": "white",
           "linecolor": "white",
           "ticks": "",
           "title": {
            "standoff": 15
           },
           "zerolinecolor": "white",
           "zerolinewidth": 2
          },
          "yaxis": {
           "automargin": true,
           "gridcolor": "white",
           "linecolor": "white",
           "ticks": "",
           "title": {
            "standoff": 15
           },
           "zerolinecolor": "white",
           "zerolinewidth": 2
          }
         }
        }
       }
      },
      "image/png": "[encoded data removed]",
      "text/html": [
       "<div>                            <div id=\"a8b94e52-a081-4722-85db-513e84f3ccb8\" class=\"plotly-graph-div\" style=\"height:525px; width:100%;\"></div>            <script type=\"text/javascript\">                require([\"plotly\"], function(Plotly) {                    window.PLOTLYENV=window.PLOTLYENV || {};                                    if (document.getElementById(\"a8b94e52-a081-4722-85db-513e84f3ccb8\")) {                    Plotly.newPlot(                        \"a8b94e52-a081-4722-85db-513e84f3ccb8\",                        [{\"customdata\":[[0.0,0.0,860.1862826844811],[0.0,118.0,34.4388752379061],[0.0,125.0,91.26057891577221],[0.0,126.0,-67.88152787013803],[0.0,127.0,224.72566484161177],[0.0,128.0,223.60151566002605],[0.0,129.0,-51.04338250281643],[0.0,251.0,429.31329832625573],[0.0,256.0,416.23592981484137],[0.0,337.0,-58.20671793543204],[0.0,338.0,-60.162297878991865]],\"hovertemplate\":\"is_efficient=True<br>cost=%{x}<br>throughput=%{y}<br>throughput_time=%{z}<br>Generation=%{customdata[0]}<br>population_number=%{customdata[1]}<br>agg_fitness=%{customdata[2]}<extra></extra>\",\"legendgroup\":\"True\",\"marker\":{\"color\":\"#636efa\",\"symbol\":\"circle\"},\"mode\":\"markers\",\"name\":\"True\",\"scene\":\"scene\",\"showlegend\":true,\"x\":[0.0,45000.0,45000.0,40000.0,40000.0,40000.0,40000.0,5000.0,5000.0,45000.0,45000.0],\"y\":[714.0,3389.0,3404.0,3274.0,3408.0,3406.0,3323.0,1020.0,1025.0,3371.0,3347.0],\"z\":[459.2806007239751,105.53281494559022,136.89571757614175,42.429856624380484,259.0598696272141,258.2435785839788,57.61404036788763,200.0480677641554,186.34322845300608,37.82275779339683,34.83981359641802],\"type\":\"scatter3d\"},{\"customdata\":[[0.0,1.0,2005.831686480643],[0.0,2.0,2006.375683113453],[0.0,3.0,2006.968847841608],[0.0,4.0,2006.2290914757593],[0.0,5.0,2010.3166064761435],[0.0,6.0,2005.9288120530748],[0.0,7.0,2006.8957657449594],[0.0,8.0,2012.744584729413],[0.0,9.0,2006.9489404335811],[0.0,10.0,2006.0855365572309],[0.0,11.0,2207.3241931860916],[0.0,12.0,2207.8600972125296],[0.0,13.0,2207.9655722795487],[0.0,14.0,2208.126889481819],[0.0,15.0,2404.9315499618306],[0.0,16.0,2404.9728424558125],[0.0,17.0,2405.0102211874378],[0.0,18.0,2405.0647947507637],[0.0,19.0,2197.7096537347475],[0.0,20.0,2197.847867306372],[0.0,21.0,2198.015672933949],[0.0,22.0,2192.113095505082],[0.0,24.0,2656.7178489591643],[0.0,25.0,2672.6999372575524],[0.0,26.0,2673.270174630697],[0.0,27.0,2683.1943748502854],[0.0,28.0,2673.30312522384],[0.0,29.0,2672.981952824064],[0.0,30.0,2521.5486583052298],[0.0,31.0,2544.5578024627976],[0.0,32.0,2544.740376580267],[0.0,33.0,2544.254923335586],[0.0,34.0,2544.746966263883],[0.0,35.0,2522.5799497563867],[0.0,36.0,2521.642825789835],[0.0,37.0,2711.350237765376],[0.0,38.0,2696.6495954455345],[0.0,39.0,2696.7830799964354],[0.0,40.0,2711.2295758426635],[0.0,41.0,2696.3147826933764],[0.0,42.0,2694.226937459932],[0.0,43.0,2310.264343892478],[0.0,45.0,2144.2415568390043],[0.0,47.0,2669.7393058425096],[0.0,50.0,2491.1779787828746],[0.0,51.0,2491.111787231692],[0.0,54.0,2169.673394127066],[0.0,56.0,2669.583883551633],[0.0,59.0,2272.634931806803],[0.0,60.0,2289.815208463588],[0.0,61.0,2289.503214132142],[0.0,62.0,2287.105269505292],[0.0,63.0,2618.136083728115],[0.0,64.0,2619.8605492177944],[0.0,67.0,2466.217895526299],[0.0,74.0,2538.0041507534547],[0.0,75.0,2539.654924122508],[0.0,78.0,2457.555755878222],[0.0,80.0,2728.900842820859],[0.0,88.0,2457.5757895609886],[0.0,94.0,2278.3278964390947],[0.0,95.0,2274.6937773538248],[0.0,96.0,2457.7936319084574],[0.0,97.0,2459.5443517937383],[0.0,100.0,2694.3969924812045],[0.0,103.0,2482.7936319084574],[0.0,107.0,2451.5442654746485],[0.0,108.0,2450.727083103691],[0.0,109.0,2451.086045835149],[0.0,113.0,2453.216015673195],[0.0,116.0,312.20291973959047],[0.0,117.0,321.459876604087],[0.0,119.0,332.8245559445287],[0.0,122.0,10.701044705571064],[0.0,123.0,218.68319650633495],[0.0,124.0,113.46124496598785],[0.0,130.0,2549.5306025877935],[0.0,131.0,2550.8826665113183],[0.0,132.0,2550.8187273935678],[0.0,133.0,2550.4572061230238],[0.0,134.0,2550.4732775515954],[0.0,135.0,2550.514944218262],[0.0,136.0,2338.7493675848286],[0.0,137.0,2331.38598396347],[0.0,138.0,2424.0642861017245],[0.0,139.0,2424.4919902646857],[0.0,141.0,2425.0531713568803],[0.0,143.0,2424.478254800379],[0.0,144.0,2423.5172590567145],[0.0,145.0,2423.8064040253666],[0.0,146.0,2424.2706923627607],[0.0,147.0,2424.062849549754],[0.0,148.0,2424.187719833676],[0.0,149.0,2424.1495347293267],[0.0,150.0,2422.9818322204405],[0.0,151.0,2422.9672478815337],[0.0,152.0,2561.8007883767054],[0.0,153.0,2562.257972337659],[0.0,155.0,2562.009069457895],[0.0,156.0,2412.684790523157],[0.0,157.0,2411.1756004208446],[0.0,158.0,2562.0934849309647],[0.0,159.0,2562.411575634638],[0.0,160.0,2559.2423200400044],[0.0,161.0,2556.722897393952],[0.0,162.0,2412.346405276262],[0.0,163.0,2417.3862254730975],[0.0,164.0,2412.194273814232],[0.0,165.0,2418.3330898047716],[0.0,166.0,2215.018280069676],[0.0,167.0,2221.1098463360863],[0.0,168.0,2214.5514910978095],[0.0,169.0,2222.030324300114],[0.0,170.0,2050.7877953007214],[0.0,171.0,2147.078224502277],[0.0,172.0,2063.9510911671987],[0.0,173.0,2063.2359413798476],[0.0,174.0,2075.7877953007214],[0.0,175.0,2089.9431383862216],[0.0,176.0,2092.356651659921],[0.0,177.0,2089.9401954957784],[0.0,178.0,2088.2359413798476],[0.0,179.0,2088.9510911671987],[0.0,180.0,2172.5990290073087],[0.0,183.0,2295.680832365289],[0.0,184.0,2311.696937268974],[0.0,185.0,2299.355779320921],[0.0,186.0,2295.465853665492],[0.0,187.0,2279.700135355837],[0.0,188.0,2429.8219984763423],[0.0,189.0,2429.8394976507507],[0.0,190.0,2427.822548660316],[0.0,191.0,2427.583051947801],[0.0,192.0,2536.4885094164433],[0.0,193.0,2536.2667247206564],[0.0,194.0,2536.06131878606],[0.0,195.0,2536.1152735549085],[0.0,196.0,2536.5809575460303],[0.0,197.0,2536.1646375633863],[0.0,198.0,2536.1513963632956],[0.0,199.0,2729.294000309444],[0.0,200.0,2731.8937207452163],[0.0,201.0,2732.5632073313895],[0.0,203.0,2731.641474641954],[0.0,204.0,2734.07527429022],[0.0,205.0,2732.4001598233763],[0.0,206.0,2732.358103488596],[0.0,207.0,2540.5570116765966],[0.0,208.0,2540.610161061087],[0.0,209.0,2540.5683437857733],[0.0,210.0,2540.5262446231177],[0.0,211.0,2357.820027493061],[0.0,212.0,2358.10144170833],[0.0,213.0,2358.222871704846],[0.0,214.0,2358.2719340673557],[0.0,216.0,2358.1837643886993],[0.0,217.0,2223.875719301645],[0.0,218.0,2223.7323027002217],[0.0,219.0,2225.8872689222057],[0.0,220.0,2225.2307209324294],[0.0,221.0,2225.148716784369],[0.0,225.0,2940.911305977403],[0.0,226.0,2940.4850968363417],[0.0,227.0,2940.739069056445],[0.0,229.0,2940.5785572509953],[0.0,235.0,2940.8731451851354],[0.0,236.0,2940.8012639263434],[0.0,237.0,2940.5407235326707],[0.0,238.0,2940.7420020875097],[0.0,241.0,2680.839318233386],[0.0,243.0,2409.8143162945767],[0.0,244.0,2409.735793141108],[0.0,245.0,2409.72969263042],[0.0,246.0,416.20179235906824],[0.0,247.0,434.3760538620551],[0.0,248.0,432.94334559939836],[0.0,249.0,425.46876505407147],[0.0,250.0,426.88288193115704],[0.0,253.0,453.1822025050739],[0.0,255.0,420.3688813294051],[0.0,257.0,918.2224639223155],[0.0,258.0,937.8850140773128],[0.0,259.0,897.4759196630248],[0.0,261.0,2417.583891273703],[0.0,262.0,2419.0582803529455],[0.0,263.0,2420.864218022488],[0.0,264.0,2418.495384153425],[0.0,265.0,2437.3306431556457],[0.0,266.0,2449.9118638713758],[0.0,267.0,2434.4410506396994],[0.0,268.0,2436.9743688407466],[0.0,269.0,2434.811889456821],[0.0,270.0,2435.789262406129],[0.0,271.0,2450.467641015091],[0.0,272.0,2450.0359249558865],[0.0,273.0,2449.590702227162],[0.0,274.0,2449.586918203843],[0.0,275.0,2503.0670017729954],[0.0,276.0,2503.032505013833],[0.0,277.0,2502.5073108067213],[0.0,278.0,2502.529621301223],[0.0,279.0,2502.826001995353],[0.0,280.0,2502.415631223134],[0.0,281.0,2502.505581297492],[0.0,282.0,2502.87013558375],[0.0,283.0,2488.6365143413404],[0.0,284.0,2488.1149940296127],[0.0,285.0,1880.2955059304102],[0.0,286.0,1933.8853838474554],[0.0,287.0,1932.9174001910285],[0.0,288.0,1934.3622390613336],[0.0,289.0,1932.9785941663504],[0.0,290.0,1934.7031151041786],[0.0,291.0,1932.953276604142],[0.0,292.0,1933.6854827171105],[0.0,293.0,1932.302796319383],[0.0,294.0,1934.0256734397462],[0.0,299.0,2805.6269674109935],[0.0,300.0,2805.6016173853145],[0.0,301.0,2805.6155062742037],[0.0,302.0,2805.636616745386],[0.0,305.0,2805.622727856497],[0.0,307.0,2645.7378318428437],[0.0,308.0,2646.0795169812523],[0.0,309.0,2645.3953118484405],[0.0,310.0,2645.3709305885286],[0.0,311.0,2539.3982658834266],[0.0,312.0,2539.376454000076],[0.0,313.0,2424.692887828678],[0.0,314.0,2424.6968348610008],[0.0,315.0,2424.769423538023],[0.0,318.0,2690.6016841837413],[0.0,319.0,2687.2220632251388],[0.0,320.0,2690.3597669020955],[0.0,321.0,2690.4605300260564],[0.0,322.0,2690.360889560905],[0.0,323.0,2686.628971187354],[0.0,324.0,2594.0937642460212],[0.0,325.0,2595.5487991926575],[0.0,326.0,2593.0386778579436],[0.0,327.0,2593.0917476018603],[0.0,331.0,2429.9689877590677],[0.0,332.0,2429.8943769557377],[0.0,333.0,2588.161666997462],[0.0,335.0,2588.0200567706424]],\"hovertemplate\":\"is_efficient=False<br>cost=%{x}<br>throughput=%{y}<br>throughput_time=%{z}<br>Generation=%{customdata[0]}<br>population_number=%{customdata[1]}<br>agg_fitness=%{customdata[2]}<extra></extra>\",\"legendgroup\":\"False\",\"marker\":{\"color\":\"#EF553B\",\"symbol\":\"circle\"},\"mode\":\"markers\",\"name\":\"False\",\"scene\":\"scene\",\"showlegend\":true,\"x\":[0.0,0.0,0.0,0.0,0.0,0.0,0.0,0.0,0.0,0.0,10000.0,10000.0,10000.0,10000.0,30000.0,30000.0,30000.0,30000.0,5000.0,5000.0,5000.0,5000.0,75000.0,75000.0,75000.0,75000.0,75000.0,75000.0,55000.0,55000.0,55000.0,55000.0,55000.0,55000.0,55000.0,55000.0,55000.0,55000.0,55000.0,55000.0,55000.0,65000.0,45000.0,50000.0,5000.0,5000.0,45000.0,50000.0,5000.0,5000.0,5000.0,5000.0,70000.0,70000.0,50000.0,65000.0,65000.0,45000.0,45000.0,45000.0,5000.0,5000.0,45000.0,45000.0,40000.0,50000.0,0.0,0.0,0.0,0.0,45000.0,45000.0,45000.0,45000.0,45000.0,45000.0,5000.0,5000.0,5000.0,5000.0,5000.0,5000.0,5000.0,5000.0,10000.0,10000.0,10000.0,10000.0,15000.0,15000.0,15000.0,15000.0,15000.0,15000.0,15000.0,15000.0,30000.0,30000.0,30000.0,10000.0,10000.0,30000.0,30000.0,30000.0,30000.0,10000.0,10000.0,10000.0,10000.0,10000.0,10000.0,10000.0,10000.0,5000.0,5000.0,5000.0,5000.0,10000.0,10000.0,10000.0,10000.0,10000.0,10000.0,10000.0,0.0,0.0,0.0,0.0,0.0,5000.0,5000.0,5000.0,5000.0,5000.0,5000.0,5000.0,5000.0,5000.0,5000.0,5000.0,45000.0,45000.0,45000.0,45000.0,45000.0,45000.0,45000.0,10000.0,10000.0,10000.0,10000.0,30000.0,30000.0,30000.0,30000.0,30000.0,10000.0,10000.0,0.0,0.0,0.0,100000.0,100000.0,100000.0,100000.0,100000.0,100000.0,100000.0,100000.0,55000.0,0.0,0.0,0.0,5000.0,5000.0,5000.0,5000.0,5000.0,5000.0,5000.0,45000.0,45000.0,45000.0,5000.0,5000.0,5000.0,5000.0,5000.0,5000.0,5000.0,5000.0,5000.0,5000.0,15000.0,15000.0,15000.0,15000.0,10000.0,10000.0,10000.0,10000.0,10000.0,10000.0,10000.0,10000.0,10000.0,10000.0,10000.0,10000.0,10000.0,10000.0,10000.0,10000.0,10000.0,10000.0,10000.0,10000.0,45000.0,45000.0,45000.0,45000.0,45000.0,50000.0,50000.0,50000.0,50000.0,30000.0,30000.0,10000.0,10000.0,10000.0,55000.0,55000.0,55000.0,55000.0,55000.0,55000.0,35000.0,35000.0,35000.0,35000.0,15000.0,15000.0,40000.0,40000.0],\"y\":[368.0,369.0,367.0,369.0,365.0,368.0,367.0,363.0,367.0,368.0,154.0,154.0,154.0,154.0,110.0,110.0,110.0,109.0,153.0,153.0,153.0,152.0,111.0,97.0,97.0,97.0,96.0,97.0,117.0,109.0,109.0,109.0,109.0,117.0,117.0,87.0,104.0,104.0,87.0,104.0,105.0,310.0,338.0,97.0,36.0,36.0,341.0,97.0,76.0,70.0,73.0,75.0,111.0,110.0,139.0,138.0,138.0,123.0,39.0,123.0,76.0,74.0,122.0,122.0,35.0,122.0,94.0,95.0,94.0,94.0,3370.0,3371.0,3372.0,3351.0,3388.0,3320.0,7.0,7.0,7.0,7.0,7.0,7.0,20.0,34.0,123.0,122.0,122.0,122.0,131.0,131.0,131.0,131.0,131.0,131.0,131.0,131.0,84.0,84.0,86.0,118.0,122.0,84.0,84.0,84.0,86.0,119.0,120.0,119.0,116.0,149.0,151.0,149.0,146.0,288.0,281.0,284.0,284.0,288.0,286.0,288.0,286.0,284.0,284.0,283.0,55.0,43.0,59.0,59.0,73.0,98.0,98.0,98.0,98.0,42.0,42.0,42.0,42.0,42.0,42.0,42.0,37.0,37.0,37.0,38.0,37.0,37.0,37.0,40.0,40.0,40.0,40.0,135.0,135.0,135.0,135.0,135.0,152.0,152.0,104.0,104.0,104.0,89.0,89.0,89.0,89.0,89.0,89.0,89.0,89.0,84.0,59.0,59.0,59.0,1013.0,1016.0,1021.0,1021.0,1011.0,1017.0,995.0,618.0,600.0,606.0,108.0,108.0,108.0,108.0,109.0,109.0,109.0,109.0,110.0,110.0,109.0,109.0,109.0,109.0,138.0,138.0,138.0,138.0,138.0,138.0,138.0,138.0,107.0,107.0,304.0,305.0,305.0,305.0,305.0,305.0,305.0,305.0,305.0,305.0,3.0,3.0,3.0,3.0,3.0,96.0,96.0,96.0,96.0,108.0,108.0,122.0,122.0,122.0,91.0,82.0,91.0,91.0,91.0,82.0,89.0,89.0,89.0,89.0,123.0,123.0,103.0,103.0],\"z\":[173.13168648064286,174.77568311345314,173.16884784160806,174.6290914757595,173.31660647614342,173.2288120530748,173.0957657449595,173.54458472941286,173.14894043358126,173.38553655723084,20.224193186091735,20.760097212529537,20.865572279548648,21.02688948181912,16.93154996183072,16.972842455812565,17.010221187437708,16.96479475076388,18.5096537347477,18.64786730637189,18.81567293394935,18.313095505082085,16.31784895916427,16.399937257552285,15.970174630697075,16.39437485028537,15.903125223840242,15.68195282406413,17.24865830522968,16.95780246279783,17.140376580266782,16.654923335586478,17.146966263883236,18.279949756386443,17.342825789835114,182.55023776537567,201.04959544553472,201.1830799964353,182.42957584266313,200.71478269337666,198.72693745993175,28.764343892477594,30.541556839004325,188.43930584250916,219.2779787828747,219.21178723169146,36.77339412706598,188.2838835516328,27.73493180680275,25.815208463588213,28.803214132142138,29.605269505292338,21.2360837281147,22.860549217794635,21.617895526299126,23.804150753454834,25.454924122508228,24.355755878222094,226.3008428208591,24.375789560988817,33.427896439094766,27.593777353824876,23.49363190845732,25.244351793738005,209.89699248120445,23.49363190845732,241.94426547464855,243.22708310369083,241.48604583514907,244.61601567319508,300.7339699911885,307.2255985738227,316.0090008443,83.53174660511559,207.45299850761236,152.0558452428069,241.7306025877931,243.082666511318,243.01872739356745,242.65720612302377,242.6732775515952,242.71494421826182,25.2493675848286,33.28598396347028,223.36428610172456,222.6919902646856,223.25317135688002,222.6782548003791,221.11725905671452,221.40640402536633,221.8706923627606,221.66284954975382,221.78771983367585,221.74953472932634,220.58183222044028,220.5672478815337,184.70078837670567,185.1579723376589,187.10906945789492,220.98479052315741,223.87560042084453,184.99348493096494,185.31157563463844,185.64232004000445,187.32289739395196,221.74640527626207,222.8862254730977,221.59427381423222,219.43308980477127,27.418280069676346,29.70984633608638,26.951491097809797,26.130324300114122,172.56749210635223,178.178224502277,177.69092856557262,176.97144273486106,172.56749210635223,178.88297578459546,181.67400523909674,178.88003289415255,176.97144273486106,177.69092856557262,178.89902900730868,25.680832365289085,28.496937268974328,31.255779320921363,26.365853665492235,27.000135355837273,209.62199847634236,209.63949765075083,207.62254866031603,207.38305194780105,233.6885094164431,233.46672472065643,233.26131878605952,233.31527355490826,233.78095754603012,233.36463756338617,233.35139636329555,215.99400030944398,219.59372074521607,220.2632073313892,220.44147464195416,222.77527429021967,220.10015982337617,220.05810348859603,225.0570116765968,225.11016106108713,225.06834378577318,225.02624462311778,23.82002749306106,24.101441708330373,24.222871704845915,24.271934067355836,24.183764388699334,25.07571930164465,24.932302700221346,22.287268922205808,21.63072093242959,21.548716784368878,187.311305977403,186.8850968363419,187.13906905644504,186.9785572509954,187.2731451851353,187.2012639263435,186.94072353267086,187.14200208750958,184.2393182333861,194.2143162945767,194.13579314110814,194.12969263041975,183.80643887840895,202.60112101220284,202.48703274650336,194.402137345119,193.4501366394634,221.53435885291753,188.59347422548512,201.7685273680487,203.29516871222555,172.78728568612843,219.38389127370314,220.8582803529459,222.664218022488,220.2953841534252,225.730643155646,238.31186387137603,222.84105063969935,225.37436884074663,224.31188945682095,225.2892624061293,193.86764101509124,193.43592495588646,192.99070222716227,192.9869182038431,310.36700177299576,310.3325050138331,309.8073108067215,309.8296213012233,310.1260019953534,309.715631223134,309.80558129749227,310.17013558375027,268.83651434134026,267.3149940296127,242.00946484731026,246.42667822079514,246.52550829913667,246.54895403717916,246.58815015090642,246.53193849147007,246.55704108290655,246.57925384217086,246.61803992768023,246.5618965742548,238.4269674109936,238.4016173853148,238.41550627420372,238.4366167453862,238.42272785649735,194.83783184284366,195.1795169812522,194.49531184844054,194.47093058852872,210.69826588342696,210.67645400007623,216.39288782867794,216.3968348610007,216.4694235380232,184.20168418374126,169.9220632251387,183.95976690209542,184.0605300260562,183.96088956090477,169.32897118735394,180.99376424602144,180.9487991926574,177.9386778579437,177.9917476018606,214.7689877590677,214.69437695573788,187.46166699746212,187.3200567706427],\"type\":\"scatter3d\"}],                        {\"template\":{\"data\":{\"histogram2dcontour\":[{\"type\":\"histogram2dcontour\",\"colorbar\":{\"outlinewidth\":0,\"ticks\":\"\"},\"colorscale\":[[0.0,\"#0d0887\"],[0.1111111111111111,\"#46039f\"],[0.2222222222222222,\"#7201a8\"],[0.3333333333333333,\"#9c179e\"],[0.4444444444444444,\"#bd3786\"],[0.5555555555555556,\"#d8576b\"],[0.6666666666666666,\"#ed7953\"],[0.7777777777777778,\"#fb9f3a\"],[0.8888888888888888,\"#fdca26\"],[1.0,\"#f0f921\"]]}],\"choropleth\":[{\"type\":\"choropleth\",\"colorbar\":{\"outlinewidth\":0,\"ticks\":\"\"}}],\"histogram2d\":[{\"type\":\"histogram2d\",\"colorbar\":{\"outlinewidth\":0,\"ticks\":\"\"},\"colorscale\":[[0.0,\"#0d0887\"],[0.1111111111111111,\"#46039f\"],[0.2222222222222222,\"#7201a8\"],[0.3333333333333333,\"#9c179e\"],[0.4444444444444444,\"#bd3786\"],[0.5555555555555556,\"#d8576b\"],[0.6666666666666666,\"#ed7953\"],[0.7777777777777778,\"#fb9f3a\"],[0.8888888888888888,\"#fdca26\"],[1.0,\"#f0f921\"]]}],\"heatmap\":[{\"type\":\"heatmap\",\"colorbar\":{\"outlinewidth\":0,\"ticks\":\"\"},\"colorscale\":[[0.0,\"#0d0887\"],[0.1111111111111111,\"#46039f\"],[0.2222222222222222,\"#7201a8\"],[0.3333333333333333,\"#9c179e\"],[0.4444444444444444,\"#bd3786\"],[0.5555555555555556,\"#d8576b\"],[0.6666666666666666,\"#ed7953\"],[0.7777777777777778,\"#fb9f3a\"],[0.8888888888888888,\"#fdca26\"],[1.0,\"#f0f921\"]]}],\"heatmapgl\":[{\"type\":\"heatmapgl\",\"colorbar\":{\"outlinewidth\":0,\"ticks\":\"\"},\"colorscale\":[[0.0,\"#0d0887\"],[0.1111111111111111,\"#46039f\"],[0.2222222222222222,\"#7201a8\"],[0.3333333333333333,\"#9c179e\"],[0.4444444444444444,\"#bd3786\"],[0.5555555555555556,\"#d8576b\"],[0.6666666666666666,\"#ed7953\"],[0.7777777777777778,\"#fb9f3a\"],[0.8888888888888888,\"#fdca26\"],[1.0,\"#f0f921\"]]}],\"contourcarpet\":[{\"type\":\"contourcarpet\",\"colorbar\":{\"outlinewidth\":0,\"ticks\":\"\"}}],\"contour\":[{\"type\":\"contour\",\"colorbar\":{\"outlinewidth\":0,\"ticks\":\"\"},\"colorscale\":[[0.0,\"#0d0887\"],[0.1111111111111111,\"#46039f\"],[0.2222222222222222,\"#7201a8\"],[0.3333333333333333,\"#9c179e\"],[0.4444444444444444,\"#bd3786\"],[0.5555555555555556,\"#d8576b\"],[0.6666666666666666,\"#ed7953\"],[0.7777777777777778,\"#fb9f3a\"],[0.8888888888888888,\"#fdca26\"],[1.0,\"#f0f921\"]]}],\"surface\":[{\"type\":\"surface\",\"colorbar\":{\"outlinewidth\":0,\"ticks\":\"\"},\"colorscale\":[[0.0,\"#0d0887\"],[0.1111111111111111,\"#46039f\"],[0.2222222222222222,\"#7201a8\"],[0.3333333333333333,\"#9c179e\"],[0.4444444444444444,\"#bd3786\"],[0.5555555555555556,\"#d8576b\"],[0.6666666666666666,\"#ed7953\"],[0.7777777777777778,\"#fb9f3a\"],[0.8888888888888888,\"#fdca26\"],[1.0,\"#f0f921\"]]}],\"mesh3d\":[{\"type\":\"mesh3d\",\"colorbar\":{\"outlinewidth\":0,\"ticks\":\"\"}}],\"scatter\":[{\"fillpattern\":{\"fillmode\":\"overlay\",\"size\":10,\"solidity\":0.2},\"type\":\"scatter\"}],\"parcoords\":[{\"type\":\"parcoords\",\"line\":{\"colorbar\":{\"outlinewidth\":0,\"ticks\":\"\"}}}],\"scatterpolargl\":[{\"type\":\"scatterpolargl\",\"marker\":{\"colorbar\":{\"outlinewidth\":0,\"ticks\":\"\"}}}],\"bar\":[{\"error_x\":{\"color\":\"#2a3f5f\"},\"error_y\":{\"color\":\"#2a3f5f\"},\"marker\":{\"line\":{\"color\":\"#E5ECF6\",\"width\":0.5},\"pattern\":{\"fillmode\":\"overlay\",\"size\":10,\"solidity\":0.2}},\"type\":\"bar\"}],\"scattergeo\":[{\"type\":\"scattergeo\",\"marker\":{\"colorbar\":{\"outlinewidth\":0,\"ticks\":\"\"}}}],\"scatterpolar\":[{\"type\":\"scatterpolar\",\"marker\":{\"colorbar\":{\"outlinewidth\":0,\"ticks\":\"\"}}}],\"histogram\":[{\"marker\":{\"pattern\":{\"fillmode\":\"overlay\",\"size\":10,\"solidity\":0.2}},\"type\":\"histogram\"}],\"scattergl\":[{\"type\":\"scattergl\",\"marker\":{\"colorbar\":{\"outlinewidth\":0,\"ticks\":\"\"}}}],\"scatter3d\":[{\"type\":\"scatter3d\",\"line\":{\"colorbar\":{\"outlinewidth\":0,\"ticks\":\"\"}},\"marker\":{\"colorbar\":{\"outlinewidth\":0,\"ticks\":\"\"}}}],\"scattermapbox\":[{\"type\":\"scattermapbox\",\"marker\":{\"colorbar\":{\"outlinewidth\":0,\"ticks\":\"\"}}}],\"scatterternary\":[{\"type\":\"scatterternary\",\"marker\":{\"colorbar\":{\"outlinewidth\":0,\"ticks\":\"\"}}}],\"scattercarpet\":[{\"type\":\"scattercarpet\",\"marker\":{\"colorbar\":{\"outlinewidth\":0,\"ticks\":\"\"}}}],\"carpet\":[{\"aaxis\":{\"endlinecolor\":\"#2a3f5f\",\"gridcolor\":\"white\",\"linecolor\":\"white\",\"minorgridcolor\":\"white\",\"startlinecolor\":\"#2a3f5f\"},\"baxis\":{\"endlinecolor\":\"#2a3f5f\",\"gridcolor\":\"white\",\"linecolor\":\"white\",\"minorgridcolor\":\"white\",\"startlinecolor\":\"#2a3f5f\"},\"type\":\"carpet\"}],\"table\":[{\"cells\":{\"fill\":{\"color\":\"#EBF0F8\"},\"line\":{\"color\":\"white\"}},\"header\":{\"fill\":{\"color\":\"#C8D4E3\"},\"line\":{\"color\":\"white\"}},\"type\":\"table\"}],\"barpolar\":[{\"marker\":{\"line\":{\"color\":\"#E5ECF6\",\"width\":0.5},\"pattern\":{\"fillmode\":\"overlay\",\"size\":10,\"solidity\":0.2}},\"type\":\"barpolar\"}],\"pie\":[{\"automargin\":true,\"type\":\"pie\"}]},\"layout\":{\"autotypenumbers\":\"strict\",\"colorway\":[\"#636efa\",\"#EF553B\",\"#00cc96\",\"#ab63fa\",\"#FFA15A\",\"#19d3f3\",\"#FF6692\",\"#B6E880\",\"#FF97FF\",\"#FECB52\"],\"font\":{\"color\":\"#2a3f5f\"},\"hovermode\":\"closest\",\"hoverlabel\":{\"align\":\"left\"},\"paper_bgcolor\":\"white\",\"plot_bgcolor\":\"#E5ECF6\",\"polar\":{\"bgcolor\":\"#E5ECF6\",\"angularaxis\":{\"gridcolor\":\"white\",\"linecolor\":\"white\",\"ticks\":\"\"},\"radialaxis\":{\"gridcolor\":\"white\",\"linecolor\":\"white\",\"ticks\":\"\"}},\"ternary\":{\"bgcolor\":\"#E5ECF6\",\"aaxis\":{\"gridcolor\":\"white\",\"linecolor\":\"white\",\"ticks\":\"\"},\"baxis\":{\"gridcolor\":\"white\",\"linecolor\":\"white\",\"ticks\":\"\"},\"caxis\":{\"gridcolor\":\"white\",\"linecolor\":\"white\",\"ticks\":\"\"}},\"coloraxis\":{\"colorbar\":{\"outlinewidth\":0,\"ticks\":\"\"}},\"colorscale\":{\"sequential\":[[0.0,\"#0d0887\"],[0.1111111111111111,\"#46039f\"],[0.2222222222222222,\"#7201a8\"],[0.3333333333333333,\"#9c179e\"],[0.4444444444444444,\"#bd3786\"],[0.5555555555555556,\"#d8576b\"],[0.6666666666666666,\"#ed7953\"],[0.7777777777777778,\"#fb9f3a\"],[0.8888888888888888,\"#fdca26\"],[1.0,\"#f0f921\"]],\"sequentialminus\":[[0.0,\"#0d0887\"],[0.1111111111111111,\"#46039f\"],[0.2222222222222222,\"#7201a8\"],[0.3333333333333333,\"#9c179e\"],[0.4444444444444444,\"#bd3786\"],[0.5555555555555556,\"#d8576b\"],[0.6666666666666666,\"#ed7953\"],[0.7777777777777778,\"#fb9f3a\"],[0.8888888888888888,\"#fdca26\"],[1.0,\"#f0f921\"]],\"diverging\":[[0,\"#8e0152\"],[0.1,\"#c51b7d\"],[0.2,\"#de77ae\"],[0.3,\"#f1b6da\"],[0.4,\"#fde0ef\"],[0.5,\"#f7f7f7\"],[0.6,\"#e6f5d0\"],[0.7,\"#b8e186\"],[0.8,\"#7fbc41\"],[0.9,\"#4d9221\"],[1,\"#276419\"]]},\"xaxis\":{\"gridcolor\":\"white\",\"linecolor\":\"white\",\"ticks\":\"\",\"title\":{\"standoff\":15},\"zerolinecolor\":\"white\",\"automargin\":true,\"zerolinewidth\":2},\"yaxis\":{\"gridcolor\":\"white\",\"linecolor\":\"white\",\"ticks\":\"\",\"title\":{\"standoff\":15},\"zerolinecolor\":\"white\",\"automargin\":true,\"zerolinewidth\":2},\"scene\":{\"xaxis\":{\"backgroundcolor\":\"#E5ECF6\",\"gridcolor\":\"white\",\"linecolor\":\"white\",\"showbackground\":true,\"ticks\":\"\",\"zerolinecolor\":\"white\",\"gridwidth\":2},\"yaxis\":{\"backgroundcolor\":\"#E5ECF6\",\"gridcolor\":\"white\",\"linecolor\":\"white\",\"showbackground\":true,\"ticks\":\"\",\"zerolinecolor\":\"white\",\"gridwidth\":2},\"zaxis\":{\"backgroundcolor\":\"#E5ECF6\",\"gridcolor\":\"white\",\"linecolor\":\"white\",\"showbackground\":true,\"ticks\":\"\",\"zerolinecolor\":\"white\",\"gridwidth\":2}},\"shapedefaults\":{\"line\":{\"color\":\"#2a3f5f\"}},\"annotationdefaults\":{\"arrowcolor\":\"#2a3f5f\",\"arrowhead\":0,\"arrowwidth\":1},\"geo\":{\"bgcolor\":\"white\",\"landcolor\":\"#E5ECF6\",\"subunitcolor\":\"white\",\"showland\":true,\"showlakes\":true,\"lakecolor\":\"white\"},\"title\":{\"x\":0.05},\"mapbox\":{\"style\":\"light\"}}},\"scene\":{\"domain\":{\"x\":[0.0,1.0],\"y\":[0.0,1.0]},\"xaxis\":{\"title\":{\"text\":\"cost\"}},\"yaxis\":{\"title\":{\"text\":\"throughput\"}},\"zaxis\":{\"title\":{\"text\":\"throughput_time\"}}},\"legend\":{\"title\":{\"text\":\"is_efficient\"},\"tracegroupgap\":0},\"margin\":{\"t\":60}},                        {\"responsive\": true}                    ).then(function(){\n",
       "                            \n",
       "var gd = document.getElementById('a8b94e52-a081-4722-85db-513e84f3ccb8');\n",
       "var x = new MutationObserver(function (mutations, observer) {{\n",
       "        var display = window.getComputedStyle(gd).display;\n",
       "        if (!display || display === 'none') {{\n",
       "            console.log([gd, 'removed!']);\n",
       "            Plotly.purge(gd);\n",
       "            observer.disconnect();\n",
       "        }}\n",
       "}});\n",
       "\n",
       "// Listen for the removal of the full notebook cells\n",
       "var notebookContainer = gd.closest('#notebook-container');\n",
       "if (notebookContainer) {{\n",
       "    x.observe(notebookContainer, {childList: true});\n",
       "}}\n",
       "\n",
       "// Listen for the clearing of the current output cell\n",
       "var outputEl = gd.closest('.output');\n",
       "if (outputEl) {{\n",
       "    x.observe(outputEl, {childList: true});\n",
       "}}\n",
       "\n",
       "                        })                };                });            </script>        </div>"
      ]
     },
     "metadata": {},
     "output_type": "display_data"
    }
   ],
   "source": [
    "import plotly.express as px\n",
    "\n",
    "fig = px.scatter_3d(df, x='cost', y='throughput', z='throughput_time', hover_data=['cost', 'Generation', 'population_number', 'agg_fitness'],\n",
    "              color=df['is_efficient'], color_continuous_scale=px.colors.sequential.Plotly3)\n",
    "fig.show()"
   ]
  },
  {
   "cell_type": "code",
   "execution_count": 106,
   "id": "0d8bba32-4f8d-44c0-9ef5-04b7585824db",
   "metadata": {},
   "outputs": [
    {
     "data": {
      "text/plain": [
       "(5, 8)"
      ]
     },
     "execution_count": 106,
     "metadata": {},
     "output_type": "execute_result"
    }
   ],
   "source": [
    "df.shape"
   ]
  },
  {
   "cell_type": "code",
   "execution_count": 18,
   "id": "7b20faad-d68e-451a-a52c-d322ef3d059e",
   "metadata": {},
   "outputs": [
    {
     "data": {
      "application/vnd.plotly.v1+json": {
       "config": {
        "plotlyServerURL": "https://plot.ly"
       },
       "data": [
        {
         "marker": {
          "color": [
           1,
           0,
           0,
           0,
           0,
           0,
           0,
           0,
           0,
           0,
           0,
           0,
           0,
           0,
           0,
           0,
           0,
           0,
           0,
           0,
           0,
           0,
           0,
           0,
           0,
           0,
           0,
           0,
           0,
           0,
           0,
           0,
           0,
           0,
           0,
           0,
           0,
           0,
           0,
           0,
           0,
           0,
           0,
           0,
           0,
           0,
           0,
           0,
           0,
           0,
           0,
           0,
           0,
           0,
           0,
           0,
           0,
           0,
           0,
           0,
           0,
           0,
           0,
           0,
           0,
           0,
           0,
           0,
           0,
           0,
           0,
           0,
           0,
           1,
           0,
           1,
           0,
           0,
           1,
           1,
           1,
           1,
           1,
           0,
           0,
           0,
           0,
           0,
           0,
           0,
           0,
           0,
           0,
           0,
           0,
           0,
           0,
           0,
           0,
           0,
           0,
           0,
           0,
           0,
           0,
           0,
           0,
           0,
           0,
           0,
           0,
           0,
           0,
           0,
           0,
           0,
           0,
           0,
           0,
           0,
           0,
           0,
           0,
           0,
           0,
           0,
           0,
           0,
           0,
           0,
           0,
           0,
           0,
           0,
           0,
           0,
           0,
           0,
           0,
           0,
           0,
           0,
           0,
           0,
           0,
           0,
           0,
           0,
           0,
           0
          ],
          "colorscale": [
           [
            0,
            "#440154"
           ],
           [
            0.1111111111111111,
            "#482878"
           ],
           [
            0.2222222222222222,
            "#3e4989"
           ],
           [
            0.3333333333333333,
            "#31688e"
           ],
           [
            0.4444444444444444,
            "#26828e"
           ],
           [
            0.5555555555555556,
            "#1f9e89"
           ],
           [
            0.6666666666666666,
            "#35b779"
           ],
           [
            0.7777777777777778,
            "#6ece58"
           ],
           [
            0.8888888888888888,
            "#b5de2b"
           ],
           [
            1,
            "#fde725"
           ]
          ],
          "opacity": 0.8,
          "size": 5
         },
         "mode": "markers",
         "type": "scatter3d",
         "x": [
          0,
          0,
          0,
          0,
          0,
          0,
          0,
          0,
          0,
          0,
          0,
          10000,
          10000,
          10000,
          10000,
          30000,
          30000,
          30000,
          30000,
          5000,
          5000,
          5000,
          5000,
          75000,
          75000,
          75000,
          75000,
          75000,
          75000,
          55000,
          55000,
          55000,
          55000,
          55000,
          55000,
          55000,
          55000,
          55000,
          55000,
          55000,
          55000,
          55000,
          65000,
          45000,
          50000,
          5000,
          5000,
          45000,
          50000,
          5000,
          5000,
          5000,
          5000,
          70000,
          70000,
          50000,
          65000,
          65000,
          45000,
          45000,
          45000,
          5000,
          5000,
          45000,
          45000,
          40000,
          50000,
          0,
          0,
          0,
          0,
          45000,
          45000,
          45000,
          45000,
          45000,
          45000,
          45000,
          45000,
          40000,
          40000,
          40000,
          40000,
          5000,
          5000,
          5000,
          5000,
          5000,
          5000,
          5000,
          5000,
          10000,
          10000,
          10000,
          10000,
          15000,
          15000,
          15000,
          15000,
          15000,
          15000,
          15000,
          15000,
          30000,
          30000,
          30000,
          10000,
          10000,
          30000,
          30000,
          30000,
          30000,
          10000,
          10000,
          10000,
          10000,
          10000,
          10000,
          10000,
          10000,
          5000,
          5000,
          5000,
          5000,
          10000,
          10000,
          10000,
          10000,
          10000,
          10000,
          10000,
          0,
          0,
          0,
          0,
          0,
          5000,
          5000,
          5000,
          5000,
          5000,
          5000,
          5000,
          5000,
          5000,
          5000,
          5000,
          45000,
          45000,
          45000
         ],
         "y": [
          714,
          368,
          369,
          367,
          369,
          365,
          368,
          367,
          363,
          367,
          368,
          154,
          154,
          154,
          154,
          110,
          110,
          110,
          109,
          153,
          153,
          153,
          152,
          111,
          97,
          97,
          97,
          96,
          97,
          117,
          109,
          109,
          109,
          109,
          117,
          117,
          87,
          104,
          104,
          87,
          104,
          105,
          310,
          338,
          97,
          36,
          36,
          341,
          97,
          76,
          70,
          73,
          75,
          111,
          110,
          139,
          138,
          138,
          123,
          39,
          123,
          76,
          74,
          122,
          122,
          35,
          122,
          94,
          95,
          94,
          94,
          3370,
          3371,
          3389,
          3372,
          3351,
          3388,
          3320,
          3404,
          3274,
          3408,
          3406,
          3323,
          7,
          7,
          7,
          7,
          7,
          7,
          20,
          34,
          123,
          122,
          122,
          122,
          131,
          131,
          131,
          131,
          131,
          131,
          131,
          131,
          84,
          84,
          86,
          118,
          122,
          84,
          84,
          84,
          86,
          119,
          120,
          119,
          116,
          149,
          151,
          149,
          146,
          288,
          281,
          284,
          284,
          288,
          286,
          288,
          286,
          284,
          284,
          283,
          55,
          43,
          59,
          59,
          73,
          98,
          98,
          98,
          98,
          42,
          42,
          42,
          42,
          42,
          42,
          42,
          37,
          37,
          37
         ],
         "z": [
          459.2806007239751,
          173.13168648064286,
          174.77568311345314,
          173.16884784160806,
          174.6290914757595,
          173.31660647614342,
          173.2288120530748,
          173.0957657449595,
          173.54458472941286,
          173.14894043358126,
          173.38553655723084,
          20.224193186091735,
          20.760097212529537,
          20.865572279548648,
          21.02688948181912,
          16.93154996183072,
          16.972842455812565,
          17.010221187437708,
          16.96479475076388,
          18.5096537347477,
          18.64786730637189,
          18.81567293394935,
          18.313095505082085,
          16.31784895916427,
          16.399937257552285,
          15.970174630697075,
          16.39437485028537,
          15.903125223840242,
          15.68195282406413,
          17.24865830522968,
          16.95780246279783,
          17.140376580266782,
          16.654923335586478,
          17.146966263883236,
          18.279949756386443,
          17.342825789835114,
          182.55023776537567,
          201.04959544553472,
          201.1830799964353,
          182.42957584266313,
          200.71478269337666,
          198.72693745993175,
          28.764343892477594,
          30.541556839004325,
          188.43930584250916,
          219.2779787828747,
          219.21178723169146,
          36.77339412706598,
          188.2838835516328,
          27.73493180680275,
          25.815208463588213,
          28.803214132142138,
          29.605269505292338,
          21.2360837281147,
          22.860549217794635,
          21.617895526299126,
          23.804150753454834,
          25.454924122508228,
          24.355755878222094,
          226.3008428208591,
          24.375789560988817,
          33.427896439094766,
          27.593777353824876,
          23.49363190845732,
          25.244351793738005,
          209.89699248120445,
          23.49363190845732,
          241.94426547464855,
          243.22708310369083,
          241.48604583514907,
          244.61601567319508,
          300.7339699911885,
          307.2255985738227,
          105.53281494559022,
          316.0090008443,
          83.53174660511559,
          207.45299850761236,
          152.0558452428069,
          136.89571757614175,
          42.429856624380484,
          259.0598696272141,
          258.2435785839788,
          57.61404036788763,
          241.7306025877931,
          243.082666511318,
          243.01872739356745,
          242.65720612302377,
          242.6732775515952,
          242.71494421826182,
          25.2493675848286,
          33.28598396347028,
          223.36428610172456,
          222.6919902646856,
          223.25317135688002,
          222.6782548003791,
          221.11725905671452,
          221.40640402536633,
          221.8706923627606,
          221.66284954975382,
          221.78771983367585,
          221.74953472932634,
          220.58183222044028,
          220.5672478815337,
          184.70078837670567,
          185.1579723376589,
          187.10906945789492,
          220.98479052315741,
          223.87560042084453,
          184.99348493096494,
          185.31157563463844,
          185.64232004000445,
          187.32289739395196,
          221.74640527626207,
          222.8862254730977,
          221.59427381423222,
          219.43308980477127,
          27.418280069676346,
          29.70984633608638,
          26.951491097809797,
          26.130324300114122,
          172.56749210635223,
          178.178224502277,
          177.69092856557262,
          176.97144273486106,
          172.56749210635223,
          178.88297578459546,
          181.67400523909674,
          178.88003289415255,
          176.97144273486106,
          177.69092856557262,
          178.89902900730868,
          25.680832365289085,
          28.496937268974328,
          31.255779320921363,
          26.365853665492235,
          27.000135355837273,
          209.62199847634236,
          209.63949765075083,
          207.62254866031603,
          207.38305194780105,
          233.6885094164431,
          233.46672472065643,
          233.26131878605952,
          233.31527355490826,
          233.78095754603012,
          233.36463756338617,
          233.35139636329555,
          215.99400030944398,
          219.59372074521607,
          220.2632073313892
         ]
        },
        {
         "color": "grey",
         "opacity": 0.5,
         "type": "mesh3d",
         "x": [
          0,
          45000,
          45000,
          45000,
          40000,
          40000,
          40000,
          40000
         ],
         "y": [
          714,
          3389,
          3351,
          3404,
          3274,
          3408,
          3406,
          3323
         ],
         "z": [
          459.2806007239751,
          105.53281494559022,
          83.53174660511559,
          136.89571757614175,
          42.429856624380484,
          259.0598696272141,
          258.2435785839788,
          57.61404036788763
         ]
        }
       ],
       "layout": {
        "autosize": true,
        "scene": {
         "aspectmode": "auto",
         "aspectratio": {
          "x": 1,
          "y": 1,
          "z": 1
         },
         "camera": {
          "center": {
           "x": 0,
           "y": 0,
           "z": 0
          },
          "eye": {
           "x": 1.2500000000000002,
           "y": 1.25,
           "z": 1.25
          },
          "projection": {
           "type": "perspective"
          },
          "up": {
           "x": 0,
           "y": 0,
           "z": 1
          }
         }
        },
        "template": {
         "data": {
          "bar": [
           {
            "error_x": {
             "color": "#2a3f5f"
            },
            "error_y": {
             "color": "#2a3f5f"
            },
            "marker": {
             "line": {
              "color": "#E5ECF6",
              "width": 0.5
             },
             "pattern": {
              "fillmode": "overlay",
              "size": 10,
              "solidity": 0.2
             }
            },
            "type": "bar"
           }
          ],
          "barpolar": [
           {
            "marker": {
             "line": {
              "color": "#E5ECF6",
              "width": 0.5
             },
             "pattern": {
              "fillmode": "overlay",
              "size": 10,
              "solidity": 0.2
             }
            },
            "type": "barpolar"
           }
          ],
          "carpet": [
           {
            "aaxis": {
             "endlinecolor": "#2a3f5f",
             "gridcolor": "white",
             "linecolor": "white",
             "minorgridcolor": "white",
             "startlinecolor": "#2a3f5f"
            },
            "baxis": {
             "endlinecolor": "#2a3f5f",
             "gridcolor": "white",
             "linecolor": "white",
             "minorgridcolor": "white",
             "startlinecolor": "#2a3f5f"
            },
            "type": "carpet"
           }
          ],
          "choropleth": [
           {
            "colorbar": {
             "outlinewidth": 0,
             "ticks": ""
            },
            "type": "choropleth"
           }
          ],
          "contour": [
           {
            "colorbar": {
             "outlinewidth": 0,
             "ticks": ""
            },
            "colorscale": [
             [
              0,
              "#0d0887"
             ],
             [
              0.1111111111111111,
              "#46039f"
             ],
             [
              0.2222222222222222,
              "#7201a8"
             ],
             [
              0.3333333333333333,
              "#9c179e"
             ],
             [
              0.4444444444444444,
              "#bd3786"
             ],
             [
              0.5555555555555556,
              "#d8576b"
             ],
             [
              0.6666666666666666,
              "#ed7953"
             ],
             [
              0.7777777777777778,
              "#fb9f3a"
             ],
             [
              0.8888888888888888,
              "#fdca26"
             ],
             [
              1,
              "#f0f921"
             ]
            ],
            "type": "contour"
           }
          ],
          "contourcarpet": [
           {
            "colorbar": {
             "outlinewidth": 0,
             "ticks": ""
            },
            "type": "contourcarpet"
           }
          ],
          "heatmap": [
           {
            "colorbar": {
             "outlinewidth": 0,
             "ticks": ""
            },
            "colorscale": [
             [
              0,
              "#0d0887"
             ],
             [
              0.1111111111111111,
              "#46039f"
             ],
             [
              0.2222222222222222,
              "#7201a8"
             ],
             [
              0.3333333333333333,
              "#9c179e"
             ],
             [
              0.4444444444444444,
              "#bd3786"
             ],
             [
              0.5555555555555556,
              "#d8576b"
             ],
             [
              0.6666666666666666,
              "#ed7953"
             ],
             [
              0.7777777777777778,
              "#fb9f3a"
             ],
             [
              0.8888888888888888,
              "#fdca26"
             ],
             [
              1,
              "#f0f921"
             ]
            ],
            "type": "heatmap"
           }
          ],
          "heatmapgl": [
           {
            "colorbar": {
             "outlinewidth": 0,
             "ticks": ""
            },
            "colorscale": [
             [
              0,
              "#0d0887"
             ],
             [
              0.1111111111111111,
              "#46039f"
             ],
             [
              0.2222222222222222,
              "#7201a8"
             ],
             [
              0.3333333333333333,
              "#9c179e"
             ],
             [
              0.4444444444444444,
              "#bd3786"
             ],
             [
              0.5555555555555556,
              "#d8576b"
             ],
             [
              0.6666666666666666,
              "#ed7953"
             ],
             [
              0.7777777777777778,
              "#fb9f3a"
             ],
             [
              0.8888888888888888,
              "#fdca26"
             ],
             [
              1,
              "#f0f921"
             ]
            ],
            "type": "heatmapgl"
           }
          ],
          "histogram": [
           {
            "marker": {
             "pattern": {
              "fillmode": "overlay",
              "size": 10,
              "solidity": 0.2
             }
            },
            "type": "histogram"
           }
          ],
          "histogram2d": [
           {
            "colorbar": {
             "outlinewidth": 0,
             "ticks": ""
            },
            "colorscale": [
             [
              0,
              "#0d0887"
             ],
             [
              0.1111111111111111,
              "#46039f"
             ],
             [
              0.2222222222222222,
              "#7201a8"
             ],
             [
              0.3333333333333333,
              "#9c179e"
             ],
             [
              0.4444444444444444,
              "#bd3786"
             ],
             [
              0.5555555555555556,
              "#d8576b"
             ],
             [
              0.6666666666666666,
              "#ed7953"
             ],
             [
              0.7777777777777778,
              "#fb9f3a"
             ],
             [
              0.8888888888888888,
              "#fdca26"
             ],
             [
              1,
              "#f0f921"
             ]
            ],
            "type": "histogram2d"
           }
          ],
          "histogram2dcontour": [
           {
            "colorbar": {
             "outlinewidth": 0,
             "ticks": ""
            },
            "colorscale": [
             [
              0,
              "#0d0887"
             ],
             [
              0.1111111111111111,
              "#46039f"
             ],
             [
              0.2222222222222222,
              "#7201a8"
             ],
             [
              0.3333333333333333,
              "#9c179e"
             ],
             [
              0.4444444444444444,
              "#bd3786"
             ],
             [
              0.5555555555555556,
              "#d8576b"
             ],
             [
              0.6666666666666666,
              "#ed7953"
             ],
             [
              0.7777777777777778,
              "#fb9f3a"
             ],
             [
              0.8888888888888888,
              "#fdca26"
             ],
             [
              1,
              "#f0f921"
             ]
            ],
            "type": "histogram2dcontour"
           }
          ],
          "mesh3d": [
           {
            "colorbar": {
             "outlinewidth": 0,
             "ticks": ""
            },
            "type": "mesh3d"
           }
          ],
          "parcoords": [
           {
            "line": {
             "colorbar": {
              "outlinewidth": 0,
              "ticks": ""
             }
            },
            "type": "parcoords"
           }
          ],
          "pie": [
           {
            "automargin": true,
            "type": "pie"
           }
          ],
          "scatter": [
           {
            "fillpattern": {
             "fillmode": "overlay",
             "size": 10,
             "solidity": 0.2
            },
            "type": "scatter"
           }
          ],
          "scatter3d": [
           {
            "line": {
             "colorbar": {
              "outlinewidth": 0,
              "ticks": ""
             }
            },
            "marker": {
             "colorbar": {
              "outlinewidth": 0,
              "ticks": ""
             }
            },
            "type": "scatter3d"
           }
          ],
          "scattercarpet": [
           {
            "marker": {
             "colorbar": {
              "outlinewidth": 0,
              "ticks": ""
             }
            },
            "type": "scattercarpet"
           }
          ],
          "scattergeo": [
           {
            "marker": {
             "colorbar": {
              "outlinewidth": 0,
              "ticks": ""
             }
            },
            "type": "scattergeo"
           }
          ],
          "scattergl": [
           {
            "marker": {
             "colorbar": {
              "outlinewidth": 0,
              "ticks": ""
             }
            },
            "type": "scattergl"
           }
          ],
          "scattermapbox": [
           {
            "marker": {
             "colorbar": {
              "outlinewidth": 0,
              "ticks": ""
             }
            },
            "type": "scattermapbox"
           }
          ],
          "scatterpolar": [
           {
            "marker": {
             "colorbar": {
              "outlinewidth": 0,
              "ticks": ""
             }
            },
            "type": "scatterpolar"
           }
          ],
          "scatterpolargl": [
           {
            "marker": {
             "colorbar": {
              "outlinewidth": 0,
              "ticks": ""
             }
            },
            "type": "scatterpolargl"
           }
          ],
          "scatterternary": [
           {
            "marker": {
             "colorbar": {
              "outlinewidth": 0,
              "ticks": ""
             }
            },
            "type": "scatterternary"
           }
          ],
          "surface": [
           {
            "colorbar": {
             "outlinewidth": 0,
             "ticks": ""
            },
            "colorscale": [
             [
              0,
              "#0d0887"
             ],
             [
              0.1111111111111111,
              "#46039f"
             ],
             [
              0.2222222222222222,
              "#7201a8"
             ],
             [
              0.3333333333333333,
              "#9c179e"
             ],
             [
              0.4444444444444444,
              "#bd3786"
             ],
             [
              0.5555555555555556,
              "#d8576b"
             ],
             [
              0.6666666666666666,
              "#ed7953"
             ],
             [
              0.7777777777777778,
              "#fb9f3a"
             ],
             [
              0.8888888888888888,
              "#fdca26"
             ],
             [
              1,
              "#f0f921"
             ]
            ],
            "type": "surface"
           }
          ],
          "table": [
           {
            "cells": {
             "fill": {
              "color": "#EBF0F8"
             },
             "line": {
              "color": "white"
             }
            },
            "header": {
             "fill": {
              "color": "#C8D4E3"
             },
             "line": {
              "color": "white"
             }
            },
            "type": "table"
           }
          ]
         },
         "layout": {
          "annotationdefaults": {
           "arrowcolor": "#2a3f5f",
           "arrowhead": 0,
           "arrowwidth": 1
          },
          "autotypenumbers": "strict",
          "coloraxis": {
           "colorbar": {
            "outlinewidth": 0,
            "ticks": ""
           }
          },
          "colorscale": {
           "diverging": [
            [
             0,
             "#8e0152"
            ],
            [
             0.1,
             "#c51b7d"
            ],
            [
             0.2,
             "#de77ae"
            ],
            [
             0.3,
             "#f1b6da"
            ],
            [
             0.4,
             "#fde0ef"
            ],
            [
             0.5,
             "#f7f7f7"
            ],
            [
             0.6,
             "#e6f5d0"
            ],
            [
             0.7,
             "#b8e186"
            ],
            [
             0.8,
             "#7fbc41"
            ],
            [
             0.9,
             "#4d9221"
            ],
            [
             1,
             "#276419"
            ]
           ],
           "sequential": [
            [
             0,
             "#0d0887"
            ],
            [
             0.1111111111111111,
             "#46039f"
            ],
            [
             0.2222222222222222,
             "#7201a8"
            ],
            [
             0.3333333333333333,
             "#9c179e"
            ],
            [
             0.4444444444444444,
             "#bd3786"
            ],
            [
             0.5555555555555556,
             "#d8576b"
            ],
            [
             0.6666666666666666,
             "#ed7953"
            ],
            [
             0.7777777777777778,
             "#fb9f3a"
            ],
            [
             0.8888888888888888,
             "#fdca26"
            ],
            [
             1,
             "#f0f921"
            ]
           ],
           "sequentialminus": [
            [
             0,
             "#0d0887"
            ],
            [
             0.1111111111111111,
             "#46039f"
            ],
            [
             0.2222222222222222,
             "#7201a8"
            ],
            [
             0.3333333333333333,
             "#9c179e"
            ],
            [
             0.4444444444444444,
             "#bd3786"
            ],
            [
             0.5555555555555556,
             "#d8576b"
            ],
            [
             0.6666666666666666,
             "#ed7953"
            ],
            [
             0.7777777777777778,
             "#fb9f3a"
            ],
            [
             0.8888888888888888,
             "#fdca26"
            ],
            [
             1,
             "#f0f921"
            ]
           ]
          },
          "colorway": [
           "#636efa",
           "#EF553B",
           "#00cc96",
           "#ab63fa",
           "#FFA15A",
           "#19d3f3",
           "#FF6692",
           "#B6E880",
           "#FF97FF",
           "#FECB52"
          ],
          "font": {
           "color": "#2a3f5f"
          },
          "geo": {
           "bgcolor": "white",
           "lakecolor": "white",
           "landcolor": "#E5ECF6",
           "showlakes": true,
           "showland": true,
           "subunitcolor": "white"
          },
          "hoverlabel": {
           "align": "left"
          },
          "hovermode": "closest",
          "mapbox": {
           "style": "light"
          },
          "paper_bgcolor": "white",
          "plot_bgcolor": "#E5ECF6",
          "polar": {
           "angularaxis": {
            "gridcolor": "white",
            "linecolor": "white",
            "ticks": ""
           },
           "bgcolor": "#E5ECF6",
           "radialaxis": {
            "gridcolor": "white",
            "linecolor": "white",
            "ticks": ""
           }
          },
          "scene": {
           "xaxis": {
            "backgroundcolor": "#E5ECF6",
            "gridcolor": "white",
            "gridwidth": 2,
            "linecolor": "white",
            "showbackground": true,
            "ticks": "",
            "zerolinecolor": "white"
           },
           "yaxis": {
            "backgroundcolor": "#E5ECF6",
            "gridcolor": "white",
            "gridwidth": 2,
            "linecolor": "white",
            "showbackground": true,
            "ticks": "",
            "zerolinecolor": "white"
           },
           "zaxis": {
            "backgroundcolor": "#E5ECF6",
            "gridcolor": "white",
            "gridwidth": 2,
            "linecolor": "white",
            "showbackground": true,
            "ticks": "",
            "zerolinecolor": "white"
           }
          },
          "shapedefaults": {
           "line": {
            "color": "#2a3f5f"
           }
          },
          "ternary": {
           "aaxis": {
            "gridcolor": "white",
            "linecolor": "white",
            "ticks": ""
           },
           "baxis": {
            "gridcolor": "white",
            "linecolor": "white",
            "ticks": ""
           },
           "bgcolor": "#E5ECF6",
           "caxis": {
            "gridcolor": "white",
            "linecolor": "white",
            "ticks": ""
           }
          },
          "title": {
           "x": 0.05
          },
          "xaxis": {
           "automargin": true,
           "gridcolor": "white",
           "linecolor": "white",
           "ticks": "",
           "title": {
            "standoff": 15
           },
           "zerolinecolor": "white",
           "zerolinewidth": 2
          },
          "yaxis": {
           "automargin": true,
           "gridcolor": "white",
           "linecolor": "white",
           "ticks": "",
           "title": {
            "standoff": 15
           },
           "zerolinecolor": "white",
           "zerolinewidth": 2
          }
         }
        }
       }
      },
      "image/png": "[encoded data removed]",
      "text/html": [
       "<div>                            <div id=\"9a9e61b0-aba4-443b-8528-00c492642038\" class=\"plotly-graph-div\" style=\"height:525px; width:100%;\"></div>            <script type=\"text/javascript\">                require([\"plotly\"], function(Plotly) {                    window.PLOTLYENV=window.PLOTLYENV || {};                                    if (document.getElementById(\"9a9e61b0-aba4-443b-8528-00c492642038\")) {                    Plotly.newPlot(                        \"9a9e61b0-aba4-443b-8528-00c492642038\",                        [{\"marker\":{\"color\":[1,0,0,0,0,0,0,0,0,0,0,0,0,0,0,0,0,0,0,0,0,0,0,0,0,0,0,0,0,0,0,0,0,0,0,0,0,0,0,0,0,0,0,0,0,0,0,0,0,0,0,0,0,0,0,0,0,0,0,0,0,0,0,0,0,0,0,0,0,0,0,0,0,1,0,1,0,0,1,1,1,1,1,0,0,0,0,0,0,0,0,0,0,0,0,0,0,0,0,0,0,0,0,0,0,0,0,0,0,0,0,0,0,0,0,0,0,0,0,0,0,0,0,0,0,0,0,0,0,0,0,0,0,0,0,0,0,0,0,0,0,0,0,0,0,0,0,0,0,0],\"colorscale\":[[0.0,\"#440154\"],[0.1111111111111111,\"#482878\"],[0.2222222222222222,\"#3e4989\"],[0.3333333333333333,\"#31688e\"],[0.4444444444444444,\"#26828e\"],[0.5555555555555556,\"#1f9e89\"],[0.6666666666666666,\"#35b779\"],[0.7777777777777778,\"#6ece58\"],[0.8888888888888888,\"#b5de2b\"],[1.0,\"#fde725\"]],\"opacity\":0.8,\"size\":5},\"mode\":\"markers\",\"x\":[0.0,0.0,0.0,0.0,0.0,0.0,0.0,0.0,0.0,0.0,0.0,10000.0,10000.0,10000.0,10000.0,30000.0,30000.0,30000.0,30000.0,5000.0,5000.0,5000.0,5000.0,75000.0,75000.0,75000.0,75000.0,75000.0,75000.0,55000.0,55000.0,55000.0,55000.0,55000.0,55000.0,55000.0,55000.0,55000.0,55000.0,55000.0,55000.0,55000.0,65000.0,45000.0,50000.0,5000.0,5000.0,45000.0,50000.0,5000.0,5000.0,5000.0,5000.0,70000.0,70000.0,50000.0,65000.0,65000.0,45000.0,45000.0,45000.0,5000.0,5000.0,45000.0,45000.0,40000.0,50000.0,0.0,0.0,0.0,0.0,45000.0,45000.0,45000.0,45000.0,45000.0,45000.0,45000.0,45000.0,40000.0,40000.0,40000.0,40000.0,5000.0,5000.0,5000.0,5000.0,5000.0,5000.0,5000.0,5000.0,10000.0,10000.0,10000.0,10000.0,15000.0,15000.0,15000.0,15000.0,15000.0,15000.0,15000.0,15000.0,30000.0,30000.0,30000.0,10000.0,10000.0,30000.0,30000.0,30000.0,30000.0,10000.0,10000.0,10000.0,10000.0,10000.0,10000.0,10000.0,10000.0,5000.0,5000.0,5000.0,5000.0,10000.0,10000.0,10000.0,10000.0,10000.0,10000.0,10000.0,0.0,0.0,0.0,0.0,0.0,5000.0,5000.0,5000.0,5000.0,5000.0,5000.0,5000.0,5000.0,5000.0,5000.0,5000.0,45000.0,45000.0,45000.0],\"y\":[714.0,368.0,369.0,367.0,369.0,365.0,368.0,367.0,363.0,367.0,368.0,154.0,154.0,154.0,154.0,110.0,110.0,110.0,109.0,153.0,153.0,153.0,152.0,111.0,97.0,97.0,97.0,96.0,97.0,117.0,109.0,109.0,109.0,109.0,117.0,117.0,87.0,104.0,104.0,87.0,104.0,105.0,310.0,338.0,97.0,36.0,36.0,341.0,97.0,76.0,70.0,73.0,75.0,111.0,110.0,139.0,138.0,138.0,123.0,39.0,123.0,76.0,74.0,122.0,122.0,35.0,122.0,94.0,95.0,94.0,94.0,3370.0,3371.0,3389.0,3372.0,3351.0,3388.0,3320.0,3404.0,3274.0,3408.0,3406.0,3323.0,7.0,7.0,7.0,7.0,7.0,7.0,20.0,34.0,123.0,122.0,122.0,122.0,131.0,131.0,131.0,131.0,131.0,131.0,131.0,131.0,84.0,84.0,86.0,118.0,122.0,84.0,84.0,84.0,86.0,119.0,120.0,119.0,116.0,149.0,151.0,149.0,146.0,288.0,281.0,284.0,284.0,288.0,286.0,288.0,286.0,284.0,284.0,283.0,55.0,43.0,59.0,59.0,73.0,98.0,98.0,98.0,98.0,42.0,42.0,42.0,42.0,42.0,42.0,42.0,37.0,37.0,37.0],\"z\":[459.2806007239751,173.13168648064286,174.77568311345314,173.16884784160806,174.6290914757595,173.31660647614342,173.2288120530748,173.0957657449595,173.54458472941286,173.14894043358126,173.38553655723084,20.224193186091735,20.760097212529537,20.865572279548648,21.02688948181912,16.93154996183072,16.972842455812565,17.010221187437708,16.96479475076388,18.5096537347477,18.64786730637189,18.81567293394935,18.313095505082085,16.31784895916427,16.399937257552285,15.970174630697075,16.39437485028537,15.903125223840242,15.68195282406413,17.24865830522968,16.95780246279783,17.140376580266782,16.654923335586478,17.146966263883236,18.279949756386443,17.342825789835114,182.55023776537567,201.04959544553472,201.1830799964353,182.42957584266313,200.71478269337666,198.72693745993175,28.764343892477594,30.541556839004325,188.43930584250916,219.2779787828747,219.21178723169146,36.77339412706598,188.2838835516328,27.73493180680275,25.815208463588213,28.803214132142138,29.605269505292338,21.2360837281147,22.860549217794635,21.617895526299126,23.804150753454834,25.454924122508228,24.355755878222094,226.3008428208591,24.375789560988817,33.427896439094766,27.593777353824876,23.49363190845732,25.244351793738005,209.89699248120445,23.49363190845732,241.94426547464855,243.22708310369083,241.48604583514907,244.61601567319508,300.7339699911885,307.2255985738227,105.53281494559022,316.0090008443,83.53174660511559,207.45299850761236,152.0558452428069,136.89571757614175,42.429856624380484,259.0598696272141,258.2435785839788,57.61404036788763,241.7306025877931,243.082666511318,243.01872739356745,242.65720612302377,242.6732775515952,242.71494421826182,25.2493675848286,33.28598396347028,223.36428610172456,222.6919902646856,223.25317135688002,222.6782548003791,221.11725905671452,221.40640402536633,221.8706923627606,221.66284954975382,221.78771983367585,221.74953472932634,220.58183222044028,220.5672478815337,184.70078837670567,185.1579723376589,187.10906945789492,220.98479052315741,223.87560042084453,184.99348493096494,185.31157563463844,185.64232004000445,187.32289739395196,221.74640527626207,222.8862254730977,221.59427381423222,219.43308980477127,27.418280069676346,29.70984633608638,26.951491097809797,26.130324300114122,172.56749210635223,178.178224502277,177.69092856557262,176.97144273486106,172.56749210635223,178.88297578459546,181.67400523909674,178.88003289415255,176.97144273486106,177.69092856557262,178.89902900730868,25.680832365289085,28.496937268974328,31.255779320921363,26.365853665492235,27.000135355837273,209.62199847634236,209.63949765075083,207.62254866031603,207.38305194780105,233.6885094164431,233.46672472065643,233.26131878605952,233.31527355490826,233.78095754603012,233.36463756338617,233.35139636329555,215.99400030944398,219.59372074521607,220.2632073313892],\"type\":\"scatter3d\"},{\"color\":\"grey\",\"opacity\":0.5,\"x\":[0.0,45000.0,45000.0,45000.0,40000.0,40000.0,40000.0,40000.0],\"y\":[714.0,3389.0,3351.0,3404.0,3274.0,3408.0,3406.0,3323.0],\"z\":[459.2806007239751,105.53281494559022,83.53174660511559,136.89571757614175,42.429856624380484,259.0598696272141,258.2435785839788,57.61404036788763],\"type\":\"mesh3d\"}],                        {\"template\":{\"data\":{\"histogram2dcontour\":[{\"type\":\"histogram2dcontour\",\"colorbar\":{\"outlinewidth\":0,\"ticks\":\"\"},\"colorscale\":[[0.0,\"#0d0887\"],[0.1111111111111111,\"#46039f\"],[0.2222222222222222,\"#7201a8\"],[0.3333333333333333,\"#9c179e\"],[0.4444444444444444,\"#bd3786\"],[0.5555555555555556,\"#d8576b\"],[0.6666666666666666,\"#ed7953\"],[0.7777777777777778,\"#fb9f3a\"],[0.8888888888888888,\"#fdca26\"],[1.0,\"#f0f921\"]]}],\"choropleth\":[{\"type\":\"choropleth\",\"colorbar\":{\"outlinewidth\":0,\"ticks\":\"\"}}],\"histogram2d\":[{\"type\":\"histogram2d\",\"colorbar\":{\"outlinewidth\":0,\"ticks\":\"\"},\"colorscale\":[[0.0,\"#0d0887\"],[0.1111111111111111,\"#46039f\"],[0.2222222222222222,\"#7201a8\"],[0.3333333333333333,\"#9c179e\"],[0.4444444444444444,\"#bd3786\"],[0.5555555555555556,\"#d8576b\"],[0.6666666666666666,\"#ed7953\"],[0.7777777777777778,\"#fb9f3a\"],[0.8888888888888888,\"#fdca26\"],[1.0,\"#f0f921\"]]}],\"heatmap\":[{\"type\":\"heatmap\",\"colorbar\":{\"outlinewidth\":0,\"ticks\":\"\"},\"colorscale\":[[0.0,\"#0d0887\"],[0.1111111111111111,\"#46039f\"],[0.2222222222222222,\"#7201a8\"],[0.3333333333333333,\"#9c179e\"],[0.4444444444444444,\"#bd3786\"],[0.5555555555555556,\"#d8576b\"],[0.6666666666666666,\"#ed7953\"],[0.7777777777777778,\"#fb9f3a\"],[0.8888888888888888,\"#fdca26\"],[1.0,\"#f0f921\"]]}],\"heatmapgl\":[{\"type\":\"heatmapgl\",\"colorbar\":{\"outlinewidth\":0,\"ticks\":\"\"},\"colorscale\":[[0.0,\"#0d0887\"],[0.1111111111111111,\"#46039f\"],[0.2222222222222222,\"#7201a8\"],[0.3333333333333333,\"#9c179e\"],[0.4444444444444444,\"#bd3786\"],[0.5555555555555556,\"#d8576b\"],[0.6666666666666666,\"#ed7953\"],[0.7777777777777778,\"#fb9f3a\"],[0.8888888888888888,\"#fdca26\"],[1.0,\"#f0f921\"]]}],\"contourcarpet\":[{\"type\":\"contourcarpet\",\"colorbar\":{\"outlinewidth\":0,\"ticks\":\"\"}}],\"contour\":[{\"type\":\"contour\",\"colorbar\":{\"outlinewidth\":0,\"ticks\":\"\"},\"colorscale\":[[0.0,\"#0d0887\"],[0.1111111111111111,\"#46039f\"],[0.2222222222222222,\"#7201a8\"],[0.3333333333333333,\"#9c179e\"],[0.4444444444444444,\"#bd3786\"],[0.5555555555555556,\"#d8576b\"],[0.6666666666666666,\"#ed7953\"],[0.7777777777777778,\"#fb9f3a\"],[0.8888888888888888,\"#fdca26\"],[1.0,\"#f0f921\"]]}],\"surface\":[{\"type\":\"surface\",\"colorbar\":{\"outlinewidth\":0,\"ticks\":\"\"},\"colorscale\":[[0.0,\"#0d0887\"],[0.1111111111111111,\"#46039f\"],[0.2222222222222222,\"#7201a8\"],[0.3333333333333333,\"#9c179e\"],[0.4444444444444444,\"#bd3786\"],[0.5555555555555556,\"#d8576b\"],[0.6666666666666666,\"#ed7953\"],[0.7777777777777778,\"#fb9f3a\"],[0.8888888888888888,\"#fdca26\"],[1.0,\"#f0f921\"]]}],\"mesh3d\":[{\"type\":\"mesh3d\",\"colorbar\":{\"outlinewidth\":0,\"ticks\":\"\"}}],\"scatter\":[{\"fillpattern\":{\"fillmode\":\"overlay\",\"size\":10,\"solidity\":0.2},\"type\":\"scatter\"}],\"parcoords\":[{\"type\":\"parcoords\",\"line\":{\"colorbar\":{\"outlinewidth\":0,\"ticks\":\"\"}}}],\"scatterpolargl\":[{\"type\":\"scatterpolargl\",\"marker\":{\"colorbar\":{\"outlinewidth\":0,\"ticks\":\"\"}}}],\"bar\":[{\"error_x\":{\"color\":\"#2a3f5f\"},\"error_y\":{\"color\":\"#2a3f5f\"},\"marker\":{\"line\":{\"color\":\"#E5ECF6\",\"width\":0.5},\"pattern\":{\"fillmode\":\"overlay\",\"size\":10,\"solidity\":0.2}},\"type\":\"bar\"}],\"scattergeo\":[{\"type\":\"scattergeo\",\"marker\":{\"colorbar\":{\"outlinewidth\":0,\"ticks\":\"\"}}}],\"scatterpolar\":[{\"type\":\"scatterpolar\",\"marker\":{\"colorbar\":{\"outlinewidth\":0,\"ticks\":\"\"}}}],\"histogram\":[{\"marker\":{\"pattern\":{\"fillmode\":\"overlay\",\"size\":10,\"solidity\":0.2}},\"type\":\"histogram\"}],\"scattergl\":[{\"type\":\"scattergl\",\"marker\":{\"colorbar\":{\"outlinewidth\":0,\"ticks\":\"\"}}}],\"scatter3d\":[{\"type\":\"scatter3d\",\"line\":{\"colorbar\":{\"outlinewidth\":0,\"ticks\":\"\"}},\"marker\":{\"colorbar\":{\"outlinewidth\":0,\"ticks\":\"\"}}}],\"scattermapbox\":[{\"type\":\"scattermapbox\",\"marker\":{\"colorbar\":{\"outlinewidth\":0,\"ticks\":\"\"}}}],\"scatterternary\":[{\"type\":\"scatterternary\",\"marker\":{\"colorbar\":{\"outlinewidth\":0,\"ticks\":\"\"}}}],\"scattercarpet\":[{\"type\":\"scattercarpet\",\"marker\":{\"colorbar\":{\"outlinewidth\":0,\"ticks\":\"\"}}}],\"carpet\":[{\"aaxis\":{\"endlinecolor\":\"#2a3f5f\",\"gridcolor\":\"white\",\"linecolor\":\"white\",\"minorgridcolor\":\"white\",\"startlinecolor\":\"#2a3f5f\"},\"baxis\":{\"endlinecolor\":\"#2a3f5f\",\"gridcolor\":\"white\",\"linecolor\":\"white\",\"minorgridcolor\":\"white\",\"startlinecolor\":\"#2a3f5f\"},\"type\":\"carpet\"}],\"table\":[{\"cells\":{\"fill\":{\"color\":\"#EBF0F8\"},\"line\":{\"color\":\"white\"}},\"header\":{\"fill\":{\"color\":\"#C8D4E3\"},\"line\":{\"color\":\"white\"}},\"type\":\"table\"}],\"barpolar\":[{\"marker\":{\"line\":{\"color\":\"#E5ECF6\",\"width\":0.5},\"pattern\":{\"fillmode\":\"overlay\",\"size\":10,\"solidity\":0.2}},\"type\":\"barpolar\"}],\"pie\":[{\"automargin\":true,\"type\":\"pie\"}]},\"layout\":{\"autotypenumbers\":\"strict\",\"colorway\":[\"#636efa\",\"#EF553B\",\"#00cc96\",\"#ab63fa\",\"#FFA15A\",\"#19d3f3\",\"#FF6692\",\"#B6E880\",\"#FF97FF\",\"#FECB52\"],\"font\":{\"color\":\"#2a3f5f\"},\"hovermode\":\"closest\",\"hoverlabel\":{\"align\":\"left\"},\"paper_bgcolor\":\"white\",\"plot_bgcolor\":\"#E5ECF6\",\"polar\":{\"bgcolor\":\"#E5ECF6\",\"angularaxis\":{\"gridcolor\":\"white\",\"linecolor\":\"white\",\"ticks\":\"\"},\"radialaxis\":{\"gridcolor\":\"white\",\"linecolor\":\"white\",\"ticks\":\"\"}},\"ternary\":{\"bgcolor\":\"#E5ECF6\",\"aaxis\":{\"gridcolor\":\"white\",\"linecolor\":\"white\",\"ticks\":\"\"},\"baxis\":{\"gridcolor\":\"white\",\"linecolor\":\"white\",\"ticks\":\"\"},\"caxis\":{\"gridcolor\":\"white\",\"linecolor\":\"white\",\"ticks\":\"\"}},\"coloraxis\":{\"colorbar\":{\"outlinewidth\":0,\"ticks\":\"\"}},\"colorscale\":{\"sequential\":[[0.0,\"#0d0887\"],[0.1111111111111111,\"#46039f\"],[0.2222222222222222,\"#7201a8\"],[0.3333333333333333,\"#9c179e\"],[0.4444444444444444,\"#bd3786\"],[0.5555555555555556,\"#d8576b\"],[0.6666666666666666,\"#ed7953\"],[0.7777777777777778,\"#fb9f3a\"],[0.8888888888888888,\"#fdca26\"],[1.0,\"#f0f921\"]],\"sequentialminus\":[[0.0,\"#0d0887\"],[0.1111111111111111,\"#46039f\"],[0.2222222222222222,\"#7201a8\"],[0.3333333333333333,\"#9c179e\"],[0.4444444444444444,\"#bd3786\"],[0.5555555555555556,\"#d8576b\"],[0.6666666666666666,\"#ed7953\"],[0.7777777777777778,\"#fb9f3a\"],[0.8888888888888888,\"#fdca26\"],[1.0,\"#f0f921\"]],\"diverging\":[[0,\"#8e0152\"],[0.1,\"#c51b7d\"],[0.2,\"#de77ae\"],[0.3,\"#f1b6da\"],[0.4,\"#fde0ef\"],[0.5,\"#f7f7f7\"],[0.6,\"#e6f5d0\"],[0.7,\"#b8e186\"],[0.8,\"#7fbc41\"],[0.9,\"#4d9221\"],[1,\"#276419\"]]},\"xaxis\":{\"gridcolor\":\"white\",\"linecolor\":\"white\",\"ticks\":\"\",\"title\":{\"standoff\":15},\"zerolinecolor\":\"white\",\"automargin\":true,\"zerolinewidth\":2},\"yaxis\":{\"gridcolor\":\"white\",\"linecolor\":\"white\",\"ticks\":\"\",\"title\":{\"standoff\":15},\"zerolinecolor\":\"white\",\"automargin\":true,\"zerolinewidth\":2},\"scene\":{\"xaxis\":{\"backgroundcolor\":\"#E5ECF6\",\"gridcolor\":\"white\",\"linecolor\":\"white\",\"showbackground\":true,\"ticks\":\"\",\"zerolinecolor\":\"white\",\"gridwidth\":2},\"yaxis\":{\"backgroundcolor\":\"#E5ECF6\",\"gridcolor\":\"white\",\"linecolor\":\"white\",\"showbackground\":true,\"ticks\":\"\",\"zerolinecolor\":\"white\",\"gridwidth\":2},\"zaxis\":{\"backgroundcolor\":\"#E5ECF6\",\"gridcolor\":\"white\",\"linecolor\":\"white\",\"showbackground\":true,\"ticks\":\"\",\"zerolinecolor\":\"white\",\"gridwidth\":2}},\"shapedefaults\":{\"line\":{\"color\":\"#2a3f5f\"}},\"annotationdefaults\":{\"arrowcolor\":\"#2a3f5f\",\"arrowhead\":0,\"arrowwidth\":1},\"geo\":{\"bgcolor\":\"white\",\"landcolor\":\"#E5ECF6\",\"subunitcolor\":\"white\",\"showland\":true,\"showlakes\":true,\"lakecolor\":\"white\"},\"title\":{\"x\":0.05},\"mapbox\":{\"style\":\"light\"}}}},                        {\"responsive\": true}                    ).then(function(){\n",
       "                            \n",
       "var gd = document.getElementById('9a9e61b0-aba4-443b-8528-00c492642038');\n",
       "var x = new MutationObserver(function (mutations, observer) {{\n",
       "        var display = window.getComputedStyle(gd).display;\n",
       "        if (!display || display === 'none') {{\n",
       "            console.log([gd, 'removed!']);\n",
       "            Plotly.purge(gd);\n",
       "            observer.disconnect();\n",
       "        }}\n",
       "}});\n",
       "\n",
       "// Listen for the removal of the full notebook cells\n",
       "var notebookContainer = gd.closest('#notebook-container');\n",
       "if (notebookContainer) {{\n",
       "    x.observe(notebookContainer, {childList: true});\n",
       "}}\n",
       "\n",
       "// Listen for the clearing of the current output cell\n",
       "var outputEl = gd.closest('.output');\n",
       "if (outputEl) {{\n",
       "    x.observe(outputEl, {childList: true});\n",
       "}}\n",
       "\n",
       "                        })                };                });            </script>        </div>"
      ]
     },
     "metadata": {},
     "output_type": "display_data"
    }
   ],
   "source": [
    "import plotly.graph_objects as go\n",
    "import numpy as np\n",
    "\n",
    "x = df['cost']\n",
    "y = df['throughput']\n",
    "z = df['throughput_time']\n",
    "is_efficient = df['is_efficient'].astype(int)\n",
    "\n",
    "data = [go.Scatter3d(x=x, y=y, z=z,\n",
    "                                   mode='markers', marker=dict(\n",
    "        size=5,\n",
    "        color=is_efficient,                # set color to an array/list of desired values\n",
    "        colorscale='Viridis',   # choose a colorscale\n",
    "        opacity=0.8\n",
    "    ))]\n",
    "\n",
    "df_efficient = df.loc[df['is_efficient']]\n",
    "\n",
    "x2 = df_efficient['cost']\n",
    "y2 = df_efficient['throughput']\n",
    "z2 = df_efficient['throughput_time']\n",
    "\n",
    "data.append(go.Mesh3d(x=x2, y=y2, z=z2, color='grey', opacity=0.5))\n",
    "fig = go.Figure(data=data)\n",
    "fig.show()"
   ]
  },
  {
   "cell_type": "code",
   "execution_count": 139,
   "id": "111415c9-3bc1-4e9b-8916-ed8e6b6cfb85",
   "metadata": {},
   "outputs": [],
   "source": [
    "df = pd.DataFrame(new_data)\n",
    "df = df.T"
   ]
  },
  {
   "cell_type": "code",
   "execution_count": 140,
   "id": "3b2a4aae-c7c9-4b95-af01-d23dc0430e26",
   "metadata": {},
   "outputs": [],
   "source": [
    "df = df.loc[df[\"agg_fitness\"] > -50000]\n",
    "# df = df.loc[df['Generation'] > 10]"
   ]
  },
  {
   "cell_type": "code",
   "execution_count": 45,
   "id": "d9ce7f2a-4a90-43df-867a-3f8b82c56ed1",
   "metadata": {},
   "outputs": [],
   "source": [
    "grouped = df.groupby(by=\"Generation\")\n",
    "mean_values = grouped[\"agg_fitness\"].mean()\n",
    "std_values = grouped[\"agg_fitness\"].std()\n",
    "max_values = grouped[\"agg_fitness\"].max()"
   ]
  },
  {
   "cell_type": "code",
   "execution_count": 46,
   "id": "7efdb687-030e-4aed-9c41-e9d627a96764",
   "metadata": {},
   "outputs": [],
   "source": [
    "import plotly.graph_objects as go\n",
    "from copy import copy"
   ]
  },
  {
   "cell_type": "code",
   "execution_count": 47,
   "id": "b7147c8f-cd1b-497c-a7a8-a3cc3880f035",
   "metadata": {},
   "outputs": [],
   "source": [
    "def hex_to_rgba(h, alpha):\n",
    "    '''\n",
    "    converts color value in hex format to rgba format with alpha transparency\n",
    "    '''\n",
    "    return tuple([int(h.lstrip('#')[i:i+2], 16) for i in (0, 2, 4)] + [alpha])"
   ]
  },
  {
   "cell_type": "code",
   "execution_count": 48,
   "id": "035e0d66-4cbb-4b64-b9c1-c43e9b2ea947",
   "metadata": {},
   "outputs": [
    {
     "data": {
      "application/vnd.plotly.v1+json": {
       "config": {
        "plotlyServerURL": "https://plot.ly"
       },
       "data": [
        {
         "line": {
          "color": "#316395"
         },
         "mode": "lines",
         "name": "mean fitness",
         "type": "scatter",
         "x": [
          0,
          1,
          2,
          3,
          4,
          5,
          6,
          7,
          8,
          9,
          10,
          11,
          12,
          13,
          14,
          15,
          16,
          17,
          18,
          19
         ],
         "y": [
          -2177.634804566706,
          -2092.4223436764923,
          -2059.306024429688,
          -1709.9012568271926,
          -1374.2807054923676,
          -1352.4916933651773,
          -1284.1689119945727,
          -1445.0438328833873,
          -1260.9008914762305,
          -1147.8913465733617,
          -1231.5800078903849,
          -1388.395472956018,
          -1073.7989884677809,
          -1136.8858755390868,
          -926.7509327498983,
          -1193.0682082272585,
          -969.3396678070897,
          -973.7396684760839,
          -834.4202048870351,
          -764.689229221953
         ]
        },
        {
         "line": {
          "color": "#316395",
          "dash": "dash"
         },
         "mode": "lines",
         "name": "upper fitness",
         "showlegend": false,
         "type": "scatter",
         "x": [
          0,
          1,
          2,
          3,
          4,
          5,
          6,
          7,
          8,
          9,
          10,
          11,
          12,
          13,
          14,
          15,
          16,
          17,
          18,
          19
         ],
         "y": [
          -3114.2241747981316,
          -3096.2417420184775,
          -3089.7442199486773,
          -2814.1703538544507,
          -2575.1870275488486,
          -2576.750327937887,
          -2504.4509550859025,
          -2644.247280101089,
          -2414.3736585529077,
          -2339.9823340404682,
          -2436.5256886985353,
          -2604.5020099080866,
          -2216.96407409121,
          -2245.6855572791637,
          -2027.789352097323,
          -2281.0917277626922,
          -2063.441895915796,
          -2067.3104784087695,
          -1894.9602290832531,
          -1799.4005213019632
         ]
        },
        {
         "fill": "tonexty",
         "fillcolor": "rgba(49, 99, 149, 0.2)",
         "line": {
          "color": "#316395",
          "dash": "dash"
         },
         "mode": "lines",
         "name": "lower fitness",
         "showlegend": false,
         "type": "scatter",
         "x": [
          0,
          1,
          2,
          3,
          4,
          5,
          6,
          7,
          8,
          9,
          10,
          11,
          12,
          13,
          14,
          15,
          16,
          17,
          18,
          19
         ],
         "y": [
          -1241.0454343352806,
          -1088.6029453345072,
          -1028.8678289106988,
          -605.6321597999345,
          -173.37438343588656,
          -128.23305879246777,
          -63.886868903242885,
          -245.84038566568574,
          -107.42812439955355,
          44.19964089374503,
          -26.63432708223445,
          -172.28893600394917,
          69.36609715564805,
          -28.086193799009607,
          174.28748659752637,
          -105.04468869182483,
          124.76256030161676,
          119.83114145660181,
          226.11981930918284,
          270.022062858057
         ]
        },
        {
         "line": {
          "color": "#B82E2E"
         },
         "mode": "lines",
         "name": "max fitness",
         "type": "scatter",
         "x": [
          0,
          1,
          2,
          3,
          4,
          5,
          6,
          7,
          8,
          9,
          10,
          11,
          12,
          13,
          14,
          15,
          16,
          17,
          18,
          19
         ],
         "y": [
          196.5275897584011,
          196.5275897584011,
          198.7979464443359,
          198.7979464443359,
          198.7979464443359,
          203.56764990886356,
          209.2807745822912,
          209.2807745822912,
          209.2807745822912,
          209.2807745822912,
          209.2807745822912,
          209.2807745822912,
          209.2807745822912,
          209.2807745822912,
          209.2807745822912,
          209.2807745822912,
          209.2807745822912,
          209.2807745822912,
          209.2807745822912,
          209.2807745822912
         ]
        }
       ],
       "layout": {
        "autosize": true,
        "template": {
         "data": {
          "bar": [
           {
            "error_x": {
             "color": "#2a3f5f"
            },
            "error_y": {
             "color": "#2a3f5f"
            },
            "marker": {
             "line": {
              "color": "#E5ECF6",
              "width": 0.5
             },
             "pattern": {
              "fillmode": "overlay",
              "size": 10,
              "solidity": 0.2
             }
            },
            "type": "bar"
           }
          ],
          "barpolar": [
           {
            "marker": {
             "line": {
              "color": "#E5ECF6",
              "width": 0.5
             },
             "pattern": {
              "fillmode": "overlay",
              "size": 10,
              "solidity": 0.2
             }
            },
            "type": "barpolar"
           }
          ],
          "carpet": [
           {
            "aaxis": {
             "endlinecolor": "#2a3f5f",
             "gridcolor": "white",
             "linecolor": "white",
             "minorgridcolor": "white",
             "startlinecolor": "#2a3f5f"
            },
            "baxis": {
             "endlinecolor": "#2a3f5f",
             "gridcolor": "white",
             "linecolor": "white",
             "minorgridcolor": "white",
             "startlinecolor": "#2a3f5f"
            },
            "type": "carpet"
           }
          ],
          "choropleth": [
           {
            "colorbar": {
             "outlinewidth": 0,
             "ticks": ""
            },
            "type": "choropleth"
           }
          ],
          "contour": [
           {
            "colorbar": {
             "outlinewidth": 0,
             "ticks": ""
            },
            "colorscale": [
             [
              0,
              "#0d0887"
             ],
             [
              0.1111111111111111,
              "#46039f"
             ],
             [
              0.2222222222222222,
              "#7201a8"
             ],
             [
              0.3333333333333333,
              "#9c179e"
             ],
             [
              0.4444444444444444,
              "#bd3786"
             ],
             [
              0.5555555555555556,
              "#d8576b"
             ],
             [
              0.6666666666666666,
              "#ed7953"
             ],
             [
              0.7777777777777778,
              "#fb9f3a"
             ],
             [
              0.8888888888888888,
              "#fdca26"
             ],
             [
              1,
              "#f0f921"
             ]
            ],
            "type": "contour"
           }
          ],
          "contourcarpet": [
           {
            "colorbar": {
             "outlinewidth": 0,
             "ticks": ""
            },
            "type": "contourcarpet"
           }
          ],
          "heatmap": [
           {
            "colorbar": {
             "outlinewidth": 0,
             "ticks": ""
            },
            "colorscale": [
             [
              0,
              "#0d0887"
             ],
             [
              0.1111111111111111,
              "#46039f"
             ],
             [
              0.2222222222222222,
              "#7201a8"
             ],
             [
              0.3333333333333333,
              "#9c179e"
             ],
             [
              0.4444444444444444,
              "#bd3786"
             ],
             [
              0.5555555555555556,
              "#d8576b"
             ],
             [
              0.6666666666666666,
              "#ed7953"
             ],
             [
              0.7777777777777778,
              "#fb9f3a"
             ],
             [
              0.8888888888888888,
              "#fdca26"
             ],
             [
              1,
              "#f0f921"
             ]
            ],
            "type": "heatmap"
           }
          ],
          "heatmapgl": [
           {
            "colorbar": {
             "outlinewidth": 0,
             "ticks": ""
            },
            "colorscale": [
             [
              0,
              "#0d0887"
             ],
             [
              0.1111111111111111,
              "#46039f"
             ],
             [
              0.2222222222222222,
              "#7201a8"
             ],
             [
              0.3333333333333333,
              "#9c179e"
             ],
             [
              0.4444444444444444,
              "#bd3786"
             ],
             [
              0.5555555555555556,
              "#d8576b"
             ],
             [
              0.6666666666666666,
              "#ed7953"
             ],
             [
              0.7777777777777778,
              "#fb9f3a"
             ],
             [
              0.8888888888888888,
              "#fdca26"
             ],
             [
              1,
              "#f0f921"
             ]
            ],
            "type": "heatmapgl"
           }
          ],
          "histogram": [
           {
            "marker": {
             "pattern": {
              "fillmode": "overlay",
              "size": 10,
              "solidity": 0.2
             }
            },
            "type": "histogram"
           }
          ],
          "histogram2d": [
           {
            "colorbar": {
             "outlinewidth": 0,
             "ticks": ""
            },
            "colorscale": [
             [
              0,
              "#0d0887"
             ],
             [
              0.1111111111111111,
              "#46039f"
             ],
             [
              0.2222222222222222,
              "#7201a8"
             ],
             [
              0.3333333333333333,
              "#9c179e"
             ],
             [
              0.4444444444444444,
              "#bd3786"
             ],
             [
              0.5555555555555556,
              "#d8576b"
             ],
             [
              0.6666666666666666,
              "#ed7953"
             ],
             [
              0.7777777777777778,
              "#fb9f3a"
             ],
             [
              0.8888888888888888,
              "#fdca26"
             ],
             [
              1,
              "#f0f921"
             ]
            ],
            "type": "histogram2d"
           }
          ],
          "histogram2dcontour": [
           {
            "colorbar": {
             "outlinewidth": 0,
             "ticks": ""
            },
            "colorscale": [
             [
              0,
              "#0d0887"
             ],
             [
              0.1111111111111111,
              "#46039f"
             ],
             [
              0.2222222222222222,
              "#7201a8"
             ],
             [
              0.3333333333333333,
              "#9c179e"
             ],
             [
              0.4444444444444444,
              "#bd3786"
             ],
             [
              0.5555555555555556,
              "#d8576b"
             ],
             [
              0.6666666666666666,
              "#ed7953"
             ],
             [
              0.7777777777777778,
              "#fb9f3a"
             ],
             [
              0.8888888888888888,
              "#fdca26"
             ],
             [
              1,
              "#f0f921"
             ]
            ],
            "type": "histogram2dcontour"
           }
          ],
          "mesh3d": [
           {
            "colorbar": {
             "outlinewidth": 0,
             "ticks": ""
            },
            "type": "mesh3d"
           }
          ],
          "parcoords": [
           {
            "line": {
             "colorbar": {
              "outlinewidth": 0,
              "ticks": ""
             }
            },
            "type": "parcoords"
           }
          ],
          "pie": [
           {
            "automargin": true,
            "type": "pie"
           }
          ],
          "scatter": [
           {
            "fillpattern": {
             "fillmode": "overlay",
             "size": 10,
             "solidity": 0.2
            },
            "type": "scatter"
           }
          ],
          "scatter3d": [
           {
            "line": {
             "colorbar": {
              "outlinewidth": 0,
              "ticks": ""
             }
            },
            "marker": {
             "colorbar": {
              "outlinewidth": 0,
              "ticks": ""
             }
            },
            "type": "scatter3d"
           }
          ],
          "scattercarpet": [
           {
            "marker": {
             "colorbar": {
              "outlinewidth": 0,
              "ticks": ""
             }
            },
            "type": "scattercarpet"
           }
          ],
          "scattergeo": [
           {
            "marker": {
             "colorbar": {
              "outlinewidth": 0,
              "ticks": ""
             }
            },
            "type": "scattergeo"
           }
          ],
          "scattergl": [
           {
            "marker": {
             "colorbar": {
              "outlinewidth": 0,
              "ticks": ""
             }
            },
            "type": "scattergl"
           }
          ],
          "scattermapbox": [
           {
            "marker": {
             "colorbar": {
              "outlinewidth": 0,
              "ticks": ""
             }
            },
            "type": "scattermapbox"
           }
          ],
          "scatterpolar": [
           {
            "marker": {
             "colorbar": {
              "outlinewidth": 0,
              "ticks": ""
             }
            },
            "type": "scatterpolar"
           }
          ],
          "scatterpolargl": [
           {
            "marker": {
             "colorbar": {
              "outlinewidth": 0,
              "ticks": ""
             }
            },
            "type": "scatterpolargl"
           }
          ],
          "scatterternary": [
           {
            "marker": {
             "colorbar": {
              "outlinewidth": 0,
              "ticks": ""
             }
            },
            "type": "scatterternary"
           }
          ],
          "surface": [
           {
            "colorbar": {
             "outlinewidth": 0,
             "ticks": ""
            },
            "colorscale": [
             [
              0,
              "#0d0887"
             ],
             [
              0.1111111111111111,
              "#46039f"
             ],
             [
              0.2222222222222222,
              "#7201a8"
             ],
             [
              0.3333333333333333,
              "#9c179e"
             ],
             [
              0.4444444444444444,
              "#bd3786"
             ],
             [
              0.5555555555555556,
              "#d8576b"
             ],
             [
              0.6666666666666666,
              "#ed7953"
             ],
             [
              0.7777777777777778,
              "#fb9f3a"
             ],
             [
              0.8888888888888888,
              "#fdca26"
             ],
             [
              1,
              "#f0f921"
             ]
            ],
            "type": "surface"
           }
          ],
          "table": [
           {
            "cells": {
             "fill": {
              "color": "#EBF0F8"
             },
             "line": {
              "color": "white"
             }
            },
            "header": {
             "fill": {
              "color": "#C8D4E3"
             },
             "line": {
              "color": "white"
             }
            },
            "type": "table"
           }
          ]
         },
         "layout": {
          "annotationdefaults": {
           "arrowcolor": "#2a3f5f",
           "arrowhead": 0,
           "arrowwidth": 1
          },
          "autotypenumbers": "strict",
          "coloraxis": {
           "colorbar": {
            "outlinewidth": 0,
            "ticks": ""
           }
          },
          "colorscale": {
           "diverging": [
            [
             0,
             "#8e0152"
            ],
            [
             0.1,
             "#c51b7d"
            ],
            [
             0.2,
             "#de77ae"
            ],
            [
             0.3,
             "#f1b6da"
            ],
            [
             0.4,
             "#fde0ef"
            ],
            [
             0.5,
             "#f7f7f7"
            ],
            [
             0.6,
             "#e6f5d0"
            ],
            [
             0.7,
             "#b8e186"
            ],
            [
             0.8,
             "#7fbc41"
            ],
            [
             0.9,
             "#4d9221"
            ],
            [
             1,
             "#276419"
            ]
           ],
           "sequential": [
            [
             0,
             "#0d0887"
            ],
            [
             0.1111111111111111,
             "#46039f"
            ],
            [
             0.2222222222222222,
             "#7201a8"
            ],
            [
             0.3333333333333333,
             "#9c179e"
            ],
            [
             0.4444444444444444,
             "#bd3786"
            ],
            [
             0.5555555555555556,
             "#d8576b"
            ],
            [
             0.6666666666666666,
             "#ed7953"
            ],
            [
             0.7777777777777778,
             "#fb9f3a"
            ],
            [
             0.8888888888888888,
             "#fdca26"
            ],
            [
             1,
             "#f0f921"
            ]
           ],
           "sequentialminus": [
            [
             0,
             "#0d0887"
            ],
            [
             0.1111111111111111,
             "#46039f"
            ],
            [
             0.2222222222222222,
             "#7201a8"
            ],
            [
             0.3333333333333333,
             "#9c179e"
            ],
            [
             0.4444444444444444,
             "#bd3786"
            ],
            [
             0.5555555555555556,
             "#d8576b"
            ],
            [
             0.6666666666666666,
             "#ed7953"
            ],
            [
             0.7777777777777778,
             "#fb9f3a"
            ],
            [
             0.8888888888888888,
             "#fdca26"
            ],
            [
             1,
             "#f0f921"
            ]
           ]
          },
          "colorway": [
           "#636efa",
           "#EF553B",
           "#00cc96",
           "#ab63fa",
           "#FFA15A",
           "#19d3f3",
           "#FF6692",
           "#B6E880",
           "#FF97FF",
           "#FECB52"
          ],
          "font": {
           "color": "#2a3f5f"
          },
          "geo": {
           "bgcolor": "white",
           "lakecolor": "white",
           "landcolor": "#E5ECF6",
           "showlakes": true,
           "showland": true,
           "subunitcolor": "white"
          },
          "hoverlabel": {
           "align": "left"
          },
          "hovermode": "closest",
          "mapbox": {
           "style": "light"
          },
          "paper_bgcolor": "white",
          "plot_bgcolor": "#E5ECF6",
          "polar": {
           "angularaxis": {
            "gridcolor": "white",
            "linecolor": "white",
            "ticks": ""
           },
           "bgcolor": "#E5ECF6",
           "radialaxis": {
            "gridcolor": "white",
            "linecolor": "white",
            "ticks": ""
           }
          },
          "scene": {
           "xaxis": {
            "backgroundcolor": "#E5ECF6",
            "gridcolor": "white",
            "gridwidth": 2,
            "linecolor": "white",
            "showbackground": true,
            "ticks": "",
            "zerolinecolor": "white"
           },
           "yaxis": {
            "backgroundcolor": "#E5ECF6",
            "gridcolor": "white",
            "gridwidth": 2,
            "linecolor": "white",
            "showbackground": true,
            "ticks": "",
            "zerolinecolor": "white"
           },
           "zaxis": {
            "backgroundcolor": "#E5ECF6",
            "gridcolor": "white",
            "gridwidth": 2,
            "linecolor": "white",
            "showbackground": true,
            "ticks": "",
            "zerolinecolor": "white"
           }
          },
          "shapedefaults": {
           "line": {
            "color": "#2a3f5f"
           }
          },
          "ternary": {
           "aaxis": {
            "gridcolor": "white",
            "linecolor": "white",
            "ticks": ""
           },
           "baxis": {
            "gridcolor": "white",
            "linecolor": "white",
            "ticks": ""
           },
           "bgcolor": "#E5ECF6",
           "caxis": {
            "gridcolor": "white",
            "linecolor": "white",
            "ticks": ""
           }
          },
          "title": {
           "x": 0.05
          },
          "xaxis": {
           "automargin": true,
           "gridcolor": "white",
           "linecolor": "white",
           "ticks": "",
           "title": {
            "standoff": 15
           },
           "zerolinecolor": "white",
           "zerolinewidth": 2
          },
          "yaxis": {
           "automargin": true,
           "gridcolor": "white",
           "linecolor": "white",
           "ticks": "",
           "title": {
            "standoff": 15
           },
           "zerolinecolor": "white",
           "zerolinewidth": 2
          }
         }
        },
        "xaxis": {
         "autorange": true,
         "range": [
          0,
          19
         ],
         "type": "linear"
        },
        "yaxis": {
         "autorange": true,
         "range": [
          -3302.2378546679197,
          458.0357427278452
         ],
         "type": "linear"
        }
       }
      },
      "image/png": "[encoded data removed]",
      "text/html": [
       "<div>                            <div id=\"fb18c636-6caa-4f17-938d-6d1c67822f63\" class=\"plotly-graph-div\" style=\"height:525px; width:100%;\"></div>            <script type=\"text/javascript\">                require([\"plotly\"], function(Plotly) {                    window.PLOTLYENV=window.PLOTLYENV || {};                                    if (document.getElementById(\"fb18c636-6caa-4f17-938d-6d1c67822f63\")) {                    Plotly.newPlot(                        \"fb18c636-6caa-4f17-938d-6d1c67822f63\",                        [{\"line\":{\"color\":\"#316395\"},\"mode\":\"lines\",\"name\":\"mean fitness\",\"x\":[0.0,1.0,2.0,3.0,4.0,5.0,6.0,7.0,8.0,9.0,10.0,11.0,12.0,13.0,14.0,15.0,16.0,17.0,18.0,19.0],\"y\":[-2177.634804566706,-2092.4223436764923,-2059.306024429688,-1709.9012568271926,-1374.2807054923676,-1352.4916933651773,-1284.1689119945727,-1445.0438328833873,-1260.9008914762305,-1147.8913465733617,-1231.5800078903849,-1388.395472956018,-1073.7989884677809,-1136.8858755390868,-926.7509327498983,-1193.0682082272585,-969.3396678070897,-973.7396684760839,-834.4202048870351,-764.689229221953],\"type\":\"scatter\"},{\"line\":{\"color\":\"#316395\",\"dash\":\"dash\"},\"mode\":\"lines\",\"name\":\"upper fitness\",\"showlegend\":false,\"x\":[0.0,1.0,2.0,3.0,4.0,5.0,6.0,7.0,8.0,9.0,10.0,11.0,12.0,13.0,14.0,15.0,16.0,17.0,18.0,19.0],\"y\":[-3114.2241747981316,-3096.2417420184775,-3089.7442199486773,-2814.1703538544507,-2575.1870275488486,-2576.750327937887,-2504.4509550859025,-2644.247280101089,-2414.3736585529077,-2339.9823340404682,-2436.5256886985353,-2604.5020099080866,-2216.96407409121,-2245.6855572791637,-2027.789352097323,-2281.0917277626922,-2063.441895915796,-2067.3104784087695,-1894.9602290832531,-1799.4005213019632],\"type\":\"scatter\"},{\"fill\":\"tonexty\",\"fillcolor\":\"rgba(49, 99, 149, 0.2)\",\"line\":{\"color\":\"#316395\",\"dash\":\"dash\"},\"mode\":\"lines\",\"name\":\"lower fitness\",\"showlegend\":false,\"x\":[0.0,1.0,2.0,3.0,4.0,5.0,6.0,7.0,8.0,9.0,10.0,11.0,12.0,13.0,14.0,15.0,16.0,17.0,18.0,19.0],\"y\":[-1241.0454343352806,-1088.6029453345072,-1028.8678289106988,-605.6321597999345,-173.37438343588656,-128.23305879246777,-63.886868903242885,-245.84038566568574,-107.42812439955355,44.19964089374503,-26.63432708223445,-172.28893600394917,69.36609715564805,-28.086193799009607,174.28748659752637,-105.04468869182483,124.76256030161676,119.83114145660181,226.11981930918284,270.022062858057],\"type\":\"scatter\"},{\"line\":{\"color\":\"#B82E2E\"},\"mode\":\"lines\",\"name\":\"max fitness\",\"x\":[0.0,1.0,2.0,3.0,4.0,5.0,6.0,7.0,8.0,9.0,10.0,11.0,12.0,13.0,14.0,15.0,16.0,17.0,18.0,19.0],\"y\":[196.5275897584011,196.5275897584011,198.7979464443359,198.7979464443359,198.7979464443359,203.56764990886356,209.2807745822912,209.2807745822912,209.2807745822912,209.2807745822912,209.2807745822912,209.2807745822912,209.2807745822912,209.2807745822912,209.2807745822912,209.2807745822912,209.2807745822912,209.2807745822912,209.2807745822912,209.2807745822912],\"type\":\"scatter\"}],                        {\"template\":{\"data\":{\"histogram2dcontour\":[{\"type\":\"histogram2dcontour\",\"colorbar\":{\"outlinewidth\":0,\"ticks\":\"\"},\"colorscale\":[[0.0,\"#0d0887\"],[0.1111111111111111,\"#46039f\"],[0.2222222222222222,\"#7201a8\"],[0.3333333333333333,\"#9c179e\"],[0.4444444444444444,\"#bd3786\"],[0.5555555555555556,\"#d8576b\"],[0.6666666666666666,\"#ed7953\"],[0.7777777777777778,\"#fb9f3a\"],[0.8888888888888888,\"#fdca26\"],[1.0,\"#f0f921\"]]}],\"choropleth\":[{\"type\":\"choropleth\",\"colorbar\":{\"outlinewidth\":0,\"ticks\":\"\"}}],\"histogram2d\":[{\"type\":\"histogram2d\",\"colorbar\":{\"outlinewidth\":0,\"ticks\":\"\"},\"colorscale\":[[0.0,\"#0d0887\"],[0.1111111111111111,\"#46039f\"],[0.2222222222222222,\"#7201a8\"],[0.3333333333333333,\"#9c179e\"],[0.4444444444444444,\"#bd3786\"],[0.5555555555555556,\"#d8576b\"],[0.6666666666666666,\"#ed7953\"],[0.7777777777777778,\"#fb9f3a\"],[0.8888888888888888,\"#fdca26\"],[1.0,\"#f0f921\"]]}],\"heatmap\":[{\"type\":\"heatmap\",\"colorbar\":{\"outlinewidth\":0,\"ticks\":\"\"},\"colorscale\":[[0.0,\"#0d0887\"],[0.1111111111111111,\"#46039f\"],[0.2222222222222222,\"#7201a8\"],[0.3333333333333333,\"#9c179e\"],[0.4444444444444444,\"#bd3786\"],[0.5555555555555556,\"#d8576b\"],[0.6666666666666666,\"#ed7953\"],[0.7777777777777778,\"#fb9f3a\"],[0.8888888888888888,\"#fdca26\"],[1.0,\"#f0f921\"]]}],\"heatmapgl\":[{\"type\":\"heatmapgl\",\"colorbar\":{\"outlinewidth\":0,\"ticks\":\"\"},\"colorscale\":[[0.0,\"#0d0887\"],[0.1111111111111111,\"#46039f\"],[0.2222222222222222,\"#7201a8\"],[0.3333333333333333,\"#9c179e\"],[0.4444444444444444,\"#bd3786\"],[0.5555555555555556,\"#d8576b\"],[0.6666666666666666,\"#ed7953\"],[0.7777777777777778,\"#fb9f3a\"],[0.8888888888888888,\"#fdca26\"],[1.0,\"#f0f921\"]]}],\"contourcarpet\":[{\"type\":\"contourcarpet\",\"colorbar\":{\"outlinewidth\":0,\"ticks\":\"\"}}],\"contour\":[{\"type\":\"contour\",\"colorbar\":{\"outlinewidth\":0,\"ticks\":\"\"},\"colorscale\":[[0.0,\"#0d0887\"],[0.1111111111111111,\"#46039f\"],[0.2222222222222222,\"#7201a8\"],[0.3333333333333333,\"#9c179e\"],[0.4444444444444444,\"#bd3786\"],[0.5555555555555556,\"#d8576b\"],[0.6666666666666666,\"#ed7953\"],[0.7777777777777778,\"#fb9f3a\"],[0.8888888888888888,\"#fdca26\"],[1.0,\"#f0f921\"]]}],\"surface\":[{\"type\":\"surface\",\"colorbar\":{\"outlinewidth\":0,\"ticks\":\"\"},\"colorscale\":[[0.0,\"#0d0887\"],[0.1111111111111111,\"#46039f\"],[0.2222222222222222,\"#7201a8\"],[0.3333333333333333,\"#9c179e\"],[0.4444444444444444,\"#bd3786\"],[0.5555555555555556,\"#d8576b\"],[0.6666666666666666,\"#ed7953\"],[0.7777777777777778,\"#fb9f3a\"],[0.8888888888888888,\"#fdca26\"],[1.0,\"#f0f921\"]]}],\"mesh3d\":[{\"type\":\"mesh3d\",\"colorbar\":{\"outlinewidth\":0,\"ticks\":\"\"}}],\"scatter\":[{\"fillpattern\":{\"fillmode\":\"overlay\",\"size\":10,\"solidity\":0.2},\"type\":\"scatter\"}],\"parcoords\":[{\"type\":\"parcoords\",\"line\":{\"colorbar\":{\"outlinewidth\":0,\"ticks\":\"\"}}}],\"scatterpolargl\":[{\"type\":\"scatterpolargl\",\"marker\":{\"colorbar\":{\"outlinewidth\":0,\"ticks\":\"\"}}}],\"bar\":[{\"error_x\":{\"color\":\"#2a3f5f\"},\"error_y\":{\"color\":\"#2a3f5f\"},\"marker\":{\"line\":{\"color\":\"#E5ECF6\",\"width\":0.5},\"pattern\":{\"fillmode\":\"overlay\",\"size\":10,\"solidity\":0.2}},\"type\":\"bar\"}],\"scattergeo\":[{\"type\":\"scattergeo\",\"marker\":{\"colorbar\":{\"outlinewidth\":0,\"ticks\":\"\"}}}],\"scatterpolar\":[{\"type\":\"scatterpolar\",\"marker\":{\"colorbar\":{\"outlinewidth\":0,\"ticks\":\"\"}}}],\"histogram\":[{\"marker\":{\"pattern\":{\"fillmode\":\"overlay\",\"size\":10,\"solidity\":0.2}},\"type\":\"histogram\"}],\"scattergl\":[{\"type\":\"scattergl\",\"marker\":{\"colorbar\":{\"outlinewidth\":0,\"ticks\":\"\"}}}],\"scatter3d\":[{\"type\":\"scatter3d\",\"line\":{\"colorbar\":{\"outlinewidth\":0,\"ticks\":\"\"}},\"marker\":{\"colorbar\":{\"outlinewidth\":0,\"ticks\":\"\"}}}],\"scattermapbox\":[{\"type\":\"scattermapbox\",\"marker\":{\"colorbar\":{\"outlinewidth\":0,\"ticks\":\"\"}}}],\"scatterternary\":[{\"type\":\"scatterternary\",\"marker\":{\"colorbar\":{\"outlinewidth\":0,\"ticks\":\"\"}}}],\"scattercarpet\":[{\"type\":\"scattercarpet\",\"marker\":{\"colorbar\":{\"outlinewidth\":0,\"ticks\":\"\"}}}],\"carpet\":[{\"aaxis\":{\"endlinecolor\":\"#2a3f5f\",\"gridcolor\":\"white\",\"linecolor\":\"white\",\"minorgridcolor\":\"white\",\"startlinecolor\":\"#2a3f5f\"},\"baxis\":{\"endlinecolor\":\"#2a3f5f\",\"gridcolor\":\"white\",\"linecolor\":\"white\",\"minorgridcolor\":\"white\",\"startlinecolor\":\"#2a3f5f\"},\"type\":\"carpet\"}],\"table\":[{\"cells\":{\"fill\":{\"color\":\"#EBF0F8\"},\"line\":{\"color\":\"white\"}},\"header\":{\"fill\":{\"color\":\"#C8D4E3\"},\"line\":{\"color\":\"white\"}},\"type\":\"table\"}],\"barpolar\":[{\"marker\":{\"line\":{\"color\":\"#E5ECF6\",\"width\":0.5},\"pattern\":{\"fillmode\":\"overlay\",\"size\":10,\"solidity\":0.2}},\"type\":\"barpolar\"}],\"pie\":[{\"automargin\":true,\"type\":\"pie\"}]},\"layout\":{\"autotypenumbers\":\"strict\",\"colorway\":[\"#636efa\",\"#EF553B\",\"#00cc96\",\"#ab63fa\",\"#FFA15A\",\"#19d3f3\",\"#FF6692\",\"#B6E880\",\"#FF97FF\",\"#FECB52\"],\"font\":{\"color\":\"#2a3f5f\"},\"hovermode\":\"closest\",\"hoverlabel\":{\"align\":\"left\"},\"paper_bgcolor\":\"white\",\"plot_bgcolor\":\"#E5ECF6\",\"polar\":{\"bgcolor\":\"#E5ECF6\",\"angularaxis\":{\"gridcolor\":\"white\",\"linecolor\":\"white\",\"ticks\":\"\"},\"radialaxis\":{\"gridcolor\":\"white\",\"linecolor\":\"white\",\"ticks\":\"\"}},\"ternary\":{\"bgcolor\":\"#E5ECF6\",\"aaxis\":{\"gridcolor\":\"white\",\"linecolor\":\"white\",\"ticks\":\"\"},\"baxis\":{\"gridcolor\":\"white\",\"linecolor\":\"white\",\"ticks\":\"\"},\"caxis\":{\"gridcolor\":\"white\",\"linecolor\":\"white\",\"ticks\":\"\"}},\"coloraxis\":{\"colorbar\":{\"outlinewidth\":0,\"ticks\":\"\"}},\"colorscale\":{\"sequential\":[[0.0,\"#0d0887\"],[0.1111111111111111,\"#46039f\"],[0.2222222222222222,\"#7201a8\"],[0.3333333333333333,\"#9c179e\"],[0.4444444444444444,\"#bd3786\"],[0.5555555555555556,\"#d8576b\"],[0.6666666666666666,\"#ed7953\"],[0.7777777777777778,\"#fb9f3a\"],[0.8888888888888888,\"#fdca26\"],[1.0,\"#f0f921\"]],\"sequentialminus\":[[0.0,\"#0d0887\"],[0.1111111111111111,\"#46039f\"],[0.2222222222222222,\"#7201a8\"],[0.3333333333333333,\"#9c179e\"],[0.4444444444444444,\"#bd3786\"],[0.5555555555555556,\"#d8576b\"],[0.6666666666666666,\"#ed7953\"],[0.7777777777777778,\"#fb9f3a\"],[0.8888888888888888,\"#fdca26\"],[1.0,\"#f0f921\"]],\"diverging\":[[0,\"#8e0152\"],[0.1,\"#c51b7d\"],[0.2,\"#de77ae\"],[0.3,\"#f1b6da\"],[0.4,\"#fde0ef\"],[0.5,\"#f7f7f7\"],[0.6,\"#e6f5d0\"],[0.7,\"#b8e186\"],[0.8,\"#7fbc41\"],[0.9,\"#4d9221\"],[1,\"#276419\"]]},\"xaxis\":{\"gridcolor\":\"white\",\"linecolor\":\"white\",\"ticks\":\"\",\"title\":{\"standoff\":15},\"zerolinecolor\":\"white\",\"automargin\":true,\"zerolinewidth\":2},\"yaxis\":{\"gridcolor\":\"white\",\"linecolor\":\"white\",\"ticks\":\"\",\"title\":{\"standoff\":15},\"zerolinecolor\":\"white\",\"automargin\":true,\"zerolinewidth\":2},\"scene\":{\"xaxis\":{\"backgroundcolor\":\"#E5ECF6\",\"gridcolor\":\"white\",\"linecolor\":\"white\",\"showbackground\":true,\"ticks\":\"\",\"zerolinecolor\":\"white\",\"gridwidth\":2},\"yaxis\":{\"backgroundcolor\":\"#E5ECF6\",\"gridcolor\":\"white\",\"linecolor\":\"white\",\"showbackground\":true,\"ticks\":\"\",\"zerolinecolor\":\"white\",\"gridwidth\":2},\"zaxis\":{\"backgroundcolor\":\"#E5ECF6\",\"gridcolor\":\"white\",\"linecolor\":\"white\",\"showbackground\":true,\"ticks\":\"\",\"zerolinecolor\":\"white\",\"gridwidth\":2}},\"shapedefaults\":{\"line\":{\"color\":\"#2a3f5f\"}},\"annotationdefaults\":{\"arrowcolor\":\"#2a3f5f\",\"arrowhead\":0,\"arrowwidth\":1},\"geo\":{\"bgcolor\":\"white\",\"landcolor\":\"#E5ECF6\",\"subunitcolor\":\"white\",\"showland\":true,\"showlakes\":true,\"lakecolor\":\"white\"},\"title\":{\"x\":0.05},\"mapbox\":{\"style\":\"light\"}}}},                        {\"responsive\": true}                    ).then(function(){\n",
       "                            \n",
       "var gd = document.getElementById('fb18c636-6caa-4f17-938d-6d1c67822f63');\n",
       "var x = new MutationObserver(function (mutations, observer) {{\n",
       "        var display = window.getComputedStyle(gd).display;\n",
       "        if (!display || display === 'none') {{\n",
       "            console.log([gd, 'removed!']);\n",
       "            Plotly.purge(gd);\n",
       "            observer.disconnect();\n",
       "        }}\n",
       "}});\n",
       "\n",
       "// Listen for the removal of the full notebook cells\n",
       "var notebookContainer = gd.closest('#notebook-container');\n",
       "if (notebookContainer) {{\n",
       "    x.observe(notebookContainer, {childList: true});\n",
       "}}\n",
       "\n",
       "// Listen for the clearing of the current output cell\n",
       "var outputEl = gd.closest('.output');\n",
       "if (outputEl) {{\n",
       "    x.observe(outputEl, {childList: true});\n",
       "}}\n",
       "\n",
       "                        })                };                });            </script>        </div>"
      ]
     },
     "metadata": {},
     "output_type": "display_data"
    }
   ],
   "source": [
    "fig = go.Figure()        \n",
    "colors = copy(px.colors.qualitative.G10)\n",
    "color=colors.pop()\n",
    "fig.add_scatter(\n",
    "    name=\"mean fitness\",\n",
    "    x=mean_values.index,\n",
    "    y=mean_values,\n",
    "    mode=\"lines\",\n",
    "    line=dict(color=color)\n",
    "            )\n",
    "fig.add_scatter(\n",
    "    name=\"upper fitness\",\n",
    "    x=mean_values.index,\n",
    "    y=mean_values - std_values,\n",
    "    mode=\"lines\",\n",
    "    line=dict(dash='dash', color=color), showlegend=False\n",
    "            )\n",
    "fig.add_scatter(\n",
    "    name=\"lower fitness\",\n",
    "    x=mean_values.index,\n",
    "    y=mean_values + std_values,\n",
    "    mode=\"lines\",\n",
    "    line=dict(dash='dash', color=color),\n",
    "    fill=\"tonexty\",\n",
    "    fillcolor='rgba' + str(hex_to_rgba(color, 0.2)), showlegend=False\n",
    ")\n",
    "fig.add_scatter(\n",
    "    name=\"max fitness\",\n",
    "    x=mean_values.index,\n",
    "    y=max_values,\n",
    "    mode=\"lines\",\n",
    "    line=dict(color=colors.pop())\n",
    ")\n",
    "\n",
    "fig.show()"
   ]
  },
  {
   "cell_type": "code",
   "execution_count": null,
   "id": "6acca8cb-7213-4b49-a5a7-11b6d79a4afa",
   "metadata": {},
   "outputs": [],
   "source": []
  },
  {
   "cell_type": "code",
   "execution_count": null,
   "id": "96d3f7a4-9507-4814-aa61-0a6fa41c2848",
   "metadata": {},
   "outputs": [],
   "source": []
  },
  {
   "cell_type": "code",
   "execution_count": null,
   "id": "34b04615-fb1f-4fd8-8104-aec6635c9a2e",
   "metadata": {},
   "outputs": [],
   "source": []
  },
  {
   "cell_type": "code",
   "execution_count": null,
   "id": "dc3e50b1-0f64-40b4-b5da-ecd45b6c6eb5",
   "metadata": {},
   "outputs": [],
   "source": []
  }
 ],
 "metadata": {
  "kernelspec": {
   "display_name": "data_mining",
   "language": "python",
   "name": "data_mining"
  },
  "language_info": {
   "codemirror_mode": {
    "name": "ipython",
    "version": 3
   },
   "file_extension": ".py",
   "mimetype": "text/x-python",
   "name": "python",
   "nbconvert_exporter": "python",
   "pygments_lexer": "ipython3",
   "version": "3.9.12"
  }
 },
 "nbformat": 4,
 "nbformat_minor": 5
}
