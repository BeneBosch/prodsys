{
 "cells": [
  {
   "cell_type": "code",
   "execution_count": 79,
   "id": "cfc9dfbd-924e-46ea-84d7-95dcd4f09d2b",
   "metadata": {},
   "outputs": [],
   "source": [
    "import pandas as pd\n",
    "import json\n",
    "import plotly\n",
    "import plotly.graph_objects as go\n",
    "import numpy as np\n",
    "from copy import copy"
   ]
  },
  {
   "cell_type": "code",
   "execution_count": 80,
   "id": "85770c5d-b837-45ab-9b97-07b08834e630",
   "metadata": {},
   "outputs": [],
   "source": [
    "import plotly.io as pio\n",
    "pio.renderers.default = 'browser'"
   ]
  },
  {
   "cell_type": "code",
   "execution_count": 81,
   "id": "98f9b2e8-6bd8-4fa4-b5d4-fa515abe954e",
   "metadata": {},
   "outputs": [],
   "source": [
    "def read_json_file(filepath: str, label: str) -> pd.DataFrame:\n",
    "    with open(filepath) as json_file:\n",
    "        data = json.load(json_file)\n",
    "    new_data = {}\n",
    "    row_number = 1\n",
    "    for generation, values in data.items():\n",
    "        for individual, individual_values in values.items():\n",
    "            if \"agg_fitness\" in individual_values.keys():\n",
    "                new_data.update({str(row_number): {\"Generation\": int(generation), \"population_number\": int(individual), \n",
    "                                           \"agg_fitness\": individual_values[\"agg_fitness\"],\n",
    "                                           \"cost\": individual_values[\"fitness\"][3],\n",
    "                                           \"throughput_time\": individual_values[\"fitness\"][2],\n",
    "                                           \"throughput\": individual_values[\"fitness\"][0],\n",
    "                                           \"wip\": individual_values[\"fitness\"][1],\n",
    "                                            \"time\": individual_values[\"time_stamp\"]\n",
    "                                          }})\n",
    "                row_number += 1\n",
    "    df = pd.DataFrame(new_data)\n",
    "    df = df.T\n",
    "    df[\"optimizer\"] = label\n",
    "    if label == 'anneal':\n",
    "        df['agg_fitness'] = -1 * df['agg_fitness']\n",
    "    df['agg_fitness'] = 0.1 * df['throughput'] - 1.0*df['wip'] - 0.005 * df['cost']\n",
    "    return df.copy()"
   ]
  },
  {
   "cell_type": "code",
   "execution_count": 82,
   "id": "4a305c63-1485-4c80-8a7d-0b0305148bb0",
   "metadata": {},
   "outputs": [],
   "source": [
    "anneal = \"anneal_results.json\"\n",
    "tabu = \"tabu_results.json\"\n",
    "ea =\"ea_results.json\""
   ]
  },
  {
   "cell_type": "code",
   "execution_count": 83,
   "id": "2b91790d-d597-4b32-88f2-e2ac211de945",
   "metadata": {},
   "outputs": [],
   "source": [
    "dfs = []\n",
    "dfs.append(read_json_file(anneal, \"anneal\"))\n",
    "dfs.append(read_json_file(ea, \"ea\"))\n",
    "dfs.append(read_json_file(tabu, \"tabu\"))\n",
    "df = pd.concat(dfs)"
   ]
  },
  {
   "cell_type": "code",
   "execution_count": 84,
   "id": "83c784f4-b62a-414a-9e09-206249d07a0d",
   "metadata": {},
   "outputs": [
    {
     "data": {
      "text/html": [
       "<div>\n",
       "<style scoped>\n",
       "    .dataframe tbody tr th:only-of-type {\n",
       "        vertical-align: middle;\n",
       "    }\n",
       "\n",
       "    .dataframe tbody tr th {\n",
       "        vertical-align: top;\n",
       "    }\n",
       "\n",
       "    .dataframe thead th {\n",
       "        text-align: right;\n",
       "    }\n",
       "</style>\n",
       "<table border=\"1\" class=\"dataframe\">\n",
       "  <thead>\n",
       "    <tr style=\"text-align: right;\">\n",
       "      <th></th>\n",
       "      <th>Generation</th>\n",
       "      <th>population_number</th>\n",
       "      <th>agg_fitness</th>\n",
       "      <th>cost</th>\n",
       "      <th>throughput_time</th>\n",
       "      <th>throughput</th>\n",
       "      <th>wip</th>\n",
       "      <th>time</th>\n",
       "      <th>optimizer</th>\n",
       "    </tr>\n",
       "  </thead>\n",
       "  <tbody>\n",
       "    <tr>\n",
       "      <th>1</th>\n",
       "      <td>0.0</td>\n",
       "      <td>0.0</td>\n",
       "      <td>-400.905682</td>\n",
       "      <td>0.0</td>\n",
       "      <td>459.280601</td>\n",
       "      <td>714.0</td>\n",
       "      <td>472.305682</td>\n",
       "      <td>3.699530</td>\n",
       "      <td>anneal</td>\n",
       "    </tr>\n",
       "    <tr>\n",
       "      <th>2</th>\n",
       "      <td>0.0</td>\n",
       "      <td>1.0</td>\n",
       "      <td>-1314.575505</td>\n",
       "      <td>0.0</td>\n",
       "      <td>205.265928</td>\n",
       "      <td>105.0</td>\n",
       "      <td>1325.075505</td>\n",
       "      <td>5.740410</td>\n",
       "      <td>anneal</td>\n",
       "    </tr>\n",
       "    <tr>\n",
       "      <th>3</th>\n",
       "      <td>0.0</td>\n",
       "      <td>2.0</td>\n",
       "      <td>-1421.002988</td>\n",
       "      <td>40000.0</td>\n",
       "      <td>212.840650</td>\n",
       "      <td>107.0</td>\n",
       "      <td>1231.702988</td>\n",
       "      <td>7.713980</td>\n",
       "      <td>anneal</td>\n",
       "    </tr>\n",
       "    <tr>\n",
       "      <th>4</th>\n",
       "      <td>0.0</td>\n",
       "      <td>3.0</td>\n",
       "      <td>-1421.002988</td>\n",
       "      <td>40000.0</td>\n",
       "      <td>212.840650</td>\n",
       "      <td>107.0</td>\n",
       "      <td>1231.702988</td>\n",
       "      <td>9.883787</td>\n",
       "      <td>anneal</td>\n",
       "    </tr>\n",
       "    <tr>\n",
       "      <th>5</th>\n",
       "      <td>0.0</td>\n",
       "      <td>4.0</td>\n",
       "      <td>-1474.560934</td>\n",
       "      <td>35000.0</td>\n",
       "      <td>212.840650</td>\n",
       "      <td>107.0</td>\n",
       "      <td>1310.260934</td>\n",
       "      <td>11.649347</td>\n",
       "      <td>anneal</td>\n",
       "    </tr>\n",
       "  </tbody>\n",
       "</table>\n",
       "</div>"
      ],
      "text/plain": [
       "   Generation  population_number  agg_fitness     cost  throughput_time  \\\n",
       "1         0.0                0.0  -400.905682      0.0       459.280601   \n",
       "2         0.0                1.0 -1314.575505      0.0       205.265928   \n",
       "3         0.0                2.0 -1421.002988  40000.0       212.840650   \n",
       "4         0.0                3.0 -1421.002988  40000.0       212.840650   \n",
       "5         0.0                4.0 -1474.560934  35000.0       212.840650   \n",
       "\n",
       "   throughput          wip       time optimizer  \n",
       "1       714.0   472.305682   3.699530    anneal  \n",
       "2       105.0  1325.075505   5.740410    anneal  \n",
       "3       107.0  1231.702988   7.713980    anneal  \n",
       "4       107.0  1231.702988   9.883787    anneal  \n",
       "5       107.0  1310.260934  11.649347    anneal  "
      ]
     },
     "execution_count": 84,
     "metadata": {},
     "output_type": "execute_result"
    }
   ],
   "source": [
    "df.head()"
   ]
  },
  {
   "cell_type": "code",
   "execution_count": 85,
   "id": "543c762c-9d28-438d-880f-43bd0bafd9bb",
   "metadata": {},
   "outputs": [],
   "source": [
    "df = df.drop_duplicates(subset=['agg_fitness', 'cost', 'throughput', 'throughput_time', 'wip', 'optimizer'])\n",
    "# df = df.loc[df[\"agg_fitness\"] > -50000]\n",
    "# df = df.loc[df[\"agg_fitness\"] < 100000]"
   ]
  },
  {
   "cell_type": "code",
   "execution_count": 86,
   "id": "64d4be67-1407-46d8-b35c-22a4dd5c279a",
   "metadata": {},
   "outputs": [],
   "source": [
    "def is_pareto_efficient_simple(costs):\n",
    "    \"\"\"\n",
    "    Find the pareto-efficient points\n",
    "    :param costs: An (n_points, n_costs) array\n",
    "    :return: A (n_points, ) boolean array, indicating whether each point is Pareto efficient\n",
    "    \"\"\"\n",
    "    is_efficient = np.ones(costs.shape[0], dtype = bool)\n",
    "    for i, c in enumerate(costs):\n",
    "        if is_efficient[i]:\n",
    "            is_efficient[is_efficient] = np.any(costs[is_efficient]<c, axis=1)  # Keep any point with a lower cost\n",
    "            is_efficient[i] = True  # And keep self\n",
    "    return is_efficient\n",
    "\n",
    "# Faster than is_pareto_efficient_simple, but less readable.\n",
    "def is_pareto_efficient(costs, return_mask = True):\n",
    "    \"\"\"\n",
    "    Find the pareto-efficient points\n",
    "    :param costs: An (n_points, n_costs) array\n",
    "    :param return_mask: True to return a mask\n",
    "    :return: An array of indices of pareto-efficient points.\n",
    "        If return_mask is True, this will be an (n_points, ) boolean array\n",
    "        Otherwise it will be a (n_efficient_points, ) integer array of indices.\n",
    "    \"\"\"\n",
    "    is_efficient = np.arange(costs.shape[0])\n",
    "    n_points = costs.shape[0]\n",
    "    next_point_index = 0  # Next index in the is_efficient array to search for\n",
    "    while next_point_index<len(costs):\n",
    "        nondominated_point_mask = np.any(costs<costs[next_point_index], axis=1)\n",
    "        nondominated_point_mask[next_point_index] = True\n",
    "        is_efficient = is_efficient[nondominated_point_mask]  # Remove dominated points\n",
    "        costs = costs[nondominated_point_mask]\n",
    "        next_point_index = np.sum(nondominated_point_mask[:next_point_index])+1\n",
    "    if return_mask:\n",
    "        is_efficient_mask = np.zeros(n_points, dtype = bool)\n",
    "        is_efficient_mask[is_efficient] = True\n",
    "        return is_efficient_mask\n",
    "    else:\n",
    "        return is_efficient"
   ]
  },
  {
   "cell_type": "code",
   "execution_count": 87,
   "id": "bd267e4a-84e9-474a-92d9-bf1a13f7ae67",
   "metadata": {},
   "outputs": [],
   "source": [
    "df[\"cost\"] = df[\"cost\"].astype(float)\n",
    "df[\"agg_fitness\"] = df[\"agg_fitness\"].astype(float)"
   ]
  },
  {
   "cell_type": "code",
   "execution_count": 88,
   "id": "fdc55cc5-7da7-455f-9a09-85f0c92543d2",
   "metadata": {},
   "outputs": [],
   "source": [
    "df = df.loc[df[\"wip\"] < 150]\n",
    "df = df.loc[df[\"throughput\"] > 2500]\n",
    "df = df.loc[df[\"throughput_time\"] < 100]"
   ]
  },
  {
   "cell_type": "code",
   "execution_count": 89,
   "id": "9e3e3fa4-b211-4a75-98b6-1b2fd2d7ffc4",
   "metadata": {},
   "outputs": [
    {
     "name": "stdout",
     "output_type": "stream",
     "text": [
      "1929\n"
     ]
    }
   ],
   "source": [
    "print(len(df))"
   ]
  },
  {
   "cell_type": "code",
   "execution_count": 90,
   "id": "46e68639-75f5-4607-8875-384ab131d5bb",
   "metadata": {},
   "outputs": [],
   "source": [
    "columns = ['cost', 'throughput', 'wip']\n",
    "# columns = ['throughput_time', 'throughput']\n",
    "df_for_pareto = df[columns].copy()\n",
    "df_for_pareto['throughput'] = -df_for_pareto['throughput']"
   ]
  },
  {
   "cell_type": "code",
   "execution_count": 91,
   "id": "8b41623a-8b6a-4042-be71-e444aaaa0e23",
   "metadata": {},
   "outputs": [],
   "source": [
    "is_efficient = is_pareto_efficient(df_for_pareto.values)\n",
    "df['is_efficient'] = is_efficient"
   ]
  },
  {
   "cell_type": "code",
   "execution_count": 92,
   "id": "df2804d4-9f0d-428f-a643-de9337d1ba8b",
   "metadata": {},
   "outputs": [
    {
     "data": {
      "text/plain": [
       "73"
      ]
     },
     "execution_count": 92,
     "metadata": {},
     "output_type": "execute_result"
    }
   ],
   "source": [
    "df['is_efficient'].sum()"
   ]
  },
  {
   "cell_type": "code",
   "execution_count": 93,
   "id": "2101779a-2a18-4cd6-8dde-ddc30f44d305",
   "metadata": {},
   "outputs": [],
   "source": [
    "import plotly.express as px\n",
    "\n",
    "fig = px.scatter(df, x='time', y='agg_fitness', hover_data=['cost', 'Generation', 'population_number', 'agg_fitness'],\n",
    "              color=df['cost'], color_continuous_scale=px.colors.sequential.Viridis, symbol='optimizer')\n",
    "fig.show()"
   ]
  },
  {
   "cell_type": "code",
   "execution_count": 94,
   "id": "33f15b2f-de43-4a77-b3c8-3773a7dbbfba",
   "metadata": {},
   "outputs": [],
   "source": [
    "import plotly.express as px\n",
    "\n",
    "fig = px.scatter(df, x='time', y='agg_fitness', hover_data=['cost', 'Generation', 'population_number', 'agg_fitness'],\n",
    "              color=df['optimizer'], color_continuous_scale=px.colors.sequential.Viridis)\n",
    "fig.show()"
   ]
  },
  {
   "cell_type": "code",
   "execution_count": 95,
   "id": "1e98f139-3981-44d1-b684-742860f08e4d",
   "metadata": {},
   "outputs": [],
   "source": [
    "import plotly.express as px\n",
    "\n",
    "fig = px.scatter(df, x='throughput', y='wip', hover_data=['cost', 'Generation', 'population_number', 'agg_fitness'],\n",
    "              color=df['cost'], color_continuous_scale=px.colors.sequential.Viridis, symbol='optimizer')\n",
    "fig.show()"
   ]
  },
  {
   "cell_type": "code",
   "execution_count": 96,
   "id": "336527a2-a055-4852-bfde-061064f1e0be",
   "metadata": {},
   "outputs": [],
   "source": [
    "def mesh3d(df, efficient_df):\n",
    "    x = df['cost']\n",
    "    y = df['throughput']\n",
    "    z = df['wip']\n",
    "    is_efficient = df['is_efficient'].astype(int)\n",
    "\n",
    "    data = [go.Scatter3d(x=x, y=y, z=z,\n",
    "                                       mode='markers', marker=dict(\n",
    "            size=5,\n",
    "            color=is_efficient,                # set color to an array/list of desired values\n",
    "            # colorscale='PRGn',   # choose a colorscale\n",
    "            # colorscale='Portland', \n",
    "            colorscale='Geyser',\n",
    "            opacity=0.6,\n",
    "        ))]\n",
    "\n",
    "    x2 = efficient_df['cost']\n",
    "    y2 = efficient_df['throughput']\n",
    "    z2 = efficient_df['wip']\n",
    "    intensity = efficient_df['agg_fitness']\n",
    "\n",
    "    data.append(go.Mesh3d(x=x2, y=y2, z=z2, color='grey', intensity=intensity, colorscale=\"Darkmint\", opacity=0.95))\n",
    "    data.reverse()\n",
    "    fig = go.Figure(data=data)\n",
    "    camera = dict(\n",
    "        up=dict(x=1, y=0, z=0.5),\n",
    "        center=dict(x=0, y=0, z=0),\n",
    "        eye=dict(x=1.25, y=-1.25, z=1.25)\n",
    "    )\n",
    "\n",
    "    fig.update_layout(scene_camera=camera)\n",
    "    fig.update_layout(\n",
    "        scene = dict(\n",
    "            xaxis = dict(nticks=4, range=[-1000,100000],),\n",
    "            yaxis = dict(nticks=4, range=[3200,3500],),\n",
    "            zaxis = dict(nticks=4, range=[0,40],),),\n",
    "        # width=700,\n",
    "        # margin=dict(r=20, l=10, b=10, t=10)\n",
    "    )\n",
    "    fig.show()"
   ]
  },
  {
   "cell_type": "code",
   "execution_count": 97,
   "id": "b79ef44c-fa49-4202-a2dc-be04987c15ef",
   "metadata": {},
   "outputs": [],
   "source": [
    "df_efficient = df.loc[df['is_efficient']]\n",
    "\n",
    "mesh3d(df, df_efficient)\n",
    "mesh3d(df.loc[df['optimizer'] == 'ea'], df_efficient)\n",
    "mesh3d(df.loc[df['optimizer'] == 'anneal'], df_efficient)\n",
    "mesh3d(df.loc[df['optimizer'] == 'tabu'], df_efficient)"
   ]
  },
  {
   "cell_type": "code",
   "execution_count": 98,
   "id": "f802a1ab-2c98-4e77-a707-c0499a4f30d9",
   "metadata": {},
   "outputs": [
    {
     "data": {
      "text/html": [
       "<div>\n",
       "<style scoped>\n",
       "    .dataframe tbody tr th:only-of-type {\n",
       "        vertical-align: middle;\n",
       "    }\n",
       "\n",
       "    .dataframe tbody tr th {\n",
       "        vertical-align: top;\n",
       "    }\n",
       "\n",
       "    .dataframe thead th {\n",
       "        text-align: right;\n",
       "    }\n",
       "</style>\n",
       "<table border=\"1\" class=\"dataframe\">\n",
       "  <thead>\n",
       "    <tr style=\"text-align: right;\">\n",
       "      <th></th>\n",
       "      <th>agg_fitness</th>\n",
       "      <th>cost</th>\n",
       "      <th>throughput_time</th>\n",
       "      <th>throughput</th>\n",
       "      <th>wip</th>\n",
       "      <th>red_is_efficient</th>\n",
       "    </tr>\n",
       "  </thead>\n",
       "  <tbody>\n",
       "    <tr>\n",
       "      <th>1383</th>\n",
       "      <td>61.478723</td>\n",
       "      <td>55000.0</td>\n",
       "      <td>25.183302</td>\n",
       "      <td>3475.0</td>\n",
       "      <td>11.021277</td>\n",
       "      <td>True</td>\n",
       "    </tr>\n",
       "    <tr>\n",
       "      <th>1396</th>\n",
       "      <td>110.730507</td>\n",
       "      <td>45000.0</td>\n",
       "      <td>26.216839</td>\n",
       "      <td>3472.0</td>\n",
       "      <td>11.469493</td>\n",
       "      <td>True</td>\n",
       "    </tr>\n",
       "    <tr>\n",
       "      <th>1553</th>\n",
       "      <td>251.656825</td>\n",
       "      <td>10000.0</td>\n",
       "      <td>86.381684</td>\n",
       "      <td>3398.0</td>\n",
       "      <td>38.143175</td>\n",
       "      <td>True</td>\n",
       "    </tr>\n",
       "    <tr>\n",
       "      <th>1559</th>\n",
       "      <td>164.417297</td>\n",
       "      <td>30000.0</td>\n",
       "      <td>55.353773</td>\n",
       "      <td>3371.0</td>\n",
       "      <td>22.682703</td>\n",
       "      <td>True</td>\n",
       "    </tr>\n",
       "    <tr>\n",
       "      <th>1565</th>\n",
       "      <td>250.993656</td>\n",
       "      <td>10000.0</td>\n",
       "      <td>99.042031</td>\n",
       "      <td>3418.0</td>\n",
       "      <td>40.806344</td>\n",
       "      <td>True</td>\n",
       "    </tr>\n",
       "    <tr>\n",
       "      <th>...</th>\n",
       "      <td>...</td>\n",
       "      <td>...</td>\n",
       "      <td>...</td>\n",
       "      <td>...</td>\n",
       "      <td>...</td>\n",
       "      <td>...</td>\n",
       "    </tr>\n",
       "    <tr>\n",
       "      <th>2312</th>\n",
       "      <td>90.499916</td>\n",
       "      <td>50000.0</td>\n",
       "      <td>26.799177</td>\n",
       "      <td>3525.0</td>\n",
       "      <td>12.000084</td>\n",
       "      <td>True</td>\n",
       "    </tr>\n",
       "    <tr>\n",
       "      <th>2313</th>\n",
       "      <td>91.957628</td>\n",
       "      <td>50000.0</td>\n",
       "      <td>27.188191</td>\n",
       "      <td>3542.0</td>\n",
       "      <td>12.242372</td>\n",
       "      <td>True</td>\n",
       "    </tr>\n",
       "    <tr>\n",
       "      <th>2377</th>\n",
       "      <td>128.637832</td>\n",
       "      <td>40000.0</td>\n",
       "      <td>22.497850</td>\n",
       "      <td>3384.0</td>\n",
       "      <td>9.762168</td>\n",
       "      <td>True</td>\n",
       "    </tr>\n",
       "    <tr>\n",
       "      <th>2383</th>\n",
       "      <td>128.108659</td>\n",
       "      <td>40000.0</td>\n",
       "      <td>22.000157</td>\n",
       "      <td>3376.0</td>\n",
       "      <td>9.491341</td>\n",
       "      <td>True</td>\n",
       "    </tr>\n",
       "    <tr>\n",
       "      <th>2414</th>\n",
       "      <td>-84.684705</td>\n",
       "      <td>85000.0</td>\n",
       "      <td>18.365668</td>\n",
       "      <td>3488.0</td>\n",
       "      <td>8.484705</td>\n",
       "      <td>True</td>\n",
       "    </tr>\n",
       "  </tbody>\n",
       "</table>\n",
       "<p>73 rows × 6 columns</p>\n",
       "</div>"
      ],
      "text/plain": [
       "      agg_fitness     cost  throughput_time  throughput        wip  \\\n",
       "1383    61.478723  55000.0        25.183302      3475.0  11.021277   \n",
       "1396   110.730507  45000.0        26.216839      3472.0  11.469493   \n",
       "1553   251.656825  10000.0        86.381684      3398.0  38.143175   \n",
       "1559   164.417297  30000.0        55.353773      3371.0  22.682703   \n",
       "1565   250.993656  10000.0        99.042031      3418.0  40.806344   \n",
       "...           ...      ...              ...         ...        ...   \n",
       "2312    90.499916  50000.0        26.799177      3525.0  12.000084   \n",
       "2313    91.957628  50000.0        27.188191      3542.0  12.242372   \n",
       "2377   128.637832  40000.0        22.497850      3384.0   9.762168   \n",
       "2383   128.108659  40000.0        22.000157      3376.0   9.491341   \n",
       "2414   -84.684705  85000.0        18.365668      3488.0   8.484705   \n",
       "\n",
       "      red_is_efficient  \n",
       "1383              True  \n",
       "1396              True  \n",
       "1553              True  \n",
       "1559              True  \n",
       "1565              True  \n",
       "...                ...  \n",
       "2312              True  \n",
       "2313              True  \n",
       "2377              True  \n",
       "2383              True  \n",
       "2414              True  \n",
       "\n",
       "[73 rows x 6 columns]"
      ]
     },
     "execution_count": 98,
     "metadata": {},
     "output_type": "execute_result"
    }
   ],
   "source": [
    "df_efficient = df.loc[df['is_efficient']]\n",
    "columns = ['agg_fitness', 'cost', 'throughput_time', 'throughput', 'wip', 'is_efficient']\n",
    "df_efficient = df_efficient[columns]\n",
    "df_efficient.rename(columns={'is_efficient': 'red_is_efficient'}, inplace=True)\n",
    "df_efficient"
   ]
  },
  {
   "cell_type": "code",
   "execution_count": 99,
   "id": "8e5fc050-0283-4752-879f-9a5adb598e7c",
   "metadata": {},
   "outputs": [],
   "source": [
    "df = pd.merge(df, df_efficient, how='left')"
   ]
  },
  {
   "cell_type": "code",
   "execution_count": 100,
   "id": "5fc88946-2234-455f-a93a-6f6ec7325f03",
   "metadata": {},
   "outputs": [],
   "source": [
    "is_efficient_cum_sum = df.groupby(by='optimizer')['is_efficient'].cumsum()\n",
    "df['is_efficient_cum_sum'] = is_efficient_cum_sum"
   ]
  },
  {
   "cell_type": "code",
   "execution_count": 101,
   "id": "d014f31f-cf1a-431f-9b03-87280d78d4e0",
   "metadata": {},
   "outputs": [],
   "source": [
    "import plotly.express as px\n",
    "\n",
    "fig = px.scatter(df, x='time', y='is_efficient_cum_sum', hover_data=['cost', 'Generation', 'population_number', 'agg_fitness'],\n",
    "              color=df['optimizer'])\n",
    "fig.show()"
   ]
  },
  {
   "cell_type": "code",
   "execution_count": null,
   "id": "c70cc24e-1805-4781-9d53-3b9adbfd33fd",
   "metadata": {},
   "outputs": [],
   "source": []
  },
  {
   "cell_type": "code",
   "execution_count": 102,
   "id": "111415c9-3bc1-4e9b-8916-ed8e6b6cfb85",
   "metadata": {},
   "outputs": [],
   "source": [
    "dfs = []\n",
    "dfs.append(read_json_file(anneal, \"anneal\"))\n",
    "dfs.append(read_json_file(ea, \"ea\"))\n",
    "dfs.append(read_json_file(tabu, \"tabu\"))\n",
    "df = pd.concat(dfs)"
   ]
  },
  {
   "cell_type": "code",
   "execution_count": 103,
   "id": "3b2a4aae-c7c9-4b95-af01-d23dc0430e26",
   "metadata": {},
   "outputs": [],
   "source": [
    "df = df.loc[df[\"agg_fitness\"] > -50000]\n",
    "# df = df.loc[df['Generation'] > 10]"
   ]
  },
  {
   "cell_type": "code",
   "execution_count": 112,
   "id": "623ecced-316b-448c-b0dd-69db43a0e606",
   "metadata": {},
   "outputs": [],
   "source": [
    "grouped = df.groupby(by=['optimizer'])\n",
    "mean_values = grouped.rolling(200)['agg_fitness'].mean()\n",
    "std_values = grouped.rolling(200)['agg_fitness'].std()\n",
    "max_values = grouped['agg_fitness'].cummax()\n",
    "max_values.index = std_values.index\n",
    "time = grouped['time'].rolling(1).mean()"
   ]
  },
  {
   "cell_type": "code",
   "execution_count": 113,
   "id": "b7147c8f-cd1b-497c-a7a8-a3cc3880f035",
   "metadata": {},
   "outputs": [],
   "source": [
    "def hex_to_rgba(h, alpha):\n",
    "    '''\n",
    "    converts color value in hex format to rgba format with alpha transparency\n",
    "    '''\n",
    "    return tuple([int(h.lstrip('#')[i:i+2], 16) for i in (0, 2, 4)] + [alpha])"
   ]
  },
  {
   "cell_type": "code",
   "execution_count": 114,
   "id": "db4c1c2b-7913-45cf-a3b3-63c1e15205a4",
   "metadata": {},
   "outputs": [],
   "source": [
    "def add_scatter(fig, time, mean_values, std_values, max_values, colors, label):\n",
    "    color = colors.pop()\n",
    "    fig.add_scatter(\n",
    "    name=label + \"mean fitness\",\n",
    "    x=time,\n",
    "    y=mean_values,\n",
    "    mode=\"lines\",\n",
    "    line=dict(color=color)\n",
    "            )\n",
    "    # fig.add_scatter(\n",
    "    #     name=label + \"upper fitness\",\n",
    "    #     x=time,\n",
    "    #     y=mean_values - std_values,\n",
    "    #     mode=\"lines\",\n",
    "    #     line=dict(dash='dash', color=color), showlegend=False\n",
    "    #             )\n",
    "    # fig.add_scatter(\n",
    "    #     name=label + \"lower fitness\",\n",
    "    #     x=time,\n",
    "    #     y=mean_values + std_values,\n",
    "    #     mode=\"lines\",\n",
    "    #     line=dict(dash='dash', color=color),\n",
    "    #     fill=\"tonexty\",\n",
    "    #     fillcolor='rgba' + str(hex_to_rgba(color, 0.2)), showlegend=False\n",
    "    # )\n",
    "    fig.add_scatter(\n",
    "        name=label + \"max fitness\",\n",
    "        x=time,\n",
    "        y=max_values,\n",
    "        mode=\"lines\",\n",
    "        line=dict(color=color, dash='dash')\n",
    "    )"
   ]
  },
  {
   "cell_type": "code",
   "execution_count": 115,
   "id": "204f39dd-346d-4caf-93a4-3a5d23c7c646",
   "metadata": {},
   "outputs": [],
   "source": [
    "fig = go.Figure()        \n",
    "colors = copy(px.colors.qualitative.G10)\n",
    "for optimizer in df['optimizer'].unique():\n",
    "    add_scatter(fig, time[optimizer], mean_values[optimizer], std_values[optimizer], max_values[optimizer], colors, label=optimizer)\n",
    "fig.show()"
   ]
  },
  {
   "cell_type": "code",
   "execution_count": null,
   "id": "6acca8cb-7213-4b49-a5a7-11b6d79a4afa",
   "metadata": {},
   "outputs": [],
   "source": []
  },
  {
   "cell_type": "code",
   "execution_count": null,
   "id": "6761885b-3037-4c57-8404-0c7c741eab6f",
   "metadata": {},
   "outputs": [],
   "source": []
  }
 ],
 "metadata": {
  "kernelspec": {
   "display_name": "data_mining",
   "language": "python",
   "name": "data_mining"
  },
  "language_info": {
   "codemirror_mode": {
    "name": "ipython",
    "version": 3
   },
   "file_extension": ".py",
   "mimetype": "text/x-python",
   "name": "python",
   "nbconvert_exporter": "python",
   "pygments_lexer": "ipython3",
   "version": "3.9.12"
  }
 },
 "nbformat": 4,
 "nbformat_minor": 5
}
