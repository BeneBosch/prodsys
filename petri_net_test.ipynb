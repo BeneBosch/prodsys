{
 "cells": [
  {
   "cell_type": "code",
   "execution_count": 53,
   "metadata": {},
   "outputs": [],
   "source": [
    "import pandas as pd\n",
    "import pm4py\n",
    "from pm4py.objects.petri_net.obj import PetriNet, Marking\n",
    "from pm4py.objects.petri_net.utils.petri_utils import add_arc_from_to\n",
    "import os\n",
    "os.environ[\"PATH\"] += os.pathsep + \"C:/Program Files/Graphviz/bin\""
   ]
  },
  {
   "cell_type": "code",
   "execution_count": 107,
   "metadata": {},
   "outputs": [],
   "source": [
    "from dataclasses import dataclass\n",
    "\n",
    "@dataclass\n",
    "class Process:\n",
    "    name: str\n",
    "    id: int\n",
    "\n",
    "Pr1 = Process(\"P1\", id=1)\n",
    "Pr2 = Process(\"21\", id=200)"
   ]
  },
  {
   "cell_type": "code",
   "execution_count": 129,
   "metadata": {},
   "outputs": [
    {
     "data": {
      "text/plain": [
       "places: [ Sink, Source, State2, State3, State4, State5, State6 ]\n",
       "transitions: [ (P1, 'P1'), (P2, 'P2'), (P3, 'P3'), (P4, 'P1'), (skip_10, None), (skip_11, None) ]\n",
       "arcs: [ (P1, 'P1')->State4, (P2, 'P2')->State5, (P3, 'P3')->State6, (P4, 'P1')->Sink, (skip_10, None)->State4, (skip_11, None)->State2, (skip_11, None)->State3, Source->(P1, 'P1'), Source->(skip_11, None), State2->(P2, 'P2'), State3->(P3, 'P3'), State4->(P4, 'P1'), State5->(skip_10, None), State6->(skip_10, None) ]"
      ]
     },
     "execution_count": 129,
     "metadata": {},
     "output_type": "execute_result"
    }
   ],
   "source": [
    "\n",
    "net = PetriNet(name=\"Material_3_process_model\")\n",
    "\n",
    "\n",
    "T1 = PetriNet.Transition(name='P1', label='P1')\n",
    "T2 = PetriNet.Transition(name='P2', label='P2')\n",
    "T3 = PetriNet.Transition(name='P3', label='P3')\n",
    "T4 = PetriNet.Transition(name='skip_10')\n",
    "T5 = PetriNet.Transition(name='skip_11')\n",
    "T6 = PetriNet.Transition(name='P4', label='P1')\n",
    "\n",
    "P0 = PetriNet.Place(name=\"Source\", properties=\"Source\")\n",
    "P2 = PetriNet.Place(name=\"State2\", properties=\"State2\")\n",
    "P3 = PetriNet.Place(name=\"State3\", properties=\"State3\")\n",
    "P4 = PetriNet.Place(name=\"State4\", properties=\"State4\")\n",
    "P5 = PetriNet.Place(name=\"State5\", properties=\"State5\")\n",
    "P6 = PetriNet.Place(name=\"State6\", properties=\"State6\")\n",
    "P99 = PetriNet.Place(name=\"Sink\", properties=\"Sink\")\n",
    "\n",
    "add_arc_from_to(P0, T1, net)\n",
    "add_arc_from_to(P0, T5, net)\n",
    "add_arc_from_to(T1, P4, net)\n",
    "add_arc_from_to(T5, P2, net)\n",
    "add_arc_from_to(T5, P3, net)\n",
    "add_arc_from_to(P2, T2, net)\n",
    "add_arc_from_to(P3, T3, net)\n",
    "add_arc_from_to(T2, P5, net)\n",
    "add_arc_from_to(T3, P6, net)\n",
    "add_arc_from_to(P5, T4, net)\n",
    "add_arc_from_to(P6, T4, net)\n",
    "add_arc_from_to(T4, P4, net)\n",
    "add_arc_from_to(P4, T6, net)\n",
    "add_arc_from_to(T6, P99, net)\n",
    "\n",
    "\n",
    "\n",
    "transitions = {T1, T2, T3, T4, T5, T6}\n",
    "places = {P0, P2, P3, P4, P5, P6, P99}\n",
    "\n",
    "\n",
    "for place in places:\n",
    "    net.places.add(place)\n",
    "for transition in transitions:\n",
    "    net.transitions.add(transition)\n",
    "im = Marking([P0])\n",
    "fm = Marking([P99])\n",
    "net"
   ]
  },
  {
   "cell_type": "code",
   "execution_count": 132,
   "metadata": {},
   "outputs": [],
   "source": [
    "for t in net.transitions:\n",
    "    t.__properties = ['asd']"
   ]
  },
  {
   "cell_type": "code",
   "execution_count": 127,
   "metadata": {},
   "outputs": [
    {
     "data": {
      "image/png": "[encoded data removed]",
      "text/plain": [
       "<IPython.core.display.Image object>"
      ]
     },
     "metadata": {},
     "output_type": "display_data"
    }
   ],
   "source": [
    "pm4py.view_petri_net(net, im, fm)"
   ]
  },
  {
   "cell_type": "code",
   "execution_count": 128,
   "metadata": {},
   "outputs": [
    {
     "name": "stderr",
     "output_type": "stream",
     "text": [
      "C:\\Users\\Sebas\\AppData\\Local\\Temp\\ipykernel_15012\\2877240686.py:1: DeprecatedWarning: write_petri_net is deprecated as of 2.2.2 and will be removed in 2.4.0. write_petri_net is deprecated, please use write_pnml\n",
      "  pm4py.write_petri_net(net, im, fm, file_path=\"example_material_petri_net.pnml\")\n"
     ]
    }
   ],
   "source": [
    "pm4py.write_petri_net(net, im, fm, file_path=\"example_material_petri_net.pnml\")"
   ]
  },
  {
   "cell_type": "code",
   "execution_count": 122,
   "metadata": {},
   "outputs": [],
   "source": [
    "simulated_log = pm4py.play_out(net, im, fm)"
   ]
  },
  {
   "cell_type": "code",
   "execution_count": 123,
   "metadata": {},
   "outputs": [
    {
     "data": {
      "text/plain": [
       "array([('P1', 'P1'), ('P2', 'P3', 'P1'), ('P3', 'P2', 'P1')], dtype=object)"
      ]
     },
     "execution_count": 123,
     "metadata": {},
     "output_type": "execute_result"
    }
   ],
   "source": [
    "df = pm4py.convert_to_dataframe(simulated_log)\n",
    "columns = ['Process', 'Time', 'Case']\n",
    "df.columns = columns\n",
    "df.groupby(by='Case')['Process'].apply(tuple).unique()"
   ]
  },
  {
   "cell_type": "code",
   "execution_count": 120,
   "metadata": {},
   "outputs": [
    {
     "name": "stdout",
     "output_type": "stream",
     "text": [
      "Possible transitions [(skip_11, None), (P1, 'P1')]\n",
      "new marking ['State2:1', 'State3:1']\n",
      "new available transitions [(P2, 'P2'), (P3, 'P3')]\n",
      "new marking ['State3:1', 'State5:1']\n",
      "new available transitions [(P3, 'P3')]\n",
      "new marking ['State5:1', 'State6:1']\n",
      "new available transitions [(skip_10, None)]\n",
      "new marking ['State4:1']\n",
      "new available transitions [(P4, 'P1')]\n",
      "new marking ['Sink:1']\n",
      "block\n",
      "new available transitions []\n"
     ]
    }
   ],
   "source": [
    "from copy import copy\n",
    "from pm4py.objects.petri_net.semantics import ClassicSemantics\n",
    "\n",
    "def get_available_transitions(net, current_marking, final_marking=None, semantics=ClassicSemantics()):\n",
    "    \"\"\"\n",
    "    Return available transactions in net\n",
    "\n",
    "    Parameters\n",
    "    ----------\n",
    "    net\n",
    "        Petri net to play-out\n",
    "    current_marking\n",
    "        Current marking of the Petri net\n",
    "    final_marking\n",
    "        If provided, the final marking of the Petri net\n",
    "    semantics\n",
    "        Semantics of the Petri net to be used (default: petri_net.semantics.ClassicSemantics())\n",
    "    \"\"\"\n",
    "    all_visited_elements = []\n",
    "\n",
    "    visited_elements = []\n",
    "    visible_transitions_visited = []\n",
    "\n",
    "    marking = copy(current_marking)\n",
    "\n",
    "    visited_elements.append(marking)\n",
    "\n",
    "    if not semantics.enabled_transitions(net, marking):  # supports nets with possible deadlocks\n",
    "        print(\"block\")\n",
    "    all_enabled_trans = semantics.enabled_transitions(net, marking)\n",
    "    trans = list(all_enabled_trans)\n",
    "\n",
    "    return trans\n",
    "\n",
    "def get_marking_from_transition(net, current_marking, transition):\n",
    "    return ClassicSemantics().execute(transition, net, current_marking)\n",
    "\n",
    "\n",
    "trans = get_available_transitions(net=net, current_marking=im, final_marking=fm)\n",
    "print(\"Possible transitions\", trans)\n",
    "new_marking = get_marking_from_transition(net, current_marking=im, transition=trans[0])\n",
    "print(\"new marking\", new_marking)\n",
    "trans = get_available_transitions(net=net, current_marking=new_marking, final_marking=fm)\n",
    "print(\"new available transitions\", trans)\n",
    "new_marking = get_marking_from_transition(net, current_marking=new_marking, transition=trans[0])\n",
    "print(\"new marking\", new_marking)\n",
    "trans = get_available_transitions(net=net, current_marking=new_marking, final_marking=fm)\n",
    "print(\"new available transitions\", trans)\n",
    "new_marking = get_marking_from_transition(net, current_marking=new_marking, transition=trans[0])\n",
    "print(\"new marking\", new_marking)\n",
    "trans = get_available_transitions(net=net, current_marking=new_marking, final_marking=fm)\n",
    "print(\"new available transitions\", trans)\n",
    "new_marking = get_marking_from_transition(net, current_marking=new_marking, transition=trans[0])\n",
    "print(\"new marking\", new_marking)\n",
    "trans = get_available_transitions(net=net, current_marking=new_marking, final_marking=fm)\n",
    "print(\"new available transitions\", trans)\n",
    "new_marking = get_marking_from_transition(net, current_marking=new_marking, transition=trans[0])\n",
    "print(\"new marking\", new_marking)\n",
    "trans = get_available_transitions(net=net, current_marking=new_marking, final_marking=fm)\n",
    "print(\"new available transitions\", trans)"
   ]
  },
  {
   "cell_type": "code",
   "execution_count": 102,
   "metadata": {},
   "outputs": [
    {
     "ename": "OSError",
     "evalue": "Error reading file 'example_material_petri_net.pnml': failed to load external entity \"example_material_petri_net.pnml\"",
     "output_type": "error",
     "traceback": [
      "\u001b[1;31m---------------------------------------------------------------------------\u001b[0m",
      "\u001b[1;31mOSError\u001b[0m                                   Traceback (most recent call last)",
      "\u001b[1;32mc:\\Users\\Sebas\\OneDrive\\Documents\\prodsim\\petri_net_test.ipynb Zelle 8\u001b[0m in \u001b[0;36m<cell line: 1>\u001b[1;34m()\u001b[0m\n\u001b[1;32m----> <a href='vscode-notebook-cell:/c%3A/Users/Sebas/OneDrive/Documents/prodsim/petri_net_test.ipynb#ch0000012?line=0'>1</a>\u001b[0m net, im, fm \u001b[39m=\u001b[39m pm4py\u001b[39m.\u001b[39;49mread_pnml(\u001b[39m\"\u001b[39;49m\u001b[39mexample_material_petri_net.pnml\u001b[39;49m\u001b[39m\"\u001b[39;49m)\n\u001b[0;32m      <a href='vscode-notebook-cell:/c%3A/Users/Sebas/OneDrive/Documents/prodsim/petri_net_test.ipynb#ch0000012?line=1'>2</a>\u001b[0m pm4py\u001b[39m.\u001b[39mview_petri_net(net, im, fm)\n",
      "File \u001b[1;32mc:\\Users\\Sebas\\miniconda3\\envs\\data_mining\\lib\\site-packages\\pm4py\\read.py:69\u001b[0m, in \u001b[0;36mread_pnml\u001b[1;34m(file_path)\u001b[0m\n\u001b[0;32m     51\u001b[0m \u001b[39m\"\"\"\u001b[39;00m\n\u001b[0;32m     52\u001b[0m \u001b[39mReads a Petri net from the .PNML format\u001b[39;00m\n\u001b[0;32m     53\u001b[0m \n\u001b[1;32m   (...)\u001b[0m\n\u001b[0;32m     66\u001b[0m \u001b[39m    Final marking\u001b[39;00m\n\u001b[0;32m     67\u001b[0m \u001b[39m\"\"\"\u001b[39;00m\n\u001b[0;32m     68\u001b[0m \u001b[39mfrom\u001b[39;00m \u001b[39mpm4py\u001b[39;00m\u001b[39m.\u001b[39;00m\u001b[39mobjects\u001b[39;00m\u001b[39m.\u001b[39;00m\u001b[39mpetri_net\u001b[39;00m\u001b[39m.\u001b[39;00m\u001b[39mimporter\u001b[39;00m \u001b[39mimport\u001b[39;00m importer \u001b[39mas\u001b[39;00m pnml_importer\n\u001b[1;32m---> 69\u001b[0m net, im, fm \u001b[39m=\u001b[39m pnml_importer\u001b[39m.\u001b[39;49mapply(file_path)\n\u001b[0;32m     70\u001b[0m \u001b[39mreturn\u001b[39;00m net, im, fm\n",
      "File \u001b[1;32mc:\\Users\\Sebas\\miniconda3\\envs\\data_mining\\lib\\site-packages\\pm4py\\objects\\petri_net\\importer\\importer.py:44\u001b[0m, in \u001b[0;36mapply\u001b[1;34m(input_file_path, variant, parameters)\u001b[0m\n\u001b[0;32m     30\u001b[0m \u001b[39mdef\u001b[39;00m \u001b[39mapply\u001b[39m(input_file_path, variant\u001b[39m=\u001b[39mPNML, parameters\u001b[39m=\u001b[39m\u001b[39mNone\u001b[39;00m):\n\u001b[0;32m     31\u001b[0m     \u001b[39m\"\"\"\u001b[39;00m\n\u001b[0;32m     32\u001b[0m \u001b[39m    Import a Petri net from a PNML file\u001b[39;00m\n\u001b[0;32m     33\u001b[0m \n\u001b[1;32m   (...)\u001b[0m\n\u001b[0;32m     42\u001b[0m \u001b[39m            - Variants.PNML\u001b[39;00m\n\u001b[0;32m     43\u001b[0m \u001b[39m    \"\"\"\u001b[39;00m\n\u001b[1;32m---> 44\u001b[0m     \u001b[39mreturn\u001b[39;00m exec_utils\u001b[39m.\u001b[39;49mget_variant(variant)\u001b[39m.\u001b[39;49mimport_net(input_file_path, parameters\u001b[39m=\u001b[39;49mparameters)\n",
      "File \u001b[1;32mc:\\Users\\Sebas\\miniconda3\\envs\\data_mining\\lib\\site-packages\\pm4py\\objects\\petri_net\\importer\\variants\\pnml.py:89\u001b[0m, in \u001b[0;36mimport_net\u001b[1;34m(input_file_path, parameters)\u001b[0m\n\u001b[0;32m     86\u001b[0m     parameters \u001b[39m=\u001b[39m {}\n\u001b[0;32m     88\u001b[0m parser \u001b[39m=\u001b[39m etree\u001b[39m.\u001b[39mXMLParser(remove_comments\u001b[39m=\u001b[39m\u001b[39mTrue\u001b[39;00m)\n\u001b[1;32m---> 89\u001b[0m tree \u001b[39m=\u001b[39m objectify\u001b[39m.\u001b[39;49mparse(input_file_path, parser\u001b[39m=\u001b[39;49mparser)\n\u001b[0;32m     90\u001b[0m root \u001b[39m=\u001b[39m tree\u001b[39m.\u001b[39mgetroot()\n\u001b[0;32m     92\u001b[0m \u001b[39mreturn\u001b[39;00m import_net_from_xml_object(root, parameters\u001b[39m=\u001b[39mparameters)\n",
      "File \u001b[1;32msrc\\lxml\\objectify.pyx:2044\u001b[0m, in \u001b[0;36mlxml.objectify.parse\u001b[1;34m()\u001b[0m\n",
      "File \u001b[1;32msrc\\lxml\\etree.pyx:3538\u001b[0m, in \u001b[0;36mlxml.etree.parse\u001b[1;34m()\u001b[0m\n",
      "File \u001b[1;32msrc\\lxml\\parser.pxi:1876\u001b[0m, in \u001b[0;36mlxml.etree._parseDocument\u001b[1;34m()\u001b[0m\n",
      "File \u001b[1;32msrc\\lxml\\parser.pxi:1902\u001b[0m, in \u001b[0;36mlxml.etree._parseDocumentFromURL\u001b[1;34m()\u001b[0m\n",
      "File \u001b[1;32msrc\\lxml\\parser.pxi:1805\u001b[0m, in \u001b[0;36mlxml.etree._parseDocFromFile\u001b[1;34m()\u001b[0m\n",
      "File \u001b[1;32msrc\\lxml\\parser.pxi:1177\u001b[0m, in \u001b[0;36mlxml.etree._BaseParser._parseDocFromFile\u001b[1;34m()\u001b[0m\n",
      "File \u001b[1;32msrc\\lxml\\parser.pxi:615\u001b[0m, in \u001b[0;36mlxml.etree._ParserContext._handleParseResultDoc\u001b[1;34m()\u001b[0m\n",
      "File \u001b[1;32msrc\\lxml\\parser.pxi:725\u001b[0m, in \u001b[0;36mlxml.etree._handleParseResult\u001b[1;34m()\u001b[0m\n",
      "File \u001b[1;32msrc\\lxml\\parser.pxi:652\u001b[0m, in \u001b[0;36mlxml.etree._raiseParseError\u001b[1;34m()\u001b[0m\n",
      "\u001b[1;31mOSError\u001b[0m: Error reading file 'example_material_petri_net.pnml': failed to load external entity \"example_material_petri_net.pnml\""
     ]
    }
   ],
   "source": [
    "net, im, fm = pm4py.read_pnml(\"example_material_petri_net.pnml\")\n",
    "pm4py.view_petri_net(net, im, fm)"
   ]
  },
  {
   "cell_type": "code",
   "execution_count": null,
   "metadata": {},
   "outputs": [],
   "source": []
  }
 ],
 "metadata": {
  "kernelspec": {
   "display_name": "data_mining",
   "language": "python",
   "name": "data_mining"
  },
  "language_info": {
   "codemirror_mode": {
    "name": "ipython",
    "version": 3
   },
   "file_extension": ".py",
   "mimetype": "text/x-python",
   "name": "python",
   "nbconvert_exporter": "python",
   "pygments_lexer": "ipython3",
   "version": "3.9.12"
  },
  "orig_nbformat": 4
 },
 "nbformat": 4,
 "nbformat_minor": 2
}
