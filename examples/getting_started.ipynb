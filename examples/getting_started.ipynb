{
 "cells": [
  {
   "attachments": {},
   "cell_type": "markdown",
   "metadata": {},
   "source": [
    "# Getting started\n",
    "\n",
    "The package is designed to be easy to use. The following example shows how to model a simple production system and simulate it. The production system contains a single milling machine that performs milling processes on aluminium housings. The transport is thereby performed by a worker.  At first, just import the express API of `prodsys`:"
   ]
  },
  {
   "cell_type": "code",
   "execution_count": 25,
   "metadata": {},
   "outputs": [],
   "source": [
    "import prodsys.express as psx"
   ]
  },
  {
   "attachments": {},
   "cell_type": "markdown",
   "metadata": {},
   "source": [
    "We now create all components required for describing the production system. At first we define times for all arrival, production and transport processes:"
   ]
  },
  {
   "cell_type": "code",
   "execution_count": 26,
   "metadata": {},
   "outputs": [],
   "source": [
    "milling_time = psx.FunctionTimeModel(distribution_function=\"normal\", location=1, scale=0.1, ID=\"milling_time\")\n",
    "transport_time = psx.FunctionTimeModel(distribution_function=\"normal\", location=0.3, scale=0.2, ID=\"transport_time\")\n",
    "arrival_time_of_housings = psx.FunctionTimeModel(distribution_function=\"exponential\", location=1.5, ID=\"arrival_time_of_housings\")"
   ]
  },
  {
   "attachments": {},
   "cell_type": "markdown",
   "metadata": {},
   "source": [
    "Next, we can define the production and transport process in the system by using the created time models:"
   ]
  },
  {
   "cell_type": "code",
   "execution_count": 27,
   "metadata": {},
   "outputs": [],
   "source": [
    "milling_process = psx.ProductionProcess(milling_time, ID=\"milling_process\")\n",
    "transport_process = psx.TransportProcess(transport_time, ID=\"transport_process\")"
   ]
  },
  {
   "attachments": {},
   "cell_type": "markdown",
   "metadata": {},
   "source": [
    "With the processes defined, we can now create the production and transport resources:"
   ]
  },
  {
   "cell_type": "code",
   "execution_count": 28,
   "metadata": {},
   "outputs": [],
   "source": [
    "milling_machine = psx.ProductionResource([milling_process], location=[5, 5], ID=\"milling_machine\")\n",
    "worker = psx.TransportResource([transport_process], location=[0, 0], ID=\"worker\")"
   ]
  },
  {
   "attachments": {},
   "cell_type": "markdown",
   "metadata": {},
   "source": [
    "Now we define our product, the housing, that is produced in the system. For this example it requires only a single processsing step:"
   ]
  },
  {
   "cell_type": "code",
   "execution_count": 29,
   "metadata": {},
   "outputs": [],
   "source": [
    "housing = psx.Product([milling_process], transport_process, ID=\"housing\")"
   ]
  },
  {
   "attachments": {},
   "cell_type": "markdown",
   "metadata": {},
   "source": [
    "Only the sources and sinks that are responsible for creating the housing and storing finished housing are misssing:"
   ]
  },
  {
   "cell_type": "code",
   "execution_count": 30,
   "metadata": {},
   "outputs": [],
   "source": [
    "source = psx.Source(housing, arrival_time_of_housings, location=[0, 0], ID=\"source\")\n",
    "sink = psx.Sink(housing, location=[0, 0], ID=\"sink\")"
   ]
  },
  {
   "attachments": {},
   "cell_type": "markdown",
   "metadata": {},
   "source": [
    "Finally, we can create our production system, run the simulation for 60 minutes and print aggregated simulation results:"
   ]
  },
  {
   "cell_type": "code",
   "execution_count": 31,
   "metadata": {},
   "outputs": [
    {
     "name": "stderr",
     "output_type": "stream",
     "text": [
      "100%|██████████| 60/60 [00:00<00:00, 1071.54it/s]"
     ]
    },
    {
     "name": "stdout",
     "output_type": "stream",
     "text": [
      "\n",
      "------------- Throughput -------------\n",
      "\n",
      "              Output  Throughput\n",
      "Product_type                    \n",
      "housing           39   46.121734\n",
      "------------- WIP -------------\n",
      "\n",
      "Product_type\n",
      "Total      4.125\n",
      "housing    4.125\n",
      "Name: WIP, dtype: float64\n",
      "\n",
      "------------- Throughput time -------------\n",
      "\n",
      "Product_type\n",
      "housing    4.752072\n",
      "Name: Throughput_time, dtype: float64\n",
      "\n",
      "------------- Resource states -------------\n",
      "\n",
      "                           time_increment  resource_time  percentage\n",
      "Resource        Time_type                                           \n",
      "milling_machine PR              47.646026      59.788588    0.796908\n",
      "                SB              12.142563      59.788588    0.203092\n",
      "worker          PR              46.979841      59.788588    0.785766\n",
      "                SB              12.808747      59.788588    0.214234\n"
     ]
    },
    {
     "name": "stderr",
     "output_type": "stream",
     "text": [
      "\n"
     ]
    }
   ],
   "source": [
    "production_system = psx.ProductionSystem([milling_machine, worker], [source], [sink])\n",
    "production_system.run(60)\n",
    "production_system.runner.print_results()"
   ]
  },
  {
   "attachments": {},
   "cell_type": "markdown",
   "metadata": {},
   "source": [
    "As we can see, the system produced 39 parts in this hour with an work in progress (WIP ~ number of products in the system) of 4.125 and utilized the milling machine with 79.69% and the worker for 78.57%.\n",
    "\n",
    "Note, that this example on covers the most basic functionalities of `prodsys`. For more elaborate guides that cover more of the package's features, please see the [tutorials](Tutorials/tutorial_0_overview.md). For a complete overview of the package's functionality, please see the [API reference](API_reference/API_reference_0_overview.md)."
   ]
  }
 ],
 "metadata": {
  "kernelspec": {
   "display_name": "prodsys-9RcHADzK-py3.11",
   "language": "python",
   "name": "python3"
  },
  "language_info": {
   "codemirror_mode": {
    "name": "ipython",
    "version": 3
   },
   "file_extension": ".py",
   "mimetype": "text/x-python",
   "name": "python",
   "nbconvert_exporter": "python",
   "pygments_lexer": "ipython3",
   "version": "3.11.3"
  },
  "orig_nbformat": 4
 },
 "nbformat": 4,
 "nbformat_minor": 2
}
