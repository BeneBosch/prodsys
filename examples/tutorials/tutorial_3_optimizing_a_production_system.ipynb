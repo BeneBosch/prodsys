{
 "cells": [
  {
   "attachments": {},
   "cell_type": "markdown",
   "metadata": {},
   "source": [
    "# Optimizing a production system"
   ]
  },
  {
   "attachments": {},
   "cell_type": "markdown",
   "metadata": {},
   "source": [
    "This tutorial will guide you through the optimization functionalities of `prodsys` to optimize the configuration of a production system. With the `prodsys.optimization` package, we can utilize meta-heuristics and mathematical optimization for this task. All algorithms can be conviently used with the `prodsys.models` API. \n",
    "\n",
    "For this example, we will use a production system which we will load from a json-file, which can be found in the examples folder of [prodsys' github page](https://github.com/sdm4fzi/prodsys). Download it and store it in the same folder as this notebook. Load the configuration and run a simulation with the following commands:\n",
    "\n",
    "Let's start at first by loading our production system:"
   ]
  },
  {
   "cell_type": "code",
   "execution_count": 2,
   "metadata": {},
   "outputs": [
    {
     "data": {
      "application/vnd.jupyter.widget-view+json": {
       "model_id": "6ef9db27c7474c1898d82c4f6118f066",
       "version_major": 2,
       "version_minor": 0
      },
      "text/plain": [
       "  0%|          | 0/2880 [00:00<?, ?it/s]"
      ]
     },
     "metadata": {},
     "output_type": "display_data"
    },
    {
     "name": "stdout",
     "output_type": "stream",
     "text": [
      "\n",
      "------------- Throughput -------------\n",
      "\n",
      "              Output  Throughput\n",
      "Product_type                    \n",
      "Product_1        370    9.074785\n",
      "Product_2        290    7.112669\n",
      "------------- WIP -------------\n",
      "\n",
      "Product_type\n",
      "Product_1    131.548849\n",
      "Product_2    131.077589\n",
      "Total        263.968268\n",
      "Name: WIP, dtype: float64\n",
      "\n",
      "------------- Throughput time -------------\n",
      "\n",
      "Product_type\n",
      "Product_1    549.864540\n",
      "Product_2    671.308317\n",
      "Name: Throughput_time, dtype: float64\n",
      "\n",
      "------------- Resource states -------------\n",
      "\n",
      "                    time_increment  resource_time  percentage\n",
      "Resource Time_type                                           \n",
      "M1       PR            1012.527092    2879.447441   35.163937\n",
      "         SB            1866.920349    2879.447441   64.836063\n",
      "M2       PR            2847.310178    2879.447441   98.883909\n",
      "         SB               7.137263    2879.447441    0.247869\n",
      "         UD              25.000000    2879.447441    0.868222\n",
      "M3       PR            2850.035419    2879.447441   98.978553\n",
      "         SB               4.412022    2879.447441    0.153225\n",
      "         UD              25.000000    2879.447441    0.868222\n",
      "M4       PR            2832.502129    2879.447441   98.369642\n",
      "         SB               1.945312    2879.447441    0.067559\n",
      "         UD              45.000000    2879.447441    1.562800\n",
      "TR1      PR            1216.956222    2879.447441   42.263533\n",
      "         SB            1662.491219    2879.447441   57.736467\n"
     ]
    }
   ],
   "source": [
    "import prodsys\n",
    "from prodsys.simulation import sim\n",
    "sim.VERBOSE = 0\n",
    "\n",
    "production_system = prodsys.adapters.JsonProductionSystemAdapter()\t\n",
    "production_system.read_data('base_configuration.json')\n",
    "\n",
    "prodsys.adapters.add_default_queues_to_adapter(production_system)\n",
    "\n",
    "runner = prodsys.runner.Runner(adapter=production_system)\n",
    "runner.initialize_simulation()\n",
    "runner.run(2880)\n",
    "runner.print_results()"
   ]
  },
  {
   "attachments": {},
   "cell_type": "markdown",
   "metadata": {},
   "source": [
    "As already concluded in the seccond tutorial, production system configurations can be suboptimal for a certain load of products. In this example, we also see that resoures M2, M3, M4 are very heavily utilized, whereas resource M1 has only a productivy of 33.4%. In order to satify the product needs of our customers and to balance the load on the resources more evenly, we want to find a more suitable configuration with the `prodsys.optimization` package. However, for starting optimization, we also need to provide an optimization scenario, that models constraints, options, information and the objectives. Let's start by creating the constraints of the scenario with the `prodsys.models` API:"
   ]
  },
  {
   "cell_type": "code",
   "execution_count": 3,
   "metadata": {},
   "outputs": [],
   "source": [
    "from prodsys.models import scenario_data\n",
    "\n",
    "constraints = scenario_data.ScenarioConstrainsData(\n",
    "    max_reconfiguration_cost=100000,\n",
    "    max_num_machines=8,\n",
    "    max_num_processes_per_machine=3,\n",
    "    max_num_transport_resources=2\n",
    ")"
   ]
  },
  {
   "attachments": {},
   "cell_type": "markdown",
   "metadata": {},
   "source": [
    "As you can see, the constraints consist of the maximum cost for reconfigruation and the maximumm number of machines, processes per machine and transport resources. Next, we define the options of our scenario for optimization:"
   ]
  },
  {
   "cell_type": "code",
   "execution_count": 4,
   "metadata": {},
   "outputs": [],
   "source": [
    "positions = [[x*4, y*4] for x in range(4) for y in range(10)]\n",
    "options = scenario_data.ScenarioOptionsData(\n",
    "    transformations=[scenario_data.ReconfigurationEnum.PRODUCTION_CAPACITY],\n",
    "    machine_controllers=[\"FIFO\", \"SPT\"],\n",
    "    transport_controllers=[\"FIFO\", \"SPT_transport\"],\n",
    "    routing_heuristics=[\"shortest_queue\"],\n",
    "    positions=positions\n",
    ")"
   ]
  },
  {
   "attachments": {},
   "cell_type": "markdown",
   "metadata": {},
   "source": [
    "We specify in the scenario options the transformations that can be performed by the optmizer, which control policies and routing heuristics are available and what kind of positions are available to place resources. By choosing the transformation `PRODUCTION_CAPACITY`, the optimizer can add, remove or move production resources from the system or processes from single production resources.\n",
    "\n",
    "At last, we need to specify our info for optimization:"
   ]
  },
  {
   "cell_type": "code",
   "execution_count": 5,
   "metadata": {},
   "outputs": [],
   "source": [
    "info = scenario_data.ScenarioInfoData(\n",
    "    machine_cost=40000,\n",
    "    transport_resource_cost=20000,\n",
    "    process_module_cost=4000,\n",
    "    time_range=24*60\n",
    ")"
   ]
  },
  {
   "attachments": {},
   "cell_type": "markdown",
   "metadata": {},
   "source": [
    "The scenario info contains information about the cost for machines, transport resources and process modules. Additionally, we specify a time range. This value is the time used for evalutation of created configurations during simulation. Since many evaluations are performed during optimization, this parameter can significantly influence the optimmization Time. For now, we specified it to one day. Lastly we can define the objectives used for optimization:"
   ]
  },
  {
   "cell_type": "code",
   "execution_count": 6,
   "metadata": {},
   "outputs": [],
   "source": [
    "from prodsys.models.performance_indicators import KPIEnum\n",
    "objectives = [scenario_data.Objective(\n",
    "    name=KPIEnum.THROUGHPUT\n",
    ")]"
   ]
  },
  {
   "attachments": {},
   "cell_type": "markdown",
   "metadata": {},
   "source": [
    "Currently, only reconfiguration cost, throughput time, WIP and throughput can be optimized. Yet, similar logic can also be used for optimizing the productivity. With all this data defined, we can now create our optimization scenario and additionally add it to our production system:"
   ]
  },
  {
   "cell_type": "code",
   "execution_count": 7,
   "metadata": {},
   "outputs": [],
   "source": [
    "scenario = scenario_data.ScenarioData(\n",
    "    constraints=constraints,\n",
    "    options=options,\n",
    "    info=info,\n",
    "    objectives=objectives\n",
    ")\n",
    "production_system.scenario_data = scenario"
   ]
  },
  {
   "attachments": {},
   "cell_type": "markdown",
   "metadata": {},
   "source": [
    "Next, we define the hyper parameters for our optimization. At first, we will use evolutionary algorithm for our optimization, because it allows parallelization. The hyper parameters for optimization are strongly problem dependant and need to be adjusted accordingly. For this example, we will use the following parameters and run the optimization for 10 generations. Note, that this can take some time..."
   ]
  },
  {
   "cell_type": "code",
   "execution_count": 8,
   "metadata": {},
   "outputs": [
    {
     "name": "stdout",
     "output_type": "stream",
     "text": [
      "Best Performance:  498.0\n",
      "Average Performance:  315.75\n",
      "Generation 1 ________________\n",
      "Best Performance:  498.0\n",
      "Average Performance:  401.625\n",
      "Generation 2 ________________\n",
      "Best Performance:  498.0\n",
      "Average Performance:  -5819.0\n",
      "Generation 3 ________________\n",
      "Best Performance:  503.0\n",
      "Average Performance:  473.9375\n",
      "Generation 4 ________________\n",
      "Best Performance:  503.0\n",
      "Average Performance:  -5782.375\n",
      "Generation 5 ________________\n",
      "Best Performance:  503.0\n",
      "Average Performance:  -12083.625\n",
      "Generation 6 ________________\n",
      "Best Performance:  503.0\n",
      "Average Performance:  -5782.375\n",
      "Generation 7 ________________\n",
      "Best Performance:  503.0\n",
      "Average Performance:  -12081.3125\n",
      "Generation 8 ________________\n",
      "Best Performance:  503.0\n",
      "Average Performance:  499.625\n",
      "Generation 9 ________________\n",
      "Best Performance:  503.0\n",
      "Average Performance:  499.625\n",
      "Generation 10 ________________\n",
      "Best Performance:  503.0\n",
      "Average Performance:  -24622.75\n"
     ]
    }
   ],
   "source": [
    "from prodsys.optimization import evolutionary_algorithm_optimization\n",
    "from prodsys.optimization import evolutionary_algorithm\n",
    "from prodsys.simulation import sim\n",
    "sim.VERBOSE = 0\n",
    "\n",
    "hyper_parameters = evolutionary_algorithm.EvolutionaryAlgorithmHyperparameters(\n",
    "    seed=0,\n",
    "    number_of_generations=10,\n",
    "    population_size=16,\n",
    "    mutation_rate=0.2,\n",
    "    crossover_rate=0.1,\n",
    "    number_of_processes=4\n",
    ")\n",
    "evolutionary_algorithm_optimization(\n",
    "    production_system,\n",
    "    hyper_parameters,\n",
    ")"
   ]
  },
  {
   "attachments": {},
   "cell_type": "markdown",
   "metadata": {},
   "source": [
    "All algorithms in `prodsys` can be utilized with the same interface. Also available are the following algorithms:\n",
    "- `prodsys.optimization.simulated_annealing`: simulated annealing optimization for all transformations\n",
    "- `prodsys.optimization.tabu_search`: tabu search for all transformations\n",
    "- `prodsys.optimization.math_opt`: mathematical optimization with Gurobi, allows only optimization of the production capacity\n",
    "\n",
    "We see in the output, that the algorithm is running and that new best solutions with a higher performance are found. We can analyze them now and see, if we can find a better configuration for our production system. Optimization core results of the objective for the individual solutions and the solutions themselves are saved as default in a `results` folder to make sure that interruptions in optimization won't delete all results. We can load them with the following command:"
   ]
  },
  {
   "cell_type": "code",
   "execution_count": 10,
   "metadata": {},
   "outputs": [
    {
     "data": {
      "text/html": [
       "<div>\n",
       "<style scoped>\n",
       "    .dataframe tbody tr th:only-of-type {\n",
       "        vertical-align: middle;\n",
       "    }\n",
       "\n",
       "    .dataframe tbody tr th {\n",
       "        vertical-align: top;\n",
       "    }\n",
       "\n",
       "    .dataframe thead th {\n",
       "        text-align: right;\n",
       "    }\n",
       "</style>\n",
       "<table border=\"1\" class=\"dataframe\">\n",
       "  <thead>\n",
       "    <tr style=\"text-align: right;\">\n",
       "      <th></th>\n",
       "      <th>Generation</th>\n",
       "      <th>population_number</th>\n",
       "      <th>ID</th>\n",
       "      <th>agg_fitness</th>\n",
       "      <th>time</th>\n",
       "      <th>KPI_0</th>\n",
       "      <th>optimizer</th>\n",
       "    </tr>\n",
       "  </thead>\n",
       "  <tbody>\n",
       "    <tr>\n",
       "      <th>1</th>\n",
       "      <td>0</td>\n",
       "      <td>1</td>\n",
       "      <td>c239c703-0014-11ee-ad97-010101010000</td>\n",
       "      <td>382.0</td>\n",
       "      <td>36.275489</td>\n",
       "      <td>382.0</td>\n",
       "      <td>evolutionary</td>\n",
       "    </tr>\n",
       "    <tr>\n",
       "      <th>2</th>\n",
       "      <td>0</td>\n",
       "      <td>2</td>\n",
       "      <td>c23ae71f-0014-11ee-9880-010101010000</td>\n",
       "      <td>246.0</td>\n",
       "      <td>36.280622</td>\n",
       "      <td>246.0</td>\n",
       "      <td>evolutionary</td>\n",
       "    </tr>\n",
       "    <tr>\n",
       "      <th>3</th>\n",
       "      <td>0</td>\n",
       "      <td>3</td>\n",
       "      <td>c23baece-0014-11ee-b5bf-010101010000</td>\n",
       "      <td>247.0</td>\n",
       "      <td>36.285604</td>\n",
       "      <td>247.0</td>\n",
       "      <td>evolutionary</td>\n",
       "    </tr>\n",
       "    <tr>\n",
       "      <th>4</th>\n",
       "      <td>0</td>\n",
       "      <td>4</td>\n",
       "      <td>c23c4e63-0014-11ee-a54c-010101010000</td>\n",
       "      <td>23.0</td>\n",
       "      <td>36.293567</td>\n",
       "      <td>23.0</td>\n",
       "      <td>evolutionary</td>\n",
       "    </tr>\n",
       "    <tr>\n",
       "      <th>5</th>\n",
       "      <td>0</td>\n",
       "      <td>5</td>\n",
       "      <td>c23da86d-0014-11ee-8baf-010101010000</td>\n",
       "      <td>338.0</td>\n",
       "      <td>36.299914</td>\n",
       "      <td>338.0</td>\n",
       "      <td>evolutionary</td>\n",
       "    </tr>\n",
       "  </tbody>\n",
       "</table>\n",
       "</div>"
      ],
      "text/plain": [
       "  Generation population_number                                    ID   \n",
       "1          0                 1  c239c703-0014-11ee-ad97-010101010000  \\\n",
       "2          0                 2  c23ae71f-0014-11ee-9880-010101010000   \n",
       "3          0                 3  c23baece-0014-11ee-b5bf-010101010000   \n",
       "4          0                 4  c23c4e63-0014-11ee-a54c-010101010000   \n",
       "5          0                 5  c23da86d-0014-11ee-8baf-010101010000   \n",
       "\n",
       "  agg_fitness       time  KPI_0     optimizer  \n",
       "1       382.0  36.275489  382.0  evolutionary  \n",
       "2       246.0  36.280622  246.0  evolutionary  \n",
       "3       247.0  36.285604  247.0  evolutionary  \n",
       "4        23.0  36.293567   23.0  evolutionary  \n",
       "5       338.0  36.299914  338.0  evolutionary  "
      ]
     },
     "execution_count": 10,
     "metadata": {},
     "output_type": "execute_result"
    }
   ],
   "source": [
    "from prodsys.optimization import optimization_analysis\n",
    "\n",
    "df = optimization_analysis.read_optimization_results_file_to_df(\"results/optimization_results.json\", \"evolutionary\")\n",
    "df.head()"
   ]
  },
  {
   "attachments": {},
   "cell_type": "markdown",
   "metadata": {},
   "source": [
    "`prodsys` allows us to load the optimization results as a data frame and analyze them. In this case, we just want to see the best solution found by the algorithm:"
   ]
  },
  {
   "cell_type": "code",
   "execution_count": 11,
   "metadata": {},
   "outputs": [
    {
     "data": {
      "text/html": [
       "<div>\n",
       "<style scoped>\n",
       "    .dataframe tbody tr th:only-of-type {\n",
       "        vertical-align: middle;\n",
       "    }\n",
       "\n",
       "    .dataframe tbody tr th {\n",
       "        vertical-align: top;\n",
       "    }\n",
       "\n",
       "    .dataframe thead th {\n",
       "        text-align: right;\n",
       "    }\n",
       "</style>\n",
       "<table border=\"1\" class=\"dataframe\">\n",
       "  <thead>\n",
       "    <tr style=\"text-align: right;\">\n",
       "      <th></th>\n",
       "      <th>Generation</th>\n",
       "      <th>population_number</th>\n",
       "      <th>ID</th>\n",
       "      <th>agg_fitness</th>\n",
       "      <th>time</th>\n",
       "      <th>KPI_0</th>\n",
       "      <th>optimizer</th>\n",
       "    </tr>\n",
       "  </thead>\n",
       "  <tbody>\n",
       "    <tr>\n",
       "      <th>47</th>\n",
       "      <td>3</td>\n",
       "      <td>7</td>\n",
       "      <td>d5ad3205-0014-11ee-9880-010101010000</td>\n",
       "      <td>503.0</td>\n",
       "      <td>68.906486</td>\n",
       "      <td>503.0</td>\n",
       "      <td>evolutionary</td>\n",
       "    </tr>\n",
       "    <tr>\n",
       "      <th>59</th>\n",
       "      <td>5</td>\n",
       "      <td>4</td>\n",
       "      <td>d5ad3205-0014-11ee-9880-010101010000</td>\n",
       "      <td>503.0</td>\n",
       "      <td>80.29236</td>\n",
       "      <td>503.0</td>\n",
       "      <td>evolutionary</td>\n",
       "    </tr>\n",
       "    <tr>\n",
       "      <th>74</th>\n",
       "      <td>7</td>\n",
       "      <td>4</td>\n",
       "      <td>d5ad3205-0014-11ee-9880-010101010000</td>\n",
       "      <td>503.0</td>\n",
       "      <td>100.402081</td>\n",
       "      <td>503.0</td>\n",
       "      <td>evolutionary</td>\n",
       "    </tr>\n",
       "    <tr>\n",
       "      <th>83</th>\n",
       "      <td>8</td>\n",
       "      <td>3</td>\n",
       "      <td>d5ad3205-0014-11ee-9880-010101010000</td>\n",
       "      <td>503.0</td>\n",
       "      <td>111.538516</td>\n",
       "      <td>503.0</td>\n",
       "      <td>evolutionary</td>\n",
       "    </tr>\n",
       "    <tr>\n",
       "      <th>86</th>\n",
       "      <td>9</td>\n",
       "      <td>1</td>\n",
       "      <td>d5ad3205-0014-11ee-9880-010101010000</td>\n",
       "      <td>503.0</td>\n",
       "      <td>116.622233</td>\n",
       "      <td>503.0</td>\n",
       "      <td>evolutionary</td>\n",
       "    </tr>\n",
       "  </tbody>\n",
       "</table>\n",
       "</div>"
      ],
      "text/plain": [
       "   Generation population_number                                    ID   \n",
       "47          3                 7  d5ad3205-0014-11ee-9880-010101010000  \\\n",
       "59          5                 4  d5ad3205-0014-11ee-9880-010101010000   \n",
       "74          7                 4  d5ad3205-0014-11ee-9880-010101010000   \n",
       "83          8                 3  d5ad3205-0014-11ee-9880-010101010000   \n",
       "86          9                 1  d5ad3205-0014-11ee-9880-010101010000   \n",
       "\n",
       "   agg_fitness        time  KPI_0     optimizer  \n",
       "47       503.0   68.906486  503.0  evolutionary  \n",
       "59       503.0    80.29236  503.0  evolutionary  \n",
       "74       503.0  100.402081  503.0  evolutionary  \n",
       "83       503.0  111.538516  503.0  evolutionary  \n",
       "86       503.0  116.622233  503.0  evolutionary  "
      ]
     },
     "execution_count": 11,
     "metadata": {},
     "output_type": "execute_result"
    }
   ],
   "source": [
    "df.sort_values(by=[\"agg_fitness\"], ascending=False).head()"
   ]
  },
  {
   "cell_type": "code",
   "execution_count": 12,
   "metadata": {},
   "outputs": [],
   "source": [
    "import os \n",
    "\n",
    "# Find all files i the result folder that contain the ID of the best individual\n",
    "best_individual_ID = df.sort_values(by=[\"agg_fitness\"], ascending=False).head()[\"ID\"].values[0]\n",
    "best_individual_ID = str(best_individual_ID)\n",
    "files = os.listdir(\"results\")\n",
    "files = [file for file in files if best_individual_ID in file]\n",
    "new_production_system = prodsys.adapters.JsonProductionSystemAdapter()\n",
    "new_production_system.read_data(\"results/\" + files[0])"
   ]
  },
  {
   "cell_type": "code",
   "execution_count": 13,
   "metadata": {},
   "outputs": [
    {
     "name": "stdout",
     "output_type": "stream",
     "text": [
      "\n",
      "------------- Throughput -------------\n",
      "\n",
      "              Output  Throughput\n",
      "Product_type                    \n",
      "Product_1        587   14.392635\n",
      "Product_2        443   10.861903\n",
      "------------- WIP -------------\n",
      "\n",
      "Product_type\n",
      "Product_1    43.855144\n",
      "Product_2    25.727386\n",
      "Total        68.876164\n",
      "Name: WIP, dtype: float64\n",
      "\n",
      "------------- Throughput time -------------\n",
      "\n",
      "Product_type\n",
      "Product_1    163.415071\n",
      "Product_2    135.268264\n",
      "Name: Throughput_time, dtype: float64\n",
      "\n",
      "------------- Resource states -------------\n",
      "\n",
      "                                                time_increment  resource_time   \n",
      "Resource                             Time_type                                  \n",
      "TR1                                  PR            2022.705778    2879.983667  \\\n",
      "                                     SB             847.277890    2879.983667   \n",
      "                                     UD              10.000000    2879.983667   \n",
      "ace20bd7-0014-11ee-a439-010101010000 PR            2750.093916    2879.983667   \n",
      "                                     SB             129.889752    2879.983667   \n",
      "ace20bd8-0014-11ee-bc4f-010101010000 PR            2861.104318    2879.983667   \n",
      "                                     SB              18.879349    2879.983667   \n",
      "ace20bd9-0014-11ee-8014-010101010000 PR             638.556317    2879.983667   \n",
      "                                     SB            2241.427350    2879.983667   \n",
      "ace20bda-0014-11ee-8bea-010101010000 PR             237.849773    2879.983667   \n",
      "                                     SB            2642.133894    2879.983667   \n",
      "ace234ed-0014-11ee-91a2-010101010000 PR            2630.549138    2879.983667   \n",
      "                                     SB             249.434529    2879.983667   \n",
      "ace25b21-0014-11ee-b40b-010101010000 PR            2870.316926    2879.983667   \n",
      "                                     SB               9.666742    2879.983667   \n",
      "\n",
      "                                                percentage  \n",
      "Resource                             Time_type              \n",
      "TR1                                  PR          70.233238  \n",
      "                                     SB          29.419538  \n",
      "                                     UD           0.347224  \n",
      "ace20bd7-0014-11ee-a439-010101010000 PR          95.489914  \n",
      "                                     SB           4.510086  \n",
      "ace20bd8-0014-11ee-bc4f-010101010000 PR          99.344463  \n",
      "                                     SB           0.655537  \n",
      "ace20bd9-0014-11ee-8014-010101010000 PR          22.172220  \n",
      "                                     SB          77.827780  \n",
      "ace20bda-0014-11ee-8bea-010101010000 PR           8.258720  \n",
      "                                     SB          91.741280  \n",
      "ace234ed-0014-11ee-91a2-010101010000 PR          91.339030  \n",
      "                                     SB           8.660970  \n",
      "ace25b21-0014-11ee-b40b-010101010000 PR          99.664347  \n",
      "                                     SB           0.335653  \n"
     ]
    }
   ],
   "source": [
    "runner = prodsys.runner.Runner(adapter=new_production_system)\n",
    "runner.initialize_simulation()\n",
    "runner.run(2880)\n",
    "\n",
    "runner.print_results()"
   ]
  },
  {
   "attachments": {},
   "cell_type": "markdown",
   "metadata": {},
   "source": [
    "When comparing the results from the original production system and the new one, we see that a machine was added. However, the machines are still heavily utilized. Most likely, the optimizer did just not find a good solution, because we only ran it for 10 generations and for a small population size. Increasing these will take longer, but will more likely find better solutions. "
   ]
  },
  {
   "cell_type": "code",
   "execution_count": null,
   "metadata": {},
   "outputs": [],
   "source": []
  }
 ],
 "metadata": {
  "kernelspec": {
   "display_name": "prodsys-9RcHADzK-py3.11",
   "language": "python",
   "name": "python3"
  },
  "language_info": {
   "codemirror_mode": {
    "name": "ipython",
    "version": 3
   },
   "file_extension": ".py",
   "mimetype": "text/x-python",
   "name": "python",
   "nbconvert_exporter": "python",
   "pygments_lexer": "ipython3",
   "version": "3.11.3"
  },
  "orig_nbformat": 4
 },
 "nbformat": 4,
 "nbformat_minor": 2
}
