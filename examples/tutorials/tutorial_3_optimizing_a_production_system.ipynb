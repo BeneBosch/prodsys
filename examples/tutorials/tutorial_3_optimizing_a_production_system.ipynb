{
 "cells": [
  {
   "attachments": {},
   "cell_type": "markdown",
   "metadata": {},
   "source": [
    "# Optimizing a production system"
   ]
  },
  {
   "attachments": {},
   "cell_type": "markdown",
   "metadata": {},
   "source": [
    "This tutorial will guide you through the optimization functionalities of `prodsys` to optimize the configuration of a production system. With the `prodsys.optimization` package, we can utilize meta-heuristics and mathematical optimization for this task. All algorithms can be conviently used with the `prodsys.models` API. \n",
    "\n",
    "For this example, we will use a production system which we will load from a json-file (base_configuration.json), which can be found in the examples folder of [prodsys' github page](https://github.com/sdm4fzi/prodsys/tree/main/examples/tutorials). Download it and store it in the same folder as this notebook. Load the configuration and run a simulation with the following commands:"
   ]
  },
  {
   "cell_type": "code",
   "execution_count": 1,
   "metadata": {},
   "outputs": [
    {
     "name": "stdout",
     "output_type": "stream",
     "text": [
      "\n",
      "------------- Throughput -------------\n",
      "\n",
      "              Output  Throughput\n",
      "Product_type                    \n",
      "Product_1        372    9.118083\n",
      "Product_2        291    7.132694\n",
      "------------- WIP -------------\n",
      "\n",
      "Product_type\n",
      "Product_1    121.834857\n",
      "Product_2    137.674128\n",
      "Total        258.553806\n",
      "Name: WIP, dtype: float64\n",
      "\n",
      "------------- Throughput time -------------\n",
      "\n",
      "Product_type\n",
      "Product_1    536.984894\n",
      "Product_2    672.792040\n",
      "Name: Throughput_time, dtype: float64\n",
      "\n",
      "------------- Resource states -------------\n",
      "\n",
      "                    time_increment  resource_time  percentage\n",
      "Resource Time_type                                           \n",
      "M1       PR             989.938681    2879.862432   34.374513\n",
      "         SB            1889.923751    2879.862432   65.625487\n",
      "M2       PR            2852.393003    2879.862432   99.046155\n",
      "         SB               2.469429    2879.862432    0.085748\n",
      "         UD              25.000000    2879.862432    0.868097\n",
      "M3       PR            2850.437661    2879.862432   98.978258\n",
      "         SB               4.424771    2879.862432    0.153645\n",
      "         UD              25.000000    2879.862432    0.868097\n",
      "M4       PR            2829.248484    2879.862432   98.242487\n",
      "         SB               5.613948    2879.862432    0.194938\n",
      "         UD              45.000000    2879.862432    1.562575\n",
      "TR1      PR            1218.122667    2879.862432   42.297946\n",
      "         SB            1661.739765    2879.862432   57.702054\n"
     ]
    }
   ],
   "source": [
    "import prodsys\n",
    "from prodsys.simulation import sim\n",
    "sim.VERBOSE = 0\n",
    "\n",
    "production_system = prodsys.adapters.JsonProductionSystemAdapter()\t\n",
    "production_system.read_data('base_configuration.json')\n",
    "\n",
    "prodsys.adapters.add_default_queues_to_adapter(production_system)\n",
    "\n",
    "runner = prodsys.runner.Runner(adapter=production_system)\n",
    "runner.initialize_simulation()\n",
    "runner.run(2880)\n",
    "runner.print_results()"
   ]
  },
  {
   "attachments": {},
   "cell_type": "markdown",
   "metadata": {},
   "source": [
    "As already concluded in the seccond tutorial, production system configurations can be suboptimal for a certain load of products. In this example, we also see that resoures M2, M3, M4 are very heavily utilized, whereas resource M1 has only a productivy of 34.4%. In order to satify the product needs of our customers and to balance the load on the resources more evenly, we want to find a more suitable configuration with the `prodsys.optimization` package. However, for starting optimization, we also need to provide an optimization scenario, that models constraints, options, information and the objectives. Let's start by creating the constraints of the scenario with the `prodsys.models` API:"
   ]
  },
  {
   "cell_type": "code",
   "execution_count": 2,
   "metadata": {},
   "outputs": [],
   "source": [
    "from prodsys.models import scenario_data\n",
    "\n",
    "constraints = scenario_data.ScenarioConstrainsData(\n",
    "    max_reconfiguration_cost=100000,\n",
    "    max_num_machines=8,\n",
    "    max_num_processes_per_machine=3,\n",
    "    max_num_transport_resources=2\n",
    ")"
   ]
  },
  {
   "attachments": {},
   "cell_type": "markdown",
   "metadata": {},
   "source": [
    "As you can see, the constraints consist of the maximum cost for reconfigruation and the maximumm number of machines, processes per machine and transport resources. Next, we define the options of our scenario for optimization:"
   ]
  },
  {
   "cell_type": "code",
   "execution_count": 3,
   "metadata": {},
   "outputs": [],
   "source": [
    "positions = [[x*4, y*4] for x in range(4) for y in range(10)]\n",
    "options = scenario_data.ScenarioOptionsData(\n",
    "    transformations=[scenario_data.ReconfigurationEnum.PRODUCTION_CAPACITY],\n",
    "    machine_controllers=[\"FIFO\", \"SPT\"],\n",
    "    transport_controllers=[\"FIFO\", \"SPT_transport\"],\n",
    "    routing_heuristics=[\"shortest_queue\"],\n",
    "    positions=positions\n",
    ")"
   ]
  },
  {
   "attachments": {},
   "cell_type": "markdown",
   "metadata": {},
   "source": [
    "We specify in the scenario options the transformations that can be performed by the optmizer, which control policies and routing heuristics are available and what kind of positions are available to place resources. By choosing the transformation `PRODUCTION_CAPACITY`, the optimizer can add, remove or move production resources from the system or processes from single production resources.\n",
    "\n",
    "At last, we need to specify our info for optimization:"
   ]
  },
  {
   "cell_type": "code",
   "execution_count": 4,
   "metadata": {},
   "outputs": [],
   "source": [
    "info = scenario_data.ScenarioInfoData(\n",
    "    machine_cost=40000,\n",
    "    transport_resource_cost=20000,\n",
    "    process_module_cost=4000,\n",
    "    time_range=24*60\n",
    ")"
   ]
  },
  {
   "attachments": {},
   "cell_type": "markdown",
   "metadata": {},
   "source": [
    "The scenario info contains information about the cost for machines, transport resources and process modules. Additionally, we specify a time range. This value is the time used for evalutation of created configurations during simulation. Since many evaluations are performed during optimization, this parameter can significantly influence the optimmization Time. For now, we specified it to one day. Lastly we can define the objectives used for optimization:"
   ]
  },
  {
   "cell_type": "code",
   "execution_count": 5,
   "metadata": {},
   "outputs": [],
   "source": [
    "from prodsys.models.performance_indicators import KPIEnum\n",
    "objectives = [scenario_data.Objective(\n",
    "    name=KPIEnum.THROUGHPUT\n",
    ")]"
   ]
  },
  {
   "attachments": {},
   "cell_type": "markdown",
   "metadata": {},
   "source": [
    "Currently, only reconfiguration cost, throughput time, WIP and throughput can be optimized. Yet, similar logic can also be used for optimizing the productivity. With all this data defined, we can now create our optimization scenario and additionally add it to our production system:"
   ]
  },
  {
   "cell_type": "code",
   "execution_count": 6,
   "metadata": {},
   "outputs": [],
   "source": [
    "scenario = scenario_data.ScenarioData(\n",
    "    constraints=constraints,\n",
    "    options=options,\n",
    "    info=info,\n",
    "    objectives=objectives\n",
    ")\n",
    "production_system.scenario_data = scenario"
   ]
  },
  {
   "attachments": {},
   "cell_type": "markdown",
   "metadata": {},
   "source": [
    "Next, we define the hyper parameters for our optimization. At first, we will use evolutionary algorithm for our optimization, because it allows parallelization. The hyper parameters for optimization are strongly problem dependant and need to be adjusted accordingly. For this example, we will use the following parameters and run the optimization for 10 generations. Note, that this can take some time..."
   ]
  },
  {
   "cell_type": "code",
   "execution_count": 7,
   "metadata": {},
   "outputs": [
    {
     "name": "stdout",
     "output_type": "stream",
     "text": [
      "Best Performance:  488.0\n",
      "Average Performance:  314.25\n",
      "Generation 1 ________________\n",
      "Best Performance:  488.0\n",
      "Average Performance:  397.5625\n",
      "Generation 2 ________________\n",
      "Best Performance:  494.0\n",
      "Average Performance:  -5820.625\n",
      "Generation 3 ________________\n",
      "Best Performance:  501.0\n",
      "Average Performance:  489.6875\n",
      "Generation 4 ________________\n",
      "Best Performance:  501.0\n",
      "Average Performance:  -5787.8125\n",
      "Generation 5 ________________\n",
      "Best Performance:  501.0\n",
      "Average Performance:  -5804.0\n",
      "Generation 6 ________________\n",
      "Best Performance:  501.0\n",
      "Average Performance:  -5782.0\n",
      "Generation 7 ________________\n",
      "Best Performance:  501.0\n",
      "Average Performance:  499.625\n",
      "Generation 8 ________________\n",
      "Best Performance:  501.0\n",
      "Average Performance:  498.75\n",
      "Generation 9 ________________\n",
      "Best Performance:  501.0\n",
      "Average Performance:  499.75\n",
      "Generation 10 ________________\n",
      "Best Performance:  501.0\n",
      "Average Performance:  499.75\n"
     ]
    }
   ],
   "source": [
    "from prodsys.optimization import evolutionary_algorithm_optimization\n",
    "from prodsys.optimization import evolutionary_algorithm\n",
    "from prodsys.simulation import sim\n",
    "sim.VERBOSE = 0\n",
    "\n",
    "hyper_parameters = evolutionary_algorithm.EvolutionaryAlgorithmHyperparameters(\n",
    "    seed=0,\n",
    "    number_of_generations=10,\n",
    "    population_size=16,\n",
    "    mutation_rate=0.2,\n",
    "    crossover_rate=0.1,\n",
    "    number_of_processes=4\n",
    ")\n",
    "evolutionary_algorithm_optimization(\n",
    "    production_system,\n",
    "    hyper_parameters,\n",
    ")"
   ]
  },
  {
   "attachments": {},
   "cell_type": "markdown",
   "metadata": {},
   "source": [
    "All algorithms in `prodsys` can be utilized with the same interface. Also available are the following algorithms:\n",
    "- `prodsys.optimization.simulated_annealing`: simulated annealing optimization for all transformations\n",
    "- `prodsys.optimization.tabu_search`: tabu search for all transformations\n",
    "- `prodsys.optimization.math_opt`: mathematical optimization with Gurobi, allows only optimization of the production capacity\n",
    "\n",
    "We see in the output, that the algorithm is running and that new best solutions with a higher performance are found. We can analyze them now and see, if we can find a better configuration for our production system. Optimization core results of the objective for the individual solutions and the solutions themselves are saved as default in a `results` folder to make sure that interruptions in optimization won't delete all results. We can load them with the following command:"
   ]
  },
  {
   "cell_type": "code",
   "execution_count": 8,
   "metadata": {},
   "outputs": [
    {
     "data": {
      "text/html": [
       "<div>\n",
       "<style scoped>\n",
       "    .dataframe tbody tr th:only-of-type {\n",
       "        vertical-align: middle;\n",
       "    }\n",
       "\n",
       "    .dataframe tbody tr th {\n",
       "        vertical-align: top;\n",
       "    }\n",
       "\n",
       "    .dataframe thead th {\n",
       "        text-align: right;\n",
       "    }\n",
       "</style>\n",
       "<table border=\"1\" class=\"dataframe\">\n",
       "  <thead>\n",
       "    <tr style=\"text-align: right;\">\n",
       "      <th></th>\n",
       "      <th>Generation</th>\n",
       "      <th>population_number</th>\n",
       "      <th>ID</th>\n",
       "      <th>agg_fitness</th>\n",
       "      <th>time</th>\n",
       "      <th>KPI_0</th>\n",
       "      <th>optimizer</th>\n",
       "    </tr>\n",
       "  </thead>\n",
       "  <tbody>\n",
       "    <tr>\n",
       "      <th>1</th>\n",
       "      <td>0</td>\n",
       "      <td>1</td>\n",
       "      <td>1fba8cf9-1358-11ee-ad97-00155d8419b0</td>\n",
       "      <td>381.0</td>\n",
       "      <td>46.748851</td>\n",
       "      <td>381.0</td>\n",
       "      <td>evolutionary</td>\n",
       "    </tr>\n",
       "    <tr>\n",
       "      <th>2</th>\n",
       "      <td>0</td>\n",
       "      <td>2</td>\n",
       "      <td>1fbbc5d4-1358-11ee-9880-00155d8419b0</td>\n",
       "      <td>250.0</td>\n",
       "      <td>46.75926</td>\n",
       "      <td>250.0</td>\n",
       "      <td>evolutionary</td>\n",
       "    </tr>\n",
       "    <tr>\n",
       "      <th>3</th>\n",
       "      <td>0</td>\n",
       "      <td>3</td>\n",
       "      <td>1fbe36ca-1358-11ee-b5bf-00155d8419b0</td>\n",
       "      <td>248.0</td>\n",
       "      <td>46.765494</td>\n",
       "      <td>248.0</td>\n",
       "      <td>evolutionary</td>\n",
       "    </tr>\n",
       "    <tr>\n",
       "      <th>4</th>\n",
       "      <td>0</td>\n",
       "      <td>4</td>\n",
       "      <td>1fbe36cb-1358-11ee-a54c-00155d8419b0</td>\n",
       "      <td>37.0</td>\n",
       "      <td>46.77173</td>\n",
       "      <td>37.0</td>\n",
       "      <td>evolutionary</td>\n",
       "    </tr>\n",
       "    <tr>\n",
       "      <th>5</th>\n",
       "      <td>0</td>\n",
       "      <td>5</td>\n",
       "      <td>1fbf6f7a-1358-11ee-8baf-00155d8419b0</td>\n",
       "      <td>334.0</td>\n",
       "      <td>46.778027</td>\n",
       "      <td>334.0</td>\n",
       "      <td>evolutionary</td>\n",
       "    </tr>\n",
       "  </tbody>\n",
       "</table>\n",
       "</div>"
      ],
      "text/plain": [
       "  Generation population_number                                    ID   \n",
       "1          0                 1  1fba8cf9-1358-11ee-ad97-00155d8419b0  \\\n",
       "2          0                 2  1fbbc5d4-1358-11ee-9880-00155d8419b0   \n",
       "3          0                 3  1fbe36ca-1358-11ee-b5bf-00155d8419b0   \n",
       "4          0                 4  1fbe36cb-1358-11ee-a54c-00155d8419b0   \n",
       "5          0                 5  1fbf6f7a-1358-11ee-8baf-00155d8419b0   \n",
       "\n",
       "  agg_fitness       time  KPI_0     optimizer  \n",
       "1       381.0  46.748851  381.0  evolutionary  \n",
       "2       250.0   46.75926  250.0  evolutionary  \n",
       "3       248.0  46.765494  248.0  evolutionary  \n",
       "4        37.0   46.77173   37.0  evolutionary  \n",
       "5       334.0  46.778027  334.0  evolutionary  "
      ]
     },
     "execution_count": 8,
     "metadata": {},
     "output_type": "execute_result"
    }
   ],
   "source": [
    "from prodsys.optimization import optimization_analysis\n",
    "\n",
    "df = optimization_analysis.read_optimization_results_file_to_df(\"results/optimization_results.json\", \"evolutionary\")\n",
    "df.head()"
   ]
  },
  {
   "attachments": {},
   "cell_type": "markdown",
   "metadata": {},
   "source": [
    "`prodsys` allows us to load the optimization results as a data frame and analyze them. In this case, we just want to see the best solution found by the algorithm:"
   ]
  },
  {
   "cell_type": "code",
   "execution_count": 9,
   "metadata": {},
   "outputs": [
    {
     "data": {
      "text/html": [
       "<div>\n",
       "<style scoped>\n",
       "    .dataframe tbody tr th:only-of-type {\n",
       "        vertical-align: middle;\n",
       "    }\n",
       "\n",
       "    .dataframe tbody tr th {\n",
       "        vertical-align: top;\n",
       "    }\n",
       "\n",
       "    .dataframe thead th {\n",
       "        text-align: right;\n",
       "    }\n",
       "</style>\n",
       "<table border=\"1\" class=\"dataframe\">\n",
       "  <thead>\n",
       "    <tr style=\"text-align: right;\">\n",
       "      <th></th>\n",
       "      <th>Generation</th>\n",
       "      <th>population_number</th>\n",
       "      <th>ID</th>\n",
       "      <th>agg_fitness</th>\n",
       "      <th>time</th>\n",
       "      <th>KPI_0</th>\n",
       "      <th>optimizer</th>\n",
       "    </tr>\n",
       "  </thead>\n",
       "  <tbody>\n",
       "    <tr>\n",
       "      <th>46</th>\n",
       "      <td>3</td>\n",
       "      <td>6</td>\n",
       "      <td>334c6f32-1358-11ee-b5bf-00155d8419b0</td>\n",
       "      <td>501.0</td>\n",
       "      <td>79.573997</td>\n",
       "      <td>501.0</td>\n",
       "      <td>evolutionary</td>\n",
       "    </tr>\n",
       "    <tr>\n",
       "      <th>83</th>\n",
       "      <td>10</td>\n",
       "      <td>1</td>\n",
       "      <td>334c6f32-1358-11ee-b5bf-00155d8419b0</td>\n",
       "      <td>501.0</td>\n",
       "      <td>113.180321</td>\n",
       "      <td>501.0</td>\n",
       "      <td>evolutionary</td>\n",
       "    </tr>\n",
       "    <tr>\n",
       "      <th>56</th>\n",
       "      <td>4</td>\n",
       "      <td>7</td>\n",
       "      <td>334c6f32-1358-11ee-b5bf-00155d8419b0</td>\n",
       "      <td>501.0</td>\n",
       "      <td>81.195124</td>\n",
       "      <td>501.0</td>\n",
       "      <td>evolutionary</td>\n",
       "    </tr>\n",
       "    <tr>\n",
       "      <th>80</th>\n",
       "      <td>9</td>\n",
       "      <td>1</td>\n",
       "      <td>334c6f32-1358-11ee-b5bf-00155d8419b0</td>\n",
       "      <td>501.0</td>\n",
       "      <td>110.203564</td>\n",
       "      <td>501.0</td>\n",
       "      <td>evolutionary</td>\n",
       "    </tr>\n",
       "    <tr>\n",
       "      <th>59</th>\n",
       "      <td>5</td>\n",
       "      <td>2</td>\n",
       "      <td>334c6f32-1358-11ee-b5bf-00155d8419b0</td>\n",
       "      <td>501.0</td>\n",
       "      <td>97.801255</td>\n",
       "      <td>501.0</td>\n",
       "      <td>evolutionary</td>\n",
       "    </tr>\n",
       "  </tbody>\n",
       "</table>\n",
       "</div>"
      ],
      "text/plain": [
       "   Generation population_number                                    ID   \n",
       "46          3                 6  334c6f32-1358-11ee-b5bf-00155d8419b0  \\\n",
       "83         10                 1  334c6f32-1358-11ee-b5bf-00155d8419b0   \n",
       "56          4                 7  334c6f32-1358-11ee-b5bf-00155d8419b0   \n",
       "80          9                 1  334c6f32-1358-11ee-b5bf-00155d8419b0   \n",
       "59          5                 2  334c6f32-1358-11ee-b5bf-00155d8419b0   \n",
       "\n",
       "   agg_fitness        time  KPI_0     optimizer  \n",
       "46       501.0   79.573997  501.0  evolutionary  \n",
       "83       501.0  113.180321  501.0  evolutionary  \n",
       "56       501.0   81.195124  501.0  evolutionary  \n",
       "80       501.0  110.203564  501.0  evolutionary  \n",
       "59       501.0   97.801255  501.0  evolutionary  "
      ]
     },
     "execution_count": 9,
     "metadata": {},
     "output_type": "execute_result"
    }
   ],
   "source": [
    "df.sort_values(by=[\"agg_fitness\"], ascending=False).head()"
   ]
  },
  {
   "cell_type": "code",
   "execution_count": 10,
   "metadata": {},
   "outputs": [],
   "source": [
    "import os \n",
    "\n",
    "# Find all files i the result folder that contain the ID of the best individual\n",
    "best_individual_ID = df.sort_values(by=[\"agg_fitness\"], ascending=False).head()[\"ID\"].values[0]\n",
    "best_individual_ID = str(best_individual_ID)\n",
    "files = os.listdir(\"results\")\n",
    "files = [file for file in files if best_individual_ID in file]\n",
    "new_production_system = prodsys.adapters.JsonProductionSystemAdapter()\n",
    "new_production_system.read_data(\"results/\" + files[0])"
   ]
  },
  {
   "cell_type": "code",
   "execution_count": 11,
   "metadata": {},
   "outputs": [
    {
     "name": "stdout",
     "output_type": "stream",
     "text": [
      "\n",
      "------------- Throughput -------------\n",
      "\n",
      "              Output  Throughput\n",
      "Product_type                    \n",
      "Product_1        555   13.602995\n",
      "Product_2        472   11.568673\n",
      "------------- WIP -------------\n",
      "\n",
      "Product_type\n",
      "Product_1    35.838941\n",
      "Product_2    25.536861\n",
      "Total        60.614472\n",
      "Name: WIP, dtype: float64\n",
      "\n",
      "------------- Throughput time -------------\n",
      "\n",
      "Product_type\n",
      "Product_1    145.549436\n",
      "Product_2    126.325789\n",
      "Name: Throughput_time, dtype: float64\n",
      "\n",
      "------------- Resource states -------------\n",
      "\n",
      "                                                time_increment  resource_time   \n",
      "Resource                             Time_type                                  \n",
      "04480aa8-1358-11ee-a439-00155d8419b0 PR            2838.665276    2879.988626  \\\n",
      "                                     SB              41.323351    2879.988626   \n",
      "04480aa9-1358-11ee-bc4f-00155d8419b0 PR            2869.915363    2879.988626   \n",
      "                                     SB              10.073263    2879.988626   \n",
      "04480aaa-1358-11ee-8014-00155d8419b0 PR             832.875552    2879.988626   \n",
      "                                     SB            2047.113074    2879.988626   \n",
      "04480aab-1358-11ee-8bea-00155d8419b0 PR               3.324425    2879.988626   \n",
      "                                     SB            2876.664201    2879.988626   \n",
      "04480aac-1358-11ee-91a2-00155d8419b0 PR            2556.287690    2879.988626   \n",
      "                                     SB             323.700937    2879.988626   \n",
      "04480aad-1358-11ee-b40b-00155d8419b0 PR            2818.492511    2879.988626   \n",
      "                                     SB              61.496115    2879.988626   \n",
      "TR1                                  PR            1936.341333    2879.988626   \n",
      "                                     SB             943.647293    2879.988626   \n",
      "\n",
      "                                                percentage  \n",
      "Resource                             Time_type              \n",
      "04480aa8-1358-11ee-a439-00155d8419b0 PR          98.565156  \n",
      "                                     SB           1.434844  \n",
      "04480aa9-1358-11ee-bc4f-00155d8419b0 PR          99.650233  \n",
      "                                     SB           0.349767  \n",
      "04480aaa-1358-11ee-8014-00155d8419b0 PR          28.919404  \n",
      "                                     SB          71.080596  \n",
      "04480aab-1358-11ee-8bea-00155d8419b0 PR           0.115432  \n",
      "                                     SB          99.884568  \n",
      "04480aac-1358-11ee-91a2-00155d8419b0 PR          88.760340  \n",
      "                                     SB          11.239660  \n",
      "04480aad-1358-11ee-b40b-00155d8419b0 PR          97.864710  \n",
      "                                     SB           2.135290  \n",
      "TR1                                  PR          67.234340  \n",
      "                                     SB          32.765660  \n"
     ]
    }
   ],
   "source": [
    "runner = prodsys.runner.Runner(adapter=new_production_system)\n",
    "runner.initialize_simulation()\n",
    "runner.run(2880)\n",
    "\n",
    "runner.print_results()"
   ]
  },
  {
   "attachments": {},
   "cell_type": "markdown",
   "metadata": {},
   "source": [
    "When comparing the results from the original production system and the new one, we see that two machines were added. However, the machines are still heavily utilized. Most likely, the optimizer did just not find a good solution, because we only ran it for 10 generations and for a small population size. Increasing these will take longer, but will more likely find better solutions. "
   ]
  },
  {
   "cell_type": "code",
   "execution_count": null,
   "metadata": {},
   "outputs": [],
   "source": []
  }
 ],
 "metadata": {
  "kernelspec": {
   "display_name": "prodsys-9RcHADzK-py3.11",
   "language": "python",
   "name": "python3"
  },
  "language_info": {
   "codemirror_mode": {
    "name": "ipython",
    "version": 3
   },
   "file_extension": ".py",
   "mimetype": "text/x-python",
   "name": "python",
   "nbconvert_exporter": "python",
   "pygments_lexer": "ipython3",
   "version": "3.11.3"
  },
  "orig_nbformat": 4
 },
 "nbformat": 4,
 "nbformat_minor": 2
}
