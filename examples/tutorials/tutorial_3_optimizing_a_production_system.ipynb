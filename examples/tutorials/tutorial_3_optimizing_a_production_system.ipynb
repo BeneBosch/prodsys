{
 "cells": [
  {
   "attachments": {},
   "cell_type": "markdown",
   "metadata": {},
   "source": [
    "# Optimizing a production system"
   ]
  },
  {
   "attachments": {},
   "cell_type": "markdown",
   "metadata": {},
   "source": [
    "This tutorial will guide you through the optimization functionalities of `prodsys` to optimize the configuration of a production system. With the `prodsys.optimization` package, we can utilize meta-heuristics and mathematical optimization for this task. All algorithms can be conviently used with the `prodsys.models` API. \n",
    "\n",
    "For this example, we will use a production system which we will load from a json-file, which can be found in the examples folder of [prodsys' github page](https://github.com/sdm4fzi/prodsys). Download it and store it in the same folder as this notebook. Load the configuration and run a simulation with the following commands:\n",
    "\n",
    "Let's start at first by loading our production system:"
   ]
  },
  {
   "cell_type": "code",
   "execution_count": 1,
   "metadata": {},
   "outputs": [
    {
     "name": "stderr",
     "output_type": "stream",
     "text": [
      "100%|██████████| 20000/20000 [00:06<00:00, 2919.88it/s]\n"
     ]
    },
    {
     "name": "stdout",
     "output_type": "stream",
     "text": [
      "\n",
      "------------- Throughput -------------\n",
      "\n",
      "              Output  Throughput\n",
      "Product_type                    \n",
      "Product_1        158    1.040803\n",
      "Product_2        113    0.744371\n",
      "Product_3        154    1.014453\n",
      "------------- WIP -------------\n",
      "\n",
      "Product_type\n",
      "Product_1    18.744155\n",
      "Product_2    18.725161\n",
      "Product_3    17.993283\n",
      "Total        53.351869\n",
      "Name: WIP, dtype: float64\n",
      "\n",
      "------------- Throughput time -------------\n",
      "\n",
      "Product_type\n",
      "Product_1    568.297738\n",
      "Product_2    722.492383\n",
      "Product_3    567.056246\n",
      "Name: Throughput_time, dtype: float64\n",
      "\n",
      "------------- Resource states -------------\n",
      "\n",
      "                    time_increment  resource_time  percentage\n",
      "Resource Time_type                                           \n",
      "R1       PR            6487.179816   19993.737408   32.446059\n",
      "         SB            9402.143058   19993.737408   47.025440\n",
      "         ST            2907.339730   19993.737408   14.541252\n",
      "         UD            1197.074804   19993.737408    5.987249\n",
      "R2       PR            9517.090415   19993.737408   47.600357\n",
      "         SB            9511.583700   19993.737408   47.572815\n",
      "         UD             965.063293   19993.737408    4.826828\n",
      "R3       PR            5482.361249   19993.737408   27.420392\n",
      "         SB           10455.922550   19993.737408   52.295988\n",
      "         ST            2535.641868   19993.737408   12.682181\n",
      "         UD            1519.811741   19993.737408    7.601439\n",
      "R4       PR            4982.276888   19993.737408   24.919187\n",
      "         SB           11903.139912   19993.737408   59.534342\n",
      "         ST            2601.612049   19993.737408   13.012135\n",
      "         UD             506.708558   19993.737408    2.534336\n",
      "TR1      PR            1783.500000   19993.737408    8.920293\n",
      "         SB           18082.654229   19993.737408   90.441591\n",
      "         UD             127.583179   19993.737408    0.638116\n",
      "TR2      PR            1896.300000   19993.737408    9.484470\n",
      "         SB           17906.538739   19993.737408   89.560738\n",
      "         UD             190.898669   19993.737408    0.954792\n"
     ]
    }
   ],
   "source": [
    "import prodsys\n",
    "\n",
    "production_system = prodsys.adapters.JsonProductionSystemAdapter()\t\n",
    "production_system.read_data('example_configuration.json')\n",
    "\n",
    "runner = prodsys.runner.Runner(adapter=production_system)\n",
    "runner.initialize_simulation()\n",
    "runner.run(20000)\n",
    "runner.print_results()"
   ]
  },
  {
   "attachments": {},
   "cell_type": "markdown",
   "metadata": {},
   "source": [
    "As already concluded in the seccond tutorial, this production system configuration is not capable of satisfying the arrival processes of the products and, thus, having very high WIP and throughput time values. In order to satify the product needs of our customers, we want to find a configuration with the `prodsys.optimization` package. However, for starting optimization, we also need to provide an optimization scenario, that models constraints, options, information and the objectives. Let's start by creating the constraints of the scenario with the `prodsys.models` API:"
   ]
  },
  {
   "cell_type": "code",
   "execution_count": 2,
   "metadata": {},
   "outputs": [],
   "source": [
    "from prodsys.models import scenario_data\n",
    "\n",
    "constraints = scenario_data.ScenarioConstrainsData(\n",
    "    max_reconfiguration_cost=100000,\n",
    "    max_num_machines=8,\n",
    "    max_num_processes_per_machine=2,\n",
    "    max_num_transport_resources=2\n",
    ")"
   ]
  },
  {
   "attachments": {},
   "cell_type": "markdown",
   "metadata": {},
   "source": [
    "As you can see, the constraints consist of the maximum cost for reconfigruation and the maximumm number of machines, processes per machine and transport resources. Next, we define the options of our scenario for optimization:"
   ]
  },
  {
   "cell_type": "code",
   "execution_count": 3,
   "metadata": {},
   "outputs": [],
   "source": [
    "positions = [[x*4, y*4] for x in range(4) for y in range(10)]\n",
    "options = scenario_data.ScenarioOptionsData(\n",
    "    transformations=[scenario_data.ReconfigurationEnum.PRODUCTION_CAPACITY],\n",
    "    machine_controllers=[\"FIFO\", \"SPT\"],\n",
    "    transport_controllers=[\"FIFO\", \"SPT_transport\"],\n",
    "    routing_heuristics=[\"shortest_queue\"],\n",
    "    positions=positions\n",
    ")"
   ]
  },
  {
   "attachments": {},
   "cell_type": "markdown",
   "metadata": {},
   "source": [
    "We specify in the scenario options the transformations that can be performed by the optmizer, which control policies and routing heuristics are available and what kind of positions are available to place resources. By choosing the transformation `PRODUCTION_CAPACITY`, the optimizer can add, remove or move production resources from the system or processes from single production resources.\n",
    "\n",
    "At last, we need to specify our info for optimization:"
   ]
  },
  {
   "cell_type": "code",
   "execution_count": 4,
   "metadata": {},
   "outputs": [],
   "source": [
    "info = scenario_data.ScenarioInfoData(\n",
    "    machine_cost=40000,\n",
    "    transport_resource_cost=20000,\n",
    "    process_module_cost=4000,\n",
    "    time_range=24*60\n",
    ")"
   ]
  },
  {
   "attachments": {},
   "cell_type": "markdown",
   "metadata": {},
   "source": [
    "The scenario info contains information about the cost for machines, transport resources and process modules. Additionally, we specify a time range. This value is the time used for evalutation of created configurations during simulation. Since many evaluations are performed during optimization, this parameter can significantly influence the optimmization Time. For now, we specified it to one day. Lastly we can define the objectives used for optimization:"
   ]
  },
  {
   "cell_type": "code",
   "execution_count": 5,
   "metadata": {},
   "outputs": [],
   "source": [
    "from prodsys.models.performance_indicators import KPIEnum\n",
    "objectives = [scenario_data.Objective(\n",
    "    name=KPIEnum.OUTPUT\n",
    ")]"
   ]
  },
  {
   "attachments": {},
   "cell_type": "markdown",
   "metadata": {},
   "source": [
    "TODO"
   ]
  },
  {
   "cell_type": "code",
   "execution_count": 6,
   "metadata": {},
   "outputs": [],
   "source": [
    "scenario = scenario_data.ScenarioData(\n",
    "    constraints=constraints,\n",
    "    options=options,\n",
    "    info=info,\n",
    "    objectives=objectives\n",
    ")\n",
    "production_system.scenario_data = scenario"
   ]
  },
  {
   "attachments": {},
   "cell_type": "markdown",
   "metadata": {},
   "source": [
    "TODO mkae API for optimization new to use these objects"
   ]
  },
  {
   "cell_type": "code",
   "execution_count": 7,
   "metadata": {},
   "outputs": [],
   "source": [
    "from prodsys.optimization import evolutionary_algorithm\n",
    "\n",
    "hyper_parameters = evolutionary_algorithm.EvolutionaryAlgorithmHyperparameters(\n",
    "    seed=0,\n",
    "    number_of_generations=10,\n",
    "    population_size=10,\n",
    "    mutation_rate=0.2,\n",
    "    crossover_rate=0.1,\n",
    "    number_of_processes=4\n",
    ")\n",
    "evolutionary_algorithm.optimize_configuration(\n",
    "    production_system,\n",
    ")"
   ]
  },
  {
   "cell_type": "code",
   "execution_count": null,
   "metadata": {},
   "outputs": [],
   "source": []
  }
 ],
 "metadata": {
  "kernelspec": {
   "display_name": "prodsys-9RcHADzK-py3.11",
   "language": "python",
   "name": "python3"
  },
  "language_info": {
   "codemirror_mode": {
    "name": "ipython",
    "version": 3
   },
   "file_extension": ".py",
   "mimetype": "text/x-python",
   "name": "python",
   "nbconvert_exporter": "python",
   "pygments_lexer": "ipython3",
   "version": "3.11.3"
  },
  "orig_nbformat": 4
 },
 "nbformat": 4,
 "nbformat_minor": 2
}
