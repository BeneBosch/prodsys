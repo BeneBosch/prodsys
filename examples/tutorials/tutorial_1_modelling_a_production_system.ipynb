{
 "cells": [
  {
   "attachments": {},
   "cell_type": "markdown",
   "metadata": {},
   "source": [
    "# Modelling a production system\n",
    "\n",
    "In this example we explore the modeling functionalities of `prodsys`. In `prodsys` we model production systems be specifying the attributes of the following components:\n",
    "\n",
    "- **Time model**: All relevant timely features of the production system.\n",
    "- **Processes**: Processes give resources the capabilities to perform certain production or transport processes.\n",
    "- **Resources**: Resources perform the production and transport processes.\n",
    "- **Products**: The products that are produced in the production system, requiring a set of processes to be performed.\n",
    "- **Sources**: Sources create products and place them in the production system.\n",
    "- **Sinks**: Sinks store finished products.\n",
    "- **Production system**: The production system is the container for all components and is used to run the simulation.\n",
    "\n",
    "To make these concepts more understandable, we extend the example from the [getting started](getting_started.md) section. The production system contains a milling machine, a turning lath and a work center that perform processes on aluminium housings. The transport is thereby performed by a worker. \n",
    "\n",
    "\n",
    "We will start by importing the express API:\n"
   ]
  },
  {
   "cell_type": "code",
   "execution_count": 1,
   "metadata": {},
   "outputs": [],
   "source": [
    "import prodsys.express as psx"
   ]
  },
  {
   "attachments": {},
   "cell_type": "markdown",
   "metadata": {},
   "source": [
    "Additionally, since the progress bar can be buggy sometimes in Jupyter notebooks, we can disable it for this example by setting the verbose level of the simulation to 0:"
   ]
  },
  {
   "cell_type": "code",
   "execution_count": 2,
   "metadata": {},
   "outputs": [],
   "source": [
    "from prodsys.simulation import sim\n",
    "\n",
    "sim.VERBOSE = 0"
   ]
  },
  {
   "attachments": {},
   "cell_type": "markdown",
   "metadata": {},
   "source": [
    "## Time models\n",
    "\n",
    "`prodsys` provides different types of time models to use, the are:\n",
    "- **FunctionTimeModel**: A time model that is based on a distribution function. Either constant, normal, lognormal or exponential.\n",
    "- **SequenceTimeModel**: A time model that is based on a sequence of time values that are randomly sampled.\n",
    "- **ManhattanDistanceTimeMOdel**: A time model that is based on the manhattan distance between two locations and a constant speed and reaction time. \n",
    "\n",
    "We will use the `FunctionTimeModel` to model the time required for milling and turning processes and model the time needed for transport with the `ManhattanDistanceTimeModel`. We will also model the arrival of housings with the `SequentialTimeModel`, which could, e.g. be observed inter-arrival times:"
   ]
  },
  {
   "cell_type": "code",
   "execution_count": 3,
   "metadata": {},
   "outputs": [],
   "source": [
    "milling_time = psx.FunctionTimeModel(distribution_function=\"normal\", location=1, scale=0.1, ID=\"milling_time\")\n",
    "turning_time = psx.FunctionTimeModel(distribution_function=\"normal\", location=0.5, scale=0.1, ID=\"turning_time\")\n",
    "transport_time = psx.ManhattanDistanceTimeModel(speed=200, reaction_time=0.05, ID=\"transport_time\")\n",
    "arrival_time_of_housing_1 = psx.SequentialTimeModel([1.6, 1.3, 1.8, 2.0, 1.2, 1.7, 1.3], ID=\"arrival_time_of_housings\")\n",
    "arrival_time_of_housing_2 = psx.SequentialTimeModel([1.3, 2.3, 2.1, 2.0, 1.4], ID=\"arrival_time_of_housings\")"
   ]
  },
  {
   "attachments": {},
   "cell_type": "markdown",
   "metadata": {},
   "source": [
    "## Processes\n",
    "\n",
    "After creating the time models, we can define the processes in the system. We will use the `ProductionProcess` to model the milling and turning processes and the `TransportProcess` to model the transport process:"
   ]
  },
  {
   "cell_type": "code",
   "execution_count": 4,
   "metadata": {},
   "outputs": [],
   "source": [
    "milling_process = psx.ProductionProcess(milling_time, ID=\"milling_process\")\n",
    "turning_process = psx.ProductionProcess(turning_time, ID=\"turning_process\")\n",
    "transport_process = psx.TransportProcess(transport_time, ID=\"transport_process\")"
   ]
  },
  {
   "attachments": {},
   "cell_type": "markdown",
   "metadata": {},
   "source": [
    "`prodsys` also provides the possibility for a `CapabilityProcess` instead of normal `ProductionProcess`. These processes are not matched by their ID but by their capability, which gives more flexibility. This extends the typical PPR modeling principle (Product, Process and Resource) of `prodsys` to the Product, Process, Resource and Skill modelling principle [PPRS](https://publica-rest.fraunhofer.de/server/api/core/bitstreams/512978c9-389a-43c1-8cbe-016f08e6952d/content) by considering the capabilities / skills required for performing processes. For more information, refer to the API reference in the documentation."
   ]
  },
  {
   "attachments": {},
   "cell_type": "markdown",
   "metadata": {},
   "source": [
    "## Resources\n",
    "With this, we can create our resources. The milling machine and turning lath can perform their associated processes and the worker can perform the transport process. However, the work center can perform milling and turning. Milling machine, turning lath and work center are `ProductionResource`s and the worker is a `TransportResource`:"
   ]
  },
  {
   "cell_type": "code",
   "execution_count": 5,
   "metadata": {},
   "outputs": [],
   "source": [
    "milling_machine = psx.ProductionResource([milling_process], location=[5, 5], ID=\"milling_machine\")\n",
    "turning_lath = psx.ProductionResource([turning_process], location=[10, 10], ID=\"turning_machine\")\n",
    "work_center = psx.ProductionResource([milling_process, turning_process], location=[5, 10], ID=\"work_center\")\n",
    "worker = psx.TransportResource([transport_process], location=[0, 0], ID=\"worker\")"
   ]
  },
  {
   "attachments": {},
   "cell_type": "markdown",
   "metadata": {},
   "source": [
    "## Product\n",
    "Now, with specified resources, we can model our product, the housing. In fact, we don't have only one housing but two different variants for this example. The first product requires milling and afterwards turning, and the second requries turning and afterwards milling:"
   ]
  },
  {
   "cell_type": "code",
   "execution_count": 6,
   "metadata": {},
   "outputs": [],
   "source": [
    "housing_1 = psx.Product([milling_process, turning_process], transport_process, ID=\"housing_1\")\n",
    "housing_2 = psx.Product([turning_process, milling_process], transport_process, ID=\"housing_2\")"
   ]
  },
  {
   "attachments": {},
   "cell_type": "markdown",
   "metadata": {},
   "source": [
    "## Sources and sinks\n",
    "At last, we need to model the sources and sinks. The source creates housings and places them in the production system. The sink stores finished housings:"
   ]
  },
  {
   "cell_type": "code",
   "execution_count": 7,
   "metadata": {},
   "outputs": [],
   "source": [
    "source_1 = psx.Source(housing_1, arrival_time_of_housing_1, location=[0,0], ID=\"source_1\")\n",
    "source_2 = psx.Source(housing_2, arrival_time_of_housing_2, location=[0, 1], ID=\"source_2\")\n",
    "\n",
    "sink_1 = psx.Sink(housing_1, location=[20, 20], ID=\"sink_1\")\n",
    "sink_2 = psx.Sink(housing_2, location=[20, 21], ID=\"sink_2\")"
   ]
  },
  {
   "attachments": {},
   "cell_type": "markdown",
   "metadata": {},
   "source": [
    "## Production System creation\n",
    "We now create the production system, validate it and run the simulation for 60 minutes. Afterwards, we print aggregated simulation results:"
   ]
  },
  {
   "cell_type": "code",
   "execution_count": 8,
   "metadata": {},
   "outputs": [
    {
     "name": "stdout",
     "output_type": "stream",
     "text": [
      "\n",
      "------------- Throughput -------------\n",
      "\n",
      "              Output  Throughput\n",
      "Product_type                    \n",
      "housing_1         29   34.226897\n",
      "housing_2         28   33.046659\n",
      "------------- WIP -------------\n",
      "\n",
      "Product_type\n",
      "Total        6.811974\n",
      "housing_1    3.325349\n",
      "housing_2    3.565141\n",
      "Name: WIP, dtype: float64\n",
      "\n",
      "------------- Throughput time -------------\n",
      "\n",
      "Product_type\n",
      "housing_1    5.459758\n",
      "housing_2    5.466784\n",
      "Name: Throughput_time, dtype: float64\n",
      "\n",
      "------------- Resource states -------------\n",
      "\n",
      "                           time_increment  resource_time  percentage\n",
      "Resource        Time_type                                           \n",
      "milling_machine PR              36.986713      59.908484   61.738690\n",
      "                SB              22.921771      59.908484   38.261310\n",
      "turning_machine PR              16.941726      59.908484   28.279343\n",
      "                SB              42.966758      59.908484   71.720657\n",
      "work_center     PR              52.313085      59.908484   87.321664\n",
      "                SB               7.595399      59.908484   12.678336\n",
      "worker          PR              55.210000      59.908484   92.157231\n",
      "                SB               4.698484      59.908484    7.842769\n"
     ]
    }
   ],
   "source": [
    "production_system = psx.ProductionSystem([milling_machine, turning_lath, work_center, worker], [source_1, source_2], [sink_1, sink_2])\n",
    "production_system.validate()\n",
    "production_system.run(60)\n",
    "production_system.runner.print_results()"
   ]
  },
  {
   "attachments": {},
   "cell_type": "markdown",
   "metadata": {},
   "source": [
    "By validating the production system, we can check if all components are valid and if the production system is consistent in a logical or physical sende. If the production system is not valid, the validation will raise an exception and the simulation cannot be run. However, it easily let's you identify where you made some modelling mistakes."
   ]
  },
  {
   "attachments": {},
   "cell_type": "markdown",
   "metadata": {},
   "source": [
    "## States\n",
    "\n",
    "We can also add different states, such as setups and breakdowns, to resources to model their behavior more accurately. For example, we can add a setup and breakdown to the work center by specifying the time models for breakdown an setup, create states and add them to the work center:"
   ]
  },
  {
   "cell_type": "code",
   "execution_count": 9,
   "metadata": {},
   "outputs": [],
   "source": [
    "breakdwon_time_model = psx.FunctionTimeModel(distribution_function=\"exponential\", location=200, ID=\"breakdown_time_model\")\n",
    "repair_time_model = psx.FunctionTimeModel(distribution_function=\"exponential\", location=10, ID=\"repair_time_model\")\n",
    "setup_time_model_1 = psx.FunctionTimeModel(distribution_function=\"exponential\", location=0.2, ID=\"setup_time_model\")\n",
    "setup_time_model_2 = psx.FunctionTimeModel(distribution_function=\"exponential\", location=0.3, ID=\"setup_time_model\")\n",
    "\n",
    "breakdown_state = psx.BreakDownState(breakdwon_time_model, repair_time_model, ID=\"breakdown_state\")\n",
    "setup_state_1 = psx.SetupState(setup_time_model_1, milling_process, turning_process, ID=\"setup_state_1\")\n",
    "setup_state_2 = psx.SetupState(setup_time_model_2, turning_process, milling_process, ID=\"setup_state_2\")\n",
    "\n",
    "work_center.states = [breakdown_state, setup_state_1, setup_state_2]"
   ]
  },
  {
   "attachments": {},
   "cell_type": "markdown",
   "metadata": {},
   "source": [
    "Note, that we could have given these states to the resource already in the initialization. Again, we simulate the production system and evaluate its performance."
   ]
  },
  {
   "cell_type": "code",
   "execution_count": 10,
   "metadata": {},
   "outputs": [
    {
     "name": "stdout",
     "output_type": "stream",
     "text": [
      "\n",
      "------------- Throughput -------------\n",
      "\n",
      "              Output  Throughput\n",
      "Product_type                    \n",
      "housing_1         27   32.475464\n",
      "housing_2         24   28.867079\n",
      "------------- WIP -------------\n",
      "\n",
      "Product_type\n",
      "Total        8.258364\n",
      "housing_1    4.130165\n",
      "housing_2    4.303089\n",
      "Name: WIP, dtype: float64\n",
      "\n",
      "------------- Throughput time -------------\n",
      "\n",
      "Product_type\n",
      "housing_1    6.323783\n",
      "housing_2    6.820811\n",
      "Name: Throughput_time, dtype: float64\n",
      "\n",
      "------------- Resource states -------------\n",
      "\n",
      "                           time_increment  resource_time  percentage\n",
      "Resource        Time_type                                           \n",
      "milling_machine PR              32.570076         59.705   54.551672\n",
      "                SB              27.134924         59.705   45.448328\n",
      "turning_machine PR              12.618378         59.705   21.134542\n",
      "                SB              47.086622         59.705   78.865458\n",
      "work_center     PR              50.537160         59.705   84.644770\n",
      "                SB               1.325000         59.705    2.219245\n",
      "                ST               7.842840         59.705   13.135985\n",
      "worker          PR              50.780000         59.705   85.051503\n",
      "                SB               8.925000         59.705   14.948497\n"
     ]
    }
   ],
   "source": [
    "production_system.validate()\n",
    "production_system.run(60)\n",
    "production_system.runner.print_results()"
   ]
  },
  {
   "attachments": {},
   "cell_type": "markdown",
   "metadata": {},
   "source": [
    "The results show that the work center is now for some time in Setup (ST).   However, no time increment for unscheduled downtime due to breakdowns (UD) is visible. This is due to the limited simulation time. If we increase the simulation time to 1000 minutes, we can see that the work center is also in unscheduled downtime for some time:"
   ]
  },
  {
   "cell_type": "code",
   "execution_count": 11,
   "metadata": {},
   "outputs": [
    {
     "name": "stdout",
     "output_type": "stream",
     "text": [
      "\n",
      "------------- Throughput -------------\n",
      "\n",
      "              Output  Throughput\n",
      "Product_type                    \n",
      "housing_1        468   33.087966\n",
      "housing_2        478   33.794973\n",
      "------------- WIP -------------\n",
      "\n",
      "Product_type\n",
      "Total        102.853325\n",
      "housing_1     51.616740\n",
      "housing_2     51.405914\n",
      "Name: WIP, dtype: float64\n",
      "\n",
      "------------- Throughput time -------------\n",
      "\n",
      "Product_type\n",
      "housing_1    78.448558\n",
      "housing_2    75.522640\n",
      "Name: Throughput_time, dtype: float64\n",
      "\n",
      "------------- Resource states -------------\n",
      "\n",
      "                           time_increment  resource_time  percentage\n",
      "Resource        Time_type                                           \n",
      "milling_machine PR             619.778557     999.928775   61.982270\n",
      "                SB             380.150218     999.928775   38.017730\n",
      "turning_machine PR             308.216396     999.928775   30.823835\n",
      "                SB             691.712380     999.928775   69.176165\n",
      "work_center     PR             821.697643     999.928775   82.175617\n",
      "                SB               1.872347     999.928775    0.187248\n",
      "                ST             114.701234     999.928775   11.470940\n",
      "                UD              61.657551     999.928775    6.166194\n",
      "worker          PR             926.255000     999.928775   92.632098\n",
      "                SB              73.673775     999.928775    7.367902\n"
     ]
    }
   ],
   "source": [
    "production_system.validate()\n",
    "production_system.run(1000)\n",
    "production_system.runner.print_results()"
   ]
  },
  {
   "attachments": {},
   "cell_type": "markdown",
   "metadata": {},
   "source": [
    "Now we see, that the work center is 6.2% of the time unavailable due to unscheduled downtime. \n",
    "\n",
    "## Changing the logic of the production system\n",
    "\n",
    "`prodsys` does not only allow to change the physical configuration of a production system but also the logic. For example, we can change the logic of the work center by changing it's control policy from `FIFO` (first in first out) to `SPT` (shortes process time first). BY changing this, the work center will now get products from the queue with bias on the short process, which is in our case the turning process:"
   ]
  },
  {
   "cell_type": "code",
   "execution_count": 12,
   "metadata": {},
   "outputs": [
    {
     "name": "stdout",
     "output_type": "stream",
     "text": [
      "\n",
      "------------- Throughput -------------\n",
      "\n",
      "              Output  Throughput\n",
      "Product_type                    \n",
      "housing_1        489   34.534463\n",
      "housing_2        483   34.110727\n",
      "------------- WIP -------------\n",
      "\n",
      "Product_type\n",
      "Total        82.744114\n",
      "housing_1    41.650653\n",
      "housing_2    41.252571\n",
      "Name: WIP, dtype: float64\n",
      "\n",
      "------------- Throughput time -------------\n",
      "\n",
      "Product_type\n",
      "housing_1    60.552977\n",
      "housing_2    61.012854\n",
      "Name: Throughput_time, dtype: float64\n",
      "\n",
      "------------- Resource states -------------\n",
      "\n",
      "                           time_increment  resource_time  percentage\n",
      "Resource        Time_type                                           \n",
      "milling_machine PR             623.597768     999.918067   62.364887\n",
      "                SB             376.320298     999.918067   37.635113\n",
      "turning_machine PR             311.607095     999.918067   31.163263\n",
      "                SB             688.310972     999.918067   68.836737\n",
      "work_center     PR             834.815996     999.918067   83.488440\n",
      "                SB               1.325000     999.918067    0.132511\n",
      "                ST             117.728767     999.918067   11.773841\n",
      "                UD              46.048304     999.918067    4.605208\n",
      "worker          PR             939.985000     999.918067   94.006202\n",
      "                SB              59.933067     999.918067    5.993798\n"
     ]
    }
   ],
   "source": [
    "from prodsys.models.resource_data import ResourceControlPolicy\n",
    "\n",
    "work_center.control_policy = ResourceControlPolicy.SPT\n",
    "\n",
    "production_system.validate()\n",
    "production_system.run(1000)\n",
    "production_system.runner.print_results()"
   ]
  },
  {
   "attachments": {},
   "cell_type": "markdown",
   "metadata": {},
   "source": [
    "Additionally, we can change the routing policy in the production system. A routing policy is not used for heuristically solving a sequencing problem as the control policy but for solving the routing problem for parallel redundant resources. In our example, bot milling machine and work center provide the milling process. While simulating, we need to have some logic how to decide which product is processed on which resource. By default, the routing policy is `random`, which means that the routing is randomly chosen. However, we can also change the routing policy to `shortest_queue`, which means that the product is always routed to the resource with the shortest queue:"
   ]
  },
  {
   "cell_type": "code",
   "execution_count": 13,
   "metadata": {},
   "outputs": [
    {
     "name": "stdout",
     "output_type": "stream",
     "text": [
      "\n",
      "------------- Throughput -------------\n",
      "\n",
      "              Output  Throughput\n",
      "Product_type                    \n",
      "housing_1        534   37.712235\n",
      "housing_2        532   37.570991\n",
      "------------- WIP -------------\n",
      "\n",
      "Product_type\n",
      "Total        19.119094\n",
      "housing_1     8.746041\n",
      "housing_2    10.526327\n",
      "Name: WIP, dtype: float64\n",
      "\n",
      "------------- Throughput time -------------\n",
      "\n",
      "Product_type\n",
      "housing_1    13.646840\n",
      "housing_2    16.414082\n",
      "Name: Throughput_time, dtype: float64\n",
      "\n",
      "------------- Resource states -------------\n",
      "\n",
      "                           time_increment  resource_time  percentage\n",
      "Resource        Time_type                                           \n",
      "milling_machine PR             796.211694     999.869588   79.631554\n",
      "                SB             203.657894     999.869588   20.368446\n",
      "turning_machine PR             466.738211     999.869588   46.679909\n",
      "                SB             533.131377     999.869588   53.320091\n",
      "work_center     PR             640.699996     999.869588   64.078356\n",
      "                SB             197.596506     999.869588   19.762228\n",
      "                ST              93.944565     999.869588    9.395682\n",
      "                UD              67.628521     999.869588    6.763734\n",
      "worker          PR             991.450000     999.869588   99.157931\n",
      "                SB               8.419588     999.869588    0.842069\n"
     ]
    }
   ],
   "source": [
    "from prodsys.models.source_data import RoutingHeuristic\n",
    "\n",
    "source_1.routing_heuristic = RoutingHeuristic.shortest_queue\n",
    "\n",
    "production_system.validate()\n",
    "production_system.run(1000)\n",
    "production_system.runner.print_results()"
   ]
  },
  {
   "attachments": {},
   "cell_type": "markdown",
   "metadata": {},
   "source": [
    "## prodsys.models API\n",
    "\n",
    "So far, we only studied the express API of `prodsys`. However, `prodsys` also provides a more detailed API that allows to model more complex production systems with `prodsys.models`. The models API uses ID references for connecting the different entities (processes, products, resources etc.) that results in a flat data structure instead of nested hierarchical relationsship, as the express API. Whilst the hierarchical structure is easy for programmatically creating production systems, the flat data structure is more convenient for serializing the data, i.e. saving and loading production systems. All algorithms in `prodsys` use the models API. For luck, all express API objects can be converted to models API objects and vice versa."
   ]
  },
  {
   "cell_type": "code",
   "execution_count": 14,
   "metadata": {},
   "outputs": [
    {
     "name": "stdout",
     "output_type": "stream",
     "text": [
      "ID='milling_process' description='' time_model_id='milling_time' type=<ProcessTypeEnum.ProductionProcesses: 'ProductionProcesses'>\n"
     ]
    }
   ],
   "source": [
    "model_production_system = production_system.to_model()\n",
    "print(model_production_system.process_data[0])"
   ]
  },
  {
   "attachments": {},
   "cell_type": "markdown",
   "metadata": {},
   "source": [
    "For now, the express API allows all modeling features as the models API but the creation of products that require processes in a sequence according to an assembly precedence graph. This feature is only available in the models API. For more information, refer to the API reference in the documentation. However, using the algorithms provided by `prodsys` for optimizing or autonomously controlling a production system requires the models API."
   ]
  }
 ],
 "metadata": {
  "kernelspec": {
   "display_name": "prodsys-9RcHADzK-py3.11",
   "language": "python",
   "name": "python3"
  },
  "language_info": {
   "codemirror_mode": {
    "name": "ipython",
    "version": 3
   },
   "file_extension": ".py",
   "mimetype": "text/x-python",
   "name": "python",
   "nbconvert_exporter": "python",
   "pygments_lexer": "ipython3",
   "version": "3.11.3"
  },
  "orig_nbformat": 4
 },
 "nbformat": 4,
 "nbformat_minor": 2
}
