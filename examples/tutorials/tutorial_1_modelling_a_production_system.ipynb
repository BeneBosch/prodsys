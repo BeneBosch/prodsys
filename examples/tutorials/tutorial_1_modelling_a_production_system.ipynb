{
 "cells": [
  {
   "attachments": {},
   "cell_type": "markdown",
   "metadata": {},
   "source": [
    "# Modelling a production system\n",
    "\n",
    "In this example we explore the modeling functionalities of `prodsys`. In `prodsys` we model production systems be specifying the attributes of the following components:\n",
    "\n",
    "- **Time model**: All relevant timely features of the production system.\n",
    "- **Processes**: Processes give resources the capabilities to perform certain production or transport processes.\n",
    "- **Resources**: Resources perform the production and transport processes.\n",
    "- **Products**: The products that are produced in the production system, requiring a set of processes to be performed.\n",
    "- **Sources**: Sources create products and place them in the production system.\n",
    "- **Sinks**: Sinks store finished products.\n",
    "- **Production system**: The production system is the container for all components and is used to run the simulation.\n",
    "\n",
    "To make these concepts more understandable, we extend the example from the [getting started](getting_started.md) section. The production system contains a milling machine, a turning lath and a work center that perform processes on aluminium housings. The transport is thereby performed by a worker. \n",
    "\n",
    "\n",
    "We will start by importing the express API:\n"
   ]
  },
  {
   "cell_type": "code",
   "execution_count": 31,
   "metadata": {},
   "outputs": [],
   "source": [
    "import prodsys.express as psx"
   ]
  },
  {
   "attachments": {},
   "cell_type": "markdown",
   "metadata": {},
   "source": [
    "Additionally, since the progress bar can be buggy sometimes in Jupyter notebooks, we will disable it for this example by setting the verbose level of the simulation to 0:"
   ]
  },
  {
   "cell_type": "code",
   "execution_count": 32,
   "metadata": {},
   "outputs": [],
   "source": [
    "from prodsys.simulation import sim\n",
    "\n",
    "sim.VERBOSE = 0"
   ]
  },
  {
   "attachments": {},
   "cell_type": "markdown",
   "metadata": {},
   "source": [
    "## Time models\n",
    "\n",
    "`prodsys` provides different types of time models to use, the are:\n",
    "- **FunctionTimeModel**: A time model that is based on a distribution function. Either constant, normal, lognormal or exponential.\n",
    "- **SequenceTimeModel**: A time model that is based on a sequence of time values that are randomly sampled.\n",
    "- **ManhattanDistanceTimeMOdel**: A time model that is based on the manhattan distance between two locations and a constant speed and reaction time. \n",
    "\n",
    "We will use the `FunctionTimeModel` to model the time required for milling and turning processes and model the time needed for transport with the `ManhattanDistanceTimeModel`. We will also model the arrival of housings with the `SequentialTimeModel`, which could, e.g. be observed inter-arrival times:"
   ]
  },
  {
   "cell_type": "code",
   "execution_count": 33,
   "metadata": {},
   "outputs": [],
   "source": [
    "milling_time = psx.FunctionTimeModel(distribution_function=\"normal\", location=1, scale=0.1, ID=\"milling_time\")\n",
    "turning_time = psx.FunctionTimeModel(distribution_function=\"normal\", location=0.5, scale=0.1, ID=\"turning_time\")\n",
    "transport_time = psx.ManhattanDistanceTimeModel(speed=200, reaction_time=0.05, ID=\"transport_time\")\n",
    "arrival_time_of_housing_1 = psx.SequentialTimeModel([1.6, 1.3, 1.8, 2.0, 1.2, 1.7, 1.3], ID=\"arrival_time_of_housings\")\n",
    "arrival_time_of_housing_2 = psx.SequentialTimeModel([1.3, 2.3, 2.1, 2.0, 1.4], ID=\"arrival_time_of_housings\")"
   ]
  },
  {
   "attachments": {},
   "cell_type": "markdown",
   "metadata": {},
   "source": [
    "## Processes\n",
    "\n",
    "After creating the time models, we can define the processes in the system. We will use the `ProductionProcess` to model the milling and turning processes and the `TransportProcess` to model the transport process:"
   ]
  },
  {
   "cell_type": "code",
   "execution_count": 34,
   "metadata": {},
   "outputs": [],
   "source": [
    "milling_process = psx.ProductionProcess(milling_time, ID=\"milling_process\")\n",
    "turning_process = psx.ProductionProcess(turning_time, ID=\"turning_process\")\n",
    "transport_process = psx.TransportProcess(transport_time, ID=\"transport_process\")"
   ]
  },
  {
   "attachments": {},
   "cell_type": "markdown",
   "metadata": {},
   "source": [
    "`prodsys` also provides the possibility for a `CapabilityProcess` instead of normal `ProductionProcess`. These processes are not matched by their ID but by their capability, which gives more flexibility. For more information, refer to the API reference in the documentation."
   ]
  },
  {
   "attachments": {},
   "cell_type": "markdown",
   "metadata": {},
   "source": [
    "## Resources\n",
    "With this, we can create our resources. The milling machine and turning lath can perform their associated processes and the worker can perform the transport process. However, the work center can perform milling and turning. Milling machine, turning lath and work center are `ProductionResource`s and the worker is a `TransportResource`:"
   ]
  },
  {
   "cell_type": "code",
   "execution_count": 35,
   "metadata": {},
   "outputs": [],
   "source": [
    "milling_machine = psx.ProductionResource([milling_process], location=[5, 5], ID=\"milling_machine\")\n",
    "turning_lath = psx.ProductionResource([turning_process], location=[10, 10], ID=\"turning_machine\")\n",
    "work_center = psx.ProductionResource([milling_process, turning_process], location=[5, 10], ID=\"work_center\")\n",
    "worker = psx.TransportResource([transport_process], location=[0, 0], ID=\"worker\")"
   ]
  },
  {
   "attachments": {},
   "cell_type": "markdown",
   "metadata": {},
   "source": [
    "## Product\n",
    "Now, with specified resources, we can model our product, the housing. In fact, we don't have only one housing but two different variants for this example. The first product requires milling and afterwards turning, and the second requries turning and afterwards milling:"
   ]
  },
  {
   "cell_type": "code",
   "execution_count": 36,
   "metadata": {},
   "outputs": [],
   "source": [
    "housing_1 = psx.Product([milling_process, turning_process], transport_process, ID=\"housing_1\")\n",
    "housing_2 = psx.Product([turning_process, milling_process], transport_process, ID=\"housing_2\")"
   ]
  },
  {
   "attachments": {},
   "cell_type": "markdown",
   "metadata": {},
   "source": [
    "## Sources and sinks\n",
    "At last, we need to model the sources and sinks. The source creates housings and places them in the production system. The sink stores finished housings:"
   ]
  },
  {
   "cell_type": "code",
   "execution_count": 37,
   "metadata": {},
   "outputs": [],
   "source": [
    "source_1 = psx.Source(housing_1, arrival_time_of_housing_1, location=[0,0], ID=\"source_1\")\n",
    "source_2 = psx.Source(housing_2, arrival_time_of_housing_2, location=[0, 1], ID=\"source_2\")\n",
    "\n",
    "sink_1 = psx.Sink(housing_1, location=[20, 20], ID=\"sink_1\")\n",
    "sink_2 = psx.Sink(housing_2, location=[20, 21], ID=\"sink_2\")"
   ]
  },
  {
   "attachments": {},
   "cell_type": "markdown",
   "metadata": {},
   "source": [
    "## Production System creation\n",
    "We now create the production system, validate it and run the simulation for 60 minutes. Afterwards, we print aggregated simulation results:"
   ]
  },
  {
   "cell_type": "code",
   "execution_count": 38,
   "metadata": {},
   "outputs": [
    {
     "name": "stdout",
     "output_type": "stream",
     "text": [
      "\n",
      "------------- Throughput -------------\n",
      "\n",
      "              Output  Throughput\n",
      "Product_type                    \n",
      "housing_1         30   35.369587\n",
      "housing_2         29   34.190601\n",
      "------------- WIP -------------\n",
      "\n",
      "Product_type\n",
      "Total        5.378453\n",
      "housing_1    2.712621\n",
      "housing_2    2.735552\n",
      "Name: WIP, dtype: float64\n",
      "\n",
      "------------- Throughput time -------------\n",
      "\n",
      "Product_type\n",
      "housing_1    4.316600\n",
      "housing_2    4.385515\n",
      "Name: Throughput_time, dtype: float64\n",
      "\n",
      "------------- Resource states -------------\n",
      "\n",
      "                           time_increment  resource_time  percentage\n",
      "Resource        Time_type                                           \n",
      "milling_machine PR              38.619324           60.0   64.365540\n",
      "                SB              21.380676           60.0   35.634460\n",
      "turning_machine PR              25.298373           60.0   42.163955\n",
      "                SB              34.701627           60.0   57.836045\n",
      "work_center     PR              44.889116           60.0   74.815193\n",
      "                SB              15.110884           60.0   25.184807\n",
      "worker          PR              56.518024           60.0   94.196707\n",
      "                SB               3.481976           60.0    5.803293\n"
     ]
    }
   ],
   "source": [
    "production_system = psx.ProductionSystem([milling_machine, turning_lath, work_center, worker], [source_1, source_2], [sink_1, sink_2])\n",
    "production_system.validate()\n",
    "production_system.run(60)\n",
    "production_system.runner.print_results()"
   ]
  },
  {
   "attachments": {},
   "cell_type": "markdown",
   "metadata": {},
   "source": [
    "By validating the production system, we can check if all components are valid and if the production system is consistent in a logical or physical sende. If the production system is not valid, the validation will raise an exception and the simulation cannot be run. However, it easily let's you identify where you made some modelling mistakes."
   ]
  },
  {
   "attachments": {},
   "cell_type": "markdown",
   "metadata": {},
   "source": [
    "## States\n",
    "\n",
    "We can also add different states, such as setups and breakdowns, to resources to model their behavior more accurately. For example, we can add a setup and breakdown to the work center by specifying the time models for breakdown an setup, create states and add them to the work center:"
   ]
  },
  {
   "cell_type": "code",
   "execution_count": 39,
   "metadata": {},
   "outputs": [],
   "source": [
    "breakdwon_time_model = psx.FunctionTimeModel(distribution_function=\"exponential\", location=200, ID=\"breakdown_time_model\")\n",
    "repair_time_model = psx.FunctionTimeModel(distribution_function=\"exponential\", location=10, ID=\"repair_time_model\")\n",
    "setup_time_model_1 = psx.FunctionTimeModel(distribution_function=\"exponential\", location=0.2, ID=\"setup_time_model\")\n",
    "setup_time_model_2 = psx.FunctionTimeModel(distribution_function=\"exponential\", location=0.3, ID=\"setup_time_model\")\n",
    "\n",
    "breakdown_state = psx.BreakDownState(breakdwon_time_model, repair_time_model, ID=\"breakdown_state\")\n",
    "setup_state_1 = psx.SetupState(setup_time_model_1, milling_process, turning_process, ID=\"setup_state_1\")\n",
    "setup_state_2 = psx.SetupState(setup_time_model_2, turning_process, milling_process, ID=\"setup_state_2\")\n",
    "\n",
    "work_center.states = [breakdown_state, setup_state_1, setup_state_2]"
   ]
  },
  {
   "attachments": {},
   "cell_type": "markdown",
   "metadata": {},
   "source": [
    "Note, that we could have given these states to the resource already in the initialization. Again, we simulate the production system and evaluate its performance."
   ]
  },
  {
   "cell_type": "code",
   "execution_count": 40,
   "metadata": {},
   "outputs": [
    {
     "name": "stdout",
     "output_type": "stream",
     "text": [
      "\n",
      "------------- Throughput -------------\n",
      "\n",
      "              Output  Throughput\n",
      "Product_type                    \n",
      "housing_1         29   34.254666\n",
      "housing_2         30   35.435861\n",
      "------------- WIP -------------\n",
      "\n",
      "Product_type\n",
      "Total        6.756567\n",
      "housing_1    3.490347\n",
      "housing_2    3.386643\n",
      "Name: WIP, dtype: float64\n",
      "\n",
      "------------- Throughput time -------------\n",
      "\n",
      "Product_type\n",
      "housing_1    5.359362\n",
      "housing_2    5.417827\n",
      "Name: Throughput_time, dtype: float64\n",
      "\n",
      "------------- Resource states -------------\n",
      "\n",
      "                           time_increment  resource_time  percentage\n",
      "Resource        Time_type                                           \n",
      "milling_machine PR              43.164959           60.0   71.941599\n",
      "                SB              16.835041           60.0   28.058401\n",
      "turning_machine PR              25.549173           60.0   42.581955\n",
      "                SB              34.450827           60.0   57.418045\n",
      "work_center     PR              39.937552           60.0   66.562586\n",
      "                SB              15.383377           60.0   25.638962\n",
      "                ST               4.679071           60.0    7.798452\n",
      "worker          PR              56.115000           60.0   93.525000\n",
      "                SB               3.885000           60.0    6.475000\n"
     ]
    }
   ],
   "source": [
    "production_system.validate()\n",
    "production_system.run(60)\n",
    "production_system.runner.print_results()"
   ]
  },
  {
   "attachments": {},
   "cell_type": "markdown",
   "metadata": {},
   "source": [
    "The results show that the work center is now for some time in Setup (ST).   However, no time increment for unscheduled downtime due to breakdowns (UD) is visible. This is due to the limited simulation time. If we increase the simulation time to 1000 minutes, we can see that the work center is also in unscheduled downtime for some time:"
   ]
  },
  {
   "cell_type": "code",
   "execution_count": 41,
   "metadata": {},
   "outputs": [
    {
     "name": "stdout",
     "output_type": "stream",
     "text": [
      "\n",
      "------------- Throughput -------------\n",
      "\n",
      "              Output  Throughput\n",
      "Product_type                    \n",
      "housing_1        524   36.993958\n",
      "housing_2        528   37.276355\n",
      "------------- WIP -------------\n",
      "\n",
      "Product_type\n",
      "Total        26.699926\n",
      "housing_1    13.405806\n",
      "housing_2    13.454639\n",
      "Name: WIP, dtype: float64\n",
      "\n",
      "------------- Throughput time -------------\n",
      "\n",
      "Product_type\n",
      "housing_1    20.506702\n",
      "housing_2    20.689056\n",
      "Name: Throughput_time, dtype: float64\n",
      "\n",
      "------------- Resource states -------------\n",
      "\n",
      "                           time_increment  resource_time  percentage\n",
      "Resource        Time_type                                           \n",
      "milling_machine PR             751.899593     999.995309   75.190312\n",
      "                SB             248.095716     999.995309   24.809688\n",
      "turning_machine PR             499.935218     999.995309   49.993756\n",
      "                SB             500.060091     999.995309   50.006244\n",
      "work_center     PR             663.902586     999.995309   66.390570\n",
      "                SB             207.421406     999.995309   20.742238\n",
      "                ST              84.599301     999.995309    8.459970\n",
      "                UD              44.072016     999.995309    4.407222\n",
      "worker          PR             992.365000     999.995309   99.236965\n",
      "                SB               7.630309     999.995309    0.763035\n"
     ]
    }
   ],
   "source": [
    "production_system.validate()\n",
    "production_system.run(1000)\n",
    "production_system.runner.print_results()"
   ]
  },
  {
   "attachments": {},
   "cell_type": "markdown",
   "metadata": {},
   "source": [
    "Now we see, that the work center is 4.4% of the time unavailable due to unscheduled downtime. \n",
    "\n",
    "## Changing the logic of the production system\n",
    "\n",
    "`prodsys` does not only allow to change the physical configuration of a production system but also the logic. For example, we can change the logic of the work center by changing it's control policy from `FIFO` (first in first out) to `SPT` (shortes process time first). BY changing this, the work center will now get products from the queue with bias on the short process, which is in our case the turning process:"
   ]
  },
  {
   "cell_type": "code",
   "execution_count": 42,
   "metadata": {},
   "outputs": [
    {
     "name": "stdout",
     "output_type": "stream",
     "text": [
      "\n",
      "------------- Throughput -------------\n",
      "\n",
      "              Output  Throughput\n",
      "Product_type                    \n",
      "housing_1        531   37.516761\n",
      "housing_2        529   37.375455\n",
      "------------- WIP -------------\n",
      "\n",
      "Product_type\n",
      "Total        23.058031\n",
      "housing_1    11.555350\n",
      "housing_2    11.626558\n",
      "Name: WIP, dtype: float64\n",
      "\n",
      "------------- Throughput time -------------\n",
      "\n",
      "Product_type\n",
      "housing_1    18.036568\n",
      "housing_2    18.135389\n",
      "Name: Throughput_time, dtype: float64\n",
      "\n",
      "------------- Resource states -------------\n",
      "\n",
      "                           time_increment  resource_time  percentage\n",
      "Resource        Time_type                                           \n",
      "milling_machine PR             730.656125     999.987867   73.066499\n",
      "                SB             269.331742     999.987867   26.933501\n",
      "turning_machine PR             488.667183     999.987867   48.867311\n",
      "                SB             511.320684     999.987867   51.132689\n",
      "work_center     PR             684.576486     999.987867   68.458479\n",
      "                SB             200.735050     999.987867   20.073749\n",
      "                ST              74.327509     999.987867    7.432841\n",
      "                UD              40.348822     999.987867    4.034931\n",
      "worker          PR             995.150000     999.987867   99.516207\n",
      "                SB               4.837867     999.987867    0.483793\n"
     ]
    }
   ],
   "source": [
    "from prodsys.models.resource_data import ResourceControlPolicy\n",
    "\n",
    "work_center.control_policy = ResourceControlPolicy.SPT\n",
    "\n",
    "production_system.validate()\n",
    "production_system.run(1000)\n",
    "production_system.runner.print_results()"
   ]
  },
  {
   "attachments": {},
   "cell_type": "markdown",
   "metadata": {},
   "source": [
    "Additionally, we can change the routing policy in the production system. A routing policy is not used for heuristically solving a sequencing problem as the control policy but for solving the routing problem for parallel redundant resources. In our example, bot milling machine and work center provide the milling process. While simulating, we need to have some logic how to decide which product is processed on which resource. By default, the routing policy is `random`, which means that the routing is randomly chosen. However, we can also change the routing policy to `shortest_queue`, which means that the product is always routed to the resource with the shortest queue:"
   ]
  },
  {
   "cell_type": "code",
   "execution_count": 43,
   "metadata": {},
   "outputs": [
    {
     "name": "stdout",
     "output_type": "stream",
     "text": [
      "\n",
      "------------- Throughput -------------\n",
      "\n",
      "              Output  Throughput\n",
      "Product_type                    \n",
      "housing_1        531   37.516761\n",
      "housing_2        529   37.375455\n",
      "------------- WIP -------------\n",
      "\n",
      "Product_type\n",
      "Total        23.058031\n",
      "housing_1    11.555350\n",
      "housing_2    11.626558\n",
      "Name: WIP, dtype: float64\n",
      "\n",
      "------------- Throughput time -------------\n",
      "\n",
      "Product_type\n",
      "housing_1    18.036568\n",
      "housing_2    18.135389\n",
      "Name: Throughput_time, dtype: float64\n",
      "\n",
      "------------- Resource states -------------\n",
      "\n",
      "                           time_increment  resource_time  percentage\n",
      "Resource        Time_type                                           \n",
      "milling_machine PR             730.656125     999.987867   73.066499\n",
      "                SB             269.331742     999.987867   26.933501\n",
      "turning_machine PR             488.667183     999.987867   48.867311\n",
      "                SB             511.320684     999.987867   51.132689\n",
      "work_center     PR             684.576486     999.987867   68.458479\n",
      "                SB             200.735050     999.987867   20.073749\n",
      "                ST              74.327509     999.987867    7.432841\n",
      "                UD              40.348822     999.987867    4.034931\n",
      "worker          PR             995.150000     999.987867   99.516207\n",
      "                SB               4.837867     999.987867    0.483793\n"
     ]
    }
   ],
   "source": [
    "from prodsys.models.source_data import RoutingHeuristic\n",
    "\n",
    "source_1.routing_heuristic = RoutingHeuristic.shortest_queue\n",
    "\n",
    "production_system.validate()\n",
    "production_system.run(1000)\n",
    "production_system.runner.print_results()"
   ]
  },
  {
   "attachments": {},
   "cell_type": "markdown",
   "metadata": {},
   "source": []
  },
  {
   "attachments": {},
   "cell_type": "markdown",
   "metadata": {},
   "source": [
    "## prodsys.models API\n",
    "\n",
    "So far, we only studied the express API of `prodsys`. However, `prodsys` also provides a more detailed API that allows to model more complex production systems with `prodsys.models`. The models API uses ID references for connecting the different entities (processes, products, resources etc.) that results in a flat data structure instead of nested hierarchical relationsship, as the express API. Whilst the hierarchical structure is easy for programmatically creating production systems, the flat data structure is more convenient for serializing the data, i.e. saving and loading production systems. All algorithms in `prodsys` use the models API. For luck, all express API objects can be converted to models API objects and vice versa."
   ]
  },
  {
   "cell_type": "code",
   "execution_count": 44,
   "metadata": {},
   "outputs": [
    {
     "name": "stdout",
     "output_type": "stream",
     "text": [
      "ID='milling_process' description='' time_model_id='milling_time' type=<ProcessTypeEnum.ProductionProcesses: 'ProductionProcesses'>\n"
     ]
    }
   ],
   "source": [
    "model_production_system = production_system.to_model()\n",
    "print(model_production_system.process_data[0])"
   ]
  },
  {
   "attachments": {},
   "cell_type": "markdown",
   "metadata": {},
   "source": [
    "For now, the express API allows all modeling features as the models API but the creation of products that require processes in a sequence according to an assembly precedence graph. This feature is only available in the models API. For more information, refer to the API reference in the documentation. However, using the algorithms provided by `prodsys` for optimizing or autonomously controlling a production system requires the models API."
   ]
  }
 ],
 "metadata": {
  "kernelspec": {
   "display_name": "prodsys-9RcHADzK-py3.11",
   "language": "python",
   "name": "python3"
  },
  "language_info": {
   "codemirror_mode": {
    "name": "ipython",
    "version": 3
   },
   "file_extension": ".py",
   "mimetype": "text/x-python",
   "name": "python",
   "nbconvert_exporter": "python",
   "pygments_lexer": "ipython3",
   "version": "3.11.3"
  },
  "orig_nbformat": 4
 },
 "nbformat": 4,
 "nbformat_minor": 2
}
